{
 "cells": [
  {
   "cell_type": "markdown",
   "metadata": {},
   "source": [
    "# Libraries"
   ]
  },
  {
   "cell_type": "code",
   "execution_count": 1,
   "metadata": {
    "collapsed": true
   },
   "outputs": [],
   "source": [
    "import pyfits as pf\n",
    "import numpy  as np\n",
    "import pandas as pd\n",
    "import os\n",
    "import matplotlib.pyplot as plt"
   ]
  },
  {
   "cell_type": "code",
   "execution_count": 2,
   "metadata": {
    "collapsed": true
   },
   "outputs": [],
   "source": [
    "spec_path = './../../GAMAII_SPEC/WHAN_NA_UVUP/'\n",
    "spec_list = './../../GAMAII_SPEC/filelist_whan.csv'\n",
    "csv_path  = './../../GAMAII_SPEC/WHAN_NA_UVUP/csv_files/'"
   ]
  },
  {
   "cell_type": "code",
   "execution_count": 3,
   "metadata": {
    "collapsed": true
   },
   "outputs": [],
   "source": [
    "specs = np.loadtxt(spec_list, delimiter=',', dtype=str)"
   ]
  },
  {
   "cell_type": "code",
   "execution_count": 8,
   "metadata": {},
   "outputs": [],
   "source": [
    "header = ['wavelength', 'flux']\n",
    "for spec in specs:\n",
    "    fit_file  = pf.open(os.path.join(spec_path, spec))\n",
    "    flux_temp = pf.getdata(os.path.join(spec_path, spec))[0,:]\n",
    "    cataid    = fit_file[0].header['CATAID']\n",
    "    wl_i      = fit_file[0].header['WMIN']\n",
    "    wl_step   = fit_file[0].header['CD1_1']\n",
    "    wl_temp   = np.arange(flux_temp.size)*wl_step+wl_i   # wavelength\n",
    "    data_temp = np.column_stack((wl_temp, flux_temp))\n",
    "    data      = pd.DataFrame(data_temp).dropna()\n",
    "    data.columns = header\n",
    "    basename  = str(cataid)+'.csv'\n",
    "    data.to_csv(os.path.join(csv_path, basename), index=False)"
   ]
  },
  {
   "cell_type": "code",
   "execution_count": 5,
   "metadata": {
    "collapsed": true
   },
   "outputs": [],
   "source": [
    "check_header  = pf.open(os.path.join(spec_path, specs[0])) "
   ]
  },
  {
   "cell_type": "code",
   "execution_count": 6,
   "metadata": {},
   "outputs": [
    {
     "data": {
      "text/plain": [
       "SIMPLE  =                    T / file does conform to FITS standard             \n",
       "BITPIX  =                  -32 / number of bits per data pixel                  \n",
       "NAXIS   =                    2 / number of data axes                            \n",
       "NAXIS1  =                 4952 / length of data axis 1                          \n",
       "NAXIS2  =                    5 / length of data axis 2                          \n",
       "EXTEND  =                    T / FITS dataset may contain extensions            \n",
       "COMMENT   FITS (Flexible Image Transport System) format is defined in 'Astronomy\n",
       "COMMENT   and Astrophysics', volume 376, page 359; bibcode: 2001A&A...376..359H \n",
       "BSCALE  =                   1. / True_value = BSCALE * FITS_value + BZERO       \n",
       "BZERO   =                   0. / True_value = BSCALE * FITS_value + BZERO       \n",
       "DATE    = '2015-03-24T14:04:33' / file creation date (YYYY-MM-DDThh:mm:ss UT)   \n",
       "ORIGIN  = 'GAMA    '           / Source of the data                             \n",
       "OBSERVAT= 'SSO     '           / Name of observatory                            \n",
       "LATITUDE=            -31.27704 / Telescope latitude in deg                      \n",
       "LONGITUD=             149.0661 / Telescope longitude in deg                     \n",
       "ALTITUDE=                1164. / Telescope height above sea level in m          \n",
       "TELESCOP= 'AAT     '           / 3.9m Anglo-Australian Telescope                \n",
       "INSTRUME= 'AAOMEGA-2dF'        / AAOmega/2dF multi-fibre spectrograph           \n",
       "SPECTID = 'RD      '           / Spectrograph ID                                \n",
       "GRATID  = '385R 580V'          / Disperser ID                                   \n",
       "DICHROIC= 'X5700   '           / Dichroic name                                  \n",
       "PLATE   =                    0 / 2dF plate number                               \n",
       "RDNOISE =                 3.49 / Readout noise in e-                            \n",
       "GAIN    =                1.799 / Readout gain in e-/ADU                         \n",
       "FIBRE   =                  220 / Fibre number                                   \n",
       "PIVOT   =                  220 / Pivot number                                   \n",
       "X       =                23817 / Fibre button x position on plate               \n",
       "Y       =               -78974 / Fibre button y position on plate               \n",
       "THETA   =               197.76 / Fibre angle in deg                             \n",
       "N_EXP   =                    3 / Number of exposures                            \n",
       "T_EXP   =                3600. / Total exposure time in s                       \n",
       "N_NIGHTS=                    1 / Number of nights over which exposures were spre\n",
       "DATE-OBS= '2008-03-01'         / UT date of observation                         \n",
       "UTMJD   =     54526.5244930182 / Mean MJD of start of exposures                 \n",
       "UTSTART = '12:12:57'           / UT of start of first exposure                  \n",
       "UTEND   = '13:19:33'           / UT of end of last exposure                     \n",
       "ZDSTART =                 32.5 / Zenith distance at start of first exposure in d\n",
       "ZDEND   =                40.06 / Zenith distance at end of last exposure in deg \n",
       "HASTART =                 0.83 / Hour angle at start of first exposure in deg   \n",
       "HAEND   =               -26.14 / Hour angle at end of last exposure in deg      \n",
       "HEL_VC  =                -13.2 / Heliocentric velocity correction in km/s       \n",
       "CTYPE1  = 'Wavelength'         / Type of coordinate on axis 1                   \n",
       "CUNIT1  = 'Angstrom'           / Units for axis 1                               \n",
       "CRPIX1  =                2476. / WCS reference point                            \n",
       "CRVAL1  =       6291.743164062 / WCS reference value                            \n",
       "CD1_1   =          1.035940794 / WCS transformation matrix element              \n",
       "CD1_2   =                   0. / WCS transformation matrix element              \n",
       "CD2_1   =                   0. / WCS transformation matrix element              \n",
       "CD2_2   =                   1. / WCS transformation matrix element              \n",
       "ROW1    = 'Spectrum'           / Flux-calibrated spectrum in 10^-17 erg/s/cm^2/A\n",
       "ROW2    = 'Error   '           / 1 sigma error spectrum                         \n",
       "ROW3    = 'Spectrum_nocalib'   / Spectrum without flux calibration              \n",
       "ROW4    = 'Error_nocalib'      / 1 sigma error spectrum (no flux calibration)   \n",
       "ROW5    = 'Sky     '           / Sky spectrum (no flux calibration)             \n",
       "FIELDID = 'G09_Y1_BN1'         / ID of GAMA AAT field                           \n",
       "SPECID  = 'G09_Y1_BN1_220'     / ID of GAMA AAT spectrum                        \n",
       "RA      =            130.69321 / RA of spectrum in deg (J2000)                  \n",
       "DEC     =              1.35583 / DEC of spectrum in deg (J2000)                 \n",
       "WMIN    =              3727.79 / Minimum wavelength in A                        \n",
       "WMAX    =              8856.73 / Maximum wavelength in A                        \n",
       "Z       =              0.07871 / Heliocentric redshift                          \n",
       "NQ      =                    4 / Normalised redshift quality (use nQ>2 for scien\n",
       "PROB    =                   1. / Probability that redshift is correct           \n",
       "SN      =                 7.01 / S/N as measured by runz                        \n",
       "SN_ALT  =                 6.73 / Median S/N per pixel in 4500-6500 A band       \n",
       "RFLUXFAC=          9.05726E-19 / Ratio of r-band petrosian to fibre flux        \n",
       "CATAID  =               375789 / ID of matched GAMA object                      \n",
       "OBJECT  =               375789 / ID of matched GAMA object                      \n",
       "GAMANAME= 'GAMAJ084246.37+012120.9' / Name of matched GAMA object               \n",
       "IC_FLAG =                 4104 / Catalogue source(s) of matched GAMA object     \n",
       "DIST    =                 0.07 / Distance between spec and object in arcsec     \n",
       "IS_SBEST=                    T / GAMA AAT spectrum with best redshift for this o"
      ]
     },
     "execution_count": 6,
     "metadata": {},
     "output_type": "execute_result"
    }
   ],
   "source": [
    "check_header[0].header"
   ]
  },
  {
   "cell_type": "code",
   "execution_count": 10,
   "metadata": {},
   "outputs": [
    {
     "name": "stdout",
     "output_type": "stream",
     "text": [
      "Filename: ./../../GAMAII_SPEC/WHAN_NA_UVUP/G09_Y1_BN1_220.fit\n",
      "No.    Name         Type      Cards   Dimensions   Format\n",
      "0    PRIMARY     PrimaryHDU      72   (4952, 5)    float32   \n"
     ]
    }
   ],
   "source": [
    "check_header.info()"
   ]
  },
  {
   "cell_type": "code",
   "execution_count": null,
   "metadata": {
    "collapsed": true
   },
   "outputs": [],
   "source": []
  }
 ],
 "metadata": {
  "kernelspec": {
   "display_name": "Python 3",
   "language": "python",
   "name": "python3"
  },
  "language_info": {
   "codemirror_mode": {
    "name": "ipython",
    "version": 3
   },
   "file_extension": ".py",
   "mimetype": "text/x-python",
   "name": "python",
   "nbconvert_exporter": "python",
   "pygments_lexer": "ipython3",
   "version": "3.8.8"
  }
 },
 "nbformat": 4,
 "nbformat_minor": 2
}
