{
 "cells": [
  {
   "cell_type": "code",
   "execution_count": 1,
   "metadata": {},
   "outputs": [],
   "source": [
    "import urllib.request as r\n",
    "import pandas as pd\n",
    "import numpy  as np\n",
    "import time\n",
    "import os"
   ]
  },
  {
   "cell_type": "code",
   "execution_count": 2,
   "metadata": {},
   "outputs": [],
   "source": [
    "gama_spectra_url       = \"http://www.gama-survey.org/dr3/data/spectra/gama/reduced_27/1d/\"\n",
    "database_download_path = '../../../GAMADR3_SPECTRA/DATABASE/'\n",
    "gama_all_list          = '../../../GAMADR3_SPECTRA/GAMADR3_ALL.txt'"
   ]
  },
  {
   "cell_type": "code",
   "execution_count": 3,
   "metadata": {},
   "outputs": [],
   "source": [
    "gama_to_download = pd.read_csv(gama_all_list, header=None)"
   ]
  },
  {
   "cell_type": "code",
   "execution_count": 4,
   "metadata": {},
   "outputs": [],
   "source": [
    "gama_to_download_squeeze = np.squeeze(gama_to_download)"
   ]
  },
  {
   "cell_type": "code",
   "execution_count": 5,
   "metadata": {},
   "outputs": [],
   "source": [
    "!cd ../../../GAMADR3_SPECTRA/DATABASE/"
   ]
  },
  {
   "cell_type": "code",
   "execution_count": 6,
   "metadata": {},
   "outputs": [
    {
     "name": "stdout",
     "output_type": "stream",
     "text": [
      "1224.779907102\n"
     ]
    }
   ],
   "source": [
    "for i in range(gama_to_download_squeeze.values.size):\n",
    "    item    = str(gama_to_download_squeeze.values[i])\n",
    "    address = os.path.join(gama_spectra_url, item)\n",
    "    r.urlretrieve(address, filename=os.path.join(database_download_path, item))\n",
    "print (time.process_time())"
   ]
  }
 ],
 "metadata": {
  "kernelspec": {
   "display_name": "Python 3",
   "language": "python",
   "name": "python3"
  },
  "language_info": {
   "codemirror_mode": {
    "name": "ipython",
    "version": 3
   },
   "file_extension": ".py",
   "mimetype": "text/x-python",
   "name": "python",
   "nbconvert_exporter": "python",
   "pygments_lexer": "ipython3",
   "version": "3.6.6"
  }
 },
 "nbformat": 4,
 "nbformat_minor": 2
}
