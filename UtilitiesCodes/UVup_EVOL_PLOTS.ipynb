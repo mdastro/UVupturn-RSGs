{
 "cells": [
  {
   "cell_type": "markdown",
   "metadata": {},
   "source": [
    "# ALL PLOTS"
   ]
  },
  {
   "cell_type": "markdown",
   "metadata": {},
   "source": [
    "#### This jupyter notebook aims to provide the pattern to the images that will be put in the soon-to-be-summited paper"
   ]
  },
  {
   "cell_type": "markdown",
   "metadata": {},
   "source": [
    "### Packages"
   ]
  },
  {
   "cell_type": "code",
   "execution_count": null,
   "metadata": {},
   "outputs": [],
   "source": [
    "import numpy             as np\n",
    "import pandas            as pd\n",
    "import scipy.stats       as ss\n",
    "import seaborn           as sns\n",
    "import matplotlib.pyplot as plt\n",
    "import arviz             as az\n",
    "import os\n",
    "from mpl_toolkits.mplot3d import Axes3D"
   ]
  },
  {
   "cell_type": "markdown",
   "metadata": {},
   "source": [
    "### Plot parameters for this Jupyter Notebook"
   ]
  },
  {
   "cell_type": "code",
   "execution_count": null,
   "metadata": {},
   "outputs": [],
   "source": [
    "plotpars = {'axes.labelsize': 18,\n",
    "            'axes.linewidth': 1.,\n",
    "            'figure.figsize': (7.,5.),\n",
    "            'font.size': 12,\n",
    "            'legend.frameon': True,\n",
    "            'legend.framealpha': 0.85,\n",
    "            'legend.edgecolor': 'black',\n",
    "            'legend.loc': 'best',\n",
    "            'legend.fontsize': 12,\n",
    "            'mathtext.fontset': 'stixsans',\n",
    "            'savefig.bbox': 'tight',\n",
    "            'xtick.labelsize': 18,\n",
    "            'ytick.labelsize': 18,\n",
    "           }"
   ]
  },
  {
   "cell_type": "markdown",
   "metadata": {},
   "source": [
    "### Paths"
   ]
  },
  {
   "cell_type": "code",
   "execution_count": null,
   "metadata": {},
   "outputs": [],
   "source": [
    "results_path    = '../../LargeFilesResults/Model'       # where the outputs of this notebook will be saved\n",
    "figs_paper_path = '../../LargeFilesResults/PaperFigs/'  # where the selected figures should be saved"
   ]
  },
  {
   "cell_type": "markdown",
   "metadata": {},
   "source": [
    "# Posteriors"
   ]
  },
  {
   "cell_type": "code",
   "execution_count": null,
   "metadata": {},
   "outputs": [],
   "source": [
    "# prior = 'shared'\n",
    "prior = 'rmshared'"
   ]
  },
  {
   "cell_type": "code",
   "execution_count": null,
   "metadata": {},
   "outputs": [],
   "source": [
    "posteriors = pd.read_csv(os.path.join(results_path, 'posteriors_'+prior+'_revised.csv'))"
   ]
  },
  {
   "cell_type": "code",
   "execution_count": null,
   "metadata": {},
   "outputs": [],
   "source": [
    "whan_classes = np.array(['Unclassified', 'Retired/Passive', 'wAGN', 'sAGN', 'SF'])"
   ]
  },
  {
   "cell_type": "code",
   "execution_count": null,
   "metadata": {},
   "outputs": [],
   "source": [
    "dimensions = posteriors.columns.values.reshape(5,5)\n",
    "rows       = dimensions[:,0].size\n",
    "columns    = dimensions[0,:].size"
   ]
  },
  {
   "cell_type": "code",
   "execution_count": null,
   "metadata": {},
   "outputs": [],
   "source": [
    "palette = np.array(['#8c510a','#bf812d','#80cdc1','#35978f','#01665e'])"
   ]
  },
  {
   "cell_type": "code",
   "execution_count": null,
   "metadata": {},
   "outputs": [],
   "source": [
    "figsize = (15, 15)\n",
    "alpha   = 0.6\n",
    "plt.subplots(figsize=figsize)\n",
    "position = 1\n",
    "for each_beta in range(rows):\n",
    "    for each_class in range(columns):\n",
    "        name_temp = posteriors.columns.values.reshape(rows, columns)[each_beta,each_class]\n",
    "        plot_temp = plt.subplot(rows, columns, position)\n",
    "        sns.kdeplot(posteriors['%s' % str(name_temp)], shade=True, alpha=alpha, color=palette[each_beta], bw='silverman')\n",
    "#         plt.hist(posteriors['%s' % str(name_temp)], color=palette[each_beta])\n",
    "        plt.axvline(x=0, linestyle=\"--\", color='black')\n",
    "        plt.rcParams.update(plotpars)\n",
    "        plt.legend(loc='upper right')\n",
    "        plt.xlabel(r\"%s\" % str(name_temp))\n",
    "#         plt.xlim([-1.8,1.8])\n",
    "#         plt.ylim([0,3.])\n",
    "        if (each_class==0):\n",
    "            plt.ylabel(\"$\\,$ WHAN \\n %s\" % whan_classes[each_beta])       \n",
    "        elif (each_class!=0): \n",
    "            plot_temp.yaxis.set_visible(False)            \n",
    "        position+=1\n",
    "plt.tight_layout(w_pad=0)\n",
    "# plt.savefig(os.path.join(figs_paper_path, '25betas_'+prior+'_revised.png'), bbox_inch='tight')\n",
    "# plt.savefig(os.path.join(figs_paper_path, '25betas_'+prior+'_revised.pdf'), bbox_inch='tight')\n",
    "plt.show()"
   ]
  },
  {
   "cell_type": "code",
   "execution_count": null,
   "metadata": {},
   "outputs": [],
   "source": [
    "sns.kdeplot?"
   ]
  },
  {
   "cell_type": "code",
   "execution_count": null,
   "metadata": {},
   "outputs": [],
   "source": [
    "# xlim = [-1.8, 1.8]\n",
    "ylim = [0, 3.]\n",
    "plt.subplots(figsize=figsize)\n",
    "\n",
    "plt.subplot(5,5,1)\n",
    "sns.kdeplot(posteriors['beta[1,1]'], shade=True, alpha=alpha, color=palette[0])\n",
    "plt.ylabel(\"Unclassified\")\n",
    "# plt.xlim(xlim)\n",
    "# plt.ylim(ylim)\n",
    "\n",
    "plt.subplot(5,5,2)\n",
    "sns.kdeplot(posteriors['beta[2,1]'], shade=True, alpha=alpha, color=palette[0])\n",
    "# plt.xlim(xlim)\n",
    "# plt.ylim(ylim)\n",
    "\n",
    "plt.subplot(5,5,3)\n",
    "sns.kdeplot(posteriors['beta[3,1]'], shade=True, alpha=alpha, color=palette[0])\n",
    "# plt.xlim(xlim)\n",
    "# plt.ylim(ylim)\n",
    "\n",
    "plt.subplot(5,5,4)\n",
    "sns.kdeplot(posteriors['beta[4,1]'], shade=True, alpha=alpha, color=palette[0])\n",
    "# plt.xlim(xlim)\n",
    "# plt.ylim(ylim)\n",
    "\n",
    "plt.subplot(5,5,5)\n",
    "sns.kdeplot(posteriors['beta[5,1]'], shade=True, alpha=alpha, color=palette[0])\n",
    "# plt.xlim(xlim)\n",
    "# plt.ylim(ylim)\n",
    "\n",
    "plt.subplot(5,5,6)\n",
    "sns.kdeplot(posteriors['beta[1,2]'], shade=True, alpha=alpha, color=palette[1])\n",
    "plt.ylabel(\"R/P\")\n",
    "# plt.xlim(xlim)\n",
    "# plt.ylim(ylim)\n",
    "\n",
    "plt.subplot(5,5,7)\n",
    "sns.kdeplot(posteriors['beta[2,2]'], shade=True, alpha=alpha, color=palette[1])\n",
    "# plt.xlim(xlim)\n",
    "# plt.ylim(ylim)\n",
    "\n",
    "plt.subplot(5,5,8)\n",
    "sns.kdeplot(posteriors['beta[3,2]'], shade=True, alpha=alpha, color=palette[1])\n",
    "# plt.xlim(xlim)\n",
    "# plt.ylim(ylim)\n",
    "\n",
    "plt.subplot(5,5,9)\n",
    "sns.kdeplot(posteriors['beta[4,2]'], shade=True, alpha=alpha, color=palette[1])\n",
    "# plt.xlim(xlim)\n",
    "# plt.ylim(ylim)\n",
    "\n",
    "plt.subplot(5,5,10)\n",
    "sns.kdeplot(posteriors['beta[5,2]'], shade=True, alpha=alpha, color=palette[1])\n",
    "# plt.xlim(xlim)\n",
    "# plt.ylim(ylim)\n",
    "\n",
    "plt.subplot(5,5,11)\n",
    "sns.kdeplot(posteriors['beta[1,3]'], shade=True, alpha=alpha, color=palette[2])\n",
    "plt.ylabel(\"wAGN\")\n",
    "# plt.xlim(xlim)\n",
    "# plt.ylim(ylim)\n",
    "\n",
    "plt.subplot(5,5,12)\n",
    "sns.kdeplot(posteriors['beta[2,3]'], shade=True, alpha=alpha, color=palette[2])\n",
    "# plt.xlim(xlim)\n",
    "# plt.ylim(ylim)\n",
    "\n",
    "plt.subplot(5,5,13)\n",
    "sns.kdeplot(posteriors['beta[3,3]'], shade=True, alpha=alpha, color=palette[2])\n",
    "# plt.xlim(xlim)\n",
    "# plt.ylim(ylim)\n",
    "\n",
    "plt.subplot(5,5,14)\n",
    "sns.kdeplot(posteriors['beta[4,3]'], shade=True, alpha=alpha, color=palette[2])\n",
    "# plt.xlim(xlim)\n",
    "# plt.ylim(ylim)\n",
    "\n",
    "plt.subplot(5,5,15)\n",
    "sns.kdeplot(posteriors['beta[5,3]'], shade=True, alpha=alpha, color=palette[2])\n",
    "# plt.xlim(xlim)\n",
    "# plt.ylim(ylim)\n",
    "\n",
    "plt.subplot(5,5,16)\n",
    "sns.kdeplot(posteriors['beta[1,4]'], shade=True, alpha=alpha, color=palette[3])\n",
    "plt.ylabel(\"sAGN\")\n",
    "# plt.xlim(xlim)\n",
    "# plt.ylim(ylim)\n",
    "\n",
    "plt.subplot(5,5,17)\n",
    "sns.kdeplot(posteriors['beta[2,4]'], shade=True, alpha=alpha, color=palette[3])\n",
    "# plt.xlim(xlim)\n",
    "# plt.ylim(ylim)\n",
    "\n",
    "plt.subplot(5,5,18)\n",
    "sns.kdeplot(posteriors['beta[3,4]'], shade=True, alpha=alpha, color=palette[3])\n",
    "# plt.xlim(xlim)\n",
    "# plt.ylim(ylim)\n",
    "\n",
    "plt.subplot(5,5,19)\n",
    "sns.kdeplot(posteriors['beta[4,4]'], shade=True, alpha=alpha, color=palette[3])\n",
    "# plt.xlim(xlim)\n",
    "# plt.ylim(ylim)\n",
    "\n",
    "plt.subplot(5,5,20)\n",
    "sns.kdeplot(posteriors['beta[5,4]'], shade=True, alpha=alpha, color=palette[3])\n",
    "# plt.xlim(xlim)\n",
    "# plt.ylim(ylim)\n",
    "\n",
    "plt.subplot(5,5,21)\n",
    "sns.kdeplot(posteriors['beta[1,5]'], shade=True, alpha=alpha, color=palette[4])\n",
    "plt.ylabel(\"SF\")\n",
    "# plt.xlim(xlim)\n",
    "# plt.ylim(ylim)\n",
    "\n",
    "plt.subplot(5,5,22)\n",
    "sns.kdeplot(posteriors['beta[2,5]'], shade=True, alpha=alpha, color=palette[4])\n",
    "# plt.xlim(xlim)\n",
    "# plt.ylim(ylim)\n",
    "\n",
    "plt.subplot(5,5,23)\n",
    "sns.kdeplot(posteriors['beta[3,5]'], shade=True, alpha=alpha, color=palette[4])\n",
    "# plt.xlim(xlim)\n",
    "# plt.ylim(ylim)\n",
    "\n",
    "plt.subplot(5,5,24)\n",
    "sns.kdeplot(posteriors['beta[4,5]'], shade=True, alpha=alpha, color=palette[4])\n",
    "# plt.xlim(xlim)\n",
    "# plt.ylim(ylim)\n",
    "\n",
    "plt.subplot(5,5,25)\n",
    "sns.kdeplot(posteriors['beta[5,5]'], shade=True, alpha=alpha, color=palette[4])\n",
    "# plt.xlim(xlim)\n",
    "# plt.ylim(ylim)\n",
    "\n",
    "plt.tight_layout()\n",
    "plt.show()"
   ]
  },
  {
   "cell_type": "code",
   "execution_count": null,
   "metadata": {},
   "outputs": [],
   "source": [
    "posteriors_dictionary = {}\n",
    "for i in range(posteriors.keys().size):\n",
    "    posteriors_dictionary['%s' % (posteriors.keys()[i])] = posteriors.values[i]"
   ]
  },
  {
   "cell_type": "code",
   "execution_count": null,
   "metadata": {
    "scrolled": false
   },
   "outputs": [],
   "source": [
    "plt.rcParams.update(plotpars)\n",
    "az.plot_forest(data=posteriors_dictionary, var_names=list(posteriors.keys()), figsize=(6,9), r_hat=False, n_eff=False,\n",
    "               credible_interval=0.65, quartiles=True, colors='#8856a7')\n",
    "# az.plot_forest(data=posteriors_dictionary, var_names=list(posteriors.keys()), figsize=(6,9), r_hat=True, n_eff=True,\n",
    "#                credible_interval=0.95, quartiles=True, colors='#8856a7')\n",
    "# az.plot_density(data=posteriors_dictionary)\n",
    "plt.axvline(x=0, color='black', linewidth=1., linestyle='--')\n",
    "plt.tight_layout()\n",
    "# plt.savefig(os.path.join(figs_paper_path, '25betas_forest_'+prior+'_revised.png'))\n",
    "# plt.savefig(os.path.join(figs_paper_path, '25betas_forest_'+prior+'_revised.pdf'))\n",
    "plt.show()"
   ]
  },
  {
   "cell_type": "markdown",
   "metadata": {},
   "source": [
    "# FIT"
   ]
  },
  {
   "cell_type": "code",
   "execution_count": null,
   "metadata": {},
   "outputs": [],
   "source": [
    "# summary = pd.read_csv(os.path.join(results_path, 'allprobabilities_summ_revised.csv'),index_col=\"Unnamed: 0\")\n",
    "summary = pd.read_csv(os.path.join(results_path, 'allprobabilities_summ_rmshared_revised.csv'),index_col=\"Unnamed: 0\")"
   ]
  },
  {
   "cell_type": "code",
   "execution_count": null,
   "metadata": {},
   "outputs": [],
   "source": [
    "all_files_dir = np.sort(os.listdir(results_path))"
   ]
  },
  {
   "cell_type": "code",
   "execution_count": null,
   "metadata": {},
   "outputs": [],
   "source": [
    "name = 'data_for_plotting'\n",
    "print(len(name))"
   ]
  },
  {
   "cell_type": "code",
   "execution_count": null,
   "metadata": {},
   "outputs": [],
   "source": [
    "files_fit_to_plot = []\n",
    "for i in range(all_files_dir.size):\n",
    "    if all_files_dir[i][0:17]==name:\n",
    "        files_fit_to_plot.append(all_files_dir[i])\n",
    "    else:\n",
    "        continue"
   ]
  },
  {
   "cell_type": "code",
   "execution_count": null,
   "metadata": {},
   "outputs": [],
   "source": [
    "fit_palette = ['#e0ecf4','#9ebcda','#8856a7']"
   ]
  },
  {
   "cell_type": "code",
   "execution_count": null,
   "metadata": {},
   "outputs": [],
   "source": [
    "plt.subplots(figsize=(15,4))\n",
    "for i in range(len(files_fit_to_plot)):        \n",
    "    current_class = pd.read_csv(os.path.join(results_path, files_fit_to_plot[i]))\n",
    "    plot_temp = plt.subplot(1, 5, (i+1))\n",
    "    plt.plot(current_class['LOG_STELLAR_MASS'], current_class['mean'], '-', color=fit_palette[2]) \n",
    "    plt.plot(current_class['LOG_STELLAR_MASS'], current_class['25%'], '-', color=fit_palette[1])\n",
    "    plt.plot(current_class['LOG_STELLAR_MASS'], current_class['75%'], '-', color=fit_palette[1])\n",
    "    \n",
    "    plt.fill_between(current_class['LOG_STELLAR_MASS'], current_class['25%'], current_class['75%'], \n",
    "                     color=fit_palette[1], alpha=0.5)\n",
    "    \n",
    "    plt.plot(current_class['LOG_STELLAR_MASS'], current_class['2.5%'], '-', color=fit_palette[0])\n",
    "    plt.plot(current_class['LOG_STELLAR_MASS'], current_class['97.5%'], '-', color=fit_palette[0])\n",
    "    plt.fill_between(current_class['LOG_STELLAR_MASS'], current_class['2.5%'], current_class['97.5%'], \n",
    "                     color=fit_palette[0], alpha=0.5)\n",
    "    plt.axvline(x=10, ls='--', lw=0.5, color='black')\n",
    "    plt.axvspan(xmin=8.9, xmax=10, facecolor='gray', alpha=0.1)\n",
    "    plt.title(\"%s\" % (whan_classes[i]), fontsize=18)\n",
    "    plt.rcParams.update(plotpars)\n",
    "    plt.ylim([0., 1.])\n",
    "    plt.xlim([8.9, 11.1])\n",
    "    plt.xticks([9, 10, 11])\n",
    "    if i==0:\n",
    "        plt.ylabel(r\"$f_{upturn}$\")\n",
    "    elif i>0:\n",
    "        plot_temp.yaxis.set_visible(False)\n",
    "        if i==2:\n",
    "            plt.xlabel(r\"$\\log M_*$\")\n",
    "        else:\n",
    "            continue\n",
    "        \n",
    "plt.tight_layout(w_pad=0.5)\n",
    "plt.savefig(os.path.join(figs_paper_path, 'mass_'+prior+'_regression_meanZ.png'))\n",
    "plt.savefig(os.path.join(figs_paper_path, 'mass_'+prior+'_regression_meanZ.pdf'))\n",
    "plt.show()"
   ]
  },
  {
   "cell_type": "code",
   "execution_count": null,
   "metadata": {},
   "outputs": [],
   "source": [
    "header        = summary.keys()\n",
    "classes       = np.split(summary.values, 5)\n",
    "unique_masses = np.unique(summary[\"LOG_STELLAR_MASS\"].values)  # for the mass slice\n",
    "unique_masses"
   ]
  },
  {
   "cell_type": "code",
   "execution_count": null,
   "metadata": {
    "scrolled": true
   },
   "outputs": [],
   "source": [
    "fit_palette = ['#e0ecf4','#9ebcda','#8856a7']\n",
    "for m in range(unique_masses.size):\n",
    "    plt.subplots(figsize=(15,4))\n",
    "    name_to_save = str(unique_masses[m]).split('.')[0] + '_' + str(unique_masses[m]).split('.')[1][:3]\n",
    "    for i in range(len(classes)):\n",
    "        current_class = pd.DataFrame(classes[i])\n",
    "        current_class.columns = header\n",
    "        idx_slice = np.where(current_class[\"LOG_STELLAR_MASS\"].values==unique_masses[m])\n",
    "\n",
    "        plot_temp = plt.subplot(1, 5, (i+1))\n",
    "\n",
    "        plt.plot(current_class[\"Z\"].iloc[idx_slice], current_class['mean'].iloc[idx_slice], '-', color=fit_palette[2])    \n",
    "        plt.plot(current_class[\"Z\"].iloc[idx_slice], current_class['25%'].iloc[idx_slice], '-', color=fit_palette[1])    \n",
    "        plt.plot(current_class[\"Z\"].iloc[idx_slice], current_class['75%'].iloc[idx_slice], '-', color=fit_palette[1])\n",
    "        plt.fill_between(current_class[\"Z\"].iloc[idx_slice], current_class['25%'].iloc[idx_slice], \n",
    "                         current_class['75%'].iloc[idx_slice], color=fit_palette[1], alpha=0.5)\n",
    "\n",
    "        plt.plot(current_class[\"Z\"].iloc[idx_slice], current_class['2.5%'].iloc[idx_slice], '-', color=fit_palette[0])    \n",
    "        plt.plot(current_class[\"Z\"].iloc[idx_slice], current_class['97.5%'].iloc[idx_slice], '-', color=fit_palette[0])\n",
    "        plt.fill_between(current_class[\"Z\"].iloc[idx_slice], current_class['2.5%'].iloc[idx_slice], \n",
    "                         current_class['97.5%'].iloc[idx_slice], color=fit_palette[0], alpha=0.5)\n",
    "\n",
    "        plt.title(\"%s\" % (whan_classes[i]), fontsize=18)\n",
    "        plt.rcParams.update(plotpars)\n",
    "        plt.ylim([-0.1, 1.1])\n",
    "        plt.yticks([0., 0.2, 0.4, 0.6, 0.8, 1.])\n",
    "        if i==0:\n",
    "            plt.ylabel(r\"$f_{upturn}$\")\n",
    "        elif i>0:\n",
    "            plot_temp.yaxis.set_visible(False)\n",
    "            if i==2:\n",
    "                plt.xlabel(r\"Redshift  ($\\log M_* \\approx$%5.5s)\" % str(unique_masses[m]))\n",
    "            else:\n",
    "                continue\n",
    "        plt.tight_layout(w_pad=0.)\n",
    "    plt.savefig(os.path.join(figs_paper_path, 'z_'+prior+'_regression_slice_%s.png' %  name_to_save))\n",
    "    plt.savefig(os.path.join(figs_paper_path, 'z_'+prior+'_regression_slice_%s.pdf' %  name_to_save))\n",
    "    plt.show()"
   ]
  },
  {
   "cell_type": "markdown",
   "metadata": {},
   "source": [
    "# Complementary charts for paper 01"
   ]
  },
  {
   "cell_type": "code",
   "execution_count": null,
   "metadata": {},
   "outputs": [],
   "source": [
    "data = pd.read_csv('../../Catalogue/Match07_smalldoubleclean_emlines.csv')"
   ]
  },
  {
   "cell_type": "code",
   "execution_count": null,
   "metadata": {},
   "outputs": [],
   "source": [
    "my_data = data.loc[data['Z']<=0.4]"
   ]
  },
  {
   "cell_type": "code",
   "execution_count": null,
   "metadata": {},
   "outputs": [],
   "source": [
    "my_data = my_data.loc[my_data['UV_CLASS_YI2011']!='RSF']"
   ]
  },
  {
   "cell_type": "code",
   "execution_count": null,
   "metadata": {},
   "outputs": [],
   "source": [
    "my_data = my_data.loc[my_data['D4000N']>0]\n",
    "my_data = my_data.fillna('Unclassified')"
   ]
  },
  {
   "cell_type": "code",
   "execution_count": null,
   "metadata": {},
   "outputs": [],
   "source": [
    "my_data = my_data.replace({'UV_UPTURN': 'UV upturn'}).replace({'UV_WEAK': 'UV weak'})"
   ]
  },
  {
   "cell_type": "code",
   "execution_count": null,
   "metadata": {},
   "outputs": [],
   "source": [
    "for i in my_data.keys():\n",
    "    print(i)"
   ]
  },
  {
   "cell_type": "code",
   "execution_count": null,
   "metadata": {},
   "outputs": [],
   "source": [
    "# palette_c = ['#9ebcda','#8c96c6','#8c6bb1','#88419d','#6e016b']\n",
    "palette_c = ['#8c96c6','#6e016b']\n",
    "text_bbox = dict(facecolor='#f7f7f7', edgecolor='black', boxstyle='round')\n",
    "handles = ['UV weak', 'UV upturn']"
   ]
  },
  {
   "cell_type": "markdown",
   "metadata": {},
   "source": [
    "### Boxplot heaven"
   ]
  },
  {
   "cell_type": "code",
   "execution_count": null,
   "metadata": {},
   "outputs": [],
   "source": [
    "plt.rcParams.update(plotpars)\n",
    "lvplot = sns.boxenplot(x=my_data['WHAN_CLASS'].values, y=my_data['D4000N'].values, data=my_data, palette=palette_c, \n",
    "                       hue='UV_CLASS_YI2011', order=['Unclassified', 'Retired/Passive', 'wAGN', 'sAGN', 'SF'], \n",
    "                       k_depth='trustworthy', outlier_prop=0.2, scale='exponential', saturation=0.8)\n",
    "plt.xticks([0,1,2,3,4], ['Unclass.', 'R/P', 'wAGN', 'sAGN', 'SF'])\n",
    "plt.xlabel(\"WHAN class\")\n",
    "plt.ylabel(\"D$_n$4000\")\n",
    "lvplot.legend(loc='lower right', borderaxespad=0.2, ncol=2)\n",
    "plt.ylim([0,3.5])\n",
    "plt.tight_layout()\n",
    "plt.savefig(os.path.join(figs_paper_path, 'lvplot_dn4000.png'), bbox_inch='tight')\n",
    "plt.savefig(os.path.join(figs_paper_path, 'lvplot_dn4000.pdf'), bbox_inch='tight')\n",
    "plt.show()"
   ]
  },
  {
   "cell_type": "code",
   "execution_count": null,
   "metadata": {},
   "outputs": [],
   "source": [
    "plt.rcParams.update(plotpars)\n",
    "lvplot = sns.boxenplot(x=my_data['WHAN_CLASS'].values, y=my_data['INTSFH'].values/(10**(11)), data=my_data, \n",
    "                       palette=palette_c, hue='UV_CLASS_YI2011', order=['Unclassified', 'Retired/Passive', 'wAGN', \n",
    "                                                                        'sAGN', 'SF'], \n",
    "                       k_depth='trustworthy', outlier_prop=0.2, scale='exponential', saturation=0.8)\n",
    "plt.xticks([0,1,2,3,4], ['Unclass.', 'R/P', 'wAGN', 'sAGN', 'SF'])\n",
    "plt.xlabel(\"WHAN class\")\n",
    "plt.ylabel(\"intSFH (10$^{11}$)\")\n",
    "lvplot.legend(loc='lower right', borderaxespad=0.2, ncol=2)\n",
    "plt.ylim([10**(-2), 10**(1)])\n",
    "plt.yticks([10**(-2), 10**(-1), 10**0, 10**(1)])\n",
    "plt.yscale('log')\n",
    "plt.tight_layout()\n",
    "plt.savefig(os.path.join(figs_paper_path, 'lvplot_intsfh.png'), bbox_inch='tight')\n",
    "plt.savefig(os.path.join(figs_paper_path, 'lvplot_intsfh.pdf'), bbox_inch='tight')\n",
    "plt.show()"
   ]
  },
  {
   "cell_type": "code",
   "execution_count": null,
   "metadata": {},
   "outputs": [],
   "source": [
    "plt.rcParams.update(plotpars)\n",
    "lvplot = sns.boxenplot(x='WHAN_CLASS', y='B300', data=my_data, palette=palette_c, hue='UV_CLASS_YI2011', \n",
    "                       order=['Unclassified', 'Retired/Passive', 'wAGN', 'sAGN', 'SF'], k_depth='trustworthy', \n",
    "                       outlier_prop=0.2, scale='exponential', saturation=0.8)\n",
    "plt.yscale('log')\n",
    "lvplot.legend(loc='lower right', borderaxespad=0.2, ncol=2)\n",
    "plt.xticks([0,1,2,3,4], ['Unclass.', 'R/P', 'wAGN', 'sAGN', 'SF'])\n",
    "plt.xlabel(\"WHAN class\")\n",
    "plt.ylabel(r\"$\\xi_{(0.3)}$\")\n",
    "plt.tight_layout()\n",
    "plt.savefig(os.path.join(figs_paper_path, 'lvplot_B300.png'), bbox_inch='tight')\n",
    "plt.savefig(os.path.join(figs_paper_path, 'lvplot_B300.pdf'), bbox_inch='tight')\n",
    "plt.show()"
   ]
  },
  {
   "cell_type": "code",
   "execution_count": null,
   "metadata": {},
   "outputs": [],
   "source": [
    "plt.rcParams.update(plotpars)\n",
    "lvplot = sns.boxenplot(x='WHAN_CLASS', y='B1000', data=my_data, palette=palette_c, hue='UV_CLASS_YI2011',\n",
    "                       order=['Unclassified', 'Retired/Passive', 'wAGN', 'sAGN', 'SF'], k_depth='trustworthy', \n",
    "                       outlier_prop=0.2, scale='exponential', saturation=0.8)\n",
    "plt.yscale('log')\n",
    "plt.xticks([0,1,2,3,4], ['Unclass.', 'R/P', 'wAGN', 'sAGN', 'SF'])\n",
    "plt.ylim([10**(-3), 10**(0)])\n",
    "plt.yticks([10**(-3), 10**(-2), 10**(-1), 10**(0)])\n",
    "plt.xlabel(\"WHAN class\")\n",
    "plt.ylabel(r\"$\\xi_{(1.0)}$\")\n",
    "lvplot.legend(loc='lower right', borderaxespad=0.2, ncol=2)\n",
    "plt.tight_layout()\n",
    "plt.savefig(os.path.join(figs_paper_path, 'lvplot_B1000.png'), bbox_inch='tight')\n",
    "plt.savefig(os.path.join(figs_paper_path, 'lvplot_B1000.pdf'), bbox_inch='tight')\n",
    "plt.show()"
   ]
  },
  {
   "cell_type": "code",
   "execution_count": null,
   "metadata": {},
   "outputs": [],
   "source": [
    "plt.rcParams.update(plotpars)\n",
    "lvplot = sns.boxenplot(x='WHAN_CLASS', y='logage', data=my_data, palette=palette_c, hue='UV_CLASS_YI2011',\n",
    "                       order=['Unclassified', 'Retired/Passive', 'wAGN', 'sAGN', 'SF'], k_depth='trustworthy', \n",
    "                       outlier_prop=0.2, scale='exponential', saturation=0.8)\n",
    "plt.xticks([0,1,2,3,4], ['Unclass.', 'R/P', 'wAGN', 'sAGN', 'SF'])\n",
    "lvplot.legend(loc='lower right', borderaxespad=0.2, ncol=2)\n",
    "plt.xlabel(\"WHAN class\")\n",
    "plt.ylabel(\"$<\\log(t)>_{L}$ (Gyr)\")\n",
    "plt.ylim([9.6,10.])\n",
    "plt.yticks([9.6, 9.7, 9.8, 9.9, 10.])\n",
    "plt.tight_layout()\n",
    "plt.savefig(os.path.join(figs_paper_path, 'lvplot_logage.png'), bbox_inch='tight')\n",
    "plt.savefig(os.path.join(figs_paper_path, 'lvplot_logage.pdf'), bbox_inch='tight')\n",
    "plt.show()"
   ]
  },
  {
   "cell_type": "code",
   "execution_count": null,
   "metadata": {},
   "outputs": [],
   "source": [
    "plt.rcParams.update(plotpars)\n",
    "lvplot = sns.boxenplot(x='WHAN_CLASS', y='metal', data=my_data, palette=palette_c, hue='UV_CLASS_YI2011',\n",
    "                       order=['Unclassified', 'Retired/Passive', 'wAGN', 'sAGN', 'SF'], k_depth='trustworthy', \n",
    "                       outlier_prop=0.2, saturation=0.8, scale='exponential')\n",
    "lvplot.legend(loc='lower right', borderaxespad=0.2, ncol=2)\n",
    "plt.xticks([0,1,2,3,4], ['Unclass.', 'R/P', 'wAGN', 'sAGN', 'SF'])\n",
    "plt.xlabel(\"WHAN class\")\n",
    "plt.ylabel(r\"$<(Z/Z_{\\odot})>_{L}$\")\n",
    "plt.tight_layout()\n",
    "plt.savefig(os.path.join(figs_paper_path, 'lvplot_metal.png'), bbox_inch='tight')\n",
    "plt.savefig(os.path.join(figs_paper_path, 'lvplot_metal.pdf'), bbox_inch='tight')\n",
    "plt.show()"
   ]
  },
  {
   "cell_type": "code",
   "execution_count": null,
   "metadata": {},
   "outputs": [],
   "source": [
    "plt.rcParams.update(plotpars)\n",
    "lvplot = sns.boxenplot(x='WHAN_CLASS', y='metal', data=my_data, palette=palette_c, hue='UV_CLASS_YI2011',\n",
    "                       order=['Unclassified', 'Retired/Passive', 'wAGN', 'sAGN', 'SF'], k_depth='trustworthy', \n",
    "                       outlier_prop=0.2, saturation=0.8, scale='exponential')\n",
    "lvplot.legend(loc='lower right', borderaxespad=0.2, ncol=2)\n",
    "plt.xticks([0,1,2,3,4], ['Unclass.', 'R/P', 'wAGN', 'sAGN', 'SF'])\n",
    "plt.xlabel(\"WHAN class\")\n",
    "plt.ylabel(r\"$<(Z/Z_{\\odot})>_{L}$\")\n",
    "plt.ylim([0.005, 0.020])\n",
    "plt.tight_layout()\n",
    "# plt.savefig(os.path.join(figs_paper_path, 'lvplot_metal.png'), bbox_inch='tight')\n",
    "# plt.savefig(os.path.join(figs_paper_path, 'lvplot_metal.pdf'), bbox_inch='tight')\n",
    "plt.show()"
   ]
  },
  {
   "cell_type": "markdown",
   "metadata": {},
   "source": [
    "# Simple fits"
   ]
  },
  {
   "cell_type": "code",
   "execution_count": null,
   "metadata": {},
   "outputs": [],
   "source": [
    "summary = pd.read_csv(os.path.join(results_path, 'fit_summ_noemlines.csv'))"
   ]
  },
  {
   "cell_type": "code",
   "execution_count": null,
   "metadata": {},
   "outputs": [],
   "source": [
    "chosen_mass = np.unique(summary['LOG_STELLAR_MASS'].values)[-1]\n",
    "chosen_mass"
   ]
  },
  {
   "cell_type": "code",
   "execution_count": null,
   "metadata": {},
   "outputs": [],
   "source": [
    "subset_mass = summary[summary['LOG_STELLAR_MASS']==chosen_mass]\n",
    "name_to_save = str(chosen_mass).split('.')[0] + '_' + str(chosen_mass).split('.')[1][:3]"
   ]
  },
  {
   "cell_type": "code",
   "execution_count": null,
   "metadata": {},
   "outputs": [],
   "source": [
    "plt.rcParams.update(plotpars)\n",
    "\n",
    "plt.plot(subset_mass['Z'], subset_mass['mean'], '-', color=fit_palette[2])\n",
    "plt.plot(subset_mass['Z'], subset_mass['25%'], '-', color=fit_palette[1])\n",
    "plt.plot(subset_mass['Z'], subset_mass['75%'], '-', color=fit_palette[1])\n",
    "plt.plot(subset_mass['Z'], subset_mass['2.5%'], '-', color=fit_palette[0])\n",
    "plt.plot(subset_mass['Z'], subset_mass['97.5%'], '-', color=fit_palette[0])\n",
    "plt.fill_between(subset_mass['Z'], subset_mass['25%'], subset_mass['75%'], color=fit_palette[1], alpha=0.5)\n",
    "plt.fill_between(subset_mass['Z'], subset_mass['2.5%'], subset_mass['97.5%'], color=fit_palette[0], alpha=0.5)\n",
    "plt.ylim([0,1.])\n",
    "plt.ylabel(r\"$f_{upturn}$\")\n",
    "plt.xlabel(\"Redshift\")\n",
    "plt.title(r\"$\\log M_*\\approx$%.2f\" % chosen_mass, fontsize=18)\n",
    "plt.tight_layout()\n",
    "plt.savefig(os.path.join(figs_paper_path, 'z_noemlines_%s.png' %  name_to_save))\n",
    "plt.savefig(os.path.join(figs_paper_path, 'z_noemlines_%s.pdf' %  name_to_save))\n",
    "plt.show()"
   ]
  },
  {
   "cell_type": "code",
   "execution_count": null,
   "metadata": {},
   "outputs": [],
   "source": [
    "chosen_z = np.unique(summary['Z'].values)[20]\n",
    "chosen_z"
   ]
  },
  {
   "cell_type": "code",
   "execution_count": null,
   "metadata": {},
   "outputs": [],
   "source": [
    "subset_z = summary[summary['Z']==chosen_z]\n",
    "name_to_save = str(chosen_z).split('.')[0] + '_' + str(chosen_z).split('.')[1][:3]"
   ]
  },
  {
   "cell_type": "code",
   "execution_count": null,
   "metadata": {},
   "outputs": [],
   "source": [
    "plt.plot(subset_z['LOG_STELLAR_MASS'], subset_z['mean'], '-', color=fit_palette[2])\n",
    "plt.plot(subset_z['LOG_STELLAR_MASS'], subset_z['25%'], '-', color=fit_palette[1])\n",
    "plt.plot(subset_z['LOG_STELLAR_MASS'], subset_z['75%'], '-', color=fit_palette[1])\n",
    "plt.plot(subset_z['LOG_STELLAR_MASS'], subset_z['2.5%'], '-', color=fit_palette[0])\n",
    "plt.plot(subset_z['LOG_STELLAR_MASS'], subset_z['97.5%'], '-', color=fit_palette[0])\n",
    "plt.fill_between(subset_z['LOG_STELLAR_MASS'], subset_z['25%'], subset_z['75%'], color=fit_palette[1], alpha=0.5)\n",
    "plt.fill_between(subset_z['LOG_STELLAR_MASS'], subset_z['2.5%'], subset_z['97.5%'], color=fit_palette[0], alpha=0.5)\n",
    "plt.ylim([0,1.])\n",
    "plt.ylabel(r\"$f_{upturn}$\")\n",
    "plt.xlabel(r\"$\\log M_{*}$\")\n",
    "plt.title(r\"z$\\approx$%.3f\" % chosen_z, fontsize=18)\n",
    "plt.tight_layout()\n",
    "plt.savefig(os.path.join(figs_paper_path, 'mass_noemlines_%s.png' %  name_to_save))\n",
    "plt.savefig(os.path.join(figs_paper_path, 'mass_noemlines_%s.pdf' %  name_to_save))\n",
    "plt.show()"
   ]
  },
  {
   "cell_type": "markdown",
   "metadata": {},
   "source": [
    "# Set of plots"
   ]
  },
  {
   "cell_type": "code",
   "execution_count": null,
   "metadata": {},
   "outputs": [],
   "source": [
    "plotpars3 = {'axes.linewidth': 1.,\n",
    "             'axes.labelsize': 18,\n",
    "             'xtick.labelsize': 18,\n",
    "             'ytick.labelsize': 18,\n",
    "             'legend.frameon': True,\n",
    "             'legend.framealpha': 0.85,\n",
    "             'legend.edgecolor': 'black',\n",
    "             'legend.loc': 'upper right',\n",
    "             'legend.fontsize': 12,\n",
    "             'font.size':12,\n",
    "             'figure.figsize': (15, 4)\n",
    "             }"
   ]
  },
  {
   "cell_type": "code",
   "execution_count": null,
   "metadata": {},
   "outputs": [],
   "source": [
    "idx_m = [5, 11, 16, 25, 29]\n",
    "idx_z = [0, 5, 10, 15, 25]\n",
    "chosen_mass     = np.unique(summary['LOG_STELLAR_MASS'].values)[idx_m]\n",
    "chosen_redshift = np.unique(summary['Z'].values)[idx_z]"
   ]
  },
  {
   "cell_type": "code",
   "execution_count": null,
   "metadata": {},
   "outputs": [],
   "source": [
    "plt.rcParams.update(plotpars3)"
   ]
  },
  {
   "cell_type": "code",
   "execution_count": null,
   "metadata": {},
   "outputs": [],
   "source": [
    "plt.subplots(figsize=(15,4))\n",
    "for i in range(len(idx_m)):        \n",
    "    subset = summary[summary['LOG_STELLAR_MASS']==chosen_mass[i]]\n",
    "    plot_temp = plt.subplot(1, 5, (i+1))\n",
    "    plt.plot(subset['Z'], subset['mean'], '-', color=fit_palette[2])\n",
    "    plt.plot(subset['Z'], subset['25%'], '-', color=fit_palette[1])\n",
    "    plt.plot(subset['Z'], subset['75%'], '-', color=fit_palette[1])\n",
    "    plt.plot(subset['Z'], subset['2.5%'], '-', color=fit_palette[0])\n",
    "    plt.plot(subset['Z'], subset['97.5%'], '-', color=fit_palette[0])\n",
    "    plt.fill_between(subset['Z'], subset['25%'], subset['75%'], color=fit_palette[1], alpha=0.5)\n",
    "    plt.fill_between(subset['Z'], subset['2.5%'], subset['97.5%'], color=fit_palette[0], alpha=0.5)\n",
    "    plt.ylim([0,1.])\n",
    "    plt.xlim([subset['Z'].min(), subset['Z'].max()])\n",
    "    plt.title(r\"$\\log M_{\\star} \\approx$%.2f\" % chosen_mass[i], fontsize=18)\n",
    "    plt.rcParams.update(plotpars)\n",
    "\n",
    "    if i==0:\n",
    "        plt.ylabel(r\"$f_{upturn}$\")\n",
    "    elif i>0:\n",
    "        plot_temp.yaxis.set_visible(False)\n",
    "        \n",
    "    plt.tight_layout(w_pad=0.)\n",
    "plt.text(x=-0.45, y=-0.23, s='Redshift', size=18)\n",
    "plt.savefig(os.path.join(figs_paper_path, 'reg_all_noel_redshift.pdf'))\n",
    "plt.show()"
   ]
  },
  {
   "cell_type": "code",
   "execution_count": null,
   "metadata": {},
   "outputs": [],
   "source": [
    "plt.text?"
   ]
  },
  {
   "cell_type": "code",
   "execution_count": null,
   "metadata": {},
   "outputs": [],
   "source": [
    "plt.subplots(figsize=(15,4))\n",
    "for i in range(len(idx_z)):        \n",
    "    subset = summary[summary['Z']==chosen_redshift[i]]\n",
    "    plot_temp = plt.subplot(1, 5, (i+1))\n",
    "    plt.plot(subset['LOG_STELLAR_MASS'], subset['mean'], '-', color=fit_palette[2])\n",
    "    plt.plot(subset['LOG_STELLAR_MASS'], subset['25%'], '-', color=fit_palette[1])\n",
    "    plt.plot(subset['LOG_STELLAR_MASS'], subset['75%'], '-', color=fit_palette[1])\n",
    "    plt.plot(subset['LOG_STELLAR_MASS'], subset['2.5%'], '-', color=fit_palette[0])\n",
    "    plt.plot(subset['LOG_STELLAR_MASS'], subset['97.5%'], '-', color=fit_palette[0])\n",
    "    plt.fill_between(subset['LOG_STELLAR_MASS'], subset['25%'], subset['75%'], color=fit_palette[1], \n",
    "                     alpha=0.5)\n",
    "    plt.fill_between(subset['LOG_STELLAR_MASS'], subset['2.5%'], subset['97.5%'], color=fit_palette[0],\n",
    "                     alpha=0.5)\n",
    "    plt.ylim([0,1.])\n",
    "    plt.xlim([subset['LOG_STELLAR_MASS'].min(), subset['LOG_STELLAR_MASS'].max()])\n",
    "    plt.xticks([10, 10.5, 11, 11.5])\n",
    "    plt.tick_params(axis='x', which='major', rotation=-30)\n",
    "    plt.title(r\"z$\\approx$%.2f\" % chosen_redshift[i], fontsize=18)\n",
    "    plt.rcParams.update(plotpars)\n",
    "    plt.axvline(x=10, ls='--', lw=0.5, color='black')\n",
    "    plt.axvspan(xmin=subset['LOG_STELLAR_MASS'].min(), xmax=10, facecolor='gray', alpha=0.1)\n",
    "\n",
    "    if i==0:\n",
    "        plt.ylabel(r\"$f_{upturn}$\")\n",
    "    elif i>0:\n",
    "        plot_temp.yaxis.set_visible(False)\n",
    "        \n",
    "    plt.tight_layout(w_pad=0.)\n",
    "plt.text(x=6.3, y=-0.3, s=r\"$\\log M_{\\star}$\", size=20)\n",
    "plt.savefig(os.path.join(figs_paper_path, 'reg_all_noel_mass.pdf'))\n",
    "plt.show()"
   ]
  },
  {
   "cell_type": "code",
   "execution_count": null,
   "metadata": {},
   "outputs": [],
   "source": [
    "plt.tick_params??"
   ]
  },
  {
   "cell_type": "code",
   "execution_count": null,
   "metadata": {},
   "outputs": [],
   "source": [
    "posteriors_all = pd.read_csv('../../LargeFilesResults/Model/posteriors_noemlines.csv')"
   ]
  },
  {
   "cell_type": "code",
   "execution_count": null,
   "metadata": {},
   "outputs": [],
   "source": [
    "posteriors_all"
   ]
  },
  {
   "cell_type": "code",
   "execution_count": null,
   "metadata": {},
   "outputs": [],
   "source": [
    "postall_dictionary = {}\n",
    "for i in range(posteriors_all.keys().size):\n",
    "    postall_dictionary['%s' % (posteriors_all.keys()[i])] = posteriors_all.values[i]"
   ]
  },
  {
   "cell_type": "code",
   "execution_count": null,
   "metadata": {},
   "outputs": [],
   "source": [
    "posteriors_all.keys()"
   ]
  },
  {
   "cell_type": "code",
   "execution_count": null,
   "metadata": {},
   "outputs": [],
   "source": [
    "plt.rcParams.update(plotpars)\n",
    "az.plot_forest(data=postall_dictionary, var_names=list(posteriors_all.keys()), figsize=(10,4), r_hat=False, \n",
    "               n_eff=False, credible_interval=0.95, quartiles=True, colors='#8856a7')\n",
    "plt.axvline(x=0, color='black', linewidth=1., linestyle='--')\n",
    "plt.tight_layout()\n",
    "plt.savefig(os.path.join(figs_paper_path, '5betas_forest_revised.png'))\n",
    "plt.savefig(os.path.join(figs_paper_path, '5betas_forest_revised.pdf'))\n",
    "plt.show()"
   ]
  },
  {
   "cell_type": "code",
   "execution_count": null,
   "metadata": {},
   "outputs": [],
   "source": [
    "az.plot_forest?"
   ]
  },
  {
   "cell_type": "code",
   "execution_count": null,
   "metadata": {},
   "outputs": [],
   "source": [
    "sns.boxenplot??"
   ]
  },
  {
   "cell_type": "code",
   "execution_count": null,
   "metadata": {},
   "outputs": [],
   "source": []
  }
 ],
 "metadata": {
  "kernelspec": {
   "display_name": "Python 3",
   "language": "python",
   "name": "python3"
  },
  "language_info": {
   "codemirror_mode": {
    "name": "ipython",
    "version": 3
   },
   "file_extension": ".py",
   "mimetype": "text/x-python",
   "name": "python",
   "nbconvert_exporter": "python",
   "pygments_lexer": "ipython3",
   "version": "3.6.6"
  }
 },
 "nbformat": 4,
 "nbformat_minor": 2
}
