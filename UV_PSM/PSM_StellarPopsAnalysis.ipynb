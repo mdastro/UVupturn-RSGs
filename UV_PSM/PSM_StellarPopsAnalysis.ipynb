{
 "cells": [
  {
   "cell_type": "markdown",
   "metadata": {},
   "source": [
    "# PREAMBLE\n",
    "#### Some prelimiar configurations are made here, before importing the libraries and starting the code."
   ]
  },
  {
   "cell_type": "code",
   "execution_count": 1,
   "metadata": {},
   "outputs": [],
   "source": [
    "plotpars = {'axes.labelsize': 18,\n",
    "            'axes.linewidth': 1.,\n",
    "            'figure.figsize': (7.,5.),\n",
    "            'font.size': 20,\n",
    "            'legend.frameon': True,\n",
    "            'legend.framealpha': 0.85,\n",
    "            'legend.edgecolor': 'black',\n",
    "            'legend.loc': 'best',\n",
    "            'legend.fontsize': 12,\n",
    "            'mathtext.fontset': 'stixsans',\n",
    "            'savefig.bbox': 'tight',\n",
    "            'xtick.labelsize': 18,\n",
    "            'ytick.labelsize': 18,\n",
    "           }\n",
    "\n",
    "plotpars_2cols = {'axes.labelsize': 18,\n",
    "                  'axes.linewidth': 1.,\n",
    "                  'figure.figsize': (15, 4.),\n",
    "                  'font.size': 12,\n",
    "                  'legend.frameon': True,\n",
    "                  'legend.framealpha': 0.85,\n",
    "                  'legend.edgecolor': 'black',\n",
    "                  'legend.loc': 'best',\n",
    "                  'legend.fontsize': 12,\n",
    "                  'mathtext.fontset': 'stixsans',\n",
    "                  'savefig.bbox': 'tight',\n",
    "                  'xtick.labelsize': 15,\n",
    "                  'ytick.labelsize': 15,\n",
    "                 }\n",
    "\n",
    "plotpars_3rows = {'axes.labelsize': 18,\n",
    "                  'axes.linewidth': 1.,\n",
    "                  'figure.figsize': (6, 9),\n",
    "                  'font.size': 12,\n",
    "                  'legend.frameon': True,\n",
    "                  'legend.framealpha': 0.85,\n",
    "                  'legend.edgecolor': 'black',\n",
    "                  'legend.loc': 'best',\n",
    "                  'legend.fontsize': 12,\n",
    "                  'mathtext.fontset': 'stixsans',\n",
    "                  'savefig.bbox': 'tight',\n",
    "                  'xtick.labelsize': 15,\n",
    "                  'ytick.labelsize': 15,\n",
    "                 }\n",
    "\n",
    "plotpars_3cols = {'axes.labelsize': 18,\n",
    "                  'axes.linewidth': 1.,\n",
    "                  'figure.figsize': (12, 3.5),\n",
    "                  'font.size': 12,\n",
    "                  'legend.frameon': True,\n",
    "                  'legend.framealpha': 0.85,\n",
    "                  'legend.edgecolor': 'black',\n",
    "                  'legend.loc': 'best',\n",
    "                  'legend.fontsize': 12,\n",
    "                  'mathtext.fontset': 'stixsans',\n",
    "                  'savefig.bbox': 'tight',\n",
    "                  'xtick.labelsize': 15,\n",
    "                  'ytick.labelsize': 15,\n",
    "                 }"
   ]
  },
  {
   "cell_type": "code",
   "execution_count": 2,
   "metadata": {},
   "outputs": [],
   "source": [
    "palette = ['#dfc27d', '#a6611a']\n",
    "palette_inv = ['#a6611a', '#dfc27d']"
   ]
  },
  {
   "cell_type": "markdown",
   "metadata": {},
   "source": [
    "# Functions"
   ]
  },
  {
   "cell_type": "code",
   "execution_count": 3,
   "metadata": {},
   "outputs": [],
   "source": [
    "def standardization(variable):\n",
    "    \"\"\"\n",
    "    :param variable: the array with the variables you wish to standardize\n",
    "    :return: standardized array\n",
    "    \"\"\"\n",
    "    var_average = np.average(variable)\n",
    "    var_std     = np.std(variable)\n",
    "    new_variable = []\n",
    "    for i in range(variable.size):\n",
    "        new_variable_i = (variable[i] - var_average)/var_std\n",
    "        new_variable.append(new_variable_i)\n",
    "    new_variable = np.array(new_variable)\n",
    "    return new_variable"
   ]
  },
  {
   "cell_type": "markdown",
   "metadata": {},
   "source": [
    "# Libraries"
   ]
  },
  {
   "cell_type": "code",
   "execution_count": null,
   "metadata": {},
   "outputs": [],
   "source": [
    "import numpy                as np\n",
    "import pandas               as pd\n",
    "import matplotlib.pyplot    as plt\n",
    "import seaborn              as sns\n",
    "import os\n",
    "import sklearn.preprocessing as pp"
   ]
  },
  {
   "cell_type": "code",
   "execution_count": null,
   "metadata": {},
   "outputs": [],
   "source": [
    "psm_path = '../../LargeFilesResults/PSM_analysis/'"
   ]
  },
  {
   "cell_type": "code",
   "execution_count": null,
   "metadata": {},
   "outputs": [],
   "source": [
    "psmed_data = pd.read_csv(os.path.join(psm_path, 'uv_redseq_psmed_oneneighbor.csv'))"
   ]
  },
  {
   "cell_type": "code",
   "execution_count": null,
   "metadata": {},
   "outputs": [],
   "source": [
    "psmed_data"
   ]
  },
  {
   "cell_type": "code",
   "execution_count": null,
   "metadata": {},
   "outputs": [],
   "source": [
    "for i in psmed_data.keys():\n",
    "    print(i)"
   ]
  },
  {
   "cell_type": "code",
   "execution_count": null,
   "metadata": {},
   "outputs": [],
   "source": [
    "uv_upturn = psmed_data[psmed_data['UV_CLASS_YI2011']=='UV_UPTURN']\n",
    "uv_weak   = psmed_data[psmed_data['UV_CLASS_YI2011']=='UV_WEAK']"
   ]
  },
  {
   "cell_type": "markdown",
   "metadata": {},
   "source": [
    "# Blanton properties"
   ]
  },
  {
   "cell_type": "code",
   "execution_count": null,
   "metadata": {
    "scrolled": true
   },
   "outputs": [],
   "source": [
    "plt.rcParams.update(plotpars_2cols)\n",
    "plt.subplot(1, 2, 1)\n",
    "n, bins, patches = plt.hist(uv_upturn['METS'], color=palette[1], label='UV upturn', bins=10, alpha=1, \n",
    "                            edgecolor=palette[1], density=True)\n",
    "plt.hist(uv_weak['METS'], color=palette[0], label='UV weak', bins=bins, alpha=0.7, \n",
    "         edgecolor=palette[0], density=True)\n",
    "plt.xlim([psmed_data['METS'].values.min(), psmed_data['METS'].values.max()])\n",
    "plt.xlabel('METS')\n",
    "plt.ylabel('Frequency')\n",
    "\n",
    "plt.subplot(1, 2, 2)\n",
    "sns.boxenplot(x=psmed_data['UV_CLASS_YI2011'], y=psmed_data['METS'], palette=palette_inv, k_depth=\"proportion\")\n",
    "plt.ylabel('METS')\n",
    "plt.xlabel('UV class')\n",
    "plt.tight_layout()\n",
    "plt.show()"
   ]
  },
  {
   "cell_type": "code",
   "execution_count": null,
   "metadata": {},
   "outputs": [],
   "source": [
    "plt.rcParams.update(plotpars)\n",
    "\n",
    "with sns.axes_style('white', {'axes.grid': False}):\n",
    "#     plt.subplot(1, 2, 1)\n",
    "    sns.kdeplot(data=uv_upturn['METS'], color=palette[1], label='UV upturn')\n",
    "    sns.kdeplot(data=uv_weak['METS'], color=palette[0], label='UV weak')\n",
    "    plt.xlabel('METS')\n",
    "    plt.ylabel('Normalised frequency')\n",
    "\n",
    "#     plt.subplot(1, 2, 2)\n",
    "#     sns.factorplot(x='UV_CLASS_YI2011', y='METS', hue='UV_CLASS_YI2011', data=psmed_data,\n",
    "#                    kind='violin', palette=palette, inner='quart', split=True)\n",
    "#     plt.ylabel('METS')\n",
    "#     plt.xlabel('UV class')\n",
    "#     plt.xlabel(r\"\")\n",
    "#     plt.tight_layout()\n",
    "\n",
    "    plt.show()"
   ]
  },
  {
   "cell_type": "code",
   "execution_count": null,
   "metadata": {},
   "outputs": [],
   "source": [
    "plt.rcParams.update(plotpars)\n",
    "vplot1 = sns.catplot(x='WHAN_CLASS', y='METS', hue='UV_CLASS_YI2011', data=psmed_data, split=True, kind='violin', \n",
    "                     inner=\"quart\", palette={\"UV_UPTURN\": palette[0], \"UV_WEAK\": palette[1]}, bw=.3, cut=1, \n",
    "                     linewidth=1., x_order=['UV_UPTURN','UV_WEAK'], legend_out=False, figsize=(20,4))\n",
    "leg = vplot1.axes.flat[0].get_legend()\n",
    "leg.set_title(None)\n",
    "new_labels = ['UV weak', 'UV upturn']\n",
    "for t, l in zip(leg.texts, new_labels): t.set_text(l)\n",
    "\n",
    "plt.ylabel(r\"METS\")\n",
    "plt.xlabel(r\"\")\n",
    "plt.show()"
   ]
  },
  {
   "cell_type": "code",
   "execution_count": null,
   "metadata": {},
   "outputs": [],
   "source": [
    "plt.rcParams.update(plotpars)\n",
    "vplot1 = sns.catplot(x='WHAN_CLASS', y='B1000', hue='UV_CLASS_YI2011', data=psmed_data, split=True, \n",
    "                     kind='violin', inner=\"quart\", \n",
    "                     palette={\"UV_UPTURN\": palette[0], \"UV_WEAK\": palette[1]}, bw=.3, cut=1, linewidth=1., \n",
    "                     x_order=['UV_UPTURN','UV_WEAK'], legend_out=False)\n",
    "leg = vplot1.axes.flat[0].get_legend()\n",
    "leg.set_title(None)\n",
    "new_labels = ['UV weak', 'UV upturn']\n",
    "for t, l in zip(leg.texts, new_labels): t.set_text(l)\n",
    "\n",
    "plt.ylabel(r\"B1000\")\n",
    "plt.xlabel(r\"\")\n",
    "plt.show()"
   ]
  },
  {
   "cell_type": "code",
   "execution_count": null,
   "metadata": {},
   "outputs": [],
   "source": [
    "plt.rcParams.update(plotpars)\n",
    "vplot1 = sns.catplot(x='WHAN_CLASS', y=np.log(psmed_data['B300'].values), hue='UV_CLASS_YI2011', data=psmed_data, split=True, \n",
    "                     kind='violin', inner=\"quart\", \n",
    "                     palette={\"UV_UPTURN\": palette[0], \"UV_WEAK\": palette[1]}, bw=.3, cut=1, linewidth=1., \n",
    "                     x_order=['UV_UPTURN','UV_WEAK'], legend_out=False)\n",
    "leg = vplot1.axes.flat[0].get_legend()\n",
    "leg.set_title(None)\n",
    "new_labels = ['UV weak', 'UV upturn']\n",
    "for t, l in zip(leg.texts, new_labels): t.set_text(l)\n",
    "\n",
    "plt.ylabel(r\"B300\")\n",
    "plt.xlabel(r\"\")\n",
    "plt.show()"
   ]
  },
  {
   "cell_type": "code",
   "execution_count": null,
   "metadata": {},
   "outputs": [],
   "source": [
    "n, bins, patches = plt.hist(uv_upturn['B300']*1000, color=palette[1], label='UV upturn', density=True, bins=10, \n",
    "                            edgecolor=palette[1], alpha=1)\n",
    "plt.hist(uv_weak['B300']*1000, color=palette[0], label='UV weak', density=True, bins=bins, alpha=0.7, \n",
    "         edgecolor=palette[0])\n",
    "plt.yscale('log')\n",
    "plt.xlabel(r\"B300 ($\\times$ 1000)\")\n",
    "plt.ylabel('Normalised frequency')\n",
    "plt.legend(loc='best')\n",
    "plt.savefig(os.path.join(psm_path, 'psm_b300.png'))\n",
    "plt.savefig(os.path.join(psm_path, 'psm_b300.pdf'))\n",
    "plt.show()"
   ]
  },
  {
   "cell_type": "code",
   "execution_count": null,
   "metadata": {},
   "outputs": [],
   "source": [
    "n, bins, patches = plt.hist(uv_upturn['B1000']*10, color=palette[1], label='UV upturn', density=True, bins=10,\n",
    "                           edgecolor=palette[1])\n",
    "plt.hist(uv_weak['B1000']*10, color=palette[0], label='UV weak', density=True, bins=bins, alpha=0.7, \n",
    "         edgecolor=palette[0])\n",
    "# plt.yscale('log')\n",
    "plt.legend(loc='best')\n",
    "plt.xlabel(r\"B1000 ($\\times$ 10)\")\n",
    "plt.ylabel('Normalised frequency')\n",
    "plt.savefig(os.path.join(psm_path, 'psm_b1000.png'))\n",
    "plt.savefig(os.path.join(psm_path, 'psm_b1000.pdf'))\n",
    "plt.show()"
   ]
  },
  {
   "cell_type": "code",
   "execution_count": null,
   "metadata": {},
   "outputs": [],
   "source": []
  }
 ],
 "metadata": {
  "kernelspec": {
   "display_name": "Python 3",
   "language": "python",
   "name": "python3"
  },
  "language_info": {
   "codemirror_mode": {
    "name": "ipython",
    "version": 3
   },
   "file_extension": ".py",
   "mimetype": "text/x-python",
   "name": "python",
   "nbconvert_exporter": "python",
   "pygments_lexer": "ipython3",
   "version": "3.7.4"
  }
 },
 "nbformat": 4,
 "nbformat_minor": 2
}
