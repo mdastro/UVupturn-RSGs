{
 "cells": [
  {
   "cell_type": "markdown",
   "metadata": {},
   "source": [
    "# To make my life a bit easier..."
   ]
  },
  {
   "cell_type": "code",
   "execution_count": 1,
   "metadata": {},
   "outputs": [],
   "source": [
    "def plot_sed(x, y, yerr):\n",
    "    plt.clf()\n",
    "    plt.errorbar(wavelength, flux, yerr=flux_err, c='red', ecolor='gray', capthick=2)\n",
    "    plt.show()"
   ]
  },
  {
   "cell_type": "code",
   "execution_count": 2,
   "metadata": {},
   "outputs": [],
   "source": [
    "def print_time(begin_time, end_time):\n",
    "    \"\"\" \n",
    "    This function prints the time in minutes that a certain task took.\n",
    "    \"\"\"\n",
    "    print (\"--------------------------------------------------\")\n",
    "    print (\"CPU process time: %.2f [min]\" % np.round(float((end_time-start_time)/60)))\n",
    "    print (\"--------------------------------------------------\")"
   ]
  },
  {
   "cell_type": "code",
   "execution_count": 3,
   "metadata": {},
   "outputs": [],
   "source": [
    "plotpars = {'axes.labelsize': 18,\n",
    "            'axes.linewidth': 1.,\n",
    "            'figure.figsize': (7.,5.),\n",
    "            'font.size': 12,\n",
    "            'legend.frameon': True,\n",
    "            'legend.framealpha': 0.85,\n",
    "            'legend.edgecolor': 'black',\n",
    "            'legend.loc': 'best',\n",
    "            'legend.fontsize': 12,\n",
    "            'mathtext.fontset': 'stixsans',\n",
    "            'savefig.bbox': 'tight',\n",
    "            'xtick.labelsize': 18,\n",
    "            'ytick.labelsize': 18,\n",
    "           }"
   ]
  },
  {
   "cell_type": "markdown",
   "metadata": {},
   "source": [
    "# Packages"
   ]
  },
  {
   "cell_type": "markdown",
   "metadata": {},
   "source": [
    "### General packages"
   ]
  },
  {
   "cell_type": "code",
   "execution_count": 4,
   "metadata": {},
   "outputs": [],
   "source": [
    "import numpy             as np\n",
    "import pandas            as pd\n",
    "import matplotlib.pyplot as plt\n",
    "import seaborn           as sns\n",
    "import astropy.io.fits   as pf\n",
    "import astropy.constants as ct\n",
    "import os\n",
    "import time\n",
    "import scipy.interpolate as sci\n",
    "import ipywidgets        as widgets"
   ]
  },
  {
   "cell_type": "markdown",
   "metadata": {},
   "source": [
    "### pPXF imports"
   ]
  },
  {
   "cell_type": "code",
   "execution_count": 5,
   "metadata": {},
   "outputs": [],
   "source": [
    "import ppxf.miles_util   as lib  # MILES library embedded in ppxf\n",
    "import ppxf.ppxf_util    as util\n",
    "import ppxf              as ppxf_module\n",
    "from ppxf.ppxf           import ppxf\n",
    "from ppxf.ppxf_util      import log_rebin"
   ]
  },
  {
   "cell_type": "markdown",
   "metadata": {},
   "source": [
    "# Config. inputs"
   ]
  },
  {
   "cell_type": "markdown",
   "metadata": {},
   "source": [
    "### Paths and files"
   ]
  },
  {
   "cell_type": "code",
   "execution_count": 6,
   "metadata": {},
   "outputs": [],
   "source": [
    "seds_path    = '../../../../GAMADR3_SPECTRA/DATABASE/'\n",
    "ppxf_dir     = os.path.dirname(os.path.realpath(ppxf_module.__file__))\n",
    "miles_lib    = ppxf_dir+'/miles_models/Mun1.30*.fits'"
   ]
  },
  {
   "cell_type": "code",
   "execution_count": 7,
   "metadata": {},
   "outputs": [],
   "source": [
    "data          = pd.read_csv('uv_redseq_psmed_oneneighbor_magphys.csv')"
   ]
  },
  {
   "cell_type": "code",
   "execution_count": 8,
   "metadata": {},
   "outputs": [],
   "source": [
    "seds_list = []\n",
    "for i in data['SPECID']: seds_list.append(i+'.fit')"
   ]
  },
  {
   "cell_type": "markdown",
   "metadata": {},
   "source": [
    "### Constants"
   ]
  },
  {
   "cell_type": "code",
   "execution_count": 9,
   "metadata": {},
   "outputs": [],
   "source": [
    "light_speed = float(str(ct.c.to('km/s')).split(' ')[0])            # selecting the numerical values \n",
    "                                                                   # (must be in km/s)\n",
    "gama_resol  = 1300."
   ]
  },
  {
   "cell_type": "markdown",
   "metadata": {},
   "source": [
    "# Plot parameters (because I'm lazy)"
   ]
  },
  {
   "cell_type": "code",
   "execution_count": 10,
   "metadata": {},
   "outputs": [],
   "source": [
    "plotpars = {'axes.linewidth': 1.,\n",
    "            'axes.labelsize': 18,\n",
    "            'xtick.labelsize': 18,\n",
    "            'ytick.labelsize': 18,\n",
    "            'legend.framealpha': 0.6,\n",
    "            'legend.loc': 'upper right',\n",
    "            'legend.fontsize': 12,\n",
    "            }"
   ]
  },
  {
   "cell_type": "code",
   "execution_count": 11,
   "metadata": {},
   "outputs": [],
   "source": [
    "palette      = ['#ef8a62','#f7f7f7','#67a9cf']\n",
    "transparency = 0.8\n",
    "lw           = 2."
   ]
  },
  {
   "cell_type": "markdown",
   "metadata": {},
   "source": [
    "# Spectral fitting"
   ]
  },
  {
   "cell_type": "markdown",
   "metadata": {},
   "source": [
    "## Configuring inputs"
   ]
  },
  {
   "cell_type": "markdown",
   "metadata": {},
   "source": [
    "### pPXF \"fixed\" parameters"
   ]
  },
  {
   "cell_type": "code",
   "execution_count": 12,
   "metadata": {},
   "outputs": [],
   "source": [
    "sigma_file = pd.read_csv('../../LargeFilesResults/PSM_analysis/d15m0/parameters_d15_m0.csv')\n",
    "sigma = sigma_file['VEL_DISP']"
   ]
  },
  {
   "cell_type": "code",
   "execution_count": 13,
   "metadata": {},
   "outputs": [],
   "source": [
    "# Fit (V, sig, h3, h4) moments=4 for the stars; (V, sig) moments=2 for the two gas kinematic components\n",
    "moments        = [4, 2, 2]\n",
    "degree         = -1       # Additive Legendre polynomial degrees -- for stellar pops\n",
    "# degree         = 12         # Additive Legendre polynomial degrees -- for kinematics\n",
    "mdegree        = 12          # Multiplicative Legendre polynomial degrees\n",
    "regul_err      = 0.01     # Desired regularization error -- TODO: MUST CHECK WHY 0.013\n",
    "tied_balmer    = True\n",
    "limit_doublets = False\n",
    "stellar_comp_w = [0]        # weight of the stellar component\n",
    "balmer_comp_w  = [1]        # weight of the balmer emission lines\n",
    "forbid_comp_w  = [2]        # weight of the forbidden lines\n",
    "# wl_min         = 3540       # MILES RANGE MIN\n",
    "# wl_max         = 6750       # MILES RANGE MAX: 7409\n",
    "wl_min = 4350               # removing the bluest part of the spectra in order to mitigate noise effects\n",
    "wl_max = 7409"
   ]
  },
  {
   "cell_type": "code",
   "execution_count": 14,
   "metadata": {},
   "outputs": [],
   "source": [
    "new_path = 'd'+str(degree)+'m'+str(mdegree)"
   ]
  },
  {
   "cell_type": "code",
   "execution_count": 15,
   "metadata": {},
   "outputs": [],
   "source": [
    "results_path = '../../LargeFilesResults/PSM_analysis/'+ new_path"
   ]
  },
  {
   "cell_type": "markdown",
   "metadata": {},
   "source": [
    "#### Checking if the directory exists and, if not, creating it!"
   ]
  },
  {
   "cell_type": "code",
   "execution_count": 16,
   "metadata": {},
   "outputs": [],
   "source": [
    "if not os.path.exists(results_path): os.makedirs(results_path)"
   ]
  },
  {
   "cell_type": "markdown",
   "metadata": {},
   "source": [
    "### pPXF loop"
   ]
  },
  {
   "cell_type": "code",
   "execution_count": 17,
   "metadata": {},
   "outputs": [
    {
     "data": {
      "application/vnd.jupyter.widget-view+json": {
       "model_id": "1b949c73184b4940b5e91a9b2f98f66e",
       "version_major": 2,
       "version_minor": 0
      },
      "text/plain": [
       "IntProgress(value=0, description='Running pPXF:', max=139)"
      ]
     },
     "metadata": {},
     "output_type": "display_data"
    }
   ],
   "source": [
    "bar = widgets.IntProgress(value=0, min=0, max=len(seds_list)+1, step=0.5, description='Running pPXF:',\n",
    "                          orientation='horizontal')\n",
    "display(bar)"
   ]
  },
  {
   "cell_type": "code",
   "execution_count": 18,
   "metadata": {},
   "outputs": [],
   "source": [
    "mean_age   = []\n",
    "mean_metal = []\n",
    "mass2light = []\n",
    "ids        = []\n",
    "redshifts  = []\n",
    "vel_disp   = []"
   ]
  },
  {
   "cell_type": "code",
   "execution_count": 19,
   "metadata": {},
   "outputs": [],
   "source": [
    "outputs_physical_header = ['CATAID', 'VEL_DISP', 'CHI2', 'VELOCITY', '<logAge>', '<[M/H]>', 'MASS2LIGHT_R', \n",
    "                           'SN(runz)']\n",
    "outputs_physical = []"
   ]
  },
  {
   "cell_type": "code",
   "execution_count": 20,
   "metadata": {},
   "outputs": [],
   "source": [
    "plt.rcParams.update(plotpars)"
   ]
  },
  {
   "cell_type": "code",
   "execution_count": 34,
   "metadata": {
    "scrolled": true
   },
   "outputs": [
    {
     "name": "stderr",
     "output_type": "stream",
     "text": [
      "/home/mlldantas/anaconda3/lib/python3.7/site-packages/ipykernel_launcher.py:26: RuntimeWarning: invalid value encountered in greater\n"
     ]
    },
    {
     "name": "stdout",
     "output_type": "stream",
     "text": [
      "Emission lines included in gas templates:\n",
      "['Balmer' '[OII]3726' '[OII]3729' '[OIII]5007_d' '[OI]6300_d']\n"
     ]
    },
    {
     "name": "stderr",
     "output_type": "stream",
     "text": [
      "/home/mlldantas/anaconda3/lib/python3.7/site-packages/ipykernel_launcher.py:98: DeprecationWarning: time.clock has been deprecated in Python 3.3 and will be removed from Python 3.8: use time.perf_counter or time.process_time instead\n"
     ]
    },
    {
     "ename": "AssertionError",
     "evalue": "There must be one START per COMPONENT",
     "output_type": "error",
     "traceback": [
      "\u001b[0;31m---------------------------------------------------------------------------\u001b[0m",
      "\u001b[0;31mAssertionError\u001b[0m                            Traceback (most recent call last)",
      "\u001b[0;32m<ipython-input-34-b32a0cfdd44f>\u001b[0m in \u001b[0;36m<module>\u001b[0;34m\u001b[0m\n\u001b[1;32m    100\u001b[0m                    \u001b[0mplot\u001b[0m\u001b[0;34m=\u001b[0m\u001b[0;32mFalse\u001b[0m\u001b[0;34m,\u001b[0m \u001b[0mlam\u001b[0m\u001b[0;34m=\u001b[0m\u001b[0mwavelength_rebin\u001b[0m\u001b[0;34m,\u001b[0m \u001b[0mmoments\u001b[0m\u001b[0;34m=\u001b[0m\u001b[0mmoments\u001b[0m\u001b[0;34m,\u001b[0m \u001b[0mdegree\u001b[0m\u001b[0;34m=\u001b[0m\u001b[0mdegree\u001b[0m\u001b[0;34m,\u001b[0m \u001b[0mmdegree\u001b[0m\u001b[0;34m=\u001b[0m\u001b[0mmdegree\u001b[0m\u001b[0;34m,\u001b[0m\u001b[0;34m\u001b[0m\u001b[0;34m\u001b[0m\u001b[0m\n\u001b[1;32m    101\u001b[0m                    \u001b[0mregul\u001b[0m\u001b[0;34m=\u001b[0m\u001b[0;36m1.\u001b[0m\u001b[0;34m/\u001b[0m\u001b[0mregul_err\u001b[0m\u001b[0;34m,\u001b[0m \u001b[0mreg_dim\u001b[0m\u001b[0;34m=\u001b[0m\u001b[0mreg_dim\u001b[0m\u001b[0;34m,\u001b[0m \u001b[0mvsyst\u001b[0m\u001b[0;34m=\u001b[0m\u001b[0mdv\u001b[0m\u001b[0;34m,\u001b[0m \u001b[0mclean\u001b[0m\u001b[0;34m=\u001b[0m\u001b[0;32mFalse\u001b[0m\u001b[0;34m,\u001b[0m \u001b[0mcomponent\u001b[0m\u001b[0;34m=\u001b[0m\u001b[0mcomponent\u001b[0m\u001b[0;34m,\u001b[0m\u001b[0;34m\u001b[0m\u001b[0;34m\u001b[0m\u001b[0m\n\u001b[0;32m--> 102\u001b[0;31m                    gas_component=gas_component, gas_reddening=gas_reddening)\n\u001b[0m\u001b[1;32m    103\u001b[0m     \u001b[0mend_time\u001b[0m \u001b[0;34m=\u001b[0m \u001b[0mtime\u001b[0m\u001b[0;34m.\u001b[0m\u001b[0mclock\u001b[0m\u001b[0;34m(\u001b[0m\u001b[0;34m)\u001b[0m\u001b[0;34m\u001b[0m\u001b[0;34m\u001b[0m\u001b[0m\n\u001b[1;32m    104\u001b[0m \u001b[0;34m\u001b[0m\u001b[0m\n",
      "\u001b[0;32m~/anaconda3/lib/python3.7/site-packages/ppxf/ppxf.py\u001b[0m in \u001b[0;36m__init__\u001b[0;34m(self, templates, galaxy, noise, velscale, start, bias, bounds, clean, component, constr_templ, constr_kinem, degree, fixed, fraction, ftol, gas_component, gas_names, gas_reddening, goodpixels, lam, linear, linear_method, mask, method, mdegree, moments, plot, quiet, reddening, reddening_func, reg_dim, reg_ord, regul, sigma_diff, sky, templates_rfft, tied, trig, velscale_ratio, vsyst)\u001b[0m\n\u001b[1;32m   1486\u001b[0m             \u001b[0;34m\"with each vector satisfying 2 <= len(START[j]) <= MOMENTS[j]\"\u001b[0m\u001b[0;34m\u001b[0m\u001b[0;34m\u001b[0m\u001b[0m\n\u001b[1;32m   1487\u001b[0m         \u001b[0;32massert\u001b[0m \u001b[0mlen\u001b[0m\u001b[0;34m(\u001b[0m\u001b[0mstart1\u001b[0m\u001b[0;34m)\u001b[0m \u001b[0;34m==\u001b[0m \u001b[0mself\u001b[0m\u001b[0;34m.\u001b[0m\u001b[0mncomp\u001b[0m\u001b[0;34m,\u001b[0m\u001b[0;31m \u001b[0m\u001b[0;31m\\\u001b[0m\u001b[0;34m\u001b[0m\u001b[0;34m\u001b[0m\u001b[0m\n\u001b[0;32m-> 1488\u001b[0;31m             \u001b[0;34m\"There must be one START per COMPONENT\"\u001b[0m\u001b[0;34m\u001b[0m\u001b[0;34m\u001b[0m\u001b[0m\n\u001b[0m\u001b[1;32m   1489\u001b[0m \u001b[0;34m\u001b[0m\u001b[0m\n\u001b[1;32m   1490\u001b[0m         \u001b[0;31m# The lines below deal with the possibility for the input\u001b[0m\u001b[0;34m\u001b[0m\u001b[0;34m\u001b[0m\u001b[0;34m\u001b[0m\u001b[0m\n",
      "\u001b[0;31mAssertionError\u001b[0m: There must be one START per COMPONENT"
     ]
    }
   ],
   "source": [
    "start_time_all = time.time()\n",
    "ids_vel = ['CATAID']\n",
    "for each_sed in range(len(seds_list)):\n",
    "# for each_sed in range(2):\n",
    "    \n",
    "    # settings for the progress bar widget above: does not influence in ppxf -------------------------------------\n",
    "    bar.value += each_sed/2.                                          # signal to increment the progress bar\n",
    "    if each_sed<len(seds_list): \n",
    "        bar.bar_style = \"\"                                            # blue when in progress\n",
    "    else: \n",
    "        bar.bar_style = \"success\"                                     # green when it finishes        \n",
    "        \n",
    "    # flux -------------------------------------------------------------------------------------------------------\n",
    "    sed_file  = os.path.join(seds_path, seds_list[each_sed])          # link between path and files\n",
    "    sed_flux  = pf.getdata(sed_file)[0]                               # opening each spectra\n",
    "    sed_err   = pf.getdata(sed_file)[1]                               # opening each spectra error\n",
    "    \n",
    "    # wavelength -------------------------------------------------------------------------------------------------\n",
    "    sed_header = pf.open(sed_file)[0].header\n",
    "    sed_wl_ini = sed_header['WMIN'] \n",
    "    sed_wl_stp = sed_header['CD1_1']\n",
    "    sed_wl     = np.arange(sed_flux.size)*(sed_wl_stp)+sed_wl_ini     # sed wavelength    \n",
    "#     plot_sed(sed_wl, sed_flux, sed_err)\n",
    "    \n",
    "    # cleaning flux and wavelength trash -------------------------------------------------------------------------\n",
    "    idx_clean       = np.where((np.logical_not(np.isnan(sed_flux)))*(sed_err>0)) # indices where NAN is present\n",
    "    flux_temp       = sed_flux[idx_clean]                                   # removing NAN values from spectra\n",
    "    flux_temp_err   = sed_err[idx_clean]\n",
    "    wavelength_temp = sed_wl[idx_clean]    \n",
    "#     plot_sed(wavelength_temp, flux_temp, flux_temp_err)\n",
    "    \n",
    "    # limiting the spectrum regarding the wavelength range of the library ----------------------------------------\n",
    "    wl_lib_idx = (wavelength_temp>wl_min) & (wavelength_temp<wl_max)       # MILES wavelength range\n",
    "    flux       = flux_temp[wl_lib_idx]\n",
    "    flux_err   = flux_temp_err[wl_lib_idx]\n",
    "    wavelength = wavelength_temp[wl_lib_idx]    \n",
    "#     plot_sed(wavelength, flux, flux_err)    \n",
    "    \n",
    "    # other important parameters ---------------------------------------------------------------------------------\n",
    "    redshift  = sed_header['Z']\n",
    "    cataid    = sed_header['CATAID']\n",
    "#     fwhm_gama = wavelength*gama_resol\n",
    "    fwhm_gama = 2.\n",
    "    \n",
    "    # ppxf -------------------------------------------------------------------------------------------------------\n",
    "    vel_scale          = light_speed*np.log(wavelength[1]/wavelength[0])      # velocity scale - \n",
    "                                                                              # Eq.8 Capellari 2017\n",
    "    \n",
    "    ### setup templates ------------------------------------------------------------------------------------------\n",
    "    if sigma_file['CATAID'].iloc[each_sed] != sed_header['CATAID']:\n",
    "        print(\"CATAIDs different!\")\n",
    "    #### stellar pops --------------------------------------------------------------------------------------------\n",
    "    miles              = lib.miles(miles_lib, vel_scale, fwhm_gama)\n",
    "    stellar_templates  = miles.templates.reshape(miles.templates.shape[0], -1)\n",
    "    reg_dim            = miles.templates.shape[1:]\n",
    "    dv                 = light_speed*(miles.log_lam_temp[0] - np.log(wavelength[0])) # eq.(8) of Cappellari (2017)\n",
    "    vel                = light_speed*np.log(1 + redshift)                            # eq.(8) of Cappellari (2017)\n",
    "    start              = [[vel, 180, 0, 0], [vel, 180.]]\n",
    "    \n",
    "    #### gas templates -------------------------------------------------------------------------------------------\n",
    "    wl_range_galaxy = np.array([np.min(wavelength), np.max(wavelength)])/(1 + redshift)\n",
    "    gas_templates, gas_names, line_wave = util.emission_lines(miles.log_lam_temp, wl_range_galaxy, fwhm_gama, \n",
    "                                                              tie_balmer=tied_balmer, \n",
    "                                                              limit_doublets=limit_doublets)\n",
    "    number_of_templates = stellar_templates.shape[1]\n",
    "    number_of_forbidden = np.sum([\"[\" in a for a in gas_names])                 # forbidden lines contain \"[*]\"\n",
    "    number_of_balmer    = len(gas_names) - number_of_forbidden\n",
    "        \n",
    "    component = (stellar_comp_w*number_of_templates)+(balmer_comp_w*number_of_balmer)+(forbid_comp_w\n",
    "                                                                                       *number_of_forbidden)\n",
    "        \n",
    "    gas_component = np.array(component) > 0       # gas_component=True for gas templates\n",
    "    start3        = [start, start, start]  # adopt the same starting value for the 3 components\n",
    "    gas_reddening = 0 if tied_balmer else None  # If the Balmer lines are tied one should allow for gas reddening.\n",
    "    \n",
    "    \n",
    "    #### all templates -------------------------------------------------------------------------------------------\n",
    "    all_templates = np.column_stack([stellar_templates, gas_templates])\n",
    "    \n",
    "    ### rebinning the spectrum so it is at the same size as the templates (or smaller) ---------------------------\n",
    "    new_shape          = stellar_templates[:,0].shape\n",
    "    rebinning_function = sci.interp1d(wavelength, flux)   # for the flux\n",
    "    wavelength_rebin   = np.linspace(start=wavelength.min(), stop=wavelength.max(), num=int(new_shape[0]))\n",
    "    flux_rebin         = rebinning_function(wavelength_rebin)\n",
    "    \n",
    "    ### rebinning the error --------------------------------------------------------------------------------------\n",
    "    rebin_func_error   = sci.interp1d(wavelength, flux_err)\n",
    "    wl_rebin_error     = np.linspace(start=wavelength.min(), stop=wavelength.max(), num=int(new_shape[0]))\n",
    "    flux_err_rebin     = rebin_func_error(wavelength_rebin)\n",
    "    \n",
    "    ### final galaxy spectrum and its error to be analysed -------------------------------------------------------\n",
    "    galaxy             = flux_rebin/np.median(flux_rebin)           # Normalize spectrum to avoid numerical issues\n",
    "    noise              = flux_err_rebin/np.median(flux_err_rebin)       # idem\n",
    "    \n",
    "#     plot_sed(wavelength_rebin, galaxy, noise)    \n",
    "    \n",
    "    ### SED FITTING WITH PPXF ------------------------------------------------------------------------------------\n",
    "    start_time = time.clock()\n",
    "    sed_fit = ppxf(templates=all_templates, galaxy=galaxy, noise=noise, velscale=vel_scale, start=start3, \n",
    "                   plot=False, lam=wavelength_rebin, moments=moments, degree=degree, mdegree=mdegree, \n",
    "                   regul=1./regul_err, reg_dim=reg_dim, vsyst=dv, clean=False, component=component, \n",
    "                   gas_component=gas_component, gas_reddening=gas_reddening)\n",
    "    end_time = time.clock()\n",
    "    \n",
    "    ## output parameters -- most of them will become a dataframe at the end of the script  \n",
    "    residues = (galaxy-sed_fit.bestfit)\n",
    "    \n",
    "    stellar_weights = sed_fit.weights[~gas_component]                       # Exclude weights of the gas templates\n",
    "    stellar_weights = stellar_weights.reshape(reg_dim)/stellar_weights.sum()  # Normalized\n",
    "    \n",
    "    velocity = sed_fit.sol[0][0]\n",
    "    sigma    = sed_fit.sol[0][1]\n",
    "    \n",
    "    mean_age.append(miles.mean_age_metal(stellar_weights)[0])\n",
    "    mean_metal.append(miles.mean_age_metal(stellar_weights)[1])\n",
    "    mass2light.append(miles.mass_to_light(stellar_weights, band=\"r\"))\n",
    "    ids.append(cataid)\n",
    "    redshifts.append(redshift)\n",
    "    \n",
    "    ###################### SAVING DATAFRAME WITH FIT OUTPUTS ###################\n",
    "    outputs_line = [cataid, sigma, sed_fit.chi2, velocity, mean_age, mean_metal, mass2light, sed_header['SN']]\n",
    "    if each_sed==0:\n",
    "        outputs_physical = np.array(outputs_line)\n",
    "    else:\n",
    "        outputs_physical = np.vstack((outputs_physical, np.array(outputs_line)))\n",
    "    #############################################################################\n",
    "    \n",
    "       \n",
    "    print(r\"Current $\\chi^2$: %.4f\" % (sed_fit.chi2))\n",
    "    print('Elapsed time in PPXF: %.2f [min]' % ((end_time-start_time)/60))\n",
    "    \n",
    "    ### Saving stellar weights -----------------------------------------------------------------------------------\n",
    "    stellar_weights_df = pd.DataFrame(stellar_weights)\n",
    "    stellar_weights_df.to_csv(os.path.join(results_path, 'SWs'+'CATAID'+str(cataid)+'_d'+str(degree)+'_m'\n",
    "                                           +str(mdegree)+'.csv'), index=False)\n",
    "    \n",
    "    \n",
    "    ### Saving fit results ---------------------------------------------------------------------------------------\n",
    "    output = {}\n",
    "    output['wavelength'] = wavelength_rebin\n",
    "    output['flux']       = sed_fit.galaxy\n",
    "    output['best_fit']   = sed_fit.bestfit\n",
    "    \n",
    "    output_df = pd.DataFrame(output)\n",
    "    output_df.to_csv(os.path.join(results_path, 'fit_'+str(cataid)+'_d'+ str(degree)+'_'+str(mdegree)+\n",
    "                                  '_'+str(wl_min) +'.csv'), index=False)\n",
    "    vel_disp.append(sigma)\n",
    "    ids_vel.append(cataid)\n",
    "\n",
    "    ### Saving plots ---------------------------------------------------------------------------------------------\n",
    "    plt.subplots(figsize=(12,8))\n",
    "    \n",
    "    #### plot01 --------------------------------------------------------------------------------------------------\n",
    "    plt.subplot(2,2,1)\n",
    "    plt.plot(wavelength_rebin[:-200], sed_fit.galaxy[:-200], '-', color=palette[-1], linewidth=lw, \n",
    "             label=\"Spectrum\")\n",
    "    plt.plot(wavelength_rebin[:-200], sed_fit.bestfit[:-200], '-', color=palette[0], linewidth=lw, \n",
    "             label=\"Best Fit\")\n",
    "#     plt.title(\"Object %s: S/N=%.4f\" % (cataid, s2n_top10[each_sed]))\n",
    "    plt.legend(loc='best')\n",
    "    plt.xlabel(\"Wavelength ($\\mathrm{\\AA}$)\")\n",
    "    plt.ylabel(\"Norm. flux\")\n",
    "    \n",
    "    #### plot02 --------------------------------------------------------------------------------------------------\n",
    "    plt.subplot(2,2,2)\n",
    "    miles.plot(stellar_weights)\n",
    "    \n",
    "    #### plot03 --------------------------------------------------------------------------------------------------\n",
    "    plt.subplot(2,2,3)\n",
    "    plt.plot(wavelength_rebin[:-200], residues[:-200], '.', color=palette[-1], linewidth=lw, label=\"Residues\", \n",
    "             alpha=transparency)\n",
    "    plt.axhline(y=0, c='black')\n",
    "    plt.legend(loc='best')\n",
    "    plt.xlabel(\"Wavelength ($\\mathrm{\\AA}$)\")\n",
    "    plt.ylabel(\"Residues\")\n",
    "    plt.ylim([-1,1])\n",
    "    \n",
    "    #### plot04 --------------------------------------------------------------------------------------------------\n",
    "    plt.subplot(2,2,4)\n",
    "    plt.text(0.1, 0.5, \"Object:{:s} \\n mdegree = {:d} \\n S2N(runz) = {:.4f}\".format(sed_header['SPECID'], mdegree,\n",
    "                    sed_header['SN']), fontsize=13)\n",
    "             \n",
    "             \n",
    "    plt.text(0.1, 0.0, \" \\n $\\chi^2$ ppxf = {:.4f} \\n velocity = {:.4f} \\n $\\sigma$ = {:.4f}\".\n",
    "             format(sed_fit.chi2, velocity, sigma), fontsize=13)\n",
    "    plt.axis('off') \n",
    "    figname = 'gal_'+str(cataid)+'_d'+str(degree)+'_m'+str(mdegree)+'_'+str(wl_min)\n",
    "    plt.tight_layout()\n",
    "    plt.savefig(os.path.join(results_path, figname +'.png'))\n",
    "    plt.savefig(os.path.join(results_path, figname +'.pdf'))\n",
    "    plt.show()\n",
    "\n",
    "outputs_physical = pd.DataFrame(outputs_physical)\n",
    "outputs_physical.columns = outputs_physical_header\n",
    "\n",
    "outputs_physical.to_csv(os.path.join(results_path, 'parameters_d'+str(degree)+ '_m'+str(mdegree)+'.csv'), \n",
    "                                     index=False)\n",
    "end_time_all = time.time()\n",
    "print_time(start_time_all, end_time_all)"
   ]
  },
  {
   "cell_type": "code",
   "execution_count": null,
   "metadata": {},
   "outputs": [],
   "source": []
  }
 ],
 "metadata": {
  "kernelspec": {
   "display_name": "Python 3",
   "language": "python",
   "name": "python3"
  },
  "language_info": {
   "codemirror_mode": {
    "name": "ipython",
    "version": 3
   },
   "file_extension": ".py",
   "mimetype": "text/x-python",
   "name": "python",
   "nbconvert_exporter": "python",
   "pygments_lexer": "ipython3",
   "version": "3.7.7"
  }
 },
 "nbformat": 4,
 "nbformat_minor": 2
}
