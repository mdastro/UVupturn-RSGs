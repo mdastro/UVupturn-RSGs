{
 "cells": [
  {
   "cell_type": "code",
   "execution_count": 50,
   "metadata": {},
   "outputs": [],
   "source": [
    "plotpars_3cols = {'axes.labelsize': 18,\n",
    "                  'axes.linewidth': 1.,\n",
    "                  'figure.figsize': (12, 3.5),\n",
    "                  'font.size': 12,\n",
    "                  'legend.frameon': True,\n",
    "                  'legend.framealpha': 0.85,\n",
    "                  'legend.edgecolor': 'black',\n",
    "                  'legend.loc': 'best',\n",
    "                  'legend.fontsize': 11,\n",
    "                  'mathtext.fontset': 'stixsans',\n",
    "                  'savefig.bbox': 'tight',\n",
    "                  'xtick.labelsize': 15,\n",
    "                  'ytick.labelsize': 15,\n",
    "                 }\n",
    "\n",
    "plotpars_2cols = {'axes.labelsize': 18,\n",
    "                  'axes.linewidth': 1.,\n",
    "                  'figure.figsize': (15, 5.),\n",
    "                  'font.size': 12,\n",
    "                  'legend.frameon': True,\n",
    "                  'legend.framealpha': 0.85,\n",
    "                  'legend.edgecolor': 'black',\n",
    "                  'legend.loc': 'best',\n",
    "                  'legend.fontsize': 12,\n",
    "                  'mathtext.fontset': 'stixsans',\n",
    "                  'savefig.bbox': 'tight',\n",
    "                  'xtick.labelsize': 15,\n",
    "                  'ytick.labelsize': 15,\n",
    "                 }"
   ]
  },
  {
   "cell_type": "code",
   "execution_count": 2,
   "metadata": {},
   "outputs": [],
   "source": [
    "palette = ['#a6611a', '#dfc27d']"
   ]
  },
  {
   "cell_type": "markdown",
   "metadata": {},
   "source": [
    "# Libraries"
   ]
  },
  {
   "cell_type": "code",
   "execution_count": 3,
   "metadata": {},
   "outputs": [],
   "source": [
    "import numpy                 as np\n",
    "import pandas                as pd\n",
    "import matplotlib.pyplot     as plt\n",
    "import seaborn               as sns\n",
    "import os\n",
    "import sklearn.preprocessing as pp\n",
    "import sklearn.decomposition as skdecomp"
   ]
  },
  {
   "cell_type": "markdown",
   "metadata": {},
   "source": [
    "# Paths & data"
   ]
  },
  {
   "cell_type": "code",
   "execution_count": 4,
   "metadata": {},
   "outputs": [],
   "source": [
    "psm_path = '../../LargeFilesResults/PSM_analysis/'"
   ]
  },
  {
   "cell_type": "code",
   "execution_count": 5,
   "metadata": {},
   "outputs": [],
   "source": [
    "uv_upturn = pd.read_csv(os.path.join(psm_path, 'uvupturn_psm.csv')).drop(['CATAID', 'UV_CLASS_YI2011', \n",
    "                                                                          'mass_stellar_best_fit'], axis=1)\n",
    "uv_weak   = pd.read_csv(os.path.join(psm_path, 'uvweak_psm.csv')).drop(['CATAID', 'UV_CLASS_YI2011', \n",
    "                                                                        'mass_stellar_best_fit'], axis=1)"
   ]
  },
  {
   "cell_type": "code",
   "execution_count": 6,
   "metadata": {},
   "outputs": [
    {
     "data": {
      "text/plain": [
       "Index(['ager_percentile50', 'metalicity_Z_Zo_percentile50',\n",
       "       'sSFR_0_1Gyr_percentile50', 'tform_percentile50', 'tlastb_percentile50',\n",
       "       'fb29_percentile50', 'FUV-NUV', 'FUV-R', 'NUV-R'],\n",
       "      dtype='object')"
      ]
     },
     "execution_count": 6,
     "metadata": {},
     "output_type": "execute_result"
    }
   ],
   "source": [
    "uv_upturn.keys()"
   ]
  },
  {
   "cell_type": "markdown",
   "metadata": {},
   "source": [
    "### Standardizing the samples"
   ]
  },
  {
   "cell_type": "code",
   "execution_count": 65,
   "metadata": {},
   "outputs": [],
   "source": [
    "uv_upturn_std = pp.StandardScaler().fit_transform(uv_upturn)\n",
    "uv_weak_std   = pp.StandardScaler().fit_transform(uv_weak)"
   ]
  },
  {
   "cell_type": "markdown",
   "metadata": {},
   "source": [
    "#### sanity check"
   ]
  },
  {
   "cell_type": "code",
   "execution_count": 75,
   "metadata": {},
   "outputs": [
    {
     "data": {
      "text/plain": [
       "array([9.677, 9.772, 9.747, 8.992, 9.692, 9.697, 9.717, 9.627, 9.407,\n",
       "       9.567, 9.752, 9.712, 9.797, 9.642, 9.567, 9.677, 9.607, 9.502,\n",
       "       9.457, 9.752, 9.792, 9.682, 9.792, 9.592, 9.812, 9.562, 9.672,\n",
       "       9.602, 9.762, 9.732, 9.537, 9.627, 9.747, 9.772, 9.707, 9.702,\n",
       "       9.682, 9.802, 9.822, 9.502, 9.722, 9.572, 9.802, 9.627, 9.727,\n",
       "       9.642, 9.557, 9.782, 9.662, 9.507, 9.557, 9.677, 9.682, 9.622,\n",
       "       9.377, 9.692, 9.552, 9.547, 9.812, 9.812, 9.727, 9.602, 9.672,\n",
       "       9.677, 9.767, 9.762, 9.372, 9.752, 9.727, 9.552, 9.702, 9.707,\n",
       "       9.797, 9.767, 9.637, 9.802, 9.767, 9.757, 9.642, 9.652, 9.587,\n",
       "       9.727, 9.792, 9.697, 9.632, 9.627, 9.712])"
      ]
     },
     "execution_count": 75,
     "metadata": {},
     "output_type": "execute_result"
    }
   ],
   "source": [
    "uv_upturn.values[:,0]"
   ]
  },
  {
   "cell_type": "code",
   "execution_count": 82,
   "metadata": {
    "scrolled": true
   },
   "outputs": [
    {
     "name": "stdout",
     "output_type": "stream",
     "text": [
      "0.2043562752163742\n",
      "-1.3830540769108128\n",
      "-0.5011594368401535\n",
      "-1.6652603617334238\n",
      "0.7687688448615959\n",
      "0.09852891840789499\n",
      "-1.2772267201023337\n",
      "-1.3477782913079865\n",
      "0.27490784642202704\n",
      "1.615387699329429\n",
      "0.41601098883333265\n",
      "-0.6775383648542852\n",
      "1.6859392705350817\n",
      "-0.5364352224429799\n",
      "-0.2895047232231955\n",
      "-1.3477782913079865\n",
      "1.7564908417407346\n",
      "1.3331814145068184\n",
      "2.5325581250029146\n",
      "-1.206675148896681\n",
      "-0.8891930784712436\n",
      "-0.11312579520906345\n",
      "-0.8186415072655908\n",
      "0.6629414880531167\n",
      "-0.6775383648542852\n",
      "-0.2542289376203691\n",
      "2.638385481811394\n",
      "-0.2895047232231955\n",
      "2.4972823394000883\n",
      "-0.748089936059938\n",
      "-0.5364352224429799\n",
      "0.48656256003898546\n",
      "0.5218383456418119\n",
      "-0.04257422400341064\n",
      "0.6276657024502903\n",
      "-0.9597446496768964\n",
      "-0.07785000960623704\n",
      "2.4972823394000883\n",
      "-0.2895047232231955\n",
      "0.6982172736559431\n",
      "0.027977347202242174\n",
      "-0.4658836512373271\n",
      "0.41601098883333265\n",
      "-0.6775383648542852\n",
      "0.1338047040107214\n",
      "-0.3953320800316743\n",
      "0.27490784642202704\n",
      "-0.11312579520906345\n",
      "-0.5011594368401535\n",
      "-1.6299845761305973\n",
      "0.27490784642202704\n",
      "0.6629414880531167\n",
      "-0.5364352224429799\n",
      "0.31018363202485344\n",
      "-0.6069867936486324\n",
      "-0.04257422400341064\n",
      "0.2043562752163742\n",
      "-0.7833657216627644\n",
      "0.45128677443615905\n",
      "-0.18367736641471627\n",
      "0.34545941762767984\n",
      "0.6276657024502903\n",
      "0.2396320608192006\n",
      "-0.3247805088260219\n",
      "-1.1713993632938544\n",
      "2.4267307681944352\n",
      "1.1568024864926865\n",
      "-1.4536056481164654\n",
      "0.7687688448615959\n",
      "-1.31250250570516\n",
      "0.06325313280506858\n",
      "1.615387699329429\n",
      "-0.007298438400584233\n",
      "-1.0302962208825488\n",
      "-0.9597446496768964\n",
      "-0.6422625792514588\n",
      "0.2043562752163742\n",
      "0.27490784642202704\n",
      "-0.2895047232231955\n",
      "0.45128677443615905\n",
      "0.027977347202242174\n",
      "-1.594708790527771\n",
      "-1.0655720064853753\n",
      "-0.11312579520906345\n",
      "-0.6069867936486324\n",
      "1.1568024864926865\n",
      "-0.9950204352797228\n"
     ]
    }
   ],
   "source": [
    "for i in range(uv_upturn.values[:,1].size):\n",
    "    stded = (uv_upturn.values[i,1] - np.mean(uv_upturn.values[:,1]))/np.std(uv_upturn.values[:,1])\n",
    "    print(stded)"
   ]
  },
  {
   "cell_type": "code",
   "execution_count": 83,
   "metadata": {},
   "outputs": [
    {
     "data": {
      "text/plain": [
       "array([ 0.20435628, -1.38305408, -0.50115944, -1.66526036,  0.76876884,\n",
       "        0.09852892, -1.27722672, -1.34777829,  0.27490785,  1.6153877 ,\n",
       "        0.41601099, -0.67753836,  1.68593927, -0.53643522, -0.28950472,\n",
       "       -1.34777829,  1.75649084,  1.33318141,  2.53255813, -1.20667515,\n",
       "       -0.88919308, -0.1131258 , -0.81864151,  0.66294149, -0.67753836,\n",
       "       -0.25422894,  2.63838548, -0.28950472,  2.49728234, -0.74808994,\n",
       "       -0.53643522,  0.48656256,  0.52183835, -0.04257422,  0.6276657 ,\n",
       "       -0.95974465, -0.07785001,  2.49728234, -0.28950472,  0.69821727,\n",
       "        0.02797735, -0.46588365,  0.41601099, -0.67753836,  0.1338047 ,\n",
       "       -0.39533208,  0.27490785, -0.1131258 , -0.50115944, -1.62998458,\n",
       "        0.27490785,  0.66294149, -0.53643522,  0.31018363, -0.60698679,\n",
       "       -0.04257422,  0.20435628, -0.78336572,  0.45128677, -0.18367737,\n",
       "        0.34545942,  0.6276657 ,  0.23963206, -0.32478051, -1.17139936,\n",
       "        2.42673077,  1.15680249, -1.45360565,  0.76876884, -1.31250251,\n",
       "        0.06325313,  1.6153877 , -0.00729844, -1.03029622, -0.95974465,\n",
       "       -0.64226258,  0.20435628,  0.27490785, -0.28950472,  0.45128677,\n",
       "        0.02797735, -1.59470879, -1.06557201, -0.1131258 , -0.60698679,\n",
       "        1.15680249, -0.99502044])"
      ]
     },
     "execution_count": 83,
     "metadata": {},
     "output_type": "execute_result"
    }
   ],
   "source": [
    "uv_upturn_std[:,1]"
   ]
  },
  {
   "cell_type": "markdown",
   "metadata": {},
   "source": [
    "## PCA projections"
   ]
  },
  {
   "cell_type": "code",
   "execution_count": 8,
   "metadata": {},
   "outputs": [],
   "source": [
    "nc = 5"
   ]
  },
  {
   "cell_type": "code",
   "execution_count": 9,
   "metadata": {},
   "outputs": [],
   "source": [
    "pca = skdecomp.PCA(n_components=nc)"
   ]
  },
  {
   "cell_type": "code",
   "execution_count": 10,
   "metadata": {},
   "outputs": [
    {
     "name": "stdout",
     "output_type": "stream",
     "text": [
      "[0.45466132 0.17035596 0.15544743 0.11069186 0.05947179]\n",
      "0.9506283602799395\n"
     ]
    }
   ],
   "source": [
    "pca_uvup = pca.fit_transform(uv_upturn_std)\n",
    "uvup_var = pca.explained_variance_ratio_\n",
    "print(pca.explained_variance_ratio_)\n",
    "print(np.sum(pca.explained_variance_ratio_))\n",
    "uvup_results = pd.DataFrame(pca.components_, columns=uv_upturn.columns, \n",
    "                               index=['PC1', 'PC2', 'PC3', 'PC4', 'PC5'])"
   ]
  },
  {
   "cell_type": "code",
   "execution_count": 11,
   "metadata": {},
   "outputs": [
    {
     "name": "stdout",
     "output_type": "stream",
     "text": [
      "[0.39542108 0.25234407 0.13153108 0.10569213 0.07484832]\n",
      "0.9598366899419006\n"
     ]
    }
   ],
   "source": [
    "pca_uvwk = pca.fit_transform(uv_weak_std)\n",
    "uvwk_var = pca.explained_variance_ratio_\n",
    "print(pca.explained_variance_ratio_)\n",
    "print(np.sum(pca.explained_variance_ratio_))\n",
    "uvwk_results = pd.DataFrame(pca.components_, columns=uv_upturn.columns, \n",
    "                            index=['PC1', 'PC2', 'PC3', 'PC4', 'PC5'])"
   ]
  },
  {
   "cell_type": "code",
   "execution_count": 33,
   "metadata": {},
   "outputs": [
    {
     "data": {
      "text/html": [
       "<div>\n",
       "<style scoped>\n",
       "    .dataframe tbody tr th:only-of-type {\n",
       "        vertical-align: middle;\n",
       "    }\n",
       "\n",
       "    .dataframe tbody tr th {\n",
       "        vertical-align: top;\n",
       "    }\n",
       "\n",
       "    .dataframe thead th {\n",
       "        text-align: right;\n",
       "    }\n",
       "</style>\n",
       "<table border=\"1\" class=\"dataframe\">\n",
       "  <thead>\n",
       "    <tr style=\"text-align: right;\">\n",
       "      <th></th>\n",
       "      <th>ager_percentile50</th>\n",
       "      <th>metalicity_Z_Zo_percentile50</th>\n",
       "      <th>sSFR_0_1Gyr_percentile50</th>\n",
       "      <th>tform_percentile50</th>\n",
       "      <th>tlastb_percentile50</th>\n",
       "      <th>fb29_percentile50</th>\n",
       "      <th>FUV-NUV</th>\n",
       "      <th>FUV-R</th>\n",
       "      <th>NUV-R</th>\n",
       "    </tr>\n",
       "  </thead>\n",
       "  <tbody>\n",
       "    <tr>\n",
       "      <th>PC1</th>\n",
       "      <td>-0.503041</td>\n",
       "      <td>0.175110</td>\n",
       "      <td>0.331447</td>\n",
       "      <td>-0.411972</td>\n",
       "      <td>-0.419775</td>\n",
       "      <td>0.394505</td>\n",
       "      <td>0.030597</td>\n",
       "      <td>-0.080359</td>\n",
       "      <td>-0.312200</td>\n",
       "    </tr>\n",
       "    <tr>\n",
       "      <th>PC2</th>\n",
       "      <td>-0.103688</td>\n",
       "      <td>-0.126456</td>\n",
       "      <td>-0.234097</td>\n",
       "      <td>0.148901</td>\n",
       "      <td>-0.184475</td>\n",
       "      <td>0.300230</td>\n",
       "      <td>0.600617</td>\n",
       "      <td>0.615939</td>\n",
       "      <td>0.178870</td>\n",
       "    </tr>\n",
       "    <tr>\n",
       "      <th>PC3</th>\n",
       "      <td>0.128586</td>\n",
       "      <td>-0.034382</td>\n",
       "      <td>0.590998</td>\n",
       "      <td>-0.475069</td>\n",
       "      <td>0.385456</td>\n",
       "      <td>-0.279306</td>\n",
       "      <td>0.283061</td>\n",
       "      <td>0.298378</td>\n",
       "      <td>0.107580</td>\n",
       "    </tr>\n",
       "    <tr>\n",
       "      <th>PC4</th>\n",
       "      <td>-0.070781</td>\n",
       "      <td>0.913564</td>\n",
       "      <td>-0.070368</td>\n",
       "      <td>0.036859</td>\n",
       "      <td>0.163812</td>\n",
       "      <td>0.064171</td>\n",
       "      <td>-0.030514</td>\n",
       "      <td>0.089389</td>\n",
       "      <td>0.337945</td>\n",
       "    </tr>\n",
       "    <tr>\n",
       "      <th>PC5</th>\n",
       "      <td>-0.173741</td>\n",
       "      <td>-0.288828</td>\n",
       "      <td>0.139429</td>\n",
       "      <td>-0.122043</td>\n",
       "      <td>-0.179705</td>\n",
       "      <td>0.143168</td>\n",
       "      <td>-0.345508</td>\n",
       "      <td>-0.032016</td>\n",
       "      <td>0.823933</td>\n",
       "    </tr>\n",
       "  </tbody>\n",
       "</table>\n",
       "</div>"
      ],
      "text/plain": [
       "     ager_percentile50  metalicity_Z_Zo_percentile50  \\\n",
       "PC1          -0.503041                      0.175110   \n",
       "PC2          -0.103688                     -0.126456   \n",
       "PC3           0.128586                     -0.034382   \n",
       "PC4          -0.070781                      0.913564   \n",
       "PC5          -0.173741                     -0.288828   \n",
       "\n",
       "     sSFR_0_1Gyr_percentile50  tform_percentile50  tlastb_percentile50  \\\n",
       "PC1                  0.331447           -0.411972            -0.419775   \n",
       "PC2                 -0.234097            0.148901            -0.184475   \n",
       "PC3                  0.590998           -0.475069             0.385456   \n",
       "PC4                 -0.070368            0.036859             0.163812   \n",
       "PC5                  0.139429           -0.122043            -0.179705   \n",
       "\n",
       "     fb29_percentile50   FUV-NUV     FUV-R     NUV-R  \n",
       "PC1           0.394505  0.030597 -0.080359 -0.312200  \n",
       "PC2           0.300230  0.600617  0.615939  0.178870  \n",
       "PC3          -0.279306  0.283061  0.298378  0.107580  \n",
       "PC4           0.064171 -0.030514  0.089389  0.337945  \n",
       "PC5           0.143168 -0.345508 -0.032016  0.823933  "
      ]
     },
     "execution_count": 33,
     "metadata": {},
     "output_type": "execute_result"
    }
   ],
   "source": [
    "uvwk_results"
   ]
  },
  {
   "cell_type": "code",
   "execution_count": 12,
   "metadata": {},
   "outputs": [],
   "source": [
    "pca_uvup_df = pd.DataFrame(data=pca_uvup, columns=['PC1', 'PC2', 'PC3', 'PC4', 'PC5'])\n",
    "pca_uvwk_df = pd.DataFrame(data=pca_uvwk, columns=['PC1', 'PC2', 'PC3', 'PC4', 'PC5'])\n",
    "# pca_uvup_df = pd.DataFrame(data=pca_uvup, columns=['PC1', 'PC2'])\n",
    "# pca_uvwk_df = pd.DataFrame(data=pca_uvwk, columns=['PC1', 'PC2'])"
   ]
  },
  {
   "cell_type": "code",
   "execution_count": 13,
   "metadata": {},
   "outputs": [
    {
     "data": {
      "image/png": "[encoded data removed]",
      "text/plain": [
       "<Figure size 504x360 with 1 Axes>"
      ]
     },
     "metadata": {
      "needs_background": "light"
     },
     "output_type": "display_data"
    }
   ],
   "source": [
    "plt.subplots(figsize=(7,5))\n",
    "plt.plot(pca_uvup_df['PC1'], pca_uvup_df['PC2'], 'o', label='UV upturn')\n",
    "plt.plot(pca_uvwk_df['PC1'], pca_uvwk_df['PC2'], 'o', label='UV weak')\n",
    "plt.xlabel(\"PC1\")\n",
    "plt.ylabel(\"PC2\")\n",
    "plt.legend(loc='best')\n",
    "\n",
    "plt.show()"
   ]
  },
  {
   "cell_type": "code",
   "execution_count": 14,
   "metadata": {},
   "outputs": [
    {
     "data": {
      "text/plain": [
       "array([3.62996554, 2.31651853, 1.20745534, 0.9702538 , 0.68710761])"
      ]
     },
     "execution_count": 14,
     "metadata": {},
     "output_type": "execute_result"
    }
   ],
   "source": [
    "pca.explained_variance_"
   ]
  },
  {
   "cell_type": "code",
   "execution_count": 15,
   "metadata": {},
   "outputs": [
    {
     "data": {
      "image/png": "[encoded data removed]",
      "text/plain": [
       "<Figure size 432x288 with 1 Axes>"
      ]
     },
     "metadata": {
      "needs_background": "light"
     },
     "output_type": "display_data"
    }
   ],
   "source": [
    "plt.title(\"PC1\")\n",
    "plt.bar(x=np.arange(0,9,1), height=np.abs(uvup_results.values[0,:]), label='UV upturn', alpha=0.5)\n",
    "plt.bar(x=np.arange(0,9,1), height=np.abs(uvwk_results.values[0,:]), label='UV weak', alpha=0.5)\n",
    "plt.axhline(y=0.0, c='black')\n",
    "plt.legend(loc='best')\n",
    "plt.xticks(np.arange(0,10,1), list(uvup_results.keys()), rotation=90)\n",
    "plt.show()"
   ]
  },
  {
   "cell_type": "code",
   "execution_count": 16,
   "metadata": {},
   "outputs": [
    {
     "data": {
      "image/png": "[encoded data removed]",
      "text/plain": [
       "<Figure size 432x288 with 1 Axes>"
      ]
     },
     "metadata": {
      "needs_background": "light"
     },
     "output_type": "display_data"
    }
   ],
   "source": [
    "plt.title(\"PC2\")\n",
    "plt.bar(x=np.arange(0,9,1), height=np.abs(uvup_results.values[1,:]), label='UV upturn', alpha=0.5)\n",
    "plt.bar(x=np.arange(0,9,1), height=np.abs(uvwk_results.values[1,:]), label='UV weak', alpha=0.5)\n",
    "plt.axhline(y=0.0, c='black')\n",
    "plt.legend(loc='best')\n",
    "plt.xticks(np.arange(0,10,1), list(uvup_results.keys()), rotation=90)\n",
    "plt.show()"
   ]
  },
  {
   "cell_type": "code",
   "execution_count": 17,
   "metadata": {},
   "outputs": [
    {
     "data": {
      "text/plain": [
       "['ager_percentile50',\n",
       " 'metalicity_Z_Zo_percentile50',\n",
       " 'sSFR_0_1Gyr_percentile50',\n",
       " 'tform_percentile50',\n",
       " 'tlastb_percentile50',\n",
       " 'fb29_percentile50',\n",
       " 'FUV-NUV',\n",
       " 'FUV-R',\n",
       " 'NUV-R']"
      ]
     },
     "execution_count": 17,
     "metadata": {},
     "output_type": "execute_result"
    }
   ],
   "source": [
    "list(uvup_results.keys())"
   ]
  },
  {
   "cell_type": "code",
   "execution_count": 18,
   "metadata": {},
   "outputs": [],
   "source": [
    "xticks = [\n",
    "#     r\"$\\log M_{\\star}$\", \n",
    "          r\"$\\left< \\logt \\right>_{r}$\", \n",
    "          r\"$\\left< Z/Z_{\\odot} \\right>$\", \n",
    "          r\"$\\left< \\rm{sSFR} \\right>$\", \n",
    "          r\"$\\left< t_{\\rm{form}} \\right>$\", \n",
    "          r\"$\\left< t_{\\rm{last}} \\right>$\", \n",
    "          r\"$\\left< f_{\\rm{burst}}^{2\\rm{Gyr}} \\right>$\", \n",
    "          r\"FUV-NUV\", r\"FUV-$r$\", r\"NUV-$r$\"]"
   ]
  },
  {
   "cell_type": "code",
   "execution_count": 49,
   "metadata": {},
   "outputs": [
    {
     "data": {
      "image/png": "[encoded data removed]",
      "text/plain": [
       "<Figure size 360x936 with 5 Axes>"
      ]
     },
     "metadata": {
      "needs_background": "light"
     },
     "output_type": "display_data"
    }
   ],
   "source": [
    "plt.rcParams.update(plotpars_3cols)\n",
    "plt.subplots(figsize=(5,13))\n",
    "\n",
    "p1 = plt.subplot(5, 1, 1)\n",
    "plt.title(r\"PC1: $v_{\\rm{up}}=%.2f$; $v_{\\rm{wk}}=%.2f$\" % (uvup_var[0], uvwk_var[0]))\n",
    "plt.bar(x=np.arange(0,9,1), height=np.abs(uvwk_results.values[0,:]), label='UV weak', alpha=0.6, \n",
    "        color=palette[1], edgecolor=palette[1], linewidth=2.)\n",
    "plt.bar(x=np.arange(0,9,1), height=np.abs(uvup_results.values[0,:]), label='UV upturn', alpha=0.6, \n",
    "        color=palette[0], edgecolor=palette[0], linewidth=2.)\n",
    "p1.xaxis.set_visible(False)\n",
    "plt.legend(loc='best')\n",
    "plt.ylabel(\"PC1\")\n",
    "# plt.legend(loc='best')\n",
    "\n",
    "p2 = plt.subplot(5, 1, 2)\n",
    "plt.title(r\"PC2: $v_{\\rm{up}}=%.2f$; $v_{\\rm{wk}}=%.2f$\" % (uvup_var[1], uvwk_var[1]))\n",
    "plt.bar(x=np.arange(0,9,1), height=np.abs(uvwk_results.values[1,:]), label='UV weak', alpha=0.6, \n",
    "        color=palette[1], edgecolor=palette[1], linewidth=2.)\n",
    "plt.bar(x=np.arange(0,9,1), height=np.abs(uvup_results.values[1,:]), label='UV upturn', alpha=0.6, \n",
    "        color=palette[0], edgecolor=palette[0], linewidth=2.)\n",
    "p2.xaxis.set_visible(False)\n",
    "plt.ylabel(\"PC2\")\n",
    "\n",
    "p3 = plt.subplot(5, 1, 3)\n",
    "plt.title(r\"PC3: $v_{\\rm{up}}=%.2f$; $v_{\\rm{wk}}=%.2f$\" % (uvup_var[2], uvwk_var[2]))\n",
    "plt.bar(x=np.arange(0,9,1), height=np.abs(uvwk_results.values[2,:]), label='UV weak', alpha=0.6, \n",
    "        color=palette[1], edgecolor=palette[1], linewidth=2.)\n",
    "plt.bar(x=np.arange(0,9,1), height=np.abs(uvup_results.values[2,:]), label='UV upturn', alpha=0.6, \n",
    "        color=palette[0], edgecolor=palette[0], linewidth=2.)\n",
    "p3.xaxis.set_visible(False)\n",
    "# plt.legend(loc='best')\n",
    "plt.ylabel(\"PC3\")\n",
    "\n",
    "p4 = plt.subplot(5, 1, 4)\n",
    "plt.title(r\"PC4: $v_{\\rm{up}}=%.2f$; $v_{\\rm{wk}}=%.2f$\" % (uvup_var[3], uvwk_var[3]))\n",
    "plt.bar(x=np.arange(0,9,1), height=np.abs(uvwk_results.values[3,:]), label='UV weak', alpha=0.6, \n",
    "        color=palette[1], edgecolor=palette[1], linewidth=2.)\n",
    "plt.bar(x=np.arange(0,9,1), height=np.abs(uvup_results.values[3,:]), label='UV upturn', alpha=0.6, \n",
    "        color=palette[0], edgecolor=palette[0], linewidth=2.)\n",
    "p4.xaxis.set_visible(False)\n",
    "# plt.legend(loc='best')\n",
    "# plt.xticks(np.arange(0,9,1), xticks, rotation=-75)\n",
    "plt.ylabel(\"PC4\")\n",
    "\n",
    "plt.subplot(5, 1, 5)\n",
    "plt.title(r\"PC5: $v_{\\rm{up}}=%.2f$; $v_{\\rm{wk}}=%.2f$\" % (uvup_var[4], uvwk_var[4]))\n",
    "plt.bar(x=np.arange(0,9,1), height=np.abs(uvwk_results.values[4,:]), label='UV weak', alpha=0.6, \n",
    "        color=palette[1], edgecolor=palette[1], linewidth=2.)\n",
    "plt.bar(x=np.arange(0,9,1), height=np.abs(uvup_results.values[4,:]), label='UV upturn', alpha=0.6, \n",
    "        color=palette[0], edgecolor=palette[0], linewidth=2.)\n",
    "# plt.legend(loc='best')\n",
    "plt.xticks(np.arange(0,9,1), xticks, rotation=-75)\n",
    "plt.ylabel(\"PC5\")\n",
    "\n",
    "plt.tight_layout()\n",
    "plt.savefig(os.path.join(psm_path, 'pca_results.pdf'))\n",
    "plt.savefig(os.path.join(psm_path, 'pca_results.png'))\n",
    "plt.show()"
   ]
  },
  {
   "cell_type": "code",
   "execution_count": 57,
   "metadata": {},
   "outputs": [
    {
     "data": {
      "image/png": "[encoded data removed]",
      "text/plain": [
       "<Figure size 1080x576 with 5 Axes>"
      ]
     },
     "metadata": {
      "needs_background": "light"
     },
     "output_type": "display_data"
    }
   ],
   "source": [
    "plt.rcParams.update(plotpars_2cols)\n",
    "plt.subplots(figsize=(15,8))\n",
    "\n",
    "p1 = plt.subplot(2, 3, 1)\n",
    "plt.title(r\"PC1: $v_{\\rm{up}}=%.2f$; $v_{\\rm{wk}}=%.2f$\" % (uvup_var[0], uvwk_var[0]))\n",
    "plt.bar(x=np.arange(0,9,1), height=np.abs(uvwk_results.values[0,:]), label='UV weak', alpha=0.6, \n",
    "        color=palette[1], edgecolor=palette[1], linewidth=2.)\n",
    "plt.bar(x=np.arange(0,9,1), height=np.abs(uvup_results.values[0,:]), label='UV upturn', alpha=0.6, \n",
    "        color=palette[0], edgecolor=palette[0], linewidth=2.)\n",
    "p1.xaxis.set_visible(False)\n",
    "plt.legend(loc='best')\n",
    "plt.ylabel(\"PC1\")\n",
    "# plt.legend(loc='best')\n",
    "\n",
    "p2 = plt.subplot(2, 3, 2)\n",
    "plt.title(r\"PC2: $v_{\\rm{up}}=%.2f$; $v_{\\rm{wk}}=%.2f$\" % (uvup_var[1], uvwk_var[1]))\n",
    "plt.bar(x=np.arange(0,9,1), height=np.abs(uvwk_results.values[1,:]), label='UV weak', alpha=0.6, \n",
    "        color=palette[1], edgecolor=palette[1], linewidth=2.)\n",
    "plt.bar(x=np.arange(0,9,1), height=np.abs(uvup_results.values[1,:]), label='UV upturn', alpha=0.6, \n",
    "        color=palette[0], edgecolor=palette[0], linewidth=2.)\n",
    "p2.xaxis.set_visible(False)\n",
    "plt.ylabel(\"PC2\")\n",
    "\n",
    "p3 = plt.subplot(2, 3, 4)\n",
    "plt.title(r\"PC3: $v_{\\rm{up}}=%.2f$; $v_{\\rm{wk}}=%.2f$\" % (uvup_var[2], uvwk_var[2]))\n",
    "plt.bar(x=np.arange(0,9,1), height=np.abs(uvwk_results.values[2,:]), label='UV weak', alpha=0.6, \n",
    "        color=palette[1], edgecolor=palette[1], linewidth=2.)\n",
    "plt.bar(x=np.arange(0,9,1), height=np.abs(uvup_results.values[2,:]), label='UV upturn', alpha=0.6, \n",
    "        color=palette[0], edgecolor=palette[0], linewidth=2.)\n",
    "# p3.xaxis.set_visible(False)\n",
    "plt.xticks(np.arange(0,9,1), xticks, rotation=-75)\n",
    "# plt.legend(loc='best')\n",
    "plt.ylabel(\"PC3\")\n",
    "\n",
    "p4 = plt.subplot(2, 3, 5)\n",
    "plt.title(r\"PC4: $v_{\\rm{up}}=%.2f$; $v_{\\rm{wk}}=%.2f$\" % (uvup_var[3], uvwk_var[3]))\n",
    "plt.bar(x=np.arange(0,9,1), height=np.abs(uvwk_results.values[3,:]), label='UV weak', alpha=0.6, \n",
    "        color=palette[1], edgecolor=palette[1], linewidth=2.)\n",
    "plt.bar(x=np.arange(0,9,1), height=np.abs(uvup_results.values[3,:]), label='UV upturn', alpha=0.6, \n",
    "        color=palette[0], edgecolor=palette[0], linewidth=2.)\n",
    "# p4.xaxis.set_visible(False)\n",
    "# plt.legend(loc='best')\n",
    "# plt.xticks(np.arange(0,9,1), xticks, rotation=-75)\n",
    "plt.xticks(np.arange(0,9,1), xticks, rotation=-75)\n",
    "plt.ylabel(\"PC4\")\n",
    "\n",
    "plt.subplot(2, 3, 6)\n",
    "plt.title(r\"PC5: $v_{\\rm{up}}=%.2f$; $v_{\\rm{wk}}=%.2f$\" % (uvup_var[4], uvwk_var[4]))\n",
    "plt.bar(x=np.arange(0,9,1), height=np.abs(uvwk_results.values[4,:]), label='UV weak', alpha=0.6, \n",
    "        color=palette[1], edgecolor=palette[1], linewidth=2.)\n",
    "plt.bar(x=np.arange(0,9,1), height=np.abs(uvup_results.values[4,:]), label='UV upturn', alpha=0.6, \n",
    "        color=palette[0], edgecolor=palette[0], linewidth=2.)\n",
    "# plt.legend(loc='best')\n",
    "plt.xticks(np.arange(0,9,1), xticks, rotation=-75)\n",
    "plt.ylabel(\"PC5\")\n",
    "\n",
    "plt.tight_layout()\n",
    "plt.savefig(os.path.join(psm_path, 'pca_results_thesis.pdf'))\n",
    "plt.savefig(os.path.join(psm_path, 'pca_results_thesis.png'))\n",
    "plt.show()"
   ]
  },
  {
   "cell_type": "markdown",
   "metadata": {},
   "source": [
    "## Testing kernel PCA"
   ]
  },
  {
   "cell_type": "code",
   "execution_count": 20,
   "metadata": {},
   "outputs": [],
   "source": [
    "knc = 6"
   ]
  },
  {
   "cell_type": "code",
   "execution_count": 21,
   "metadata": {},
   "outputs": [],
   "source": [
    "# kpca = skdecomp.KernelPCA??"
   ]
  },
  {
   "cell_type": "code",
   "execution_count": 22,
   "metadata": {},
   "outputs": [],
   "source": [
    "kpca = skdecomp.KernelPCA(n_components=knc, kernel='rbf', gamma=10)"
   ]
  },
  {
   "cell_type": "code",
   "execution_count": 23,
   "metadata": {},
   "outputs": [],
   "source": [
    "kpca_uvup = kpca.fit_transform(uv_upturn_std)\n",
    "# print(kpca.)\n",
    "# print(np.sum(pca.explained_variance_ratio_))\n",
    "# uvup_results = pd.DataFrame(kpca., columns=uv_upturn.columns, \n",
    "#                                index=['PC1', 'PC2', 'PC3', 'PC4', 'PC5', 'PC6'])"
   ]
  },
  {
   "cell_type": "code",
   "execution_count": 24,
   "metadata": {},
   "outputs": [],
   "source": [
    "kpca_uvwk = kpca.fit_transform(uv_weak_std)"
   ]
  },
  {
   "cell_type": "code",
   "execution_count": 25,
   "metadata": {},
   "outputs": [
    {
     "data": {
      "text/plain": [
       "(87, 6)"
      ]
     },
     "execution_count": 25,
     "metadata": {},
     "output_type": "execute_result"
    }
   ],
   "source": [
    "kpca_uvup.shape"
   ]
  },
  {
   "cell_type": "code",
   "execution_count": 26,
   "metadata": {},
   "outputs": [
    {
     "data": {
      "image/png": "[encoded data removed]",
      "text/plain": [
       "<Figure size 864x252 with 1 Axes>"
      ]
     },
     "metadata": {
      "needs_background": "light"
     },
     "output_type": "display_data"
    }
   ],
   "source": [
    "plt.plot(kpca_uvup[:,2], kpca_uvup[:,5], 'o')\n",
    "plt.plot(kpca_uvwk[:,2], kpca_uvwk[:,5], 'o')\n",
    "plt.show()"
   ]
  },
  {
   "cell_type": "code",
   "execution_count": null,
   "metadata": {},
   "outputs": [],
   "source": []
  }
 ],
 "metadata": {
  "kernelspec": {
   "display_name": "Python 3",
   "language": "python",
   "name": "python3"
  },
  "language_info": {
   "codemirror_mode": {
    "name": "ipython",
    "version": 3
   },
   "file_extension": ".py",
   "mimetype": "text/x-python",
   "name": "python",
   "nbconvert_exporter": "python",
   "pygments_lexer": "ipython3",
   "version": "3.7.7"
  }
 },
 "nbformat": 4,
 "nbformat_minor": 4
}
