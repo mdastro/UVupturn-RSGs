{
 "cells": [
  {
   "cell_type": "markdown",
   "metadata": {},
   "source": [
    "# Preamble"
   ]
  },
  {
   "cell_type": "markdown",
   "metadata": {},
   "source": [
    "## 1. Preamble: Functions"
   ]
  },
  {
   "cell_type": "code",
   "execution_count": 1,
   "metadata": {},
   "outputs": [],
   "source": [
    "def standardize(parameter):\n",
    "    \"\"\"\n",
    "    :param parameter: the array with the parameters you wish to standardize\n",
    "    :return param_mean: mean of the input array\n",
    "    :return param_std : standard deviation of the input array\n",
    "    :return stdized_param: final standardized array\n",
    "    \"\"\"\n",
    "    import numpy as np\n",
    "    \n",
    "    param_mean    = np.mean(parameter)\n",
    "    param_std     = np.std(parameter)\n",
    "    stdized_param = []                  # standardized parameter -- output\n",
    "    for i in range(parameter.size):\n",
    "        param_temp = (parameter[i] - param_mean)/param_std\n",
    "        stdized_param.append(param_temp)\n",
    "    stdized_param = np.array(stdized_param)\n",
    "    return (param_mean, param_std, stdized_param)"
   ]
  },
  {
   "cell_type": "code",
   "execution_count": 2,
   "metadata": {},
   "outputs": [],
   "source": [
    "def un_standardize(stdized_par, mean, std):\n",
    "    \"\"\"\n",
    "    This function undoes what the former does!\n",
    "    \"\"\"\n",
    "    \n",
    "    import numpy as np\n",
    "    \n",
    "    recovered_par = []\n",
    "    for i in range(stdized_par.size):\n",
    "        param_temp = stdized_par[i]*std + mean\n",
    "        recovered_par.append(param_temp)\n",
    "    recovered_par = np.array(recovered_par)\n",
    "    return (recovered_par)"
   ]
  },
  {
   "cell_type": "code",
   "execution_count": 3,
   "metadata": {},
   "outputs": [],
   "source": [
    "def print_time(begin_time, end_time):\n",
    "    \"\"\" \n",
    "    This function prints the time in minutes that a certain task took.\n",
    "    \"\"\"\n",
    "    print (\"--------------------------------------------------\")\n",
    "    print (\"CPU process time: %.2f [min]\" % float((end-start)/60))\n",
    "    print (\"--------------------------------------------------\")"
   ]
  },
  {
   "cell_type": "markdown",
   "metadata": {},
   "source": [
    "## 2. Preamble: plots configuration"
   ]
  },
  {
   "cell_type": "code",
   "execution_count": 57,
   "metadata": {},
   "outputs": [],
   "source": [
    "plotpars = {'axes.labelsize': 18,\n",
    "            'axes.linewidth': 1.,\n",
    "            'figure.figsize': (7.,5.),\n",
    "            'font.size': 20,\n",
    "            'legend.frameon': True,\n",
    "            'legend.framealpha': 0.85,\n",
    "            'legend.edgecolor': 'black',\n",
    "            'legend.loc': 'best',\n",
    "            'legend.fontsize': 12,\n",
    "            'mathtext.fontset': 'stixsans',\n",
    "            'savefig.bbox': 'tight',\n",
    "            'xtick.labelsize': 18,\n",
    "            'ytick.labelsize': 18,\n",
    "           }\n",
    "\n",
    "plotpars_2cols = {'axes.labelsize': 18,\n",
    "                  'axes.linewidth': 1.,\n",
    "                  'figure.figsize': (15, 5.),\n",
    "                  'font.size': 12,\n",
    "                  'legend.frameon': True,\n",
    "                  'legend.framealpha': 0.85,\n",
    "                  'legend.edgecolor': 'black',\n",
    "                  'legend.loc': 'best',\n",
    "                  'legend.fontsize': 12,\n",
    "                  'mathtext.fontset': 'stixsans',\n",
    "                  'savefig.bbox': 'tight',\n",
    "                  'xtick.labelsize': 15,\n",
    "                  'ytick.labelsize': 15,\n",
    "                 }\n",
    "\n",
    "plotpars_3rows = {'axes.labelsize': 18,\n",
    "                  'axes.linewidth': 1.,\n",
    "                  'figure.figsize': (6, 9),\n",
    "                  'font.size': 12,\n",
    "                  'legend.frameon': True,\n",
    "                  'legend.framealpha': 0.85,\n",
    "                  'legend.edgecolor': 'black',\n",
    "                  'legend.loc': 'best',\n",
    "                  'legend.fontsize': 12,\n",
    "                  'mathtext.fontset': 'stixsans',\n",
    "                  'savefig.bbox': 'tight',\n",
    "                  'xtick.labelsize': 15,\n",
    "                  'ytick.labelsize': 15,\n",
    "                 }\n",
    "\n",
    "plotpars_3cols = {'axes.labelsize': 18,\n",
    "                  'axes.linewidth': 1.,\n",
    "                  'figure.figsize': (12, 3.5),\n",
    "                  'font.size': 12,\n",
    "                  'legend.frameon': True,\n",
    "                  'legend.framealpha': 0.85,\n",
    "                  'legend.edgecolor': 'black',\n",
    "                  'legend.loc': 'best',\n",
    "                  'legend.fontsize': 12,\n",
    "                  'mathtext.fontset': 'stixsans',\n",
    "                  'savefig.bbox': 'tight',\n",
    "                  'xtick.labelsize': 15,\n",
    "                  'ytick.labelsize': 15,\n",
    "                 }\n",
    "plotpars_2x5 = {'axes.labelsize': 18,\n",
    "                  'axes.linewidth': 1.,\n",
    "                  'figure.figsize': (15, 5.),\n",
    "                  'font.size': 12,\n",
    "                  'legend.frameon': True,\n",
    "                  'legend.framealpha': 0.85,\n",
    "                  'legend.edgecolor': 'black',\n",
    "                  'legend.loc': 'best',\n",
    "                  'legend.fontsize': 12,\n",
    "                  'mathtext.fontset': 'stixsans',\n",
    "                  'savefig.bbox': 'tight',\n",
    "                  'xtick.labelsize': 15,\n",
    "                  'ytick.labelsize': 15,\n",
    "                 }"
   ]
  },
  {
   "cell_type": "markdown",
   "metadata": {},
   "source": [
    "# 1. Packages"
   ]
  },
  {
   "cell_type": "code",
   "execution_count": 4,
   "metadata": {},
   "outputs": [],
   "source": [
    "import numpy             as np\n",
    "import pandas            as pd\n",
    "import matplotlib.pyplot as plt\n",
    "import statsmodels.api   as sm\n",
    "import seaborn           as sns\n",
    "import arviz\n",
    "import pystan\n",
    "import time\n",
    "import os"
   ]
  },
  {
   "cell_type": "code",
   "execution_count": 5,
   "metadata": {},
   "outputs": [],
   "source": [
    "my_data = pd.read_csv('../../Catalogue/binom_reg_dataset.csv')"
   ]
  },
  {
   "cell_type": "code",
   "execution_count": 6,
   "metadata": {},
   "outputs": [],
   "source": [
    "results_path = '../../ShortModelResults_mass_and_z/'"
   ]
  },
  {
   "cell_type": "markdown",
   "metadata": {},
   "source": [
    "# 2. Model"
   ]
  },
  {
   "cell_type": "code",
   "execution_count": 7,
   "metadata": {},
   "outputs": [],
   "source": [
    "# filtering the dataset\n",
    "redshifts = my_data['Z']\n",
    "index     = np.where(redshifts.values<=0.4)\n",
    "\n",
    "# # parameters of interest\n",
    "logit_class = my_data['LOGIT_CLASS(1-UVUP;0-UVWEAK)'].values[index].astype(int)    # y axis: logit class: \n",
    "                                                                                   # UVUP yes/no\n",
    "mass        = my_data['STELLAR_MASS'].values[index].astype(float)                  # 1st parameter\n",
    "redshift    = redshifts.values[index].astype(float)                                # 2nd parameter"
   ]
  },
  {
   "cell_type": "code",
   "execution_count": 8,
   "metadata": {},
   "outputs": [],
   "source": [
    "# original parameters\n",
    "mean_mass, std_mass, x2 = standardize(mass)\n",
    "x1      = redshift\n",
    "y       = logit_class\n",
    "n_obs   = x1.size\n",
    "\n",
    "# new parameters - important for plotting!\n",
    "n_obs2 = 30\n",
    "x1_sim = np.linspace(x1.min(), x1.max(), n_obs2)\n",
    "x2_sim = np.linspace(x2.min(), x2.max(), n_obs2)\n",
    "\n",
    "# grid\n",
    "plot_x1, plot_x2 = np.meshgrid(x1_sim, x2_sim)  # THIS IS WHERE THE GRID IS DONE\n",
    "plot_x1 = plot_x1.reshape((n_obs2**2), 1)\n",
    "plot_x2 = plot_x2.reshape((n_obs2**2), 1)"
   ]
  },
  {
   "cell_type": "code",
   "execution_count": 9,
   "metadata": {},
   "outputs": [],
   "source": [
    "# dataset to be used in the regression\n",
    "regression_data      = {}                                                 # Dictionary, as stated in the pystan manual\n",
    "regression_data['Y'] = y\n",
    "regression_data['X'] = sm.add_constant(np.column_stack((x1, x1**2, x2, x2**2)))\n",
    "regression_data['K'] = 5                     # Number of betas -- b0, b1, b2, b3, b4\n",
    "regression_data['N'] = n_obs\n",
    "\n",
    "# dataset to be used in the plot -- after meshgrid\n",
    "regression_data['X2'] = sm.add_constant(np.column_stack((plot_x1, plot_x1**2, plot_x2, plot_x2**2)))\n",
    "regression_data['N2'] = n_obs2**2"
   ]
  },
  {
   "cell_type": "markdown",
   "metadata": {},
   "source": [
    "### 2.1 Fit: STAN code "
   ]
  },
  {
   "cell_type": "code",
   "execution_count": 10,
   "metadata": {},
   "outputs": [],
   "source": [
    "stan_code = \"\"\"\n",
    "    data{\n",
    "        int<lower=0> N;\n",
    "        int<lower=0> N2;\n",
    "        int<lower=0> K;\n",
    "        int Y[N];\n",
    "        matrix[N,K] X;\n",
    "        matrix[N2,K] X2;\n",
    "    }\n",
    "\n",
    "    parameters{\n",
    "        vector[K] beta;\n",
    "    }\n",
    "\n",
    "    transformed parameters{\n",
    "        vector[N] eta;\n",
    "        eta = X * beta;\n",
    "    }\n",
    "\n",
    "    model{\n",
    "        Y ~ bernoulli_logit(eta);\n",
    "    }\n",
    "\n",
    "    generated quantities{\n",
    "        vector[N2] etanew;\n",
    "        real<lower=0, upper=1.0> pnew[N2];\n",
    "        etanew = X2 * beta;\n",
    "        for (j in 1:N2){\n",
    "            pnew[j] = inv_logit(etanew[j]);\n",
    "        }\n",
    "    }\n",
    "\"\"\""
   ]
  },
  {
   "cell_type": "markdown",
   "metadata": {},
   "source": [
    "### 2.2 Fit settings (for STAN)"
   ]
  },
  {
   "cell_type": "code",
   "execution_count": 11,
   "metadata": {},
   "outputs": [],
   "source": [
    "iterations = 15000\n",
    "chains     = 4                           # HMC chains\n",
    "warmup     = 5000                        # How many of the first iterations we'll ignore - burnin\n",
    "jobs       = -1                          # Run code in parallel -- see pystan documentation\n",
    "seed       = 1"
   ]
  },
  {
   "cell_type": "code",
   "execution_count": 12,
   "metadata": {},
   "outputs": [],
   "source": [
    "control = {}\n",
    "control['max_treedepth'] = 30\n",
    "control['adapt_delta'] = 0.99"
   ]
  },
  {
   "cell_type": "code",
   "execution_count": 13,
   "metadata": {},
   "outputs": [
    {
     "name": "stderr",
     "output_type": "stream",
     "text": [
      "INFO:pystan:COMPILING THE C++ CODE FOR MODEL anon_model_9aeae9f053f6674eec0d58f69781a4c9 NOW.\n"
     ]
    },
    {
     "name": "stdout",
     "output_type": "stream",
     "text": [
      "--------------------------------------------------\n",
      "CPU process time: 1.36 [min]\n",
      "--------------------------------------------------\n"
     ]
    }
   ],
   "source": [
    "start = time.time()\n",
    "\n",
    "model = pystan.StanModel(model_code=stan_code)\n",
    "\n",
    "end = time.time()\n",
    "print_time(start, end)"
   ]
  },
  {
   "cell_type": "markdown",
   "metadata": {},
   "source": [
    "### 2.3 Running the fit"
   ]
  },
  {
   "cell_type": "code",
   "execution_count": 14,
   "metadata": {},
   "outputs": [
    {
     "name": "stderr",
     "output_type": "stream",
     "text": [
      "WARNING:pystan:Maximum (flat) parameter count (1000) exceeded: skipping diagnostic tests for n_eff and Rhat.\n",
      "To run all diagnostics call pystan.check_hmc_diagnostics(fit)\n"
     ]
    },
    {
     "name": "stdout",
     "output_type": "stream",
     "text": [
      "--------------------------------------------------\n",
      "CPU process time: 5.42 [min]\n",
      "--------------------------------------------------\n"
     ]
    }
   ],
   "source": [
    "start = time.time()\n",
    "\n",
    "fit = model.sampling(data=regression_data, seed=seed, iter=iterations, chains=chains, warmup=warmup, n_jobs=jobs, \n",
    "                     control=control)\n",
    "end = time.time()\n",
    "print_time(start, end)"
   ]
  },
  {
   "cell_type": "markdown",
   "metadata": {},
   "source": [
    "# 3. Retrieving the data from the fit"
   ]
  },
  {
   "cell_type": "markdown",
   "metadata": {},
   "source": [
    "### 3.1 Saving the entire fit: brace for impact!"
   ]
  },
  {
   "cell_type": "code",
   "execution_count": 15,
   "metadata": {},
   "outputs": [
    {
     "name": "stdout",
     "output_type": "stream",
     "text": [
      "--------------------------------------------------\n",
      "CPU process time: 0.11 [min]\n",
      "--------------------------------------------------\n"
     ]
    }
   ],
   "source": [
    "start  = time.time()\n",
    "fit_df = fit.to_dataframe()\n",
    "end    = time.time()\n",
    "print_time(start, end)"
   ]
  },
  {
   "cell_type": "code",
   "execution_count": 16,
   "metadata": {},
   "outputs": [
    {
     "name": "stdout",
     "output_type": "stream",
     "text": [
      "--------------------------------------------------\n",
      "CPU process time: 3.03 [min]\n",
      "--------------------------------------------------\n"
     ]
    }
   ],
   "source": [
    "start = time.time()\n",
    "fit_df.to_csv(os.path.join(results_path, 'entirefit_noemlines.csv'), index=False)\n",
    "end   = time.time()\n",
    "print_time(start, end)"
   ]
  },
  {
   "cell_type": "code",
   "execution_count": 17,
   "metadata": {},
   "outputs": [],
   "source": [
    "posteriors = fit_df[fit.flatnames[:5]]\n",
    "header_posteriors = fit.flatnames[:5]"
   ]
  },
  {
   "cell_type": "code",
   "execution_count": 18,
   "metadata": {},
   "outputs": [
    {
     "data": {
      "image/png": "[encoded data removed]",
      "text/plain": [
       "<Figure size 432x288 with 1 Axes>"
      ]
     },
     "metadata": {
      "needs_background": "light"
     },
     "output_type": "display_data"
    }
   ],
   "source": [
    "arviz.plot_density(data=[fit['beta[1]'], fit['beta[2]'], fit['beta[3]'], fit['beta[4]'], fit['beta[5]']])\n",
    "plt.yscale('log')\n",
    "plt.show()"
   ]
  },
  {
   "cell_type": "code",
   "execution_count": 20,
   "metadata": {},
   "outputs": [
    {
     "name": "stderr",
     "output_type": "stream",
     "text": [
      "/home/mlldantas/anaconda3/lib/python3.7/site-packages/ipykernel_launcher.py:4: UserWarning: This figure was using constrained_layout==True, but that is incompatible with subplots_adjust and or tight_layout: setting constrained_layout==False. \n",
      "  after removing the cwd from sys.path.\n"
     ]
    },
    {
     "data": {
      "image/png": "[encoded data removed]",
      "text/plain": [
       "<Figure size 432x432 with 1 Axes>"
      ]
     },
     "metadata": {
      "needs_background": "light"
     },
     "output_type": "display_data"
    }
   ],
   "source": [
    "arviz.plot_forest(data=[fit['beta[1]'], fit['beta[2]'], fit['beta[3]'], fit['beta[4]'], fit['beta[5]']], \n",
    "                  kind='ridgeplot', model_names=['beta[1]', 'beta[2]', 'beta[3]', 'beta[4]', 'beta[5]'],\n",
    "                  r_hat=False, figsize=(6,6))\n",
    "plt.tight_layout()\n",
    "plt.savefig(os.path.join(results_path,'betas_forest05.png'), dpi=150, bbox_inches='tight')\n",
    "plt.show()"
   ]
  },
  {
   "cell_type": "code",
   "execution_count": 21,
   "metadata": {},
   "outputs": [],
   "source": [
    "figsize=(6,3)"
   ]
  },
  {
   "cell_type": "code",
   "execution_count": 22,
   "metadata": {
    "scrolled": true
   },
   "outputs": [
    {
     "name": "stderr",
     "output_type": "stream",
     "text": [
      "/home/mlldantas/anaconda3/lib/python3.7/site-packages/arviz/plots/backends/matplotlib/distplot.py:38: UserWarning: Argument backend_kwargs has not effect in matplotlib.plot_distSupplied value won't be used\n",
      "  \"Argument backend_kwargs has not effect in matplotlib.plot_dist\"\n",
      "/home/mlldantas/anaconda3/lib/python3.7/site-packages/arviz/plots/backends/matplotlib/distplot.py:38: UserWarning: Argument backend_kwargs has not effect in matplotlib.plot_distSupplied value won't be used\n",
      "  \"Argument backend_kwargs has not effect in matplotlib.plot_dist\"\n",
      "/home/mlldantas/anaconda3/lib/python3.7/site-packages/arviz/plots/backends/matplotlib/distplot.py:38: UserWarning: Argument backend_kwargs has not effect in matplotlib.plot_distSupplied value won't be used\n",
      "  \"Argument backend_kwargs has not effect in matplotlib.plot_dist\"\n",
      "/home/mlldantas/anaconda3/lib/python3.7/site-packages/arviz/plots/backends/matplotlib/distplot.py:38: UserWarning: Argument backend_kwargs has not effect in matplotlib.plot_distSupplied value won't be used\n",
      "  \"Argument backend_kwargs has not effect in matplotlib.plot_dist\"\n",
      "/home/mlldantas/anaconda3/lib/python3.7/site-packages/arviz/plots/backends/matplotlib/distplot.py:38: UserWarning: Argument backend_kwargs has not effect in matplotlib.plot_distSupplied value won't be used\n",
      "  \"Argument backend_kwargs has not effect in matplotlib.plot_dist\"\n",
      "/home/mlldantas/anaconda3/lib/python3.7/site-packages/ipykernel_launcher.py:6: UserWarning: This figure was using constrained_layout==True, but that is incompatible with subplots_adjust and or tight_layout: setting constrained_layout==False. \n",
      "  \n"
     ]
    },
    {
     "data": {
      "image/png": "[encoded data removed]",
      "text/plain": [
       "<Figure size 432x216 with 2 Axes>"
      ]
     },
     "metadata": {
      "needs_background": "light"
     },
     "output_type": "display_data"
    },
    {
     "data": {
      "image/png": "[encoded data removed]",
      "text/plain": [
       "<Figure size 432x216 with 2 Axes>"
      ]
     },
     "metadata": {
      "needs_background": "light"
     },
     "output_type": "display_data"
    },
    {
     "data": {
      "image/png": "[encoded data removed]",
      "text/plain": [
       "<Figure size 432x216 with 2 Axes>"
      ]
     },
     "metadata": {
      "needs_background": "light"
     },
     "output_type": "display_data"
    },
    {
     "data": {
      "image/png": "[encoded data removed]",
      "text/plain": [
       "<Figure size 432x216 with 2 Axes>"
      ]
     },
     "metadata": {
      "needs_background": "light"
     },
     "output_type": "display_data"
    },
    {
     "data": {
      "image/png": "[encoded data removed]",
      "text/plain": [
       "<Figure size 432x216 with 2 Axes>"
      ]
     },
     "metadata": {
      "needs_background": "light"
     },
     "output_type": "display_data"
    }
   ],
   "source": [
    "plot = arviz.plot_trace(data=fit['beta[1]'], figsize=figsize)\n",
    "plot = arviz.plot_trace(data=fit['beta[2]'], figsize=figsize)\n",
    "plot = arviz.plot_trace(data=fit['beta[3]'], figsize=figsize)\n",
    "plot = arviz.plot_trace(data=fit['beta[4]'], figsize=figsize)\n",
    "plot = arviz.plot_trace(data=fit['beta[5]'], figsize=figsize)\n",
    "plt.tight_layout()\n",
    "plt.savefig(os.path.join(results_path,'trace_class01.pdf'), bbox_inches='tight')\n",
    "plt.show()"
   ]
  },
  {
   "cell_type": "markdown",
   "metadata": {},
   "source": [
    "### 3.2 Saving the automatic summary from STAN"
   ]
  },
  {
   "cell_type": "code",
   "execution_count": 23,
   "metadata": {},
   "outputs": [],
   "source": [
    "summary = pystan.stansummary(fit=fit, digits_summary=4)"
   ]
  },
  {
   "cell_type": "code",
   "execution_count": 24,
   "metadata": {},
   "outputs": [],
   "source": [
    "summary_arr  = np.array(summary.split('\\n'))\n",
    "summary_clean = summary_arr[5:-6,]"
   ]
  },
  {
   "cell_type": "code",
   "execution_count": 25,
   "metadata": {},
   "outputs": [],
   "source": [
    "header_fit = ['parameter'] + summary_arr[4].split()"
   ]
  },
  {
   "cell_type": "markdown",
   "metadata": {},
   "source": [
    "#### 3.2.1 Recovering the mass (undo the stadardization) and adding x1 and x2 to the summary"
   ]
  },
  {
   "cell_type": "code",
   "execution_count": 26,
   "metadata": {},
   "outputs": [],
   "source": [
    "recovered_mass  = un_standardize(stdized_par=plot_x2, mean=mean_mass, std=std_mass)\n",
    "recovered_pars  = np.column_stack((np.squeeze(plot_x1), np.squeeze(recovered_mass)))\n",
    "rp = recovered_pars"
   ]
  },
  {
   "cell_type": "code",
   "execution_count": 27,
   "metadata": {},
   "outputs": [
    {
     "data": {
      "text/plain": [
       "array([[ 0.06794   ,  9.729482  ],\n",
       "       [ 0.07760759,  9.729482  ],\n",
       "       [ 0.08727517,  9.729482  ],\n",
       "       ...,\n",
       "       [ 0.32896483, 11.67857   ],\n",
       "       [ 0.33863241, 11.67857   ],\n",
       "       [ 0.3483    , 11.67857   ]])"
      ]
     },
     "execution_count": 27,
     "metadata": {},
     "output_type": "execute_result"
    }
   ],
   "source": [
    "rp"
   ]
  },
  {
   "cell_type": "markdown",
   "metadata": {},
   "source": [
    "#### 3.2.2 Checking if the numbers aren't overlaped"
   ]
  },
  {
   "cell_type": "code",
   "execution_count": 28,
   "metadata": {},
   "outputs": [
    {
     "name": "stdout",
     "output_type": "stream",
     "text": [
      "new_summary[2] =  'beta[3]     -57.93  0.3027 27.719-1.14e2 -76.08 -57.35 -39.25 -4.616   8386 1.0002',\n",
      "new_summary[526] =  'etanew[18]  0.6211   0.009 0.9264 -1.191-9.429e-6 0.6171 1.2405 2.4503  10634 1.0001',\n",
      "(2309,)\n"
     ]
    }
   ],
   "source": [
    "new_summary = list(np.zeros(len(header_fit)))\n",
    "for i in range(summary_clean.size):\n",
    "    if len(summary_clean[i].split())!=11:   # the length of the list must be 11, in which case we connect them directly\n",
    "        new_summ_temp = np.array(summary_clean[i].split())\n",
    "        new_summ_temp = np.concatenate((new_summ_temp, ['X']))\n",
    "        new_summary   = np.vstack((new_summary, new_summ_temp))\n",
    "#         new_summary   = np.vstack((new_summary, np.concatenate((new_summ_temp, ['X']))))\n",
    "        print ('new_summary[%d] = ' %i, \"'%s',\" %summary_clean[i])\n",
    "    else:\n",
    "        new_summ_temp = np.array(summary_clean[i].split()).reshape(1,11)\n",
    "        new_summary   = np.vstack((new_summary, new_summ_temp))\n",
    "new_summary = new_summary[1:,:]            # removing the zeroes in the beggining\n",
    "print (new_summary[:,0].shape)"
   ]
  },
  {
   "cell_type": "code",
   "execution_count": 29,
   "metadata": {},
   "outputs": [],
   "source": [
    "new_summary[2] =  ['beta[3]', '-57.93', '0.3027', '27.719', '-1.14e2', '-76.08', '-57.35', '-39.25', '-4.616', \n",
    "                   '8386','1.0002']\n",
    "new_summary[526] =  ['etanew[18]', '0.6211', '0.009', '0.9264', '-1.191', '-9.429e-6', '0.6171', '1.2405', \n",
    "                     '2.4503', '10634', '1.0001']"
   ]
  },
  {
   "cell_type": "markdown",
   "metadata": {},
   "source": [
    "#### 3.2.3 Retrieving only the probabilities from the summary and stacking x1 and x2 at the end of the dataframe"
   ]
  },
  {
   "cell_type": "code",
   "execution_count": 30,
   "metadata": {},
   "outputs": [
    {
     "data": {
      "text/plain": [
       "array([['beta[1]', '-3.257', '0.013', ..., '-1.049', '7950', '1.0001'],\n",
       "       ['beta[2]', '27.341', '0.129', ..., '50.818', '7984', '1.0002'],\n",
       "       ['beta[3]', '-57.93', '0.3027', ..., '-4.616', '8386', '1.0002'],\n",
       "       ...,\n",
       "       ['pnew[898]', '0.5815', '0.0009', ..., '0.8203', '24018', '1.0'],\n",
       "       ['pnew[899]', '0.5563', '0.0009', ..., '0.8122', '23033', '1.0'],\n",
       "       ['pnew[900]', '0.5286', '0.001', ..., '0.8039', '21467', '1.0']],\n",
       "      dtype='<U32')"
      ]
     },
     "execution_count": 30,
     "metadata": {},
     "output_type": "execute_result"
    }
   ],
   "source": [
    "new_summary"
   ]
  },
  {
   "cell_type": "code",
   "execution_count": 35,
   "metadata": {},
   "outputs": [
    {
     "data": {
      "text/plain": [
       "array([['pnew[1]', '0.282', '0.0008', ..., '0.5488', '22835', '1.0'],\n",
       "       ['pnew[2]', '0.3181', '0.0009', ..., '0.5998', '19915', '1.0'],\n",
       "       ['pnew[3]', '0.354', '0.001', ..., '0.6498', '17434', '1.0'],\n",
       "       ...,\n",
       "       ['pnew[898]', '0.5815', '0.0009', ..., '0.8203', '24018', '1.0'],\n",
       "       ['pnew[899]', '0.5563', '0.0009', ..., '0.8122', '23033', '1.0'],\n",
       "       ['pnew[900]', '0.5286', '0.001', ..., '0.8039', '21467', '1.0']],\n",
       "      dtype='<U32')"
      ]
     },
     "execution_count": 35,
     "metadata": {},
     "output_type": "execute_result"
    }
   ],
   "source": [
    "new_summary[1409:,:]"
   ]
  },
  {
   "cell_type": "code",
   "execution_count": 36,
   "metadata": {},
   "outputs": [],
   "source": [
    "tosave = np.column_stack([new_summary[1409:, :], rp])"
   ]
  },
  {
   "cell_type": "code",
   "execution_count": 37,
   "metadata": {},
   "outputs": [],
   "source": [
    "probs = pd.DataFrame(tosave)"
   ]
  },
  {
   "cell_type": "code",
   "execution_count": 38,
   "metadata": {},
   "outputs": [],
   "source": [
    "model_results_df = pd.DataFrame(tosave)\n",
    "model_results_df.columns = header_fit + ['Z', 'LOG_STELLAR_MASS']\n",
    "model_results_df.to_csv(os.path.join(results_path, 'fit_summ_noemlines.csv'), header=True, index=False)"
   ]
  },
  {
   "cell_type": "code",
   "execution_count": 39,
   "metadata": {},
   "outputs": [
    {
     "data": {
      "text/html": [
       "<div>\n",
       "<style scoped>\n",
       "    .dataframe tbody tr th:only-of-type {\n",
       "        vertical-align: middle;\n",
       "    }\n",
       "\n",
       "    .dataframe tbody tr th {\n",
       "        vertical-align: top;\n",
       "    }\n",
       "\n",
       "    .dataframe thead th {\n",
       "        text-align: right;\n",
       "    }\n",
       "</style>\n",
       "<table border=\"1\" class=\"dataframe\">\n",
       "  <thead>\n",
       "    <tr style=\"text-align: right;\">\n",
       "      <th></th>\n",
       "      <th>parameter</th>\n",
       "      <th>mean</th>\n",
       "      <th>se_mean</th>\n",
       "      <th>sd</th>\n",
       "      <th>2.5%</th>\n",
       "      <th>25%</th>\n",
       "      <th>50%</th>\n",
       "      <th>75%</th>\n",
       "      <th>97.5%</th>\n",
       "      <th>n_eff</th>\n",
       "      <th>Rhat</th>\n",
       "      <th>Z</th>\n",
       "      <th>LOG_STELLAR_MASS</th>\n",
       "    </tr>\n",
       "  </thead>\n",
       "  <tbody>\n",
       "    <tr>\n",
       "      <th>0</th>\n",
       "      <td>pnew[1]</td>\n",
       "      <td>0.282</td>\n",
       "      <td>0.0008</td>\n",
       "      <td>0.1182</td>\n",
       "      <td>0.0949</td>\n",
       "      <td>0.1942</td>\n",
       "      <td>0.2679</td>\n",
       "      <td>0.3558</td>\n",
       "      <td>0.5488</td>\n",
       "      <td>22835</td>\n",
       "      <td>1.0</td>\n",
       "      <td>0.06794</td>\n",
       "      <td>9.729482</td>\n",
       "    </tr>\n",
       "    <tr>\n",
       "      <th>1</th>\n",
       "      <td>pnew[2]</td>\n",
       "      <td>0.3181</td>\n",
       "      <td>0.0009</td>\n",
       "      <td>0.1278</td>\n",
       "      <td>0.1089</td>\n",
       "      <td>0.223</td>\n",
       "      <td>0.3047</td>\n",
       "      <td>0.4001</td>\n",
       "      <td>0.5998</td>\n",
       "      <td>19915</td>\n",
       "      <td>1.0</td>\n",
       "      <td>0.07760758620689655</td>\n",
       "      <td>9.729482</td>\n",
       "    </tr>\n",
       "    <tr>\n",
       "      <th>2</th>\n",
       "      <td>pnew[3]</td>\n",
       "      <td>0.354</td>\n",
       "      <td>0.001</td>\n",
       "      <td>0.1373</td>\n",
       "      <td>0.1229</td>\n",
       "      <td>0.2519</td>\n",
       "      <td>0.3422</td>\n",
       "      <td>0.4452</td>\n",
       "      <td>0.6498</td>\n",
       "      <td>17434</td>\n",
       "      <td>1.0</td>\n",
       "      <td>0.0872751724137931</td>\n",
       "      <td>9.729482</td>\n",
       "    </tr>\n",
       "    <tr>\n",
       "      <th>3</th>\n",
       "      <td>pnew[4]</td>\n",
       "      <td>0.3891</td>\n",
       "      <td>0.0012</td>\n",
       "      <td>0.1463</td>\n",
       "      <td>0.1362</td>\n",
       "      <td>0.28</td>\n",
       "      <td>0.3791</td>\n",
       "      <td>0.4888</td>\n",
       "      <td>0.6949</td>\n",
       "      <td>15532</td>\n",
       "      <td>1.0</td>\n",
       "      <td>0.09694275862068966</td>\n",
       "      <td>9.729482</td>\n",
       "    </tr>\n",
       "    <tr>\n",
       "      <th>4</th>\n",
       "      <td>pnew[5]</td>\n",
       "      <td>0.4224</td>\n",
       "      <td>0.0013</td>\n",
       "      <td>0.1544</td>\n",
       "      <td>0.1482</td>\n",
       "      <td>0.3072</td>\n",
       "      <td>0.4149</td>\n",
       "      <td>0.5299</td>\n",
       "      <td>0.7361</td>\n",
       "      <td>14089</td>\n",
       "      <td>1.0</td>\n",
       "      <td>0.1066103448275862</td>\n",
       "      <td>9.729482</td>\n",
       "    </tr>\n",
       "    <tr>\n",
       "      <th>...</th>\n",
       "      <td>...</td>\n",
       "      <td>...</td>\n",
       "      <td>...</td>\n",
       "      <td>...</td>\n",
       "      <td>...</td>\n",
       "      <td>...</td>\n",
       "      <td>...</td>\n",
       "      <td>...</td>\n",
       "      <td>...</td>\n",
       "      <td>...</td>\n",
       "      <td>...</td>\n",
       "      <td>...</td>\n",
       "      <td>...</td>\n",
       "    </tr>\n",
       "    <tr>\n",
       "      <th>895</th>\n",
       "      <td>pnew[896]</td>\n",
       "      <td>0.6235</td>\n",
       "      <td>0.0008</td>\n",
       "      <td>0.1256</td>\n",
       "      <td>0.3598</td>\n",
       "      <td>0.5399</td>\n",
       "      <td>0.6317</td>\n",
       "      <td>0.7158</td>\n",
       "      <td>0.8415</td>\n",
       "      <td>23633</td>\n",
       "      <td>1.0</td>\n",
       "      <td>0.3096296551724138</td>\n",
       "      <td>11.67857</td>\n",
       "    </tr>\n",
       "    <tr>\n",
       "      <th>896</th>\n",
       "      <td>pnew[897]</td>\n",
       "      <td>0.604</td>\n",
       "      <td>0.0008</td>\n",
       "      <td>0.1291</td>\n",
       "      <td>0.3365</td>\n",
       "      <td>0.5166</td>\n",
       "      <td>0.6109</td>\n",
       "      <td>0.6988</td>\n",
       "      <td>0.831</td>\n",
       "      <td>24212</td>\n",
       "      <td>1.0</td>\n",
       "      <td>0.3192972413793103</td>\n",
       "      <td>11.67857</td>\n",
       "    </tr>\n",
       "    <tr>\n",
       "      <th>897</th>\n",
       "      <td>pnew[898]</td>\n",
       "      <td>0.5815</td>\n",
       "      <td>0.0009</td>\n",
       "      <td>0.1341</td>\n",
       "      <td>0.3071</td>\n",
       "      <td>0.4896</td>\n",
       "      <td>0.5871</td>\n",
       "      <td>0.68</td>\n",
       "      <td>0.8203</td>\n",
       "      <td>24018</td>\n",
       "      <td>1.0</td>\n",
       "      <td>0.3289648275862069</td>\n",
       "      <td>11.67857</td>\n",
       "    </tr>\n",
       "    <tr>\n",
       "      <th>898</th>\n",
       "      <td>pnew[899]</td>\n",
       "      <td>0.5563</td>\n",
       "      <td>0.0009</td>\n",
       "      <td>0.1406</td>\n",
       "      <td>0.2749</td>\n",
       "      <td>0.4592</td>\n",
       "      <td>0.56</td>\n",
       "      <td>0.6595</td>\n",
       "      <td>0.8122</td>\n",
       "      <td>23033</td>\n",
       "      <td>1.0</td>\n",
       "      <td>0.33863241379310344</td>\n",
       "      <td>11.67857</td>\n",
       "    </tr>\n",
       "    <tr>\n",
       "      <th>899</th>\n",
       "      <td>pnew[900]</td>\n",
       "      <td>0.5286</td>\n",
       "      <td>0.001</td>\n",
       "      <td>0.1485</td>\n",
       "      <td>0.2387</td>\n",
       "      <td>0.4238</td>\n",
       "      <td>0.5306</td>\n",
       "      <td>0.637</td>\n",
       "      <td>0.8039</td>\n",
       "      <td>21467</td>\n",
       "      <td>1.0</td>\n",
       "      <td>0.3483</td>\n",
       "      <td>11.67857</td>\n",
       "    </tr>\n",
       "  </tbody>\n",
       "</table>\n",
       "<p>900 rows × 13 columns</p>\n",
       "</div>"
      ],
      "text/plain": [
       "     parameter    mean se_mean      sd    2.5%     25%     50%     75%  \\\n",
       "0      pnew[1]   0.282  0.0008  0.1182  0.0949  0.1942  0.2679  0.3558   \n",
       "1      pnew[2]  0.3181  0.0009  0.1278  0.1089   0.223  0.3047  0.4001   \n",
       "2      pnew[3]   0.354   0.001  0.1373  0.1229  0.2519  0.3422  0.4452   \n",
       "3      pnew[4]  0.3891  0.0012  0.1463  0.1362    0.28  0.3791  0.4888   \n",
       "4      pnew[5]  0.4224  0.0013  0.1544  0.1482  0.3072  0.4149  0.5299   \n",
       "..         ...     ...     ...     ...     ...     ...     ...     ...   \n",
       "895  pnew[896]  0.6235  0.0008  0.1256  0.3598  0.5399  0.6317  0.7158   \n",
       "896  pnew[897]   0.604  0.0008  0.1291  0.3365  0.5166  0.6109  0.6988   \n",
       "897  pnew[898]  0.5815  0.0009  0.1341  0.3071  0.4896  0.5871    0.68   \n",
       "898  pnew[899]  0.5563  0.0009  0.1406  0.2749  0.4592    0.56  0.6595   \n",
       "899  pnew[900]  0.5286   0.001  0.1485  0.2387  0.4238  0.5306   0.637   \n",
       "\n",
       "      97.5%  n_eff Rhat                    Z LOG_STELLAR_MASS  \n",
       "0    0.5488  22835  1.0              0.06794         9.729482  \n",
       "1    0.5998  19915  1.0  0.07760758620689655         9.729482  \n",
       "2    0.6498  17434  1.0   0.0872751724137931         9.729482  \n",
       "3    0.6949  15532  1.0  0.09694275862068966         9.729482  \n",
       "4    0.7361  14089  1.0   0.1066103448275862         9.729482  \n",
       "..      ...    ...  ...                  ...              ...  \n",
       "895  0.8415  23633  1.0   0.3096296551724138         11.67857  \n",
       "896   0.831  24212  1.0   0.3192972413793103         11.67857  \n",
       "897  0.8203  24018  1.0   0.3289648275862069         11.67857  \n",
       "898  0.8122  23033  1.0  0.33863241379310344         11.67857  \n",
       "899  0.8039  21467  1.0               0.3483         11.67857  \n",
       "\n",
       "[900 rows x 13 columns]"
      ]
     },
     "execution_count": 39,
     "metadata": {},
     "output_type": "execute_result"
    }
   ],
   "source": [
    "model_results_df"
   ]
  },
  {
   "cell_type": "markdown",
   "metadata": {},
   "source": [
    "### Testing some of the outputs"
   ]
  },
  {
   "cell_type": "code",
   "execution_count": 40,
   "metadata": {},
   "outputs": [],
   "source": [
    "posteriors = fit_df[fit.flatnames[:5]]"
   ]
  },
  {
   "cell_type": "code",
   "execution_count": 41,
   "metadata": {},
   "outputs": [
    {
     "data": {
      "text/plain": [
       "Index(['chain', 'draw', 'warmup', 'beta[1]', 'beta[2]', 'beta[3]', 'beta[4]',\n",
       "       'beta[5]', 'eta[1]', 'eta[2]',\n",
       "       ...\n",
       "       'pnew[898]', 'pnew[899]', 'pnew[900]', 'lp__', 'accept_stat__',\n",
       "       'stepsize__', 'treedepth__', 'n_leapfrog__', 'divergent__', 'energy__'],\n",
       "      dtype='object', length=2319)"
      ]
     },
     "execution_count": 41,
     "metadata": {},
     "output_type": "execute_result"
    }
   ],
   "source": [
    "fit_df.keys()"
   ]
  },
  {
   "cell_type": "code",
   "execution_count": 42,
   "metadata": {},
   "outputs": [
    {
     "data": {
      "text/plain": [
       "count    40000.000000\n",
       "mean         7.099075\n",
       "std          1.226987\n",
       "min          1.000000\n",
       "25%          6.000000\n",
       "50%          8.000000\n",
       "75%          8.000000\n",
       "max          9.000000\n",
       "Name: treedepth__, dtype: float64"
      ]
     },
     "execution_count": 42,
     "metadata": {},
     "output_type": "execute_result"
    }
   ],
   "source": [
    "fit_df['treedepth__'].describe()"
   ]
  },
  {
   "cell_type": "code",
   "execution_count": 43,
   "metadata": {},
   "outputs": [
    {
     "data": {
      "text/plain": [
       "count    40000.000000\n",
       "mean       238.333850\n",
       "std        140.578662\n",
       "min          1.000000\n",
       "25%        127.000000\n",
       "50%        255.000000\n",
       "75%        255.000000\n",
       "max        767.000000\n",
       "Name: n_leapfrog__, dtype: float64"
      ]
     },
     "execution_count": 43,
     "metadata": {},
     "output_type": "execute_result"
    }
   ],
   "source": [
    "fit_df['n_leapfrog__'].describe()"
   ]
  },
  {
   "cell_type": "code",
   "execution_count": 44,
   "metadata": {},
   "outputs": [],
   "source": [
    "posteriors.to_csv(os.path.join(results_path, 'posteriors_noemlines.csv'), index=False)"
   ]
  },
  {
   "cell_type": "code",
   "execution_count": 45,
   "metadata": {},
   "outputs": [
    {
     "data": {
      "text/html": [
       "<div>\n",
       "<style scoped>\n",
       "    .dataframe tbody tr th:only-of-type {\n",
       "        vertical-align: middle;\n",
       "    }\n",
       "\n",
       "    .dataframe tbody tr th {\n",
       "        vertical-align: top;\n",
       "    }\n",
       "\n",
       "    .dataframe thead th {\n",
       "        text-align: right;\n",
       "    }\n",
       "</style>\n",
       "<table border=\"1\" class=\"dataframe\">\n",
       "  <thead>\n",
       "    <tr style=\"text-align: right;\">\n",
       "      <th></th>\n",
       "      <th>beta[1]</th>\n",
       "      <th>beta[2]</th>\n",
       "      <th>beta[3]</th>\n",
       "      <th>beta[4]</th>\n",
       "      <th>beta[5]</th>\n",
       "    </tr>\n",
       "  </thead>\n",
       "  <tbody>\n",
       "    <tr>\n",
       "      <th>0</th>\n",
       "      <td>-3.685708</td>\n",
       "      <td>32.610873</td>\n",
       "      <td>-68.358126</td>\n",
       "      <td>-0.039401</td>\n",
       "      <td>-0.028859</td>\n",
       "    </tr>\n",
       "    <tr>\n",
       "      <th>1</th>\n",
       "      <td>-3.679616</td>\n",
       "      <td>30.225845</td>\n",
       "      <td>-60.233817</td>\n",
       "      <td>-0.089985</td>\n",
       "      <td>0.062002</td>\n",
       "    </tr>\n",
       "    <tr>\n",
       "      <th>2</th>\n",
       "      <td>-3.479198</td>\n",
       "      <td>30.017847</td>\n",
       "      <td>-63.905318</td>\n",
       "      <td>-0.093453</td>\n",
       "      <td>0.063950</td>\n",
       "    </tr>\n",
       "    <tr>\n",
       "      <th>3</th>\n",
       "      <td>-4.063318</td>\n",
       "      <td>29.893671</td>\n",
       "      <td>-49.725777</td>\n",
       "      <td>-0.111552</td>\n",
       "      <td>0.100827</td>\n",
       "    </tr>\n",
       "    <tr>\n",
       "      <th>4</th>\n",
       "      <td>-2.742927</td>\n",
       "      <td>24.280441</td>\n",
       "      <td>-56.647008</td>\n",
       "      <td>0.046149</td>\n",
       "      <td>0.064127</td>\n",
       "    </tr>\n",
       "    <tr>\n",
       "      <th>...</th>\n",
       "      <td>...</td>\n",
       "      <td>...</td>\n",
       "      <td>...</td>\n",
       "      <td>...</td>\n",
       "      <td>...</td>\n",
       "    </tr>\n",
       "    <tr>\n",
       "      <th>39995</th>\n",
       "      <td>-3.803785</td>\n",
       "      <td>31.678070</td>\n",
       "      <td>-64.263827</td>\n",
       "      <td>0.032643</td>\n",
       "      <td>0.077854</td>\n",
       "    </tr>\n",
       "    <tr>\n",
       "      <th>39996</th>\n",
       "      <td>-1.811527</td>\n",
       "      <td>16.110379</td>\n",
       "      <td>-40.640781</td>\n",
       "      <td>0.366430</td>\n",
       "      <td>0.123558</td>\n",
       "    </tr>\n",
       "    <tr>\n",
       "      <th>39997</th>\n",
       "      <td>-1.818247</td>\n",
       "      <td>15.772861</td>\n",
       "      <td>-41.602050</td>\n",
       "      <td>0.358179</td>\n",
       "      <td>0.122348</td>\n",
       "    </tr>\n",
       "    <tr>\n",
       "      <th>39998</th>\n",
       "      <td>-3.629019</td>\n",
       "      <td>31.157302</td>\n",
       "      <td>-69.699928</td>\n",
       "      <td>0.145169</td>\n",
       "      <td>0.134125</td>\n",
       "    </tr>\n",
       "    <tr>\n",
       "      <th>39999</th>\n",
       "      <td>-3.424142</td>\n",
       "      <td>26.927712</td>\n",
       "      <td>-51.281300</td>\n",
       "      <td>-0.113373</td>\n",
       "      <td>0.092864</td>\n",
       "    </tr>\n",
       "  </tbody>\n",
       "</table>\n",
       "<p>40000 rows × 5 columns</p>\n",
       "</div>"
      ],
      "text/plain": [
       "        beta[1]    beta[2]    beta[3]   beta[4]   beta[5]\n",
       "0     -3.685708  32.610873 -68.358126 -0.039401 -0.028859\n",
       "1     -3.679616  30.225845 -60.233817 -0.089985  0.062002\n",
       "2     -3.479198  30.017847 -63.905318 -0.093453  0.063950\n",
       "3     -4.063318  29.893671 -49.725777 -0.111552  0.100827\n",
       "4     -2.742927  24.280441 -56.647008  0.046149  0.064127\n",
       "...         ...        ...        ...       ...       ...\n",
       "39995 -3.803785  31.678070 -64.263827  0.032643  0.077854\n",
       "39996 -1.811527  16.110379 -40.640781  0.366430  0.123558\n",
       "39997 -1.818247  15.772861 -41.602050  0.358179  0.122348\n",
       "39998 -3.629019  31.157302 -69.699928  0.145169  0.134125\n",
       "39999 -3.424142  26.927712 -51.281300 -0.113373  0.092864\n",
       "\n",
       "[40000 rows x 5 columns]"
      ]
     },
     "execution_count": 45,
     "metadata": {},
     "output_type": "execute_result"
    }
   ],
   "source": [
    "posteriors"
   ]
  },
  {
   "cell_type": "code",
   "execution_count": 46,
   "metadata": {},
   "outputs": [],
   "source": [
    "diagnostics = pystan.check_hmc_diagnostics(fit, per_chain=True)"
   ]
  },
  {
   "cell_type": "code",
   "execution_count": 47,
   "metadata": {},
   "outputs": [
    {
     "data": {
      "text/plain": [
       "{'n_eff': True,\n",
       " 'Rhat': True,\n",
       " 'divergence': True,\n",
       " 'treedepth': True,\n",
       " 'energy': True}"
      ]
     },
     "execution_count": 47,
     "metadata": {},
     "output_type": "execute_result"
    }
   ],
   "source": [
    "diagnostics"
   ]
  },
  {
   "cell_type": "code",
   "execution_count": 48,
   "metadata": {},
   "outputs": [
    {
     "data": {
      "text/plain": [
       "'1.0002'"
      ]
     },
     "execution_count": 48,
     "metadata": {},
     "output_type": "execute_result"
    }
   ],
   "source": [
    "model_results_df['Rhat'].max()"
   ]
  },
  {
   "cell_type": "code",
   "execution_count": 49,
   "metadata": {},
   "outputs": [
    {
     "data": {
      "text/plain": [
       "'0.9999'"
      ]
     },
     "execution_count": 49,
     "metadata": {},
     "output_type": "execute_result"
    }
   ],
   "source": [
    "model_results_df['Rhat'].min()"
   ]
  },
  {
   "cell_type": "markdown",
   "metadata": {},
   "source": [
    "# 4. Some plots (thesis)"
   ]
  },
  {
   "cell_type": "code",
   "execution_count": 79,
   "metadata": {},
   "outputs": [
    {
     "data": {
      "image/png": "[encoded data removed]",
      "text/plain": [
       "<Figure size 1080x360 with 10 Axes>"
      ]
     },
     "metadata": {
      "needs_background": "light"
     },
     "output_type": "display_data"
    }
   ],
   "source": [
    "alpha=0.7\n",
    "plt.rcParams.update(plotpars_2x5)\n",
    "\n",
    "plt.subplot(2, 5, 1)\n",
    "sns.kdeplot(posteriors['beta[1]'], shade=True, alpha=alpha, color='gray', label='')\n",
    "plt.axvline(x=0, linewidth=0.8, color='black', linestyle=\"--\")\n",
    "plt.xlabel(r\"$\\beta_{1}$\")\n",
    "plt.ylabel(\"Density\")\n",
    "\n",
    "plt.subplot(2, 5, 2)\n",
    "sns.kdeplot(posteriors['beta[2]'], shade=True, alpha=alpha, color='gray', label='')\n",
    "plt.axvline(x=0, linewidth=0.8, color='black', linestyle=\"--\")\n",
    "plt.xlabel(r\"$\\beta_{2}$\")\n",
    "\n",
    "plt.subplot(2, 5, 3)\n",
    "sns.kdeplot(posteriors['beta[3]'], shade=True, alpha=alpha, color='gray', label='')\n",
    "plt.axvline(x=0, linewidth=0.8, color='black', linestyle=\"--\")\n",
    "plt.xlabel(r\"$\\beta_{3}$\")\n",
    "\n",
    "plt.subplot(2, 5, 4)\n",
    "sns.kdeplot(posteriors['beta[4]'], shade=True, alpha=alpha, color='gray', label='')\n",
    "plt.axvline(x=0, linewidth=0.8, color='black', linestyle=\"--\")\n",
    "plt.xlabel(r\"$\\beta_{4}$\")\n",
    "\n",
    "plt.subplot(2, 5, 5)\n",
    "sns.kdeplot(posteriors['beta[5]'], shade=True, alpha=alpha, color='gray', label='')\n",
    "plt.axvline(x=0, linewidth=0.8, color='black', linestyle=\"--\")\n",
    "plt.xlabel(r\"$\\beta_{5}$\")\n",
    "\n",
    "plt.subplot(2, 5, 6)\n",
    "plt.plot(fit_df['draw'], fit_df['beta[1]'], '-', color='gray', alpha=alpha)\n",
    "plt.xlabel(r\"Iteration\")\n",
    "plt.ylabel(r\"Generated $\\beta$\")\n",
    "\n",
    "plt.subplot(2, 5, 7)\n",
    "plt.plot(fit_df['draw'], fit_df['beta[2]'], '-', color='gray', alpha=alpha)\n",
    "plt.xlabel(r\"Iteration\")\n",
    "\n",
    "plt.subplot(2, 5, 8)\n",
    "plt.plot(fit_df['draw'], fit_df['beta[3]'], '-', color='gray', alpha=alpha)\n",
    "plt.xlabel(r\"Iteration\")\n",
    "\n",
    "plt.subplot(2, 5, 9)\n",
    "plt.plot(fit_df['draw'], fit_df['beta[4]'], '-', color='gray', alpha=alpha)\n",
    "plt.xlabel(r\"Iteration\")\n",
    "\n",
    "plt.subplot(2, 5, 10)\n",
    "plt.plot(fit_df['draw'], fit_df['beta[5]'], '-', color='gray', alpha=alpha)\n",
    "plt.xlabel(r\"Iteration\")\n",
    "\n",
    "plt.tight_layout()\n",
    "\n",
    "plt.savefig(os.path.join(results_path, 'smodel_betas.pdf'))\n",
    "plt.savefig(os.path.join(results_path, 'smodel_betas.png'))\n",
    "plt.show()"
   ]
  },
  {
   "cell_type": "code",
   "execution_count": null,
   "metadata": {},
   "outputs": [],
   "source": []
  }
 ],
 "metadata": {
  "kernelspec": {
   "display_name": "Python 3",
   "language": "python",
   "name": "python3"
  },
  "language_info": {
   "codemirror_mode": {
    "name": "ipython",
    "version": 3
   },
   "file_extension": ".py",
   "mimetype": "text/x-python",
   "name": "python",
   "nbconvert_exporter": "python",
   "pygments_lexer": "ipython3",
   "version": "3.7.7"
  }
 },
 "nbformat": 4,
 "nbformat_minor": 2
}
