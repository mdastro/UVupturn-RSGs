{
 "cells": [
  {
   "cell_type": "markdown",
   "metadata": {},
   "source": [
    "# Packages"
   ]
  },
  {
   "cell_type": "code",
   "execution_count": 1,
   "metadata": {},
   "outputs": [],
   "source": [
    "import numpy              as np\n",
    "import pandas             as pd\n",
    "import matplotlib.pyplot  as plt\n",
    "import seaborn            as sns\n",
    "import arviz\n",
    "import time\n",
    "import os\n",
    "from mpl_toolkits.mplot3d import Axes3D"
   ]
  },
  {
   "cell_type": "markdown",
   "metadata": {},
   "source": [
    "# Paths and dataset"
   ]
  },
  {
   "cell_type": "code",
   "execution_count": 2,
   "metadata": {},
   "outputs": [],
   "source": [
    "results_path = '../../LargeFilesResults/Model'  # where the outputs of this notebook will be saved"
   ]
  },
  {
   "cell_type": "code",
   "execution_count": 3,
   "metadata": {},
   "outputs": [],
   "source": [
    "posteriors = pd.read_csv(os.path.join(results_path, 'posteriors_shared_revised.csv'))\n",
    "summary    = pd.read_csv(os.path.join(results_path, 'fit_summary_shared_revised.csv'))"
   ]
  },
  {
   "cell_type": "code",
   "execution_count": 4,
   "metadata": {},
   "outputs": [],
   "source": [
    "parameters = summary[['LOG_STELLAR_MASS', 'Z']]"
   ]
  },
  {
   "cell_type": "code",
   "execution_count": 5,
   "metadata": {},
   "outputs": [],
   "source": [
    "param_short = parameters.iloc[:900]"
   ]
  },
  {
   "cell_type": "markdown",
   "metadata": {},
   "source": [
    "# Posteriors"
   ]
  },
  {
   "cell_type": "code",
   "execution_count": null,
   "metadata": {},
   "outputs": [],
   "source": [
    "posteriors"
   ]
  },
  {
   "cell_type": "code",
   "execution_count": null,
   "metadata": {},
   "outputs": [],
   "source": [
    "whan_classes = ['Not classified', 'Retired/Passive', 'wAGN', 'sAGN', 'SF']\n",
    "palette      = np.array(['#e41a1c', '#ff7f00', '#4daf4a', '#377eb8','#984ea3'])\n",
    "figsize      = (18, 18)\n",
    "alpha        = 0.4"
   ]
  },
  {
   "cell_type": "code",
   "execution_count": null,
   "metadata": {},
   "outputs": [],
   "source": [
    "dimensions = posteriors.columns.values.reshape(5,5)\n",
    "rows       = dimensions[:,0].size\n",
    "columns    = dimensions[0,:].size"
   ]
  },
  {
   "cell_type": "code",
   "execution_count": null,
   "metadata": {},
   "outputs": [],
   "source": [
    "plt.subplots(figsize=figsize)\n",
    "position = 1\n",
    "for each_beta in range(rows):\n",
    "    for each_class in range(columns):\n",
    "        name_temp = posteriors.columns.values.reshape(rows, columns)[each_beta,each_class]\n",
    "        plot_temp = plt.subplot(rows, columns, position)\n",
    "        sns.kdeplot(posteriors['%s' % str(name_temp)], shade=True, alpha=alpha, color=palette[each_beta])\n",
    "        plt.legend(loc='upper right', fontsize=15)\n",
    "        plt.axvline(x=0, linestyle=\"--\", color='black')\n",
    "        plt.xlabel(r\"%s\" % str(name_temp), fontsize=20)\n",
    "        plt.tick_params('both', labelsize='20')\n",
    "        plt.xlim([-1.5,1.5])\n",
    "        plt.ylim([0,4.5])      \n",
    "        if (each_class==0):\n",
    "            plt.ylabel(\"$\\,$ WHAN \\n %s\" % whan_classes[each_beta], fontsize=20)       \n",
    "        elif (each_class!=0): \n",
    "            plot_temp.yaxis.set_visible(False)            \n",
    "        position+=1\n",
    "\n",
    "plt.tight_layout()\n",
    "plt.savefig(os.path.join(results_path, '25betas_shared_revised.png'), bbox_inch='tight')\n",
    "plt.savefig(os.path.join(results_path, '25betas_shared_revised.pdf'), bbox_inch='tight')\n",
    "plt.show()"
   ]
  },
  {
   "cell_type": "markdown",
   "metadata": {},
   "source": [
    "# Simplifying the probabilities' dataframe"
   ]
  },
  {
   "cell_type": "code",
   "execution_count": null,
   "metadata": {},
   "outputs": [],
   "source": [
    "entire_fit = pd.read_csv(os.path.join(results_path, 'entirefit_shared_revised.csv'))"
   ]
  },
  {
   "cell_type": "code",
   "execution_count": null,
   "metadata": {},
   "outputs": [],
   "source": [
    "entire_fit.keys()"
   ]
  },
  {
   "cell_type": "code",
   "execution_count": null,
   "metadata": {},
   "outputs": [],
   "source": [
    "header = np.array(entire_fit.keys())"
   ]
  },
  {
   "cell_type": "code",
   "execution_count": null,
   "metadata": {},
   "outputs": [],
   "source": [
    "prob_keys = []\n",
    "for i in header:\n",
    "    if i[0:4]=='prob':\n",
    "        prob_keys.append(i)\n",
    "    else:\n",
    "        continue"
   ]
  },
  {
   "cell_type": "code",
   "execution_count": null,
   "metadata": {},
   "outputs": [],
   "source": [
    "probabilities = entire_fit[prob_keys]"
   ]
  },
  {
   "cell_type": "code",
   "execution_count": null,
   "metadata": {},
   "outputs": [],
   "source": [
    "probabilities"
   ]
  },
  {
   "cell_type": "code",
   "execution_count": null,
   "metadata": {},
   "outputs": [],
   "source": [
    "probabilities_transposed = probabilities.T"
   ]
  },
  {
   "cell_type": "code",
   "execution_count": null,
   "metadata": {},
   "outputs": [],
   "source": [
    "print(probabilities_transposed.columns)"
   ]
  },
  {
   "cell_type": "code",
   "execution_count": null,
   "metadata": {},
   "outputs": [],
   "source": [
    "iterations = probabilities_transposed.columns.size\n",
    "new_header = []\n",
    "for i in range(iterations):\n",
    "    new_header.append('itr%i' % i)\n",
    "print(len(new_header))"
   ]
  },
  {
   "cell_type": "code",
   "execution_count": null,
   "metadata": {},
   "outputs": [],
   "source": [
    "probabilities_transposed.columns = new_header"
   ]
  },
  {
   "cell_type": "code",
   "execution_count": null,
   "metadata": {},
   "outputs": [],
   "source": [
    "probabilities_transposed"
   ]
  },
  {
   "cell_type": "code",
   "execution_count": null,
   "metadata": {},
   "outputs": [],
   "source": [
    "percentiles = [0.025, 0.25, 0.50, 0.75, 0.975]"
   ]
  },
  {
   "cell_type": "code",
   "execution_count": null,
   "metadata": {},
   "outputs": [],
   "source": [
    "lines = probabilities_transposed.iloc[:, 0].size\n",
    "\n",
    "for i in range(lines):   \n",
    "    if i==0:\n",
    "        stats_temp    = probabilities_transposed.iloc[i, :].describe(percentiles=percentiles)\n",
    "        shrinked_temp = pd.DataFrame(stats_temp)\n",
    "    else:\n",
    "        stats_temp    = pd.DataFrame(probabilities_transposed.iloc[i, :].describe(percentiles=percentiles))\n",
    "        shrinked_temp = shrinked_temp.join(stats_temp)\n",
    "shrinked_df = shrinked_temp.T\n",
    "shrinked_df"
   ]
  },
  {
   "cell_type": "code",
   "execution_count": null,
   "metadata": {},
   "outputs": [],
   "source": [
    "print(shrinked_df.values.shape, parameters.shape)"
   ]
  },
  {
   "cell_type": "code",
   "execution_count": null,
   "metadata": {},
   "outputs": [],
   "source": [
    "loc = shrinked_df.iloc[0, :].size\n",
    "print(loc)"
   ]
  },
  {
   "cell_type": "code",
   "execution_count": null,
   "metadata": {},
   "outputs": [],
   "source": [
    "shrinked_df.insert(loc=loc, value=parameters['LOG_STELLAR_MASS'].values, column='LOG_STELLAR_MASS')"
   ]
  },
  {
   "cell_type": "code",
   "execution_count": null,
   "metadata": {},
   "outputs": [],
   "source": [
    "shrinked_df.insert(loc=(loc+1), value=parameters['Z'].values, column='Z')"
   ]
  },
  {
   "cell_type": "code",
   "execution_count": null,
   "metadata": {},
   "outputs": [],
   "source": [
    "shrinked_df"
   ]
  },
  {
   "cell_type": "code",
   "execution_count": null,
   "metadata": {},
   "outputs": [],
   "source": [
    "shrinked_df.to_csv(os.path.join(results_path, 'allprobabilities_summ_revised.csv'))"
   ]
  },
  {
   "cell_type": "code",
   "execution_count": null,
   "metadata": {},
   "outputs": [],
   "source": [
    "step = 900\n",
    "prob01 = shrinked_df.iloc[:step, :]\n",
    "prob02 = shrinked_df.iloc[step:(step*2), :]\n",
    "prob03 = shrinked_df.iloc[(step*2):(step*3), :]\n",
    "prob04 = shrinked_df.iloc[(step*3):(step*4), :]\n",
    "prob05 = shrinked_df.iloc[(step*4):(step*5), :]"
   ]
  },
  {
   "cell_type": "markdown",
   "metadata": {},
   "source": [
    "### Testing first class"
   ]
  },
  {
   "cell_type": "code",
   "execution_count": null,
   "metadata": {},
   "outputs": [],
   "source": [
    "zu = np.unique(prob01['LOG_STELLAR_MASS'].values)"
   ]
  },
  {
   "cell_type": "code",
   "execution_count": null,
   "metadata": {},
   "outputs": [],
   "source": [
    "subset = prob01[prob01['LOG_STELLAR_MASS'].values==zu[6]]"
   ]
  },
  {
   "cell_type": "code",
   "execution_count": null,
   "metadata": {},
   "outputs": [],
   "source": [
    "plt.plot(subset['Z'], subset['50%'], '--')\n",
    "plt.plot(subset['Z'], subset['25%'], '--')\n",
    "plt.plot(subset['Z'], subset['75%'], '--')\n",
    "plt.ylim([0,0.5])\n",
    "plt.show()"
   ]
  },
  {
   "cell_type": "code",
   "execution_count": null,
   "metadata": {},
   "outputs": [],
   "source": [
    "np.unique(prob01['Z'].values)"
   ]
  },
  {
   "cell_type": "code",
   "execution_count": null,
   "metadata": {},
   "outputs": [],
   "source": [
    "subset = prob01[prob01['Z']<0.07]"
   ]
  },
  {
   "cell_type": "code",
   "execution_count": null,
   "metadata": {},
   "outputs": [],
   "source": [
    "subset"
   ]
  },
  {
   "cell_type": "code",
   "execution_count": null,
   "metadata": {},
   "outputs": [],
   "source": [
    "plt.plot(subset['LOG_STELLAR_MASS'], subset['mean'], '--')\n",
    "plt.plot(subset['LOG_STELLAR_MASS'], subset['25%'], '--')\n",
    "plt.plot(subset['LOG_STELLAR_MASS'], subset['75%'], '--')\n",
    "plt.show()"
   ]
  },
  {
   "cell_type": "markdown",
   "metadata": {},
   "source": [
    "# Checking automatic summary from STAN"
   ]
  },
  {
   "cell_type": "code",
   "execution_count": null,
   "metadata": {},
   "outputs": [],
   "source": [
    "summary_stan = pd.read_csv(os.path.join(results_path, 'fit_summary_shared_revised.csv'))"
   ]
  },
  {
   "cell_type": "code",
   "execution_count": null,
   "metadata": {
    "scrolled": true
   },
   "outputs": [],
   "source": [
    "summary_stan"
   ]
  },
  {
   "cell_type": "code",
   "execution_count": null,
   "metadata": {},
   "outputs": [],
   "source": [
    "prob01_stan = summary_stan.iloc[:900, :]"
   ]
  },
  {
   "cell_type": "code",
   "execution_count": null,
   "metadata": {
    "scrolled": true
   },
   "outputs": [],
   "source": [
    "prob01_stan"
   ]
  },
  {
   "cell_type": "code",
   "execution_count": null,
   "metadata": {},
   "outputs": [],
   "source": [
    "chosen_mass = np.unique(prob01_stan['LOG_STELLAR_MASS'].values)[12]"
   ]
  },
  {
   "cell_type": "code",
   "execution_count": null,
   "metadata": {},
   "outputs": [],
   "source": [
    "chosen_mass"
   ]
  },
  {
   "cell_type": "code",
   "execution_count": null,
   "metadata": {},
   "outputs": [],
   "source": [
    "subset_temp = prob01_stan[prob01_stan['LOG_STELLAR_MASS']==chosen_mass]"
   ]
  },
  {
   "cell_type": "code",
   "execution_count": null,
   "metadata": {},
   "outputs": [],
   "source": [
    "# subset_temp"
   ]
  },
  {
   "cell_type": "code",
   "execution_count": null,
   "metadata": {},
   "outputs": [],
   "source": [
    "# plt.plot(subset_temp['Z'], subset_temp['50%'], '--')\n",
    "# plt.plot(subset_temp['Z'], subset_temp['25%'], '--')\n",
    "# plt.plot(subset_temp['Z'], subset_temp['75%'], '--')\n",
    "# plt.plot(subset_temp['Z'], subset_temp['2.5%'], '--')\n",
    "# plt.plot(subset_temp['Z'], subset_temp['97.5%'], '--')\n",
    "# plt.show()"
   ]
  },
  {
   "cell_type": "code",
   "execution_count": null,
   "metadata": {},
   "outputs": [],
   "source": [
    "# %matplotlib notebook"
   ]
  },
  {
   "cell_type": "code",
   "execution_count": null,
   "metadata": {},
   "outputs": [],
   "source": [
    "# fig = plt.figure()\n",
    "# ax = fig.add_subplot(111, projection='3d')\n",
    "# ax.plot_trisurf(prob01_stan['Z'], prob01_stan['LOG_STELLAR_MASS'], prob01_stan['mean'], color='#a6611a', alpha=0.8, \n",
    "#                 linewidth=0, antialiased=False)\n",
    "# ax.plot_trisurf(prob01['Z'], prob01['LOG_STELLAR_MASS'], prob01['mean'], color='blue', alpha=0.8, \n",
    "#                 linewidth=0, antialiased=False)\n",
    "# ax.set_xlabel(\"\\n z\", fontsize=14)\n",
    "# ax.set_ylabel(\"\\n Log M$_*$ (M$_\\odot$)\", fontsize=14)\n",
    "# ax.set_zlabel(\"\\n Probability of \\n UV upturn\", fontsize=14)\n",
    "# for t in ax.yaxis.get_major_ticks(): t.label.set_fontsize(10)\n",
    "# ax.set_yticks([9.75, 10.25, 10.75, 11.25, 11.75])\n",
    "# ax.view_init(elev=22., azim=315)\n",
    "# plt.show()"
   ]
  },
  {
   "cell_type": "code",
   "execution_count": null,
   "metadata": {
    "scrolled": true
   },
   "outputs": [],
   "source": [
    "# prob01.boxplot(column='50%')"
   ]
  },
  {
   "cell_type": "code",
   "execution_count": null,
   "metadata": {},
   "outputs": [],
   "source": [
    "# prob01_stan.boxplot(column='50%')"
   ]
  },
  {
   "cell_type": "markdown",
   "metadata": {},
   "source": [
    "# Last check to be 100% sure (for one class - class 1 - lineless)"
   ]
  },
  {
   "cell_type": "code",
   "execution_count": 50,
   "metadata": {},
   "outputs": [],
   "source": [
    "m = 0.01\n",
    "z = np.arange(0., 0.35, 0.01)\n",
    "p = posteriors"
   ]
  },
  {
   "cell_type": "code",
   "execution_count": 51,
   "metadata": {},
   "outputs": [],
   "source": [
    "# regression = []\n",
    "regression_temp = []\n",
    "for i in range(p['beta[1,1]'].values.size):\n",
    "    for redshift in range(z.size):\n",
    "        a = p['beta[1,1]'].values[i]\n",
    "        b = p['beta[2,1]'].values[i] * z[redshift]\n",
    "        c = p['beta[3,1]'].values[i] * z[redshift]**2\n",
    "        d = p['beta[4,1]'].values[i] * m\n",
    "        e = p['beta[5,1]'].values[i] * m**2\n",
    "        \n",
    "        f_x = np.sum([a,b,c,d,e])\n",
    "        p_i = 1./(1+np.exp(-f_x))\n",
    "        \n",
    "        \n",
    "        \n",
    "        \n",
    "        regression_temp.append([p_i, z[redshift], int(i)])\n",
    "regression = np.array(regression_temp)"
   ]
  },
  {
   "cell_type": "code",
   "execution_count": 52,
   "metadata": {},
   "outputs": [],
   "source": [
    "prob  = regression[:,0]\n",
    "redsh = regression[:,1]\n",
    "beta  = regression[:,2]"
   ]
  },
  {
   "cell_type": "code",
   "execution_count": 53,
   "metadata": {},
   "outputs": [],
   "source": [
    "idx = np.where(beta<=10)"
   ]
  },
  {
   "cell_type": "code",
   "execution_count": 54,
   "metadata": {},
   "outputs": [
    {
     "data": {
      "image/png": "[encoded data removed]",
      "text/plain": [
       "<Figure size 432x288 with 1 Axes>"
      ]
     },
     "metadata": {
      "needs_background": "light"
     },
     "output_type": "display_data"
    }
   ],
   "source": [
    "plt.plot(redsh[idx], prob[idx], '-', alpha=0.8)\n",
    "plt.xlabel(\"Z\")\n",
    "plt.ylabel(\"prob\")\n",
    "plt.ylim([0,1.1])\n",
    "plt.show()"
   ]
  },
  {
   "cell_type": "code",
   "execution_count": null,
   "metadata": {},
   "outputs": [],
   "source": []
  }
 ],
 "metadata": {
  "kernelspec": {
   "display_name": "Python 3",
   "language": "python",
   "name": "python3"
  },
  "language_info": {
   "codemirror_mode": {
    "name": "ipython",
    "version": 3
   },
   "file_extension": ".py",
   "mimetype": "text/x-python",
   "name": "python",
   "nbconvert_exporter": "python",
   "pygments_lexer": "ipython3",
   "version": "3.6.6"
  }
 },
 "nbformat": 4,
 "nbformat_minor": 2
}
