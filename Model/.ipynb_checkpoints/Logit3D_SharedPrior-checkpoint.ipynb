{
 "cells": [
  {
   "cell_type": "markdown",
   "metadata": {},
   "source": [
    "# Libraries"
   ]
  },
  {
   "cell_type": "code",
   "execution_count": 1,
   "metadata": {},
   "outputs": [],
   "source": [
    "import numpy             as np\n",
    "import pandas            as pd\n",
    "import matplotlib.pyplot as plt\n",
    "import statsmodels.api   as sm\n",
    "import seaborn           as sns\n",
    "import pystan"
   ]
  },
  {
   "cell_type": "markdown",
   "metadata": {},
   "source": [
    "# Configuring the regression parameters"
   ]
  },
  {
   "cell_type": "code",
   "execution_count": 3,
   "metadata": {},
   "outputs": [],
   "source": [
    "my_data = pd.read_csv('../../Catalogue/binom_reg_dataset.csv')"
   ]
  },
  {
   "cell_type": "code",
   "execution_count": 5,
   "metadata": {},
   "outputs": [],
   "source": [
    "# filtering the dataset\n",
    "redshifts = my_data['Z']\n",
    "index     = np.where(redshifts.values<=0.4)\n",
    "\n",
    "# parameters of interest\n",
    "logit_class = my_data['LOGIT_CLASS(1-UVUP;0-UVWEAK)'].values[index]    # y axis: logit class -- uv upturn yes or no\n",
    "whan_class  = my_data['WHAN(0-NA;1-RP;2-wA;3-sA;4-SF)'].values[index]  # 1st parameter\n",
    "redshift    = redshifts.values[index]                                  # 2nd parameter"
   ]
  },
  {
   "cell_type": "code",
   "execution_count": 6,
   "metadata": {},
   "outputs": [],
   "source": [
    "# original parameters\n",
    "x1    = redshift\n",
    "x2    = whan_class\n",
    "y     = logit_class\n",
    "n_obs = x1.size\n",
    "\n",
    "# new parameters - important for plotting!\n",
    "n_obs2 = 50\n",
    "x1_sim = np.linspace(x1.min(), x1.max(), n_obs2)\n",
    "x2_sim = np.linspace(x2.min(), x2.max(), n_obs2)\n",
    "\n",
    "plot_x1, plot_x2 = np.meshgrid(x1_sim, x2_sim)  # THIS IS WHERE THE GRID IS DONE\n",
    "   \n",
    "plot_x1 = plot_x1.reshape(2500, 1)\n",
    "plot_x2 = plot_x2.reshape(2500, 1)\n",
    "\n",
    "# dataset to be used in the regression\n",
    "regression_data         = {}     # the regression data must be in the shape of a dictionary, as stated in the pystan manual\n",
    "regression_data['K']    = 4      # number of betas\n",
    "regression_data['X']    = sm.add_constant(np.column_stack((x1, x1**2, x2)))\n",
    "regression_data['N']    = n_obs\n",
    "regression_data['Y']    = y\n",
    "regression_data['LogN'] = np.log(n_obs)\n",
    "regression_data['X2']   = sm.add_constant(np.column_stack((plot_x1, plot_x1**2, plot_x2)))\n",
    "regression_data['N2']   = n_obs2**2"
   ]
  },
  {
   "cell_type": "code",
   "execution_count": 7,
   "metadata": {},
   "outputs": [
    {
     "name": "stdout",
     "output_type": "stream",
     "text": [
      "(2500, 4)\n"
     ]
    }
   ],
   "source": [
    "print regression_data['X2'].shape"
   ]
  },
  {
   "cell_type": "code",
   "execution_count": 8,
   "metadata": {},
   "outputs": [],
   "source": [
    "# Fit: STAN code -----------------------------------------------------------------------------------------------\n",
    "stan_code = \"\"\"\n",
    "data{\n",
    "    int<lower=0> N;\n",
    "    int<lower=0> N2;\n",
    "    int<lower=0> K;\n",
    "    int Y[N];\n",
    "    matrix[N,K] X;\n",
    "    matrix[N2,K] X2;\n",
    "    real LogN;\n",
    "    }\n",
    "\n",
    "parameters{\n",
    "    vector[K] beta;\n",
    "    }\n",
    "\n",
    "transformed parameters{\n",
    "    vector[N] eta;\n",
    "    eta = X * beta;\n",
    "    }\n",
    "\n",
    "model{\n",
    "    tau ~ gamma(1E3,1E3);   //tau and mu config the shared priors\n",
    "    mu ~ normal(0,1-E3)\n",
    "    Y ~ bernoulli_logit(eta);\n",
    "    }\n",
    "\n",
    "generated quantities{\n",
    "    vector[N2] etanew;\n",
    "    real<lower=0, upper=1.0> pnew[N2];\n",
    "    etanew = X2 * beta;\n",
    "    for (j in 1:N2){\n",
    "    pnew[j] = inv_logit(etanew[j]);\n",
    "    }\n",
    "\n",
    "\"\"\""
   ]
  },
  {
   "cell_type": "code",
   "execution_count": null,
   "metadata": {},
   "outputs": [],
   "source": [
    "fit = pystan.stan(model_code=stan_code, data=regression_data, iter=5000, chains=3, warmup=2000, n_jobs=1)"
   ]
  }
 ],
 "metadata": {
  "kernelspec": {
   "display_name": "Python 2",
   "language": "python",
   "name": "python2"
  },
  "language_info": {
   "codemirror_mode": {
    "name": "ipython",
    "version": 2
   },
   "file_extension": ".py",
   "mimetype": "text/x-python",
   "name": "python",
   "nbconvert_exporter": "python",
   "pygments_lexer": "ipython2",
   "version": "2.7.15"
  }
 },
 "nbformat": 4,
 "nbformat_minor": 2
}
