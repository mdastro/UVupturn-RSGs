{
 "cells": [
  {
   "cell_type": "markdown",
   "metadata": {},
   "source": [
    "# Packages"
   ]
  },
  {
   "cell_type": "code",
   "execution_count": 16,
   "metadata": {},
   "outputs": [],
   "source": [
    "import numpy              as np\n",
    "import pandas             as pd\n",
    "import matplotlib.pyplot  as plt\n",
    "import seaborn            as sns\n",
    "import scipy.interpolate  as s\n",
    "import arviz\n",
    "import time\n",
    "import os\n",
    "from mpl_toolkits.mplot3d import Axes3D"
   ]
  },
  {
   "cell_type": "markdown",
   "metadata": {},
   "source": [
    "# Paths and dataset"
   ]
  },
  {
   "cell_type": "code",
   "execution_count": 2,
   "metadata": {},
   "outputs": [],
   "source": [
    "results_path = '../../LargeFilesResults/Model'  # where the outputs of this notebook will be saved"
   ]
  },
  {
   "cell_type": "code",
   "execution_count": 3,
   "metadata": {},
   "outputs": [],
   "source": [
    "my_summary = pd.read_csv(os.path.join(results_path, 'allprobabilities_summ_rmshared_revised.csv'), \n",
    "                         index_col=\"Unnamed: 0\")\n",
    "posteriors = pd.read_csv(os.path.join(results_path, 'posteriors_rmshared_revised.csv'))"
   ]
  },
  {
   "cell_type": "markdown",
   "metadata": {},
   "source": [
    "# Posteriors"
   ]
  },
  {
   "cell_type": "code",
   "execution_count": null,
   "metadata": {},
   "outputs": [],
   "source": [
    "whan_classes = ['Not classified', 'Retired/Passive', 'wAGN', 'sAGN', 'SF']\n",
    "palette      = np.array(['#8c510a','#bf812d','#80cdc1','#35978f','#01665e'])\n",
    "figsize      = (15, 15)\n",
    "alpha        = 0.6"
   ]
  },
  {
   "cell_type": "code",
   "execution_count": null,
   "metadata": {},
   "outputs": [],
   "source": [
    "dimensions = posteriors.columns.values.reshape(5,5)\n",
    "rows       = dimensions[:,0].size\n",
    "columns    = dimensions[0,:].size"
   ]
  },
  {
   "cell_type": "code",
   "execution_count": null,
   "metadata": {},
   "outputs": [],
   "source": [
    "plt.subplots(figsize=figsize)\n",
    "position = 1\n",
    "for each_beta in range(rows):\n",
    "    for each_class in range(columns):\n",
    "        name_temp = posteriors.columns.values.reshape(rows, columns)[each_beta,each_class]\n",
    "        plot_temp = plt.subplot(rows, columns, position)\n",
    "        sns.kdeplot(posteriors['%s' % str(name_temp)], shade=True, alpha=alpha, color=palette[each_beta])\n",
    "        plt.legend(loc='upper right', fontsize=15)\n",
    "        plt.axvline(x=0, linestyle=\"--\", color='black')\n",
    "        plt.xlabel(r\"%s\" % str(name_temp), fontsize=20)\n",
    "        plt.tick_params('both', labelsize='20')\n",
    "        plt.xlim([-1.8,1.8])\n",
    "        plt.ylim([0,3.])      \n",
    "        if (each_class==0):\n",
    "            plt.ylabel(\"$\\,$ WHAN \\n %s\" % whan_classes[each_beta], fontsize=20)       \n",
    "        elif (each_class!=0): \n",
    "            plot_temp.yaxis.set_visible(False)            \n",
    "        position+=1\n",
    "\n",
    "plt.tight_layout(w_pad=0)\n",
    "plt.savefig(os.path.join(results_path, '25betas_rmshared_revised.png'), bbox_inch='tight')\n",
    "plt.savefig(os.path.join(results_path, '25betas_rmshared_revised.pdf'), bbox_inch='tight')\n",
    "plt.show()"
   ]
  },
  {
   "cell_type": "markdown",
   "metadata": {},
   "source": [
    "# Probability x Mass"
   ]
  },
  {
   "cell_type": "code",
   "execution_count": 4,
   "metadata": {},
   "outputs": [],
   "source": [
    "header = my_summary.keys()"
   ]
  },
  {
   "cell_type": "code",
   "execution_count": 5,
   "metadata": {},
   "outputs": [],
   "source": [
    "class01, class02, class03, class04, class05 = np.split(my_summary.values, 5)"
   ]
  },
  {
   "cell_type": "code",
   "execution_count": 9,
   "metadata": {},
   "outputs": [],
   "source": [
    "class01_df = pd.DataFrame(class01)\n",
    "class01_df.columns = header"
   ]
  },
  {
   "cell_type": "code",
   "execution_count": 10,
   "metadata": {},
   "outputs": [],
   "source": [
    "class02_df = pd.DataFrame(class02)\n",
    "class02_df.columns = header"
   ]
  },
  {
   "cell_type": "code",
   "execution_count": 11,
   "metadata": {},
   "outputs": [],
   "source": [
    "class03_df = pd.DataFrame(class03)\n",
    "class03_df.columns = header"
   ]
  },
  {
   "cell_type": "code",
   "execution_count": 12,
   "metadata": {},
   "outputs": [],
   "source": [
    "class04_df = pd.DataFrame(class04)\n",
    "class04_df.columns = header"
   ]
  },
  {
   "cell_type": "code",
   "execution_count": 14,
   "metadata": {},
   "outputs": [],
   "source": [
    "class05_df = pd.DataFrame(class05)\n",
    "class05_df.columns = header"
   ]
  },
  {
   "cell_type": "code",
   "execution_count": 15,
   "metadata": {},
   "outputs": [
    {
     "data": {
      "image/png": "[encoded data removed]",
      "text/plain": [
       "<Figure size 432x288 with 1 Axes>"
      ]
     },
     "metadata": {
      "needs_background": "light"
     },
     "output_type": "display_data"
    }
   ],
   "source": [
    "plt.plot(class01_df[\"LOG_STELLAR_MASS\"], class01_df[\"50%\"], '.')\n",
    "plt.show()"
   ]
  },
  {
   "cell_type": "code",
   "execution_count": 24,
   "metadata": {},
   "outputs": [
    {
     "data": {
      "text/html": [
       "<div>\n",
       "<style scoped>\n",
       "    .dataframe tbody tr th:only-of-type {\n",
       "        vertical-align: middle;\n",
       "    }\n",
       "\n",
       "    .dataframe tbody tr th {\n",
       "        vertical-align: top;\n",
       "    }\n",
       "\n",
       "    .dataframe thead th {\n",
       "        text-align: right;\n",
       "    }\n",
       "</style>\n",
       "<table border=\"1\" class=\"dataframe\">\n",
       "  <thead>\n",
       "    <tr style=\"text-align: right;\">\n",
       "      <th></th>\n",
       "      <th>count</th>\n",
       "      <th>mean</th>\n",
       "      <th>std</th>\n",
       "      <th>min</th>\n",
       "      <th>2.5%</th>\n",
       "      <th>25%</th>\n",
       "      <th>50%</th>\n",
       "      <th>75%</th>\n",
       "      <th>97.5%</th>\n",
       "      <th>max</th>\n",
       "      <th>LOG_STELLAR_MASS</th>\n",
       "      <th>Z</th>\n",
       "    </tr>\n",
       "  </thead>\n",
       "  <tbody>\n",
       "    <tr>\n",
       "      <th>count</th>\n",
       "      <td>900.0</td>\n",
       "      <td>900.000000</td>\n",
       "      <td>900.000000</td>\n",
       "      <td>900.000000</td>\n",
       "      <td>900.000000</td>\n",
       "      <td>900.000000</td>\n",
       "      <td>900.000000</td>\n",
       "      <td>900.000000</td>\n",
       "      <td>900.000000</td>\n",
       "      <td>900.000000</td>\n",
       "      <td>900.000000</td>\n",
       "      <td>900.000000</td>\n",
       "    </tr>\n",
       "    <tr>\n",
       "      <th>mean</th>\n",
       "      <td>10000.0</td>\n",
       "      <td>0.319940</td>\n",
       "      <td>0.105929</td>\n",
       "      <td>0.074920</td>\n",
       "      <td>0.146908</td>\n",
       "      <td>0.240624</td>\n",
       "      <td>0.309138</td>\n",
       "      <td>0.388865</td>\n",
       "      <td>0.549514</td>\n",
       "      <td>0.733883</td>\n",
       "      <td>10.000000</td>\n",
       "      <td>0.313695</td>\n",
       "    </tr>\n",
       "    <tr>\n",
       "      <th>std</th>\n",
       "      <td>0.0</td>\n",
       "      <td>0.080668</td>\n",
       "      <td>0.047554</td>\n",
       "      <td>0.062069</td>\n",
       "      <td>0.090683</td>\n",
       "      <td>0.090693</td>\n",
       "      <td>0.084498</td>\n",
       "      <td>0.089706</td>\n",
       "      <td>0.132477</td>\n",
       "      <td>0.147048</td>\n",
       "      <td>0.597259</td>\n",
       "      <td>0.146779</td>\n",
       "    </tr>\n",
       "    <tr>\n",
       "      <th>min</th>\n",
       "      <td>10000.0</td>\n",
       "      <td>0.224528</td>\n",
       "      <td>0.052316</td>\n",
       "      <td>0.000162</td>\n",
       "      <td>0.014212</td>\n",
       "      <td>0.124739</td>\n",
       "      <td>0.219009</td>\n",
       "      <td>0.263835</td>\n",
       "      <td>0.345942</td>\n",
       "      <td>0.445477</td>\n",
       "      <td>9.000000</td>\n",
       "      <td>0.067940</td>\n",
       "    </tr>\n",
       "    <tr>\n",
       "      <th>25%</th>\n",
       "      <td>10000.0</td>\n",
       "      <td>0.259863</td>\n",
       "      <td>0.071845</td>\n",
       "      <td>0.013961</td>\n",
       "      <td>0.071034</td>\n",
       "      <td>0.168877</td>\n",
       "      <td>0.247950</td>\n",
       "      <td>0.315846</td>\n",
       "      <td>0.441965</td>\n",
       "      <td>0.633123</td>\n",
       "      <td>9.482759</td>\n",
       "      <td>0.186580</td>\n",
       "    </tr>\n",
       "    <tr>\n",
       "      <th>50%</th>\n",
       "      <td>10000.0</td>\n",
       "      <td>0.292560</td>\n",
       "      <td>0.090964</td>\n",
       "      <td>0.072677</td>\n",
       "      <td>0.141342</td>\n",
       "      <td>0.211260</td>\n",
       "      <td>0.273654</td>\n",
       "      <td>0.366726</td>\n",
       "      <td>0.527405</td>\n",
       "      <td>0.728624</td>\n",
       "      <td>10.000000</td>\n",
       "      <td>0.313695</td>\n",
       "    </tr>\n",
       "    <tr>\n",
       "      <th>75%</th>\n",
       "      <td>10000.0</td>\n",
       "      <td>0.354799</td>\n",
       "      <td>0.119578</td>\n",
       "      <td>0.110805</td>\n",
       "      <td>0.205564</td>\n",
       "      <td>0.296386</td>\n",
       "      <td>0.350217</td>\n",
       "      <td>0.449378</td>\n",
       "      <td>0.648956</td>\n",
       "      <td>0.843034</td>\n",
       "      <td>10.517241</td>\n",
       "      <td>0.440810</td>\n",
       "    </tr>\n",
       "    <tr>\n",
       "      <th>max</th>\n",
       "      <td>10000.0</td>\n",
       "      <td>0.551509</td>\n",
       "      <td>0.247496</td>\n",
       "      <td>0.232721</td>\n",
       "      <td>0.343612</td>\n",
       "      <td>0.465597</td>\n",
       "      <td>0.554613</td>\n",
       "      <td>0.646681</td>\n",
       "      <td>0.872520</td>\n",
       "      <td>0.992805</td>\n",
       "      <td>11.000000</td>\n",
       "      <td>0.559450</td>\n",
       "    </tr>\n",
       "  </tbody>\n",
       "</table>\n",
       "</div>"
      ],
      "text/plain": [
       "         count        mean         std         min        2.5%         25%  \\\n",
       "count    900.0  900.000000  900.000000  900.000000  900.000000  900.000000   \n",
       "mean   10000.0    0.319940    0.105929    0.074920    0.146908    0.240624   \n",
       "std        0.0    0.080668    0.047554    0.062069    0.090683    0.090693   \n",
       "min    10000.0    0.224528    0.052316    0.000162    0.014212    0.124739   \n",
       "25%    10000.0    0.259863    0.071845    0.013961    0.071034    0.168877   \n",
       "50%    10000.0    0.292560    0.090964    0.072677    0.141342    0.211260   \n",
       "75%    10000.0    0.354799    0.119578    0.110805    0.205564    0.296386   \n",
       "max    10000.0    0.551509    0.247496    0.232721    0.343612    0.465597   \n",
       "\n",
       "              50%         75%       97.5%         max  LOG_STELLAR_MASS  \\\n",
       "count  900.000000  900.000000  900.000000  900.000000        900.000000   \n",
       "mean     0.309138    0.388865    0.549514    0.733883         10.000000   \n",
       "std      0.084498    0.089706    0.132477    0.147048          0.597259   \n",
       "min      0.219009    0.263835    0.345942    0.445477          9.000000   \n",
       "25%      0.247950    0.315846    0.441965    0.633123          9.482759   \n",
       "50%      0.273654    0.366726    0.527405    0.728624         10.000000   \n",
       "75%      0.350217    0.449378    0.648956    0.843034         10.517241   \n",
       "max      0.554613    0.646681    0.872520    0.992805         11.000000   \n",
       "\n",
       "                Z  \n",
       "count  900.000000  \n",
       "mean     0.313695  \n",
       "std      0.146779  \n",
       "min      0.067940  \n",
       "25%      0.186580  \n",
       "50%      0.313695  \n",
       "75%      0.440810  \n",
       "max      0.559450  "
      ]
     },
     "execution_count": 24,
     "metadata": {},
     "output_type": "execute_result"
    }
   ],
   "source": [
    "class01_df.describe()"
   ]
  },
  {
   "cell_type": "code",
   "execution_count": 22,
   "metadata": {},
   "outputs": [],
   "source": [
    "unique_masses = np.unique(class01_df[\"LOG_STELLAR_MASS\"].values)"
   ]
  },
  {
   "cell_type": "code",
   "execution_count": null,
   "metadata": {},
   "outputs": [],
   "source": []
  },
  {
   "cell_type": "code",
   "execution_count": null,
   "metadata": {},
   "outputs": [],
   "source": [
    "for i in range(unique_masses.size):\n",
    "    if class01_df[\"LOG_STELLAR_MASS\"] == unique_masses[i]"
   ]
  }
 ],
 "metadata": {
  "kernelspec": {
   "display_name": "Python 3",
   "language": "python",
   "name": "python3"
  },
  "language_info": {
   "codemirror_mode": {
    "name": "ipython",
    "version": 3
   },
   "file_extension": ".py",
   "mimetype": "text/x-python",
   "name": "python",
   "nbconvert_exporter": "python",
   "pygments_lexer": "ipython3",
   "version": "3.6.6"
  }
 },
 "nbformat": 4,
 "nbformat_minor": 2
}
