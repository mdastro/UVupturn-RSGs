{
 "cells": [
  {
   "cell_type": "code",
   "execution_count": 1,
   "metadata": {},
   "outputs": [
    {
     "name": "stderr",
     "output_type": "stream",
     "text": [
      "/home/mldantas/miniconda2/lib/python2.7/site-packages/matplotlib/font_manager.py:273: UserWarning: Matplotlib is building the font cache using fc-list. This may take a moment.\n",
      "  warnings.warn('Matplotlib is building the font cache using fc-list. This may take a moment.')\n"
     ]
    }
   ],
   "source": [
    "import numpy as np\n",
    "import pandas as pd\n",
    "import matplotlib.pyplot as plt\n",
    "import seaborn as sns\n",
    "import scipy.interpolate as s"
   ]
  },
  {
   "cell_type": "code",
   "execution_count": 2,
   "metadata": {
    "collapsed": true
   },
   "outputs": [],
   "source": [
    "new_probability  = np.loadtxt('./Model/fit_results.csv', delimiter=',', dtype=str)\n",
    "results          = np.loadtxt('./Model/model_prob.csv', delimiter=',', dtype=str)"
   ]
  },
  {
   "cell_type": "code",
   "execution_count": 3,
   "metadata": {
    "collapsed": true
   },
   "outputs": [],
   "source": [
    "my_probability = {}\n",
    "for i in range(len(new_probability[0, :])):                             # Converting numpy array into dictionary\n",
    "    my_probability[new_probability[0, i]] = np.array(new_probability[0 + 1:, i], dtype=str)"
   ]
  },
  {
   "cell_type": "code",
   "execution_count": 4,
   "metadata": {
    "collapsed": true
   },
   "outputs": [],
   "source": [
    "my_results = {}\n",
    "for i in range(len(results[0, :])):                             # Converting numpy array into dictionary\n",
    "    my_results[results[0, i]] = np.array(results[0 + 1:, i], dtype=str)"
   ]
  },
  {
   "cell_type": "code",
   "execution_count": 5,
   "metadata": {
    "collapsed": true
   },
   "outputs": [],
   "source": [
    "parameter    = my_probability['parameter'].astype(str)\n",
    "quartile_1st = my_probability['25%'].astype(float)\n",
    "quartile_2st = my_probability['75%'].astype(float)\n",
    "quantile_25  = my_probability['2.5%'].astype(float)\n",
    "quantile_97  = my_probability['97.5%'].astype(float)\n",
    "mean         = my_probability['mean'].astype(float)"
   ]
  },
  {
   "cell_type": "code",
   "execution_count": 6,
   "metadata": {
    "collapsed": true
   },
   "outputs": [],
   "source": [
    "probability = my_results['pnew'].astype(float)\n",
    "redshift    = my_results['redshift'].astype(float)"
   ]
  },
  {
   "cell_type": "code",
   "execution_count": 7,
   "metadata": {},
   "outputs": [
    {
     "name": "stdout",
     "output_type": "stream",
     "text": [
      "5450\n",
      "1000\n",
      "1000\n"
     ]
    }
   ],
   "source": [
    "print mean.size\n",
    "print probability.size\n",
    "print redshift.size"
   ]
  },
  {
   "cell_type": "code",
   "execution_count": 8,
   "metadata": {},
   "outputs": [
    {
     "name": "stdout",
     "output_type": "stream",
     "text": [
      "pnew[999]\n"
     ]
    }
   ],
   "source": [
    "print parameter[5449]"
   ]
  },
  {
   "cell_type": "code",
   "execution_count": 9,
   "metadata": {},
   "outputs": [
    {
     "name": "stdout",
     "output_type": "stream",
     "text": [
      "4450\n",
      "ok\n",
      "5449\n",
      "ok\n"
     ]
    }
   ],
   "source": [
    "idx_beg = []\n",
    "idx_end = []\n",
    "for i in range(parameter.size):\n",
    "    if (parameter[i]=='pnew[0]'):\n",
    "        idx_beg = int(i)\n",
    "        print idx_beg\n",
    "        print 'ok'\n",
    "    elif (parameter[i]=='pnew[999]'):\n",
    "        idx_end = int(i)\n",
    "        print idx_end\n",
    "        print 'ok'\n",
    "    else:\n",
    "        continue"
   ]
  },
  {
   "cell_type": "code",
   "execution_count": 10,
   "metadata": {
    "collapsed": true
   },
   "outputs": [],
   "source": [
    "new_q1 = quartile_1st[idx_beg:idx_end+1]\n",
    "new_q2 = quartile_2st[idx_beg:idx_end+1]\n",
    "new_25 = quantile_25[idx_beg:idx_end+1]\n",
    "new_97 = quantile_97[idx_beg:idx_end+1]\n",
    "new_param = parameter[idx_beg:idx_end+1]\n",
    "new_mean = mean[idx_beg:idx_end+1]"
   ]
  },
  {
   "cell_type": "code",
   "execution_count": 11,
   "metadata": {
    "collapsed": true
   },
   "outputs": [],
   "source": [
    "# interp_function_01 = s.interp1d(redshift, mean)\n",
    "# new_redshift = np.linspace(redshift.min(), redshift.max(), 200)\n",
    "# new_probability = interp_function_01(new_redshift)\n",
    "# print mean.size"
   ]
  },
  {
   "cell_type": "code",
   "execution_count": 12,
   "metadata": {},
   "outputs": [
    {
     "name": "stdout",
     "output_type": "stream",
     "text": [
      "1000\n"
     ]
    }
   ],
   "source": [
    "print new_mean.size"
   ]
  },
  {
   "cell_type": "code",
   "execution_count": 13,
   "metadata": {},
   "outputs": [
    {
     "name": "stdout",
     "output_type": "stream",
     "text": [
      "1000\n"
     ]
    }
   ],
   "source": [
    "print redshift.size"
   ]
  },
  {
   "cell_type": "code",
   "execution_count": null,
   "metadata": {
    "collapsed": true
   },
   "outputs": [],
   "source": [
    "plt.fill_between??"
   ]
  },
  {
   "cell_type": "code",
   "execution_count": null,
   "metadata": {
    "collapsed": true
   },
   "outputs": [],
   "source": [
    "plot01 = plt.plot(redshift, new_mean, '.', color='#e34a33', alpha=0.4, label='Mean Probability')\n",
    "plot02 = plt.plot(redshift, new_q1, '.', color='#fdbb84', alpha=0.4, label='25%')\n",
    "plot03 = plt.plot(redshift, new_q2, '.', color='#fdbb84', alpha=0.4, label='75%')\n",
    "plot04 = plt.plot(redshift, new_25, '.', color='#fdbb84', alpha=0.2, label='2.5%')\n",
    "plot05 = plt.plot(redshift, new_97, '.', color='#fdbb84', alpha=0.2, label='97.5%' )\n",
    "plt.fill_between(redshift, new_mean, new_q1, color='#fdbb84', alpha=0.4)\n",
    "plt.fill_between(redshift, new_mean, new_q2, color='#fdbb84', alpha=0.4)\n",
    "plt.fill_between(redshift, new_mean, new_25, color='#fdbb84', alpha=0.2)\n",
    "plt.fill_between(redshift, new_mean, new_97, color='#fdbb84', alpha=0.2)\n",
    "plt.ylabel(r\"Probability\", fontsize=20)\n",
    "plt.xlabel(r\"Redshift\", fontsize=20)\n",
    "plt.tick_params('both', labelsize='15')\n",
    "plt.legend(loc='best', fontsize='20')\n",
    "plt.savefig('./Model/results.pdf', dpi=100)\n",
    "plt.show()"
   ]
  },
  {
   "cell_type": "code",
   "execution_count": null,
   "metadata": {
    "collapsed": true
   },
   "outputs": [],
   "source": [
    "my_probability['mean'].size"
   ]
  },
  {
   "cell_type": "code",
   "execution_count": null,
   "metadata": {
    "collapsed": true
   },
   "outputs": [],
   "source": [
    "my_results['redshift'].size"
   ]
  },
  {
   "cell_type": "code",
   "execution_count": null,
   "metadata": {
    "collapsed": true
   },
   "outputs": [],
   "source": []
  }
 ],
 "metadata": {
  "kernelspec": {
   "display_name": "Python 2",
   "language": "python",
   "name": "python2"
  },
  "language_info": {
   "codemirror_mode": {
    "name": "ipython",
    "version": 2
   },
   "file_extension": ".py",
   "mimetype": "text/x-python",
   "name": "python",
   "nbconvert_exporter": "python",
   "pygments_lexer": "ipython2",
   "version": "2.7.6"
  }
 },
 "nbformat": 4,
 "nbformat_minor": 2
}
