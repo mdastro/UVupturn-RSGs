{
 "cells": [
  {
   "cell_type": "markdown",
   "metadata": {},
   "source": [
    "# 1. Functions"
   ]
  },
  {
   "cell_type": "code",
   "execution_count": 1,
   "metadata": {},
   "outputs": [],
   "source": [
    "def standardize(parameter):\n",
    "    \"\"\"\n",
    "    :param parameter: the array with the parameters you wish to standardize\n",
    "    :return param_mean: mean of the input array\n",
    "    :return param_std : standard deviation of the input array\n",
    "    :return stdized_param: final standardized array\n",
    "    \"\"\"\n",
    "    import numpy as np\n",
    "    \n",
    "    param_mean    = np.mean(parameter)\n",
    "    param_std     = np.std(parameter)\n",
    "    stdized_param = []                  # standardized parameter -- output\n",
    "    for i in range(parameter.size):\n",
    "        param_temp = (parameter[i] - param_mean)/param_std\n",
    "        stdized_param.append(param_temp)\n",
    "    stdized_param = np.array(stdized_param)\n",
    "    return (param_mean, param_std, stdized_param)"
   ]
  },
  {
   "cell_type": "code",
   "execution_count": 2,
   "metadata": {},
   "outputs": [],
   "source": [
    "def un_standardize(stdized_par, mean, std):\n",
    "    \"\"\"\n",
    "    This function undoes what the former does!\n",
    "    \"\"\"\n",
    "    \n",
    "    import numpy as np\n",
    "    \n",
    "    recovered_par = []\n",
    "    for i in range(stdized_par.size):\n",
    "        param_temp = stdized_par[i]*std + mean\n",
    "        recovered_par.append(param_temp)\n",
    "    recovered_par = np.array(recovered_par)\n",
    "    return (recovered_par)"
   ]
  },
  {
   "cell_type": "code",
   "execution_count": 3,
   "metadata": {},
   "outputs": [],
   "source": [
    "def print_time(begin_time, end_time):\n",
    "    \"\"\" \n",
    "    This function prints the time in minutes that a certain task took.\n",
    "    \"\"\"\n",
    "    print (\"--------------------------------------------------\")\n",
    "    print (\"CPU process time: %.2f [min]\" % float((end-start)/60))\n",
    "    print (\"--------------------------------------------------\")"
   ]
  },
  {
   "cell_type": "markdown",
   "metadata": {},
   "source": [
    "# 2. Packages"
   ]
  },
  {
   "cell_type": "code",
   "execution_count": 4,
   "metadata": {},
   "outputs": [],
   "source": [
    "import numpy             as np\n",
    "import pandas            as pd\n",
    "import matplotlib.pyplot as plt\n",
    "import statsmodels.api   as sm\n",
    "import seaborn           as sns\n",
    "import arviz\n",
    "import pystan\n",
    "import time"
   ]
  },
  {
   "cell_type": "code",
   "execution_count": null,
   "metadata": {},
   "outputs": [],
   "source": [
    "my_data = pd.read_csv('../../Catalogue/binom_reg_dataset.csv')"
   ]
  },
  {
   "cell_type": "code",
   "execution_count": null,
   "metadata": {},
   "outputs": [],
   "source": [
    "# filtering the dataset\n",
    "redshifts = my_data['Z']\n",
    "index     = np.where(redshifts.values<=0.4)\n",
    "\n",
    "# # parameters of interest\n",
    "logit_class = my_data['LOGIT_CLASS(1-UVUP;0-UVWEAK)'].values[index].astype(int)    # y axis: logit class: UVUP yes/no\n",
    "whan_class  = my_data['WHAN(0-NA;1-RP;2-wA;3-sA;4-SF)'].values[index].astype(int)  # My types of galaxies\n",
    "mass        = my_data['STELLAR_MASS'].values[index].astype(float)                  # 1st parameter\n",
    "redshift    = redshifts.values[index].astype(float)                                # 2nd parameter"
   ]
  },
  {
   "cell_type": "code",
   "execution_count": null,
   "metadata": {},
   "outputs": [],
   "source": [
    "# original parameters\n",
    "mean_mass, std_mass, x2 = standardize(mass)\n",
    "x1      = redshift\n",
    "y       = logit_class\n",
    "classes = (whan_class+1).astype(int)        # Must sum +1 to avoid index issues with STAN\n",
    "n_obs   = x1.size\n",
    "n_class = np.unique(classes).size\n",
    "\n",
    "# new parameters - important for plotting!\n",
    "n_obs2 = 30\n",
    "x1_sim = np.linspace(x1.min(), x1.max(), n_obs2)\n",
    "x2_sim = np.linspace(x2.min(), x2.max(), n_obs2)\n",
    "\n",
    "# grid\n",
    "plot_x1, plot_x2 = np.meshgrid(x1_sim, x2_sim)  # THIS IS WHERE THE GRID IS DONE\n",
    "plot_x1 = plot_x1.reshape((n_obs2**2), 1)\n",
    "plot_x2 = plot_x2.reshape((n_obs2**2), 1)"
   ]
  },
  {
   "cell_type": "code",
   "execution_count": null,
   "metadata": {},
   "outputs": [],
   "source": [
    "# dataset to be used in the regression\n",
    "regression_data      = {}                                                 # Dictionary, as stated in the pystan manual\n",
    "regression_data['Y'] = y\n",
    "regression_data['X'] = sm.add_constant(np.column_stack((x1, x1**2, x2, x2**2)))\n",
    "regression_data['K'] = regression_data['X'][0,:].size                     # Number of betas -- b0, b1, b2, b3, b4\n",
    "regression_data['W'] = classes\n",
    "regression_data['N'] = n_obs\n",
    "regression_data['C'] = n_class                                       # Number of different classes (partial pooling)\n",
    "\n",
    "# dataset to be used in the plot -- after meshgrid\n",
    "regression_data['X2'] = sm.add_constant(np.column_stack((plot_x1, plot_x1**2, plot_x2, plot_x2**2)))\n",
    "regression_data['N2'] = n_obs2**2"
   ]
  },
  {
   "cell_type": "code",
   "execution_count": null,
   "metadata": {},
   "outputs": [
    {
     "data": {
      "text/plain": [
       "array([[ 1.        ,  0.13198   ,  0.01741872, -1.70524698,  2.90786727],\n",
       "       [ 1.        ,  0.1387    ,  0.01923769,  0.1025686 ,  0.01052032],\n",
       "       [ 1.        ,  0.17168   ,  0.02947402,  0.31307328,  0.09801488],\n",
       "       ...,\n",
       "       [ 1.        ,  0.20231   ,  0.04092934,  1.26636376,  1.60367718],\n",
       "       [ 1.        ,  0.20539   ,  0.04218505,  0.55180499,  0.30448875],\n",
       "       [ 1.        ,  0.18752   ,  0.03516375,  0.29910587,  0.08946432]])"
      ]
     },
     "execution_count": 9,
     "metadata": {},
     "output_type": "execute_result"
    }
   ],
   "source": [
    "regression_data['X']"
   ]
  },
  {
   "cell_type": "code",
   "execution_count": null,
   "metadata": {},
   "outputs": [],
   "source": [
    "sns.lmplot(x='STELLAR_MASS', y='LOGIT_CLASS(1-UVUP;0-UVWEAK)', data=my_data.iloc[index], logistic=True)\n",
    "plt.savefig('../../LargeFilesResults/Model/logistic_seaborn.pdf')\n",
    "plt.show()"
   ]
  },
  {
   "cell_type": "markdown",
   "metadata": {},
   "source": [
    "### 2.1 Fit: STAN code "
   ]
  },
  {
   "cell_type": "code",
   "execution_count": null,
   "metadata": {},
   "outputs": [],
   "source": [
    "stan_code = \"\"\"\n",
    "// DECLARATION OF VARIABLES ------------------------------------------------------------------------------------------\n",
    "data{\n",
    "    int<lower=1> N;\n",
    "    int<lower=1> N2;\n",
    "    int<lower=1> K;\n",
    "    int<lower=1> C;\n",
    "    int W[N];\n",
    "    int<lower=0, upper=1> Y[N];\n",
    "    matrix[N, K] X;         // redshift and stellar mass \n",
    "    matrix[N2,K] X2;        // redshift and stellar mass -- after grid\n",
    "    }\n",
    "\n",
    "// DEFINING THE PRIOR(S) ---------------------------------------------------------------------------------------------\n",
    "parameters{\n",
    "    matrix[K,C] beta;         // 25 betas!\n",
    "//    real<lower=0> sigma;    // Shared hyperpriors\n",
    "//    real mu;                // Shared hyperpriors\n",
    "    }\n",
    "\n",
    "// MODEL: PROBABILITY, HYPERPRIORS, PRIORS, AND REGRESSION -----------------------------------------------------------\n",
    "model {\n",
    "   vector[N] prob;\n",
    "    for (i in 1:N) {\n",
    "      prob[i] = beta[1,W[i]]*X[i,1] + beta[2,W[i]]*X[i,2] + beta[3,W[i]]*X[i,3] + beta[4,W[i]]*X[i,4] + \n",
    "      beta[5,W[i]]*X[i,5];\n",
    "      }\n",
    "\n",
    "//    sigma ~ gamma(0.001, 0.001);                           // shared hyperpriors\n",
    "//    mu ~ normal(0, 100);                                   // shared hyperpriors\n",
    "     \n",
    "    for (i in 1:K) {\n",
    "       for (j in 1:C) beta[i,j] ~ normal(0, 100);       // priors\n",
    "        }\n",
    "\n",
    "    Y ~ bernoulli_logit(prob);                             // regression\n",
    "    }\n",
    "\n",
    "// DATA TO BE PLOTTED ------------------------------------------------------------------------------------------------\n",
    "generated quantities{\n",
    "    vector[N2] prob01;\n",
    "    vector[N2] eta01;\n",
    "    vector[N2] prob02;\n",
    "    vector[N2] eta02;\n",
    "    vector[N2] prob03;\n",
    "    vector[N2] eta03;\n",
    "    vector[N2] prob04;\n",
    "    vector[N2] eta04;\n",
    "    vector[N2] prob05;\n",
    "    vector[N2] eta05;\n",
    "    \n",
    "    for(j in 1:N2){\n",
    "        eta01[j] = beta[1,1]*X2[j,1] + beta[2,1]*X2[j,2] + beta[3,1]*X2[j,3] + beta[4,1]*X2[j,4] + beta[5,1]*X2[j,5];\n",
    "        eta02[j] = beta[1,2]*X2[j,1] + beta[2,2]*X2[j,2] + beta[3,2]*X2[j,3] + beta[4,2]*X2[j,4] + beta[5,2]*X2[j,5];\n",
    "        eta03[j] = beta[1,3]*X2[j,1] + beta[2,3]*X2[j,2] + beta[3,3]*X2[j,3] + beta[4,3]*X2[j,4] + beta[5,3]*X2[j,5];\n",
    "        eta04[j] = beta[1,4]*X2[j,1] + beta[2,4]*X2[j,2] + beta[3,4]*X2[j,3] + beta[4,4]*X2[j,4] + beta[5,4]*X2[j,5];\n",
    "        eta05[j] = beta[1,5]*X2[j,1] + beta[2,5]*X2[j,2] + beta[3,5]*X2[j,3] + beta[4,5]*X2[j,4] + beta[5,5]*X2[j,5];\n",
    "        prob01[j] = inv_logit(eta01[j]);\n",
    "        prob02[j] = inv_logit(eta02[j]);\n",
    "        prob03[j] = inv_logit(eta03[j]);\n",
    "        prob04[j] = inv_logit(eta04[j]);\n",
    "        prob05[j] = inv_logit(eta05[j]);\n",
    "        }\n",
    "\n",
    "    }\n",
    "\n",
    "\"\"\""
   ]
  },
  {
   "cell_type": "markdown",
   "metadata": {},
   "source": [
    "### 2.2 Fit settings (for STAN)"
   ]
  },
  {
   "cell_type": "code",
   "execution_count": null,
   "metadata": {},
   "outputs": [],
   "source": [
    "iterations = 5000\n",
    "chains     = 3                           # HMC chains\n",
    "warmup     = 2000                        # How many of the first iterations we'll ignore - burnin\n",
    "jobs       = -1                          # Run code in parallel -- see pystan documentation\n",
    "seed       = 1"
   ]
  },
  {
   "cell_type": "code",
   "execution_count": null,
   "metadata": {},
   "outputs": [],
   "source": [
    "control = {}\n",
    "control['max_treedepth'] = 30\n",
    "control['adapt_delta'] = 0.99"
   ]
  },
  {
   "cell_type": "markdown",
   "metadata": {},
   "source": [
    "### 2.3 Running the fit"
   ]
  },
  {
   "cell_type": "code",
   "execution_count": null,
   "metadata": {},
   "outputs": [],
   "source": [
    "start = time.time()\n",
    "\n",
    "model = pystan.StanModel(model_code=stan_code)\n",
    "\n",
    "end = time.time()\n",
    "print_time(start, end)"
   ]
  },
  {
   "cell_type": "code",
   "execution_count": null,
   "metadata": {},
   "outputs": [],
   "source": [
    "start = time.time()\n",
    "\n",
    "fit = model.sampling(data=regression_data, seed=seed, iter=iterations, chains=chains, warmup=warmup, n_jobs=jobs, \n",
    "                     control=control)\n",
    "end = time.time()\n",
    "print_time(start, end)"
   ]
  },
  {
   "cell_type": "markdown",
   "metadata": {},
   "source": [
    "# 3. Retrieving the data from the fit"
   ]
  },
  {
   "cell_type": "markdown",
   "metadata": {},
   "source": [
    "### 3.1 Saving the entire fit: brace for impact!"
   ]
  },
  {
   "cell_type": "code",
   "execution_count": null,
   "metadata": {},
   "outputs": [],
   "source": [
    "start  = time.time()\n",
    "fit_df = fit.to_dataframe()\n",
    "end    = time.time()\n",
    "print_time(start, end)"
   ]
  },
  {
   "cell_type": "code",
   "execution_count": null,
   "metadata": {},
   "outputs": [],
   "source": [
    "start = time.time()\n",
    "fit_df.to_csv('../../LargeFilesResults/Model/entirefit_rmshared_revised.csv', index=False)\n",
    "end   = time.time()\n",
    "print_time(start, end)"
   ]
  },
  {
   "cell_type": "code",
   "execution_count": null,
   "metadata": {},
   "outputs": [],
   "source": [
    "posteriors = fit_df[fit.flatnames[:25]]\n",
    "header_posteriors = fit.flatnames[:25]"
   ]
  },
  {
   "cell_type": "code",
   "execution_count": null,
   "metadata": {},
   "outputs": [],
   "source": [
    "manual_list = [fit['beta[1,1]'], fit['beta[2,1]'], fit['beta[3,1]'], fit['beta[4,1]'], fit['beta[5,1]'],  \n",
    "               fit['beta[1,2]'], fit['beta[2,2]'], fit['beta[3,2]'], fit['beta[4,2]'], fit['beta[5,2]'],\n",
    "               fit['beta[1,3]'], fit['beta[2,3]'], fit['beta[3,3]'], fit['beta[4,3]'], fit['beta[5,3]'],\n",
    "               fit['beta[1,4]'], fit['beta[2,4]'], fit['beta[3,4]'], fit['beta[4,4]'], fit['beta[5,4]'],\n",
    "               fit['beta[1,5]'], fit['beta[2,5]'], fit['beta[3,5]'], fit['beta[4,5]'], fit['beta[5,5]']]"
   ]
  },
  {
   "cell_type": "code",
   "execution_count": null,
   "metadata": {},
   "outputs": [],
   "source": [
    "arviz.plot_density(data=manual_list)\n",
    "plt.show()"
   ]
  },
  {
   "cell_type": "code",
   "execution_count": null,
   "metadata": {},
   "outputs": [],
   "source": [
    "arviz.plot_forest(data=[fit['beta[1,1]'], fit['beta[2,1]'], fit['beta[3,1]'], fit['beta[4,1]'], fit['beta[5,1]']], \n",
    "                  kind='ridgeplot', model_names=['beta[1,1]', 'beta[2,1]', 'beta[3,1]', 'beta[4,1]', 'beta[5,1]'],\n",
    "                  r_hat=False, n_eff=False, figsize=(6,6))\n",
    "plt.tight_layout()\n",
    "plt.savefig('../../LargeFilesResults/Model/betas_forest01.png', dpi=150, bbox_inches='tight')\n",
    "\n",
    "arviz.plot_forest(data=[fit['beta[1,2]'], fit['beta[2,2]'], fit['beta[3,2]'], fit['beta[4,2]'], fit['beta[5,2]']], \n",
    "                  kind='ridgeplot', model_names=['beta[1,2]', 'beta[2,2]', 'beta[3,2]', 'beta[4,2]', 'beta[5,2]'], \n",
    "                  r_hat=False, n_eff=False, figsize=(6,6))\n",
    "plt.tight_layout()\n",
    "plt.savefig('../../LargeFilesResults/Model/betas_forest02.png', dpi=150, bbox_inches='tight')\n",
    "plt.show()\n",
    "\n",
    "arviz.plot_forest(data=[fit['beta[1,3]'], fit['beta[2,3]'], fit['beta[3,3]'], fit['beta[4,3]'], fit['beta[5,3]']], \n",
    "                  kind='ridgeplot', model_names=['beta[1,3]', 'beta[2,3]', 'beta[3,3]', 'beta[4,3]', 'beta[5,3]'], \n",
    "                  r_hat=False, n_eff=False, figsize=(6,6))\n",
    "plt.tight_layout()\n",
    "plt.savefig('../../LargeFilesResults/Model/betas_forest03.png', dpi=150, bbox_inches='tight')\n",
    "plt.show()\n",
    "\n",
    "arviz.plot_forest(data=[fit['beta[1,4]'], fit['beta[2,4]'], fit['beta[3,4]'], fit['beta[4,4]'], fit['beta[5,4]']], \n",
    "                  kind='ridgeplot', model_names=['beta[1,4]', 'beta[2,4]', 'beta[3,4]', 'beta[4,4]', 'beta[5,4]'],  \n",
    "                  r_hat=False, n_eff=False, figsize=(6,6))\n",
    "plt.tight_layout()\n",
    "plt.savefig('../../LargeFilesResults/Model/betas_forest04.png', dpi=150, bbox_inches='tight')\n",
    "plt.show()\n",
    "\n",
    "arviz.plot_forest(data=[fit['beta[1,5]'], fit['beta[2,5]'], fit['beta[3,5]'], fit['beta[4,5]'], fit['beta[5,5]']], \n",
    "                  kind='ridgeplot', model_names=['beta[1,5]', 'beta[2,5]', 'beta[3,5]', 'beta[4,5]', 'beta[5,5]'],  \n",
    "                  r_hat=False, n_eff=False, figsize=(6,6))\n",
    "plt.tight_layout()\n",
    "plt.savefig('../../LargeFilesResults/Model/betas_forest05.png', dpi=150, bbox_inches='tight')\n",
    "plt.show()"
   ]
  },
  {
   "cell_type": "code",
   "execution_count": null,
   "metadata": {},
   "outputs": [],
   "source": [
    "figsize=(6,3)"
   ]
  },
  {
   "cell_type": "code",
   "execution_count": null,
   "metadata": {
    "scrolled": true
   },
   "outputs": [],
   "source": [
    "plot = arviz.plot_trace(data=fit['beta[1,1]'], figsize=figsize)\n",
    "plot = arviz.plot_trace(data=fit['beta[2,1]'], figsize=figsize)\n",
    "plot = arviz.plot_trace(data=fit['beta[3,1]'], figsize=figsize)\n",
    "plot = arviz.plot_trace(data=fit['beta[4,1]'], figsize=figsize)\n",
    "plot = arviz.plot_trace(data=fit['beta[5,1]'], figsize=figsize)\n",
    "plt.tight_layout()\n",
    "plt.savefig('../../LargeFilesResults/Model/trace_class01.pdf', bbox_inches='tight')\n",
    "plt.show()"
   ]
  },
  {
   "cell_type": "code",
   "execution_count": null,
   "metadata": {},
   "outputs": [],
   "source": [
    "plot = arviz.plot_trace(data=fit['beta[1,2]'], figsize=figsize)\n",
    "plot = arviz.plot_trace(data=fit['beta[2,2]'], figsize=figsize)\n",
    "plot = arviz.plot_trace(data=fit['beta[3,2]'], figsize=figsize)\n",
    "plot = arviz.plot_trace(data=fit['beta[4,2]'], figsize=figsize)\n",
    "plot = arviz.plot_trace(data=fit['beta[5,2]'], figsize=figsize)\n",
    "plt.tight_layout()\n",
    "plt.savefig('../../LargeFilesResults/Model/trace_class02.pdf', bbox_inches='tight')\n",
    "plt.show()"
   ]
  },
  {
   "cell_type": "code",
   "execution_count": null,
   "metadata": {},
   "outputs": [],
   "source": [
    "plot = arviz.plot_trace(data=fit['beta[1,3]'], figsize=figsize)\n",
    "plot = arviz.plot_trace(data=fit['beta[2,3]'], figsize=figsize)\n",
    "plot = arviz.plot_trace(data=fit['beta[3,3]'], figsize=figsize)\n",
    "plot = arviz.plot_trace(data=fit['beta[4,3]'], figsize=figsize)\n",
    "plot = arviz.plot_trace(data=fit['beta[5,3]'], figsize=figsize)\n",
    "plt.tight_layout()\n",
    "plt.savefig('../../LargeFilesResults/Model/trace_class03.pdf', bbox_inches='tight')\n",
    "plt.show()"
   ]
  },
  {
   "cell_type": "code",
   "execution_count": null,
   "metadata": {},
   "outputs": [],
   "source": [
    "plot = arviz.plot_trace(data=fit['beta[1,4]'], figsize=figsize)\n",
    "plot = arviz.plot_trace(data=fit['beta[2,4]'], figsize=figsize)\n",
    "plot = arviz.plot_trace(data=fit['beta[3,4]'], figsize=figsize)\n",
    "plot = arviz.plot_trace(data=fit['beta[4,4]'], figsize=figsize)\n",
    "plot = arviz.plot_trace(data=fit['beta[5,4]'], figsize=figsize)\n",
    "plt.savefig('../../LargeFilesResults/Model/trace_class04.pdf', bbox_inches='tight')\n",
    "plt.tight_layout()\n",
    "plt.show()"
   ]
  },
  {
   "cell_type": "code",
   "execution_count": null,
   "metadata": {},
   "outputs": [],
   "source": [
    "plot = arviz.plot_trace(data=fit['beta[1,5]'], figsize=figsize)\n",
    "plot = arviz.plot_trace(data=fit['beta[2,5]'], figsize=figsize)\n",
    "plot = arviz.plot_trace(data=fit['beta[3,5]'], figsize=figsize)\n",
    "plot = arviz.plot_trace(data=fit['beta[4,5]'], figsize=figsize)\n",
    "plot = arviz.plot_trace(data=fit['beta[5,5]'], figsize=figsize)\n",
    "plt.savefig('../../LargeFilesResults/Model/trace_class05.pdf', bbox_inches='tight')\n",
    "plt.tight_layout()\n",
    "plt.show()"
   ]
  },
  {
   "cell_type": "markdown",
   "metadata": {},
   "source": [
    "### 3.2 Saving the automatic summary from STAN"
   ]
  },
  {
   "cell_type": "code",
   "execution_count": null,
   "metadata": {},
   "outputs": [],
   "source": [
    "summary = pystan.stansummary(fit=fit, digits_summary=5)"
   ]
  },
  {
   "cell_type": "code",
   "execution_count": null,
   "metadata": {},
   "outputs": [],
   "source": [
    "summary_arr  = np.array(summary.split('\\n'))\n",
    "summary_clean = summary_arr[5:-6,]"
   ]
  },
  {
   "cell_type": "code",
   "execution_count": null,
   "metadata": {},
   "outputs": [],
   "source": [
    "header_fit = ['parameter'] + summary_arr[4].split()"
   ]
  },
  {
   "cell_type": "markdown",
   "metadata": {},
   "source": [
    "#### 3.2.1 Recovering the mass (undo the stadardization) and adding x1 and x2 to the summary"
   ]
  },
  {
   "cell_type": "code",
   "execution_count": null,
   "metadata": {},
   "outputs": [],
   "source": [
    "recovered_mass  = un_standardize(stdized_par=plot_x2, mean=mean_mass, std=std_mass)\n",
    "recovered_pars  = np.column_stack((np.squeeze(plot_x1), np.squeeze(recovered_mass)))\n",
    "rp      = recovered_pars\n",
    "rp_cols = np.vstack((rp, rp, rp, rp, rp))    # for 5 whan classes we must stack these 5x"
   ]
  },
  {
   "cell_type": "code",
   "execution_count": null,
   "metadata": {},
   "outputs": [],
   "source": [
    "recovered_pars"
   ]
  },
  {
   "cell_type": "code",
   "execution_count": null,
   "metadata": {},
   "outputs": [],
   "source": [
    "rp_cols"
   ]
  },
  {
   "cell_type": "code",
   "execution_count": null,
   "metadata": {},
   "outputs": [],
   "source": [
    "pystan.stansummary??"
   ]
  },
  {
   "cell_type": "markdown",
   "metadata": {},
   "source": [
    "#### 3.2.2 Checking if the numbers aren't overlaped"
   ]
  },
  {
   "cell_type": "code",
   "execution_count": null,
   "metadata": {},
   "outputs": [],
   "source": [
    "new_summary = list(np.zeros(len(header_fit)))\n",
    "for i in range(summary_clean.size):\n",
    "    if len(summary_clean[i].split())!=11:   # the length of the list must be 11, in which case we connect them directly\n",
    "        new_summ_temp = np.array(summary_clean[i].split())\n",
    "        new_summ_temp = np.concatenate((new_summ_temp, ['X']))\n",
    "        new_summary   = np.vstack((new_summary, new_summ_temp))\n",
    "#         new_summary   = np.vstack((new_summary, np.concatenate((new_summ_temp, ['X']))))\n",
    "        print ('new_summary[%d] = ' %i, \"%s\" %summary_clean[i])\n",
    "    else:\n",
    "        new_summ_temp = np.array(summary_clean[i].split()).reshape(1,11)\n",
    "        new_summary   = np.vstack((new_summary, new_summ_temp))\n",
    "new_summary = new_summary[1:,:]            # removing the zeroes in the beggining\n",
    "print (new_summary[:,0].shape)"
   ]
  },
  {
   "cell_type": "code",
   "execution_count": null,
   "metadata": {},
   "outputs": [],
   "source": [
    "# new_summary[4525] =  'eta03[1]    3.8299  0.0373 3.3906 -1.548 1.4091 3.3479 5.8641 1.1526e1   8228 1.0000'\n",
    "# new_summary[4526] =  'eta03[2]    3.8288  0.0373 3.3900 -1.550 1.4104 3.3485 5.8652 1.1513e1   8225 1.0000'\n",
    "# new_summary[4527] =  'eta03[3]    3.8278  0.0373 3.3895 -1.554 1.4105 3.3460 5.8625 1.1508e1   8223 1.0000'\n",
    "# new_summary[4528] =  'eta03[4]    3.8267  0.0373 3.3890 -1.559 1.4084 3.3448 5.8614 1.1503e1   8220 1.0000'\n",
    "# new_summary[4530] =  'eta03[6]    3.8245  0.0373 3.3880 -1.561 1.4031 3.3461 5.8573 1.1495e1   8215 1.0000'\n",
    "# new_summary[4531] =  'eta03[7]    3.8234  0.0373 3.3876 -1.563 1.4051 3.3434 5.8537 1.1497e1   8212 1.0000'\n",
    "# new_summary[4532] =  'eta03[8]    3.8224  0.0373 3.3872 -1.564 1.4062 3.3423 5.8589 1.1497e1   8210 1.0000'\n",
    "# new_summary[4533] =  'eta03[9]    3.8213  0.0373 3.3868 -1.563 1.4069 3.3390 5.8606 1.1495e1   8208 1.0000'\n",
    "# new_summary[4534] =  'eta03[10]   3.8202  0.0373 3.3864 -1.561 1.4059 3.3349 5.8546 1.1489e1   8206 1.0000'\n",
    "# new_summary[4535] =  'eta03[11]   3.8191  0.0373 3.3861 -1.561 1.4089 3.3330 5.8554 1.1488e1   8204 1.0000'\n",
    "# new_summary[4536] =  'eta03[12]   3.8180  0.0373 3.3858 -1.567 1.4098 3.3328 5.8524 1.1475e1   8202 1.0000'\n",
    "# new_summary[4537] =  'eta03[13]   3.8169  0.0373 3.3856 -1.568 1.4122 3.3304 5.8500 1.1475e1   8200 1.0000'\n",
    "# new_summary[4538] =  'eta03[14]   3.8158  0.0373 3.3853 -1.570 1.4130 3.3295 5.8467 1.1481e1   8198 1.0000'\n",
    "# new_summary[4539] =  'eta03[15]   3.8147  0.0373 3.3851 -1.573 1.4104 3.3328 5.8475 1.1479e1   8196 1.0000'\n",
    "# new_summary[4540] =  'eta03[16]   3.8136  0.0373  3.385 -1.571 1.4067 3.3350 5.8494 1.1485e1   8195 1.0000'\n",
    "# new_summary[4541] =  'eta03[17]   3.8124  0.0374 3.3848 -1.579 1.4042 3.3337 5.8468 1.1496e1   8193 1.0000'\n",
    "# new_summary[4542] =  'eta03[18]   3.8113  0.0374 3.3847 -1.581 1.4036 3.3321 5.8436 1.1491e1   8192 1.0000'\n",
    "# new_summary[4543] =  'eta03[19]   3.8102  0.0374 3.3847 -1.590 1.4047 3.3342 5.8425 1.1484e1   8191 1.0000'\n",
    "# new_summary[4544] =  'eta03[20]   3.8091  0.0374 3.3846 -1.588 1.4004 3.3338 5.8444 1.1473e1   8189 1.0000'\n",
    "# new_summary[4545] =  'eta03[21]   3.8079  0.0374 3.3846 -1.581 1.4010 3.3356 5.8418 1.1473e1   8188 1.0000'\n",
    "# new_summary[4546] =  'eta03[22]   3.8068  0.0374 3.3847 -1.575 1.4032 3.3347 5.8424 1.1474e1   8188 1.0000'\n",
    "# new_summary[4547] =  'eta03[23]   3.8057  0.0374 3.3847 -1.576 1.4015 3.3351 5.8390 1.1477e1   8187 1.0000'\n",
    "# new_summary[4548] =  'eta03[24]   3.8045  0.0374 3.3849 -1.582 1.3992 3.3344 5.8342 1.1476e1   8186 1.0000'\n",
    "# new_summary[4549] =  'eta03[25]   3.8034  0.0374 3.3850 -1.581 1.4021 3.3351 5.8348 1.1476e1   8185 1.0000'\n",
    "# new_summary[4550] =  'eta03[26]   3.8022  0.0374 3.3852 -1.579 1.4000 3.3348 5.8293 1.1478e1   8185 1.0000'\n",
    "# new_summary[4551] =  'eta03[27]   3.8011  0.0374 3.3855 -1.583 1.3962 3.3377 5.8262 1.1481e1   8185 1.0000'\n",
    "# new_summary[4552] =  'eta03[28]   3.7999  0.0374 3.3857 -1.585 1.3942 3.3398 5.8258 1.1495e1   8185 1.0000'\n",
    "# new_summary[4553] =  'eta03[29]   3.7988  0.0374 3.3861 -1.584 1.3891 3.3376 5.8248 1.1484e1   8185 1.0000'\n",
    "# new_summary[4554] =  'eta03[30]   3.7976  0.0374 3.3864 -1.589 1.3862 3.3356 5.8200 1.1484e1   8185 1.0000'\n",
    "# new_summary[4555] =  'eta03[31]   3.4027  0.0335 3.0528 -1.446 1.2289 2.9642 5.2322 1.031e1   8267 1.0000'\n",
    "# new_summary[4556] =  'eta03[32]   3.4016  0.0335 3.0522 -1.447 1.2263 2.9614 5.2277 1.0313e1   8264 1.0000'\n",
    "# new_summary[4557] =  'eta03[33]   3.4006  0.0335 3.0516 -1.439 1.2239 2.9615 5.2258 1.0316e1   8261 1.0000'\n",
    "# new_summary[4558] =  'eta03[34]   3.3995  0.0335 3.0511 -1.440 1.2245 2.9628 5.2285 1.0311e1   8258 1.0000'\n",
    "# new_summary[4559] =  'eta03[35]   3.3984  0.0335 3.0506 -1.445 1.2263 2.9639 5.2278 1.0307e1   8255 1.0000'\n",
    "# new_summary[4561] =  'eta03[37]   3.3962  0.0335 3.0497 -1.455 1.2263 2.9636 5.2251 1.0292e1   8250 1.0000'\n",
    "# new_summary[4562] =  'eta03[38]   3.3952  0.0335 3.0493 -1.452 1.2273 2.9630 5.2242 1.0287e1   8247 1.0000'\n",
    "# new_summary[4563] =  'eta03[39]   3.3941  0.0335 3.0489 -1.453 1.2269 2.9627 5.2234 1.0284e1   8245 1.0000'\n",
    "# new_summary[4564] =  'eta03[40]   3.3930  0.0335 3.0486 -1.455 1.2273 2.9613 5.2214 1.0279e1   8242 1.0000'\n",
    "# new_summary[4565] =  'eta03[41]   3.3919  0.0335 3.0483 -1.460 1.2265 2.9600 5.2201 1.0289e1   8240 1.0000'\n",
    "# new_summary[4566] =  'eta03[42]   3.3908  0.0335 3.0480 -1.460 1.2214 2.9606 5.2208 1.0293e1   8238 1.0000'\n",
    "# new_summary[4567] =  'eta03[43]   3.3897  0.0335 3.0477 -1.459 1.2225 2.9600 5.2152 1.0287e1   8236 1.0000'\n",
    "# new_summary[4568] =  'eta03[44]   3.3886  0.0335 3.0475 -1.461 1.2217 2.9598 5.2159 1.0284e1   8234 1.0000'\n",
    "# new_summary[4569] =  'eta03[45]   3.3875  0.0335 3.0474 -1.460 1.2221 2.9607 5.2165 1.0279e1   8232 1.0000'\n",
    "# new_summary[4570] =  'eta03[46]   3.3863  0.0335 3.0472 -1.465 1.2198 2.9633 5.2191 1.0277e1   8231 1.0000'\n",
    "# new_summary[4571] =  'eta03[47]   3.3852  0.0335 3.0471 -1.465 1.2167 2.9627 5.2189 1.0283e1   8229 1.0000'\n",
    "# new_summary[4572] =  'eta03[48]   3.3841  0.0335 3.0471 -1.465 1.2162 2.9662 5.2158 1.0278e1   8228 1.0000'\n",
    "# new_summary[4573] =  'eta03[49]   3.3830  0.0336 3.0470 -1.462  1.213 2.9611 5.2149 1.028e1   8227 1.0000'\n",
    "# new_summary[4574] =  'eta03[50]   3.3819  0.0336 3.0471 -1.459 1.2148 2.9620 5.2116 1.028e1   8226 1.0000'\n",
    "# new_summary[4575] =  'eta03[51]   3.3807  0.0336 3.0471 -1.467 1.2136  2.959 5.2056 1.0286e1   8225 1.0000'\n",
    "# new_summary[4576] =  'eta03[52]   3.3796  0.0336 3.0472 -1.472 1.2128 2.9618 5.2059 1.028e1   8224 1.0000'\n",
    "# new_summary[4577] =  'eta03[53]   3.3785  0.0336 3.0473 -1.475 1.2120 2.9593 5.2033 1.0282e1   8223 1.0000'\n",
    "# new_summary[4578] =  'eta03[54]   3.3773  0.0336 3.0475 -1.473 1.2111 2.9599 5.2001 1.0284e1   8223 1.0000'\n",
    "# new_summary[4579] =  'eta03[55]   3.3762  0.0336 3.0478 -1.477 1.2107  2.959 5.1968 1.0291e1   8222 1.0000'\n",
    "# new_summary[4580] =  'eta03[56]   3.3750  0.0336 3.0480 -1.479 1.2115 2.9605 5.1957 1.0293e1   8222 1.0000'\n",
    "# new_summary[4581] =  'eta03[57]   3.3739  0.0336 3.0483 -1.482 1.2105 2.9605 5.1994 1.029e1   8222 1.0000'\n",
    "# new_summary[4582] =  'eta03[58]   3.3727  0.0336 3.0487 -1.480 1.2103 2.9609 5.1963 1.0292e1   8222 1.0000'\n",
    "# new_summary[4583] =  'eta03[59]   3.3716  0.0336 3.0491 -1.485 1.2055 2.9580 5.1956 1.0294e1   8222 1.0000'\n",
    "# new_summary[4584] =  'eta03[60]   3.3704  0.0336 3.0496 -1.489 1.2019 2.9601 5.1896 1.0274e1   8223 1.0000'\n",
    "# new_summary[5425] =  'prob04[1]   0.3492  0.0040 0.4018 2.6929e-6 0.0029 0.0984 0.8008 0.9997   9726 0.9998'\n",
    "# new_summary[5426] =  'prob04[2]   0.3491  0.0040 0.4018 2.7008e-6 0.0029 0.0981 0.8005 0.9997   9722 0.9998'\n",
    "# new_summary[5427] =  'prob04[3]   0.3490  0.0040 0.4018 2.7059e-6 0.0028 0.0982 0.8006 0.9997   9717 0.9998'\n",
    "# new_summary[5428] =  'prob04[4]   0.3489  0.0040 0.4017 2.7054e-6 0.0028 0.0982 0.7998 0.9997   9713 0.9998'\n",
    "# new_summary[5429] =  'prob04[5]   0.3488  0.0040 0.4017 2.698e-6 0.0028 0.0979 0.7994 0.9997   9709 0.9998'\n",
    "# new_summary[5430] =  'prob04[6]   0.3487  0.0040 0.4016 2.6949e-6 0.0028 0.0975 0.7999 0.9997   9704 0.9998'\n",
    "# new_summary[5431] =  'prob04[7]   0.3486  0.0040 0.4016 2.7145e-6 0.0028 0.0972 0.7992 0.9997   9700 0.9998'\n",
    "# new_summary[5432] =  'prob04[8]   0.3485  0.0040 0.4016 2.729e-6 0.0028 0.0968 0.7994 0.9997   9696 0.9998'\n",
    "# new_summary[5433] =  'prob04[9]   0.3484  0.0040 0.4015 2.7317e-6 0.0028 0.0971 0.7990 0.9997   9691 0.9998'\n",
    "# new_summary[5434] =  'prob04[10]  0.3483  0.0040 0.4015 2.7286e-6 0.0028 0.0973 0.7985 0.9997   9687 0.9998'\n",
    "# new_summary[5435] =  'prob04[11]  0.3482  0.0040 0.4014 2.7132e-6 0.0028 0.0969 0.7978 0.9997   9683 0.9998'\n",
    "# new_summary[5436] =  'prob04[12]  0.3481  0.0040 0.4014 2.7174e-6 0.0028 0.0965 0.7975 0.9997   9679 0.9998'\n",
    "# new_summary[5437] =  'prob04[13]  0.3479  0.0040 0.4014 2.7292e-6 0.0028 0.0959 0.7982 0.9997   9674 0.9998'\n",
    "# new_summary[5438] =  'prob04[14]  0.3478  0.0040 0.4013 2.7305e-6 0.0028 0.0960 0.7982 0.9997   9670 0.9998'\n",
    "# new_summary[5439] =  'prob04[15]  0.3477  0.0040 0.4013 2.7275e-6 0.0028 0.0959 0.7982 0.9997   9666 0.9998'\n",
    "# new_summary[5440] =  'prob04[16]  0.3476  0.0040 0.4012 2.7258e-6 0.0028 0.0955 0.7982 0.9997   9661 0.9998'\n",
    "# new_summary[5441] =  'prob04[17]  0.3475  0.0040 0.4012 2.7277e-6 0.0028 0.0954 0.7980 0.9997   9657 0.9998'\n",
    "# new_summary[5442] =  'prob04[18]  0.3474  0.0040 0.4012 2.7385e-6 0.0028 0.0956 0.7981 0.9997   9653 0.9998'\n",
    "# new_summary[5443] =  'prob04[19]  0.3473  0.0040 0.4011 2.7538e-6 0.0028 0.0954 0.7979 0.9997   9649 0.9998'\n",
    "# new_summary[5444] =  'prob04[20]  0.3472  0.0040 0.4011 2.7679e-6 0.0028 0.0954 0.7969 0.9997   9645 0.9998'\n",
    "# new_summary[5445] =  'prob04[21]  0.3471  0.0040 0.4010 2.7524e-6 0.0028 0.0953 0.7962 0.9997   9640 0.9998'\n",
    "# new_summary[5446] =  'prob04[22]  0.3470  0.0040 0.4010 2.7555e-6 0.0028 0.0952 0.7959 0.9997   9636 0.9998'\n",
    "# new_summary[5447] =  'prob04[23]  0.3469  0.0040 0.4010 2.7582e-6 0.0028 0.0947 0.7950 0.9997   9632 0.9998'\n",
    "# new_summary[5448] =  'prob04[24]  0.3468  0.0040 0.4009 2.7473e-6 0.0028 0.0944 0.7949 0.9997   9628 0.9998'\n",
    "# new_summary[5449] =  'prob04[25]  0.3467  0.0040 0.4009 2.7198e-6 0.0028 0.0942 0.7952 0.9997   9624 0.9998'\n",
    "# new_summary[5450] =  'prob04[26]  0.3465  0.0040 0.4009 2.7002e-6 0.0028 0.0941  0.795 0.9997   9620 0.9998'\n",
    "# new_summary[5451] =  'prob04[27]  0.3464  0.0040 0.4008 2.6793e-6 0.0028 0.0939 0.7944 0.9997   9616 0.9998'\n",
    "# new_summary[5452] =  'prob04[28]  0.3463  0.0040 0.4008 2.6919e-6 0.0028 0.0941 0.7939 0.9997   9611 0.9998'\n",
    "# new_summary[5453] =  'prob04[29]  0.3462  0.0040 0.4008 2.6989e-6 0.0028 0.0941 0.7939 0.9997   9607 0.9998'\n",
    "# new_summary[5454] =  'prob04[30]  0.3461  0.0040 0.4007 2.6913e-6 0.0028 0.0939 0.7933 0.9997   9603 0.9998'\n",
    "# new_summary[5455] =  'prob04[31]  0.3448  0.0039 0.3923 8.857e-6 0.0048 0.1120 0.7637 0.9994   9706 0.9998'\n",
    "# new_summary[5456] =  'prob04[32]  0.3446  0.0039 0.3922 8.847e-6 0.0047 0.1116 0.7635 0.9994   9701 0.9998'\n",
    "# new_summary[5457] =  'prob04[33]  0.3445  0.0039 0.3922 8.875e-6 0.0047 0.1114 0.7628 0.9994   9697 0.9998'\n",
    "# new_summary[5458] =  'prob04[34]  0.3444  0.0039 0.3921 8.9057e-6 0.0047 0.1114 0.7625 0.9994   9692 0.9998'\n",
    "# new_summary[5459] =  'prob04[35]  0.3443  0.0039 0.3921 8.9045e-6 0.0047 0.1113 0.7618 0.9993   9688 0.9998'\n",
    "# new_summary[5460] =  'prob04[36]  0.3442  0.0039 0.3920 8.9375e-6 0.0047 0.1112 0.7623 0.9994   9683 0.9998'\n",
    "# new_summary[5461] =  'prob04[37]  0.3441  0.0039 0.3920 8.9563e-6 0.0047 0.1110 0.7622 0.9993   9679 0.9998'\n",
    "# new_summary[5462] =  'prob04[38]  0.3440  0.0039  0.392 8.9567e-6 0.0047 0.1106 0.7619 0.9993   9674 0.9998'\n",
    "# new_summary[5463] =  'prob04[39]  0.3439  0.0039 0.3919 8.913e-6 0.0047 0.1104 0.7607 0.9993   9669 0.9998'\n",
    "# new_summary[5464] =  'prob04[40]  0.3437  0.0039 0.3919 8.9527e-6 0.0047 0.1103 0.7605 0.9993   9665 0.9998'\n",
    "# new_summary[5465] =  'prob04[41]  0.3436  0.0039 0.3918 9.0509e-6 0.0047 0.1102 0.7602 0.9993   9660 0.9998'\n",
    "# new_summary[5466] =  'prob04[42]  0.3435  0.0039 0.3918 9.0609e-6 0.0047 0.1097 0.7596 0.9993   9656 0.9998'\n",
    "# new_summary[5467] =  'prob04[43]  0.3434  0.0039 0.3917 8.9663e-6 0.0047 0.1097 0.7603 0.9993   9651 0.9998'\n",
    "# new_summary[5468] =  'prob04[44]  0.3433  0.0039 0.3917 8.9655e-6 0.0047 0.1094 0.7601 0.9993   9647 0.9998'\n",
    "# new_summary[5469] =  'prob04[45]  0.3432  0.0039 0.3916 8.9805e-6 0.0046 0.1096 0.7598 0.9993   9642 0.9998'\n",
    "# new_summary[5470] =  'prob04[46]  0.3430  0.0039 0.3916 9.0348e-6 0.0046 0.1094 0.7592 0.9993   9638 0.9998'\n",
    "# new_summary[5471] =  'prob04[47]  0.3429  0.0039 0.3915 9.0342e-6 0.0046 0.1092 0.7593 0.9994   9634 0.9998'\n",
    "# new_summary[5472] =  'prob04[48]  0.3428  0.0039 0.3915 8.9998e-6 0.0046 0.1086 0.7586 0.9993   9629 0.9998'\n",
    "# new_summary[5473] =  'prob04[49]  0.3427  0.0039 0.3915 8.9395e-6 0.0047 0.1083 0.7575 0.9993   9625 0.9998'\n",
    "# new_summary[5474] =  'prob04[50]  0.3426  0.0039 0.3914 8.9886e-6 0.0047 0.1082 0.7569 0.9993   9620 0.9998'\n",
    "# new_summary[5475] =  'prob04[51]  0.3425  0.0039 0.3914 8.9859e-6 0.0046 0.1082 0.7566 0.9993   9616 0.9998'\n",
    "# new_summary[5476] =  'prob04[52]  0.3423  0.0039 0.3913 9.0388e-6 0.0046 0.1079 0.7563 0.9993   9612 0.9998'\n",
    "# new_summary[5477] =  'prob04[53]  0.3422  0.0039 0.3913 9.0762e-6 0.0047 0.1075 0.7555 0.9993   9608 0.9998'\n",
    "# new_summary[5478] =  'prob04[54]  0.3421  0.0039 0.3912 9.0792e-6 0.0046 0.1074 0.7552 0.9993   9603 0.9998'\n",
    "# new_summary[5479] =  'prob04[55]  0.3420  0.0039 0.3912 9.048e-6 0.0046 0.1070 0.7548 0.9993   9599 0.9998'\n",
    "# new_summary[5480] =  'prob04[56]  0.3419  0.0039 0.3912 9.0937e-6 0.0047 0.1064 0.7538 0.9993   9595 0.9998'\n",
    "# new_summary[5481] =  'prob04[57]  0.3417  0.0039 0.3911 9.1028e-6 0.0046 0.1063 0.7548 0.9993   9591 0.9998'\n",
    "# new_summary[5482] =  'prob04[58]  0.3416  0.0039 0.3911 9.1784e-6 0.0046 0.1064 0.7545 0.9993   9587 0.9998'\n",
    "# new_summary[5483] =  'prob04[59]  0.3415   0.004 0.3910 9.2315e-6 0.0046 0.1060 0.7538 0.9993   9583 0.9998'\n",
    "# new_summary[5484] =  'prob04[60]  0.3414   0.004 0.3910 9.2057e-6 0.0046 0.1054 0.7531 0.9993   9579 0.9998'\n",
    "# new_summary[6325] =  'eta04[1]    -2.218  0.0555 5.3969 -1.2825e1 -5.837 -2.214 1.3914 8.3717   9451 0.9999'\n",
    "# new_summary[6326] =  'eta04[2]    -2.219  0.0555 5.3959 -1.2822e1 -5.839 -2.217 1.3896 8.3658   9449 0.9999'\n",
    "# new_summary[6327] =  'eta04[3]    -2.220  0.0555 5.3949 -1.282e1 -5.842 -2.217 1.3903 8.3579   9447 0.9999'\n",
    "# new_summary[6328] =  'eta04[4]    -2.221  0.0555 5.3939 -1.282e1 -5.847 -2.216 1.3854 8.3482   9444 0.9999'\n",
    "# new_summary[6329] =  'eta04[5]    -2.222  0.0555 5.3929 -1.2823e1 -5.849 -2.220 1.3826 8.3393   9442 0.9999'\n",
    "# new_summary[6330] =  'eta04[6]    -2.223  0.0555 5.3920 -1.2824e1 -5.848 -2.224 1.3860 8.3340   9440 0.9999'\n",
    "# new_summary[6331] =  'eta04[7]    -2.224  0.0554 5.3910 -1.2817e1 -5.847 -2.228 1.3818 8.3265   9438 0.9999'\n",
    "# new_summary[6332] =  'eta04[8]    -2.225  0.0554 5.3901 -1.2812e1 -5.845 -2.232 1.3826 8.3229   9435 0.9999'\n",
    "# new_summary[6333] =  'eta04[9]    -2.227  0.0554 5.3892 -1.2811e1 -5.850 -2.229 1.3806 8.3194   9433 0.9999'\n",
    "# new_summary[6334] =  'eta04[10]   -2.228  0.0554 5.3883 -1.2812e1 -5.850 -2.226 1.3770 8.3132   9431 0.9999'\n",
    "# new_summary[6335] =  'eta04[11]   -2.229  0.0554 5.3874 -1.2817e1 -5.852 -2.231 1.3726 8.3116   9429 0.9999'\n",
    "# new_summary[6336] =  'eta04[12]   -2.230  0.0554 5.3865 -1.2816e1 -5.851 -2.236 1.3712 8.3097   9427 0.9999'\n",
    "# new_summary[6337] =  'eta04[13]   -2.231  0.0554 5.3857 -1.2812e1 -5.857 -2.242 1.3750 8.3077   9425 0.9999'\n",
    "# new_summary[6338] =  'eta04[14]   -2.232  0.0554 5.3849 -1.2811e1 -5.857 -2.241 1.3750 8.3057   9423 0.9999'\n",
    "# new_summary[6339] =  'eta04[15]   -2.234  0.0554 5.3840 -1.2812e1 -5.858 -2.242 1.3750 8.3040   9420 0.9999'\n",
    "# new_summary[6340] =  'eta04[16]   -2.235  0.0554 5.3832 -1.2813e1 -5.857 -2.247 1.3755 8.3032   9418 0.9999'\n",
    "# new_summary[6341] =  'eta04[17]   -2.236  0.0554 5.3825 -1.2812e1 -5.862 -2.249 1.3742 8.3046   9416 0.9999'\n",
    "# new_summary[6342] =  'eta04[18]   -2.237  0.0554 5.3817 -1.2808e1 -5.863 -2.246 1.3744 8.3066   9415 0.9999'\n",
    "# new_summary[6343] =  'eta04[19]   -2.238  0.0554  5.381 -1.2803e1 -5.867 -2.248 1.3734 8.2982   9413 0.9999'\n",
    "# new_summary[6344] =  'eta04[20]   -2.240  0.0554 5.3802 -1.2797e1 -5.868 -2.248 1.3672 8.2968   9411 0.9999'\n",
    "# new_summary[6345] =  'eta04[21]   -2.241  0.0554 5.3795 -1.2803e1 -5.872 -2.249 1.3631 8.2914   9409 0.9999'\n",
    "# new_summary[6346] =  'eta04[22]   -2.242  0.0554 5.3788 -1.2802e1 -5.865 -2.251 1.3611 8.2897   9407 0.9999'\n",
    "# new_summary[6347] =  'eta04[23]   -2.243  0.0554 5.3782 -1.2801e1 -5.860 -2.257 1.3554 8.2962   9405 0.9999'\n",
    "# new_summary[6348] =  'eta04[24]   -2.244  0.0554 5.3775 -1.2805e1 -5.860 -2.260 1.3550 8.2919   9403 0.9999'\n",
    "# new_summary[6349] =  'eta04[25]   -2.246  0.0554 5.3769 -1.2815e1 -5.860 -2.262 1.3569 8.3014   9402 0.9999'\n",
    "# new_summary[6350] =  'eta04[26]   -2.247  0.0554 5.3763 -1.2822e1 -5.862 -2.263 1.3553 8.3011   9400 0.9999'\n",
    "# new_summary[6351] =  'eta04[27]   -2.248  0.0554 5.3758 -1.283e1 -5.862 -2.266 1.3520 8.2938   9398 0.9999'\n",
    "# new_summary[6352] =  'eta04[28]   -2.249  0.0554 5.3752 -1.2825e1 -5.866 -2.263 1.3491 8.2884   9397 0.9999'\n",
    "# new_summary[6353] =  'eta04[29]   -2.251  0.0554 5.3747 -1.2823e1 -5.863 -2.264 1.3488 8.2836   9395 0.9999'\n",
    "# new_summary[6354] =  'eta04[30]   -2.252  0.0554 5.3742 -1.2826e1 -5.859 -2.266 1.3450 8.2896   9394 0.9999'\n",
    "# new_summary[6355] =  'eta04[31]   -2.077  0.0498 4.8550 -1.1634e1 -5.334 -2.070 1.1734 7.4291   9476 0.9999'\n",
    "# new_summary[6356] =  'eta04[32]   -2.078  0.0498 4.8540 -1.1635e1 -5.337 -2.074 1.1719 7.4292   9474 0.9999'\n",
    "# new_summary[6357] =  'eta04[33]   -2.079  0.0498 4.8530 -1.1632e1  -5.34 -2.076 1.1685 7.4246   9471 0.9999'\n",
    "# new_summary[6358] =  'eta04[34]   -2.080  0.0498 4.8520 -1.1629e1 -5.339 -2.076 1.1667 7.4166   9469 0.9999'\n",
    "# new_summary[6359] =  'eta04[35]   -2.081  0.0498 4.8511 -1.1629e1 -5.344 -2.077 1.1626 7.4071   9466 0.9999'\n",
    "# new_summary[6360] =  'eta04[36]   -2.082  0.0498 4.8501 -1.1625e1 -5.344 -2.078 1.1656 7.4105   9464 0.9999'\n",
    "# new_summary[6361] =  'eta04[37]   -2.084  0.0498 4.8492 -1.1623e1 -5.344 -2.080 1.1650 7.4022   9461 0.9999'\n",
    "# new_summary[6362] =  'eta04[38]   -2.085  0.0498 4.8482 -1.1623e1 -5.344 -2.084 1.1634 7.4032   9459 0.9999'\n",
    "# new_summary[6363] =  'eta04[39]   -2.086  0.0498 4.8473 -1.1628e1 -5.345 -2.085 1.1567 7.4008   9456 0.9999'\n",
    "# new_summary[6364] =  'eta04[40]   -2.087  0.0498 4.8465 -1.1624e1 -5.348 -2.087 1.1554 7.3949   9454 0.9999'\n",
    "# new_summary[6365] =  'eta04[41]   -2.088  0.0498 4.8456 -1.1613e1 -5.348 -2.088 1.1541 7.4006   9452 0.9999'\n",
    "# new_summary[6366] =  'eta04[42]   -2.089  0.0498 4.8447 -1.1612e1 -5.350 -2.093 1.1507 7.4039   9449 0.9999'\n",
    "# new_summary[6367] =  'eta04[43]   -2.090  0.0498 4.8439 -1.1622e1 -5.352 -2.093 1.1546 7.4041   9447 0.9999'\n",
    "# new_summary[6368] =  'eta04[44]   -2.092  0.0498 4.8431 -1.1622e1 -5.355 -2.096 1.1532 7.4032   9445 0.9999'\n",
    "# new_summary[6369] =  'eta04[45]   -2.093  0.0498 4.8423 -1.162e1 -5.356 -2.094 1.1516 7.4033   9443 0.9999'\n",
    "# new_summary[6370] =  'eta04[46]   -2.094  0.0498 4.8415 -1.1614e1 -5.359 -2.096 1.1483 7.4067   9440 0.9999'\n",
    "# new_summary[6371] =  'eta04[47]   -2.095  0.0498 4.8408 -1.1614e1 -5.360 -2.098 1.1493 7.4099   9438 0.9999'\n",
    "# new_summary[6372] =  'eta04[48]   -2.096  0.0498 4.8400 -1.1618e1 -5.357 -2.104 1.1453 7.4027   9436 0.9999'\n",
    "# new_summary[6373] =  'eta04[49]   -2.098  0.0498 4.8393 -1.1625e1 -5.355 -2.108 1.1391 7.4018   9434 0.9999'\n",
    "# new_summary[6374] =  'eta04[50]   -2.099  0.0498 4.8386 -1.162e1 -5.356 -2.108 1.1357 7.4006   9432 0.9999'\n",
    "# new_summary[6375] =  'eta04[51]   -2.100  0.0498 4.8380 -1.162e1 -5.357 -2.108 1.1343 7.3954   9430 0.9999'\n",
    "# new_summary[6376] =  'eta04[52]   -2.101  0.0498 4.8373 -1.1614e1 -5.358 -2.111 1.1326 7.3909   9428 0.9999'\n",
    "# new_summary[6377] =  'eta04[53]   -2.102  0.0498 4.8367 -1.161e1 -5.352 -2.115 1.1283 7.3938   9426 0.9999'\n",
    "# new_summary[6378] =  'eta04[54]   -2.104  0.0498 4.8361 -1.161e1 -5.358 -2.117 1.1268 7.3952   9424 0.9999'\n",
    "# new_summary[6379] =  'eta04[55]   -2.105  0.0498 4.8356 -1.1613e1 -5.358 -2.121 1.1246 7.3916   9423 0.9999'\n",
    "# new_summary[6380] =  'eta04[56]   -2.106  0.0498 4.8350 -1.1608e1 -5.356 -2.127 1.1191 7.3769   9421 0.9999'\n",
    "# new_summary[6381] =  'eta04[57]   -2.107  0.0498 4.8345 -1.1607e1 -5.363 -2.128 1.1246 7.3739   9419 0.9999'\n",
    "# new_summary[6382] =  'eta04[58]   -2.109  0.0498 4.8340 -1.1599e1 -5.362 -2.127 1.1229 7.3847   9417 0.9999'\n",
    "# new_summary[6383] =  'eta04[59]   -2.110  0.0498 4.8335 -1.1593e1 -5.359 -2.131 1.1192 7.3914   9416 0.9999'\n",
    "# new_summary[6384] =  'eta04[60]   -2.111  0.0498 4.8331 -1.1596e1 -5.357 -2.137 1.1155 7.3848   9414 0.9999'\n",
    "# new_summary[6385] =  'eta04[61]   -1.942  0.0445 4.3400 -1.0471e1 -4.856 -1.937 0.9607 6.5722   9510 0.9999'\n",
    "# new_summary[6386] =  'eta04[62]   -1.943  0.0445 4.3390 -1.0467e1 -4.857 -1.937 0.9575 6.5699   9507 0.9999'\n",
    "# new_summary[6387] =  'eta04[63]   -1.944  0.0445 4.3380 -1.0467e1 -4.860 -1.936 0.9531 6.5641   9504 0.9999'\n",
    "# new_summary[6388] =  'eta04[64]   -1.945  0.0444 4.3370 -1.0465e1 -4.862 -1.939 0.9471 6.5656   9501 0.9999'\n",
    "# new_summary[6389] =  'eta04[65]   -1.946  0.0444 4.3360 -1.0473e1 -4.865 -1.943 0.9423 6.5648   9498 0.9999'\n",
    "# new_summary[6390] =  'eta04[66]   -1.947  0.0444 4.3351 -1.0473e1 -4.867 -1.941 0.9394 6.5537   9495 0.9999'\n",
    "# new_summary[6391] =  'eta04[67]   -1.948  0.0444 4.3341 -1.0474e1 -4.869 -1.942 0.9424 6.5466   9493 0.9999'\n",
    "# new_summary[6392] =  'eta04[68]   -1.950  0.0444 4.3332 -1.0469e1 -4.869 -1.944 0.9401 6.5445   9490 0.9999'\n",
    "# new_summary[6393] =  'eta04[69]   -1.951  0.0444 4.3323 -1.0462e1 -4.870 -1.945 0.9375 6.5462   9487 0.9999'\n",
    "# new_summary[6394] =  'eta04[70]   -1.952  0.0444 4.3315 -1.047e1 -4.869 -1.948 0.9384 6.5392   9485 0.9999'\n",
    "# new_summary[6395] =  'eta04[71]   -1.953  0.0444 4.3306 -1.0474e1 -4.874 -1.950 0.9338 6.5409   9482 0.9999'\n",
    "# new_summary[6396] =  'eta04[72]   -1.954  0.0444 4.3298 -1.0477e1 -4.875 -1.950 0.9339 6.5434   9480 0.9999'\n",
    "# new_summary[6397] =  'eta04[73]   -1.955  0.0444 4.3290 -1.0479e1 -4.871 -1.954 0.9342 6.5405   9477 0.9999'\n",
    "# new_summary[6398] =  'eta04[74]   -1.956  0.0444 4.3282 -1.0482e1 -4.871 -1.955 0.9329 6.5372   9475 0.9999'\n",
    "# new_summary[6399] =  'eta04[75]   -1.958  0.0444 4.3274 -1.0479e1 -4.872 -1.958 0.9315 6.5363   9472 0.9999'\n",
    "# new_summary[6400] =  'eta04[76]   -1.959  0.0444 4.3267 -1.0474e1 -4.874 -1.960 0.9286 6.5362   9470 0.9999'\n",
    "# new_summary[6401] =  'eta04[77]   -1.960  0.0444  4.326 -1.047e1 -4.872 -1.961 0.9277 6.5344   9468 0.9999'\n",
    "# new_summary[6402] =  'eta04[78]   -1.961  0.0444 4.3253 -1.047e1 -4.874 -1.964 0.9255 6.5292   9465 0.9999'\n",
    "# new_summary[6403] =  'eta04[79]   -1.962  0.0444 4.3246 -1.0471e1 -4.876 -1.965 0.9224 6.5218   9463 0.9999'\n",
    "# new_summary[6404] =  'eta04[80]   -1.964  0.0444 4.3239 -1.047e1 -4.879 -1.973 0.9192 6.5165   9461 0.9999'\n",
    "# new_summary[6405] =  'eta04[81]   -1.965  0.0444 4.3233 -1.0475e1 -4.879 -1.979 0.9138 6.5160   9459 0.9999'\n",
    "# new_summary[6406] =  'eta04[82]   -1.966  0.0444 4.3227 -1.0477e1 -4.880 -1.984 0.9116 6.5123   9457 0.9999'\n",
    "# new_summary[6407] =  'eta04[83]   -1.967  0.0444 4.3222 -1.048e1 -4.880 -1.984 0.9123 6.5126   9455 0.9999'\n",
    "# new_summary[6408] =  'eta04[84]   -1.969  0.0444 4.3216 -1.0476e1 -4.883 -1.989 0.9106 6.5111   9453 0.9999'\n",
    "# new_summary[6409] =  'eta04[85]   -1.970  0.0444 4.3211 -1.0472e1 -4.886 -1.992 0.9066 6.5156   9451 0.9999'\n",
    "# new_summary[6410] =  'eta04[86]   -1.971  0.0444 4.3206 -1.0473e1 -4.884 -1.993 0.9066 6.5234   9449 0.9999'\n",
    "# new_summary[6411] =  'eta04[87]   -1.972  0.0444 4.3202 -1.0478e1 -4.883 -1.996 0.9023 6.5183   9447 0.9999'\n",
    "# new_summary[6412] =  'eta04[88]   -1.974  0.0444 4.3197 -1.0486e1 -4.888 -1.998 0.8952  6.528   9446 0.9999'\n",
    "# new_summary[6413] =  'eta04[89]   -1.975  0.0444 4.3194 -1.0486e1 -4.890 -1.995 0.8957 6.5283   9444 0.9999'\n",
    "# new_summary[6414] =  'eta04[90]   -1.976  0.0444 4.3190 -1.0481e1 -4.885 -1.997 0.8935 6.5275   9443 0.9999'\n",
    "# new_summary[8125] =  'eta05[1]    4.3667  0.0381 3.0867 -0.351 2.1000 3.8868 6.2156 1.1505e1   6536 1.0001'\n",
    "# new_summary[8126] =  'eta05[2]    4.3684  0.0381 3.0860 -0.352 2.1020 3.8887 6.2170 1.1509e1   6531 1.0001'\n",
    "# new_summary[8127] =  'eta05[3]    4.3701  0.0381 3.0853 -0.348 2.1020 3.8895 6.2188 1.1505e1   6525 1.0001'\n",
    "# new_summary[8128] =  'eta05[4]    4.3718  0.0382 3.0846 -0.344 2.1055 3.8932 6.2207 1.1502e1   6520 1.0001'\n",
    "# new_summary[8130] =  'eta05[6]    4.3753  0.0382 3.0834 -0.334 2.1108 3.8956 6.2220 1.1503e1   6510 1.0001'\n",
    "# new_summary[8131] =  'eta05[7]    4.3771  0.0382 3.0828 -0.330 2.1145 3.8994 6.2260 1.1501e1   6505 1.0001'\n",
    "# new_summary[8132] =  'eta05[8]    4.3789  0.0382 3.0822 -0.336 2.1184 3.9014 6.2311 1.1512e1   6499 1.0001'\n",
    "# new_summary[8133] =  'eta05[9]    4.3807  0.0382 3.0817 -0.338 2.1197 3.9038 6.2307 1.1508e1   6494 1.0001'\n",
    "# new_summary[8134] =  'eta05[10]   4.3825  0.0382 3.0811 -0.330 2.1250 3.9065 6.2353 1.1513e1   6490 1.0001'\n",
    "# new_summary[8135] =  'eta05[11]   4.3844  0.0382 3.0807 -0.322 2.1272 3.9105 6.2372 1.1511e1   6485 1.0001'\n",
    "# new_summary[8136] =  'eta05[12]   4.3863  0.0382 3.0802 -0.323 2.1322 3.9129 6.2389 1.1511e1   6480 1.0001'\n",
    "# new_summary[8137] =  'eta05[13]   4.3882  0.0382 3.0798 -0.326 2.1339 3.9163 6.2409 1.152e1   6475 1.0001'\n",
    "# new_summary[8138] =  'eta05[14]   4.3901  0.0382 3.0794 -0.327 2.1345 3.9156 6.2420 1.1518e1   6471 1.0001'\n",
    "# new_summary[8139] =  'eta05[15]   4.3920  0.0382 3.0791 -0.322 2.1365 3.9160 6.2413 1.1514e1   6466 1.0001'\n",
    "# new_summary[8140] =  'eta05[16]   4.3940  0.0383 3.0787 -0.318 2.1379 3.9195 6.2426 1.1523e1   6462 1.0001'\n",
    "# new_summary[8141] =  'eta05[17]   4.3960  0.0383 3.0784 -0.316 2.1415 3.9213 6.2405 1.1532e1   6458 1.0001'\n",
    "# new_summary[8142] =  'eta05[18]   4.3980  0.0383 3.0782 -0.316 2.1451 3.9218 6.2421 1.1529e1   6453 1.0001'\n",
    "# new_summary[8143] =  'eta05[19]   4.4000  0.0383  3.078 -0.319 2.1468 3.9240 6.2470 1.1551e1   6449 1.0001'\n",
    "# new_summary[8144] =  'eta05[20]   4.4020  0.0383 3.0778 -0.327 2.1460 3.9238 6.2504 1.156e1   6445 1.0001'\n",
    "# new_summary[8145] =  'eta05[21]   4.4041  0.0383 3.0776 -0.329 2.1510 3.9266 6.2519 1.1557e1   6441 1.0001'\n",
    "# new_summary[8146] =  'eta05[22]   4.4062  0.0383 3.0775 -0.323 2.1548 3.9268 6.2500 1.1561e1   6437 1.0001'\n",
    "# new_summary[8147] =  'eta05[23]   4.4083  0.0383 3.0774 -0.326 2.1569 3.9301 6.2508 1.1567e1   6433 1.0001'\n",
    "# new_summary[8148] =  'eta05[24]   4.4104  0.0383 3.0774 -0.325 2.1602 3.9343 6.2505 1.157e1   6430 1.0001'\n",
    "# new_summary[8149] =  'eta05[25]   4.4125  0.0383 3.0774 -0.325 2.1625 3.9335 6.2511 1.1566e1   6426 1.0001'\n",
    "# new_summary[8150] =  'eta05[26]   4.4147  0.0384 3.0774 -0.334 2.1639 3.9384 6.2513 1.1564e1   6422 1.0001'\n",
    "# new_summary[8151] =  'eta05[27]   4.4169  0.0384 3.0775 -0.325 2.1648 3.9415 6.2516 1.1567e1   6419 1.0001'\n",
    "# new_summary[8152] =  'eta05[28]   4.4191  0.0384 3.0776 -0.324 2.1677 3.9422 6.2570 1.1574e1   6416 1.0001'\n",
    "# new_summary[8153] =  'eta05[29]   4.4213  0.0384 3.0778 -0.325 2.1696 3.9459 6.2589 1.1583e1   6412 1.0001'\n",
    "# new_summary[8154] =  'eta05[30]   4.4236  0.0384 3.0780 -0.326 2.1736 3.9496 6.2653 1.1576e1   6409 1.0001'\n",
    "# new_summary[8155] =  'eta05[31]   3.8818  0.0343 2.7762 -0.351 1.8436 3.4549 5.5525 1.0308e1   6548 1.0001'\n",
    "# new_summary[8156] =  'eta05[32]   3.8835  0.0343 2.7754 -0.351 1.8460 3.4553 5.5478 1.0317e1   6542 1.0001'\n",
    "# new_summary[8157] =  'eta05[33]   3.8852  0.0343 2.7747 -0.346 1.8494 3.4553 5.5493 1.0315e1   6536 1.0001'\n",
    "# new_summary[8158] =  'eta05[34]   3.8869  0.0343 2.7740 -0.343 1.8493 3.4588 5.5520 1.0311e1   6530 1.0001'\n",
    "# new_summary[8159] =  'eta05[35]   3.8886  0.0343 2.7734 -0.343 1.8507 3.4585 5.5514 1.0307e1   6524 1.0001'\n",
    "# new_summary[8160] =  'eta05[36]   3.8904  0.0343 2.7727 -0.343 1.8535 3.4609 5.5525 1.031e1   6518 1.0001'\n",
    "# new_summary[8161] =  'eta05[37]   3.8922  0.0343 2.7722 -0.343 1.8563 3.4635 5.5544 1.0306e1   6512 1.0001'\n",
    "# new_summary[8162] =  'eta05[38]   3.8940  0.0343 2.7716 -0.348 1.8591 3.4663 5.5574 1.0308e1   6507 1.0001'\n",
    "# new_summary[8163] =  'eta05[39]   3.8958  0.0343 2.7711 -0.344 1.8629 3.4698 5.5591 1.031e1   6501 1.0001'\n",
    "# new_summary[8164] =  'eta05[40]   3.8976  0.0343 2.7706 -0.334 1.8662 3.4674 5.5621 1.0307e1   6496 1.0001'\n",
    "# new_summary[8165] =  'eta05[41]   3.8995  0.0343 2.7701 -0.331 1.8700 3.4703 5.5631 1.0313e1   6490 1.0001'\n",
    "# new_summary[8166] =  'eta05[42]   3.9014  0.0343 2.7697 -0.331 1.8725 3.4746 5.5658 1.0314e1   6485 1.0001'\n",
    "# new_summary[8167] =  'eta05[43]   3.9033  0.0344 2.7693 -0.334 1.8759 3.4773 5.5657 1.0317e1   6480 1.0001'\n",
    "# new_summary[8168] =  'eta05[44]   3.9052  0.0344 2.7689 -0.339 1.8770 3.4807 5.5645 1.0317e1   6475 1.0001'\n",
    "# new_summary[8169] =  'eta05[45]   3.9071  0.0344 2.7686 -0.335 1.8774 3.4818 5.5657 1.0316e1   6470 1.0001'\n",
    "# new_summary[8170] =  'eta05[46]   3.9091  0.0344 2.7683 -0.331 1.8794 3.4825 5.5661 1.0317e1   6466 1.0001'\n",
    "# new_summary[8171] =  'eta05[47]   3.9111  0.0344 2.7680 -0.327 1.8812 3.4816 5.5670 1.0323e1   6461 1.0001'\n",
    "# new_summary[8172] =  'eta05[48]   3.9131  0.0344 2.7678 -0.331 1.8857 3.4825 5.5693 1.0337e1   6456 1.0001'\n",
    "# new_summary[8173] =  'eta05[49]   3.9151  0.0344 2.7676 -0.339 1.8874 3.4835 5.5699 1.035e1   6452 1.0001'\n",
    "# new_summary[8174] =  'eta05[50]   3.9171  0.0344 2.7675 -0.333 1.8920 3.4855 5.5711 1.0354e1   6447 1.0001'\n",
    "# new_summary[8175] =  'eta05[51]   3.9192  0.0344 2.7674 -0.334 1.8923 3.4884 5.5756 1.0354e1   6443 1.0001'\n",
    "# new_summary[8176] =  'eta05[52]   3.9213  0.0344 2.7673 -0.335 1.8979 3.4922 5.5790 1.0358e1   6439 1.0001'\n",
    "# new_summary[8177] =  'eta05[53]   3.9234  0.0345 2.7673 -0.333 1.9008 3.4936 5.5797 1.0358e1   6435 1.0001'\n",
    "# new_summary[8178] =  'eta05[54]   3.9255  0.0345 2.7673 -0.340 1.9015 3.4927 5.5809 1.0351e1   6431 1.0001'\n",
    "# new_summary[8179] =  'eta05[55]   3.9276  0.0345 2.7674 -0.333 1.9020 3.4969 5.5761 1.0359e1   6427 1.0001'\n",
    "# new_summary[8180] =  'eta05[56]   3.9298  0.0345 2.7675 -0.335 1.9026 3.5020 5.5800 1.0367e1   6423 1.0001'\n",
    "# new_summary[8181] =  'eta05[57]   3.9320  0.0345 2.7677 -0.338 1.9086 3.5046 5.5848 1.0374e1   6420 1.0001'\n",
    "# new_summary[8182] =  'eta05[58]   3.9342  0.0345 2.7679 -0.335 1.9102 3.5106 5.5885 1.0379e1   6416 1.0001'\n",
    "# new_summary[8183] =  'eta05[59]   3.9364  0.0345 2.7682 -0.339 1.9106 3.5089 5.5878 1.0374e1   6413 1.0001'\n",
    "# new_summary[8184] =  'eta05[60]   3.9387  0.0345 2.7685 -0.337 1.9096 3.5092 5.5902 1.0368e1   6410 1.0001'"
   ]
  },
  {
   "cell_type": "markdown",
   "metadata": {},
   "source": [
    "#### 3.2.3 Retrieving only the probabilities from the summary and stacking x1 and x2 at the end of the dataframe"
   ]
  },
  {
   "cell_type": "code",
   "execution_count": null,
   "metadata": {},
   "outputs": [],
   "source": [
    "parameters = new_summary[:,0].astype(str)\n",
    "pnew_idxs  = []\n",
    "for i in range(parameters.size):\n",
    "    if parameters[i][0:4]=='prob':\n",
    "        pnew_idxs.append(i)\n",
    "    else:\n",
    "        continue\n",
    "print (new_summary[pnew_idxs,:].shape, rp_cols.shape)\n",
    "model_results    = np.column_stack((new_summary[pnew_idxs,:], rp_cols))\n",
    "model_results_df = pd.DataFrame(model_results)\n",
    "model_results_df.columns = header_fit + ['Z'] + ['LOG_STELLAR_MASS']\n",
    "model_results_df.index = model_results_df['parameter']\n",
    "model_results_df = model_results_df.drop(columns='parameter', axis=1)\n",
    "model_results_df.to_csv('../../LargeFilesResults/Model/fit_summary_rmshared_revised.csv', header=True, index=True)"
   ]
  },
  {
   "cell_type": "code",
   "execution_count": null,
   "metadata": {},
   "outputs": [],
   "source": [
    "model_results_df"
   ]
  },
  {
   "cell_type": "code",
   "execution_count": null,
   "metadata": {},
   "outputs": [],
   "source": [
    "posteriors = fit_df[fit.flatnames[:25]]"
   ]
  },
  {
   "cell_type": "code",
   "execution_count": null,
   "metadata": {},
   "outputs": [],
   "source": [
    "fit_df.keys()"
   ]
  },
  {
   "cell_type": "code",
   "execution_count": null,
   "metadata": {},
   "outputs": [],
   "source": [
    "fit_df['treedepth__'].describe()"
   ]
  },
  {
   "cell_type": "code",
   "execution_count": null,
   "metadata": {},
   "outputs": [],
   "source": [
    "fit_df['n_leapfrog__'].describe()"
   ]
  },
  {
   "cell_type": "code",
   "execution_count": null,
   "metadata": {},
   "outputs": [],
   "source": [
    "posteriors.to_csv('../../LargeFilesResults/Model/posteriors_rmshared_revised.csv', index=False)"
   ]
  },
  {
   "cell_type": "code",
   "execution_count": null,
   "metadata": {},
   "outputs": [],
   "source": [
    "posteriors"
   ]
  },
  {
   "cell_type": "code",
   "execution_count": null,
   "metadata": {},
   "outputs": [],
   "source": [
    "diagnostics = pystan.check_hmc_diagnostics(fit, per_chain=True)"
   ]
  },
  {
   "cell_type": "code",
   "execution_count": null,
   "metadata": {},
   "outputs": [],
   "source": [
    "diagnostics"
   ]
  },
  {
   "cell_type": "code",
   "execution_count": null,
   "metadata": {},
   "outputs": [],
   "source": [
    "pystan.check_hmc_diagnostics??"
   ]
  },
  {
   "cell_type": "code",
   "execution_count": null,
   "metadata": {},
   "outputs": [],
   "source": [
    "model_results_df['Rhat'].max()"
   ]
  },
  {
   "cell_type": "code",
   "execution_count": null,
   "metadata": {},
   "outputs": [],
   "source": [
    "model_results_df['Rhat'].min()"
   ]
  }
 ],
 "metadata": {
  "kernelspec": {
   "display_name": "Python 3",
   "language": "python",
   "name": "python3"
  },
  "language_info": {
   "codemirror_mode": {
    "name": "ipython",
    "version": 3
   },
   "file_extension": ".py",
   "mimetype": "text/x-python",
   "name": "python",
   "nbconvert_exporter": "python",
   "pygments_lexer": "ipython3",
   "version": "3.6.6"
  }
 },
 "nbformat": 4,
 "nbformat_minor": 2
}
