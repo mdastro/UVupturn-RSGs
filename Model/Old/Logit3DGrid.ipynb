{
 "cells": [
  {
   "cell_type": "code",
   "execution_count": 1,
   "metadata": {},
   "outputs": [],
   "source": [
    "import numpy as np\n",
    "import pystan\n",
    "import matplotlib.pyplot as plt\n",
    "import statsmodels.api as sm\n",
    "import seaborn as sns"
   ]
  },
  {
   "cell_type": "code",
   "execution_count": 10,
   "metadata": {},
   "outputs": [
    {
     "name": "stderr",
     "output_type": "stream",
     "text": [
      "INFO:pystan:COMPILING THE C++ CODE FOR MODEL anon_model_04e2ff1a0d956cbb6eafaa1ed143cfa0 NOW.\n"
     ]
    },
    {
     "name": "stdout",
     "output_type": "stream",
     "text": [
      "(2500, 5)\n"
     ]
    },
    {
     "name": "stderr",
     "output_type": "stream",
     "text": [
      "/home/mlldantas/anaconda3/envs/py2k7/lib/python2.7/site-packages/Cython/Compiler/Main.py:367: FutureWarning: Cython directive 'language_level' not set, using 2 for now (Py2). This will change in a later release! File: /tmp/tmplqCN5e/stanfit4anon_model_04e2ff1a0d956cbb6eafaa1ed143cfa0_6472502712130734414.pyx\n",
      "  tree = Parsing.p_module(s, pxd, full_module_name)\n",
      "WARNING:pystan:Rhat for parameter beta[1] is 1.1462029667!\n",
      "WARNING:pystan:Rhat for parameter beta[4] is 1.14621486462!\n",
      "WARNING:pystan:Rhat for parameter beta[5] is 1.14555899367!\n",
      "WARNING:pystan:Rhat for parameter eta[158] is 1.10316169482!\n",
      "WARNING:pystan:Rhat for parameter eta[425] is 1.10697264165!\n",
      "WARNING:pystan:Rhat for parameter etanew[4] is 1.10426393868!\n",
      "WARNING:pystan:Rhat for parameter etanew[5] is 1.1086376198!\n",
      "WARNING:pystan:Rhat for parameter etanew[6] is 1.11211624126!\n",
      "WARNING:pystan:Rhat for parameter etanew[7] is 1.1148065212!\n",
      "WARNING:pystan:Rhat for parameter etanew[8] is 1.11681987235!\n",
      "WARNING:pystan:Rhat for parameter etanew[9] is 1.11826276456!\n",
      "WARNING:pystan:Rhat for parameter etanew[10] is 1.11923140502!\n",
      "WARNING:pystan:Rhat for parameter etanew[11] is 1.11980945454!\n",
      "WARNING:pystan:Rhat for parameter etanew[12] is 1.1200676675!\n",
      "WARNING:pystan:Rhat for parameter etanew[13] is 1.12006462292!\n",
      "WARNING:pystan:Rhat for parameter etanew[14] is 1.11984798293!\n",
      "WARNING:pystan:Rhat for parameter etanew[15] is 1.11945592768!\n",
      "WARNING:pystan:Rhat for parameter etanew[16] is 1.11891856608!\n",
      "WARNING:pystan:Rhat for parameter etanew[17] is 1.11825921995!\n",
      "WARNING:pystan:Rhat for parameter etanew[18] is 1.11749553928!\n",
      "WARNING:pystan:Rhat for parameter etanew[19] is 1.11664044068!\n",
      "WARNING:pystan:Rhat for parameter etanew[20] is 1.11570287913!\n",
      "WARNING:pystan:Rhat for parameter etanew[21] is 1.11468847113!\n",
      "WARNING:pystan:Rhat for parameter etanew[22] is 1.11359999051!\n",
      "WARNING:pystan:Rhat for parameter etanew[23] is 1.11243775726!\n",
      "WARNING:pystan:Rhat for parameter etanew[24] is 1.11119993882!\n",
      "WARNING:pystan:Rhat for parameter etanew[25] is 1.10988278099!\n",
      "WARNING:pystan:Rhat for parameter etanew[26] is 1.10848078394!\n",
      "WARNING:pystan:Rhat for parameter etanew[27] is 1.10698683759!\n",
      "WARNING:pystan:Rhat for parameter etanew[28] is 1.10539232963!\n",
      "WARNING:pystan:Rhat for parameter etanew[29] is 1.10368723962!\n",
      "WARNING:pystan:Rhat for parameter etanew[30] is 1.10186023285!\n",
      "WARNING:pystan:Rhat for parameter etanew[55] is 1.10403118165!\n",
      "WARNING:pystan:Rhat for parameter etanew[56] is 1.10812487999!\n",
      "WARNING:pystan:Rhat for parameter etanew[57] is 1.11130184468!\n",
      "WARNING:pystan:Rhat for parameter etanew[58] is 1.11368648882!\n",
      "WARNING:pystan:Rhat for parameter etanew[59] is 1.11540249913!\n",
      "WARNING:pystan:Rhat for parameter etanew[60] is 1.11656385696!\n",
      "WARNING:pystan:Rhat for parameter etanew[61] is 1.11727054738!\n",
      "WARNING:pystan:Rhat for parameter etanew[62] is 1.11760731749!\n",
      "WARNING:pystan:Rhat for parameter etanew[63] is 1.11764420314!\n",
      "WARNING:pystan:Rhat for parameter etanew[64] is 1.11743794141!\n",
      "WARNING:pystan:Rhat for parameter etanew[65] is 1.11703371617!\n",
      "WARNING:pystan:Rhat for parameter etanew[66] is 1.1164669203!\n",
      "WARNING:pystan:Rhat for parameter etanew[67] is 1.11576477334!\n",
      "WARNING:pystan:Rhat for parameter etanew[68] is 1.11494772672!\n",
      "WARNING:pystan:Rhat for parameter etanew[69] is 1.11403064165!\n",
      "WARNING:pystan:Rhat for parameter etanew[70] is 1.11302375235!\n",
      "WARNING:pystan:Rhat for parameter etanew[71] is 1.11193343897!\n",
      "WARNING:pystan:Rhat for parameter etanew[72] is 1.11076283873!\n",
      "WARNING:pystan:Rhat for parameter etanew[73] is 1.10951232304!\n",
      "WARNING:pystan:Rhat for parameter etanew[74] is 1.10817986641!\n",
      "WARNING:pystan:Rhat for parameter etanew[75] is 1.10676132973!\n",
      "WARNING:pystan:Rhat for parameter etanew[76] is 1.10525067847!\n",
      "WARNING:pystan:Rhat for parameter etanew[77] is 1.10364015398!\n",
      "WARNING:pystan:Rhat for parameter etanew[78] is 1.10192041508!\n",
      "WARNING:pystan:Rhat for parameter etanew[79] is 1.10008066718!\n",
      "WARNING:pystan:Rhat for parameter etanew[106] is 1.10342996254!\n",
      "WARNING:pystan:Rhat for parameter etanew[107] is 1.10720418343!\n",
      "WARNING:pystan:Rhat for parameter etanew[108] is 1.11004956451!\n",
      "WARNING:pystan:Rhat for parameter etanew[109] is 1.11210772533!\n",
      "WARNING:pystan:Rhat for parameter etanew[110] is 1.11351322933!\n",
      "WARNING:pystan:Rhat for parameter etanew[111] is 1.11438581155!\n",
      "WARNING:pystan:Rhat for parameter etanew[112] is 1.11482747325!\n",
      "WARNING:pystan:Rhat for parameter etanew[113] is 1.11492247182!\n",
      "WARNING:pystan:Rhat for parameter etanew[114] is 1.11473880738!\n",
      "WARNING:pystan:Rhat for parameter etanew[115] is 1.11433032117!\n",
      "WARNING:pystan:Rhat for parameter etanew[116] is 1.11373889805!\n",
      "WARNING:pystan:Rhat for parameter etanew[117] is 1.11299651359!\n",
      "WARNING:pystan:Rhat for parameter etanew[118] is 1.11212701512!\n",
      "WARNING:pystan:Rhat for parameter etanew[119] is 1.11114760959!\n",
      "WARNING:pystan:Rhat for parameter etanew[120] is 1.11007007276!\n",
      "WARNING:pystan:Rhat for parameter etanew[121] is 1.10890171306!\n",
      "WARNING:pystan:Rhat for parameter etanew[122] is 1.10764612847!\n",
      "WARNING:pystan:Rhat for parameter etanew[123] is 1.10630379449!\n",
      "WARNING:pystan:Rhat for parameter etanew[124] is 1.10487251732!\n",
      "WARNING:pystan:Rhat for parameter etanew[125] is 1.10334778278!\n",
      "WARNING:pystan:Rhat for parameter etanew[126] is 1.10172302736!\n",
      "WARNING:pystan:Rhat for parameter etanew[157] is 1.10238003468!\n",
      "WARNING:pystan:Rhat for parameter etanew[158] is 1.10579803488!\n",
      "WARNING:pystan:Rhat for parameter etanew[159] is 1.10828652794!\n",
      "WARNING:pystan:Rhat for parameter etanew[160] is 1.11000284189!\n",
      "WARNING:pystan:Rhat for parameter etanew[161] is 1.11109023283!\n",
      "WARNING:pystan:Rhat for parameter etanew[162] is 1.11167190294!\n",
      "WARNING:pystan:Rhat for parameter etanew[163] is 1.11184980188!\n",
      "WARNING:pystan:Rhat for parameter etanew[164] is 1.11170597873!\n",
      "WARNING:pystan:Rhat for parameter etanew[165] is 1.11130504491!\n",
      "WARNING:pystan:Rhat for parameter etanew[166] is 1.11069691791!\n",
      "WARNING:pystan:Rhat for parameter etanew[167] is 1.1099194199!\n",
      "WARNING:pystan:Rhat for parameter etanew[168] is 1.1090005473!\n",
      "WARNING:pystan:Rhat for parameter etanew[169] is 1.10796036107!\n",
      "WARNING:pystan:Rhat for parameter etanew[170] is 1.10681251363!\n",
      "WARNING:pystan:Rhat for parameter etanew[171] is 1.10556545696!\n",
      "WARNING:pystan:Rhat for parameter etanew[172] is 1.10422338446!\n",
      "WARNING:pystan:Rhat for parameter etanew[173] is 1.10278695822!\n",
      "WARNING:pystan:Rhat for parameter etanew[174] is 1.10125386789!\n",
      "WARNING:pystan:Rhat for parameter etanew[208] is 1.10079295301!\n",
      "WARNING:pystan:Rhat for parameter etanew[209] is 1.10382368904!\n",
      "WARNING:pystan:Rhat for parameter etanew[210] is 1.10593712241!\n",
      "WARNING:pystan:Rhat for parameter etanew[211] is 1.10730362654!\n",
      "WARNING:pystan:Rhat for parameter etanew[212] is 1.10807217502!\n",
      "WARNING:pystan:Rhat for parameter etanew[213] is 1.10836669857!\n",
      "WARNING:pystan:Rhat for parameter etanew[214] is 1.10828682717!\n",
      "WARNING:pystan:Rhat for parameter etanew[215] is 1.10791064524!\n",
      "WARNING:pystan:Rhat for parameter etanew[216] is 1.10729807647!\n",
      "WARNING:pystan:Rhat for parameter etanew[217] is 1.10649418435!\n",
      "WARNING:pystan:Rhat for parameter etanew[218] is 1.10553207626!\n",
      "WARNING:pystan:Rhat for parameter etanew[219] is 1.10443531783!\n",
      "WARNING:pystan:Rhat for parameter etanew[220] is 1.10321987133!\n",
      "WARNING:pystan:Rhat for parameter etanew[221] is 1.10189561748!\n",
      "WARNING:pystan:Rhat for parameter etanew[222] is 1.10046753268!\n",
      "WARNING:pystan:Rhat for parameter etanew[260] is 1.10119700304!\n",
      "WARNING:pystan:Rhat for parameter etanew[261] is 1.10292698243!\n",
      "WARNING:pystan:Rhat for parameter etanew[262] is 1.10394491064!\n",
      "WARNING:pystan:Rhat for parameter etanew[263] is 1.10440182181!\n",
      "WARNING:pystan:Rhat for parameter etanew[264] is 1.10441934736!\n",
      "WARNING:pystan:Rhat for parameter etanew[265] is 1.1040924911!\n",
      "WARNING:pystan:Rhat for parameter etanew[266] is 1.10349371559!\n",
      "WARNING:pystan:Rhat for parameter etanew[267] is 1.10267711831!\n",
      "WARNING:pystan:Rhat for parameter etanew[268] is 1.1016821554!\n",
      "WARNING:pystan:Rhat for parameter etanew[269] is 1.100536738!\n",
      "WARNING:pystan:Rhat for parameter etanew[314] is 1.10003082777!\n",
      "WARNING:pystan:Rhat for parameter etanew[2330] is 1.10021853555!\n",
      "WARNING:pystan:Rhat for parameter etanew[2331] is 1.10003705932!\n"
     ]
    },
    {
     "name": "stderr",
     "output_type": "stream",
     "text": [
      "WARNING:pystan:Rhat for parameter etanew[2377] is 1.1008295465!\n",
      "WARNING:pystan:Rhat for parameter etanew[2378] is 1.10179340258!\n",
      "WARNING:pystan:Rhat for parameter etanew[2379] is 1.10244090524!\n",
      "WARNING:pystan:Rhat for parameter etanew[2380] is 1.10274016185!\n",
      "WARNING:pystan:Rhat for parameter etanew[2381] is 1.10265031312!\n",
      "WARNING:pystan:Rhat for parameter etanew[2382] is 1.10212080628!\n",
      "WARNING:pystan:Rhat for parameter etanew[2383] is 1.101091164!\n",
      "WARNING:pystan:Rhat for parameter etanew[2425] is 1.10053279609!\n",
      "WARNING:pystan:Rhat for parameter etanew[2426] is 1.10195923816!\n",
      "WARNING:pystan:Rhat for parameter etanew[2427] is 1.10313562797!\n",
      "WARNING:pystan:Rhat for parameter etanew[2428] is 1.10404826341!\n",
      "WARNING:pystan:Rhat for parameter etanew[2429] is 1.10467758531!\n",
      "WARNING:pystan:Rhat for parameter etanew[2430] is 1.10499733835!\n",
      "WARNING:pystan:Rhat for parameter etanew[2431] is 1.10497377811!\n",
      "WARNING:pystan:Rhat for parameter etanew[2432] is 1.10456502015!\n",
      "WARNING:pystan:Rhat for parameter etanew[2433] is 1.10372069639!\n",
      "WARNING:pystan:Rhat for parameter etanew[2434] is 1.10238217839!\n",
      "WARNING:pystan:Rhat for parameter etanew[2435] is 1.10048374547!\n",
      "WARNING:pystan:Rhat for parameter etanew[2474] is 1.10126254249!\n",
      "WARNING:pystan:Rhat for parameter etanew[2475] is 1.10281084157!\n",
      "WARNING:pystan:Rhat for parameter etanew[2476] is 1.10413828081!\n",
      "WARNING:pystan:Rhat for parameter etanew[2477] is 1.10523800579!\n",
      "WARNING:pystan:Rhat for parameter etanew[2478] is 1.1060988541!\n",
      "WARNING:pystan:Rhat for parameter etanew[2479] is 1.10670469307!\n",
      "WARNING:pystan:Rhat for parameter etanew[2480] is 1.10703374954!\n",
      "WARNING:pystan:Rhat for parameter etanew[2481] is 1.10705796195!\n",
      "WARNING:pystan:Rhat for parameter etanew[2482] is 1.10674241702!\n",
      "WARNING:pystan:Rhat for parameter etanew[2483] is 1.10604497877!\n",
      "WARNING:pystan:Rhat for parameter etanew[2484] is 1.10491628051!\n",
      "WARNING:pystan:Rhat for parameter etanew[2485] is 1.10330032991!\n",
      "WARNING:pystan:Rhat for parameter etanew[2486] is 1.10113607004!\n",
      "WARNING:pystan:Rhat for parameter pnew[3] is 1.10178063165!\n",
      "WARNING:pystan:Rhat for parameter pnew[4] is 1.10742726503!\n",
      "WARNING:pystan:Rhat for parameter pnew[5] is 1.11185194304!\n",
      "WARNING:pystan:Rhat for parameter pnew[6] is 1.11513586911!\n",
      "WARNING:pystan:Rhat for parameter pnew[7] is 1.11740768855!\n",
      "WARNING:pystan:Rhat for parameter pnew[8] is 1.11881722187!\n",
      "WARNING:pystan:Rhat for parameter pnew[9] is 1.11951586115!\n",
      "WARNING:pystan:Rhat for parameter pnew[10] is 1.11964421142!\n",
      "WARNING:pystan:Rhat for parameter pnew[11] is 1.11932576343!\n",
      "WARNING:pystan:Rhat for parameter pnew[12] is 1.11866479705!\n",
      "WARNING:pystan:Rhat for parameter pnew[13] is 1.11774685458!\n",
      "WARNING:pystan:Rhat for parameter pnew[14] is 1.1166405426!\n",
      "WARNING:pystan:Rhat for parameter pnew[15] is 1.11539985297!\n",
      "WARNING:pystan:Rhat for parameter pnew[16] is 1.11406653287!\n",
      "WARNING:pystan:Rhat for parameter pnew[17] is 1.11267226209!\n",
      "WARNING:pystan:Rhat for parameter pnew[18] is 1.11124053651!\n",
      "WARNING:pystan:Rhat for parameter pnew[19] is 1.10978823504!\n",
      "WARNING:pystan:Rhat for parameter pnew[20] is 1.10832688723!\n",
      "WARNING:pystan:Rhat for parameter pnew[21] is 1.1068636764!\n",
      "WARNING:pystan:Rhat for parameter pnew[22] is 1.10540221768!\n",
      "WARNING:pystan:Rhat for parameter pnew[23] is 1.10394314939!\n",
      "WARNING:pystan:Rhat for parameter pnew[24] is 1.10248457151!\n",
      "WARNING:pystan:Rhat for parameter pnew[25] is 1.10102236056!\n",
      "WARNING:pystan:Rhat for parameter pnew[54] is 1.10177296957!\n",
      "WARNING:pystan:Rhat for parameter pnew[55] is 1.10708939493!\n",
      "WARNING:pystan:Rhat for parameter pnew[56] is 1.11115159299!\n",
      "WARNING:pystan:Rhat for parameter pnew[57] is 1.1140759243!\n",
      "WARNING:pystan:Rhat for parameter pnew[58] is 1.11601557913!\n",
      "WARNING:pystan:Rhat for parameter pnew[59] is 1.11713418023!\n",
      "WARNING:pystan:Rhat for parameter pnew[60] is 1.11758821686!\n",
      "WARNING:pystan:Rhat for parameter pnew[61] is 1.11751738412!\n",
      "WARNING:pystan:Rhat for parameter pnew[62] is 1.11704070462!\n",
      "WARNING:pystan:Rhat for parameter pnew[63] is 1.1162562737!\n",
      "WARNING:pystan:Rhat for parameter pnew[64] is 1.11524294533!\n",
      "WARNING:pystan:Rhat for parameter pnew[65] is 1.11406283964!\n",
      "WARNING:pystan:Rhat for parameter pnew[66] is 1.11276401428!\n",
      "WARNING:pystan:Rhat for parameter pnew[67] is 1.11138295905!\n",
      "WARNING:pystan:Rhat for parameter pnew[68] is 1.10994676709!\n",
      "WARNING:pystan:Rhat for parameter pnew[69] is 1.10847494444!\n",
      "WARNING:pystan:Rhat for parameter pnew[70] is 1.10698087381!\n",
      "WARNING:pystan:Rhat for parameter pnew[71] is 1.10547297228!\n",
      "WARNING:pystan:Rhat for parameter pnew[72] is 1.10395558918!\n",
      "WARNING:pystan:Rhat for parameter pnew[73] is 1.10242968932!\n",
      "WARNING:pystan:Rhat for parameter pnew[74] is 1.10089336182!\n",
      "WARNING:pystan:Rhat for parameter pnew[105] is 1.10136283934!\n",
      "WARNING:pystan:Rhat for parameter pnew[106] is 1.10630957293!\n",
      "WARNING:pystan:Rhat for parameter pnew[107] is 1.10998443377!\n",
      "WARNING:pystan:Rhat for parameter pnew[108] is 1.11253747158!\n",
      "WARNING:pystan:Rhat for parameter pnew[109] is 1.11414310548!\n",
      "WARNING:pystan:Rhat for parameter pnew[110] is 1.11497505981!\n",
      "WARNING:pystan:Rhat for parameter pnew[111] is 1.11519171032!\n",
      "WARNING:pystan:Rhat for parameter pnew[112] is 1.11492944465!\n",
      "WARNING:pystan:Rhat for parameter pnew[113] is 1.11430121344!\n",
      "WARNING:pystan:Rhat for parameter pnew[114] is 1.11339794972!\n",
      "WARNING:pystan:Rhat for parameter pnew[115] is 1.11229127309!\n",
      "WARNING:pystan:Rhat for parameter pnew[116] is 1.11103653725!\n",
      "WARNING:pystan:Rhat for parameter pnew[117] is 1.10967573003!\n",
      "WARNING:pystan:Rhat for parameter pnew[118] is 1.1082400114!\n",
      "WARNING:pystan:Rhat for parameter pnew[119] is 1.10675182863!\n",
      "WARNING:pystan:Rhat for parameter pnew[120] is 1.10522662322!\n",
      "WARNING:pystan:Rhat for parameter pnew[121] is 1.10367417709!\n",
      "WARNING:pystan:Rhat for parameter pnew[122] is 1.10209965448!\n",
      "WARNING:pystan:Rhat for parameter pnew[123] is 1.10050439436!\n",
      "WARNING:pystan:Rhat for parameter pnew[156] is 1.10048064128!\n",
      "WARNING:pystan:Rhat for parameter pnew[157] is 1.10502134471!\n",
      "WARNING:pystan:Rhat for parameter pnew[158] is 1.10828877694!\n",
      "WARNING:pystan:Rhat for parameter pnew[159] is 1.11046378459!\n",
      "WARNING:pystan:Rhat for parameter pnew[160] is 1.11173780325!\n",
      "WARNING:pystan:Rhat for parameter pnew[161] is 1.11229056819!\n",
      "WARNING:pystan:Rhat for parameter pnew[162] is 1.11227907254!\n",
      "WARNING:pystan:Rhat for parameter pnew[163] is 1.11183409906!\n",
      "WARNING:pystan:Rhat for parameter pnew[164] is 1.11106106732!\n",
      "WARNING:pystan:Rhat for parameter pnew[165] is 1.11004290318!\n",
      "WARNING:pystan:Rhat for parameter pnew[166] is 1.1088435477!\n",
      "WARNING:pystan:Rhat for parameter pnew[167] is 1.10751137832!\n",
      "WARNING:pystan:Rhat for parameter pnew[168] is 1.10608222198!\n",
      "WARNING:pystan:Rhat for parameter pnew[169] is 1.10458186288!\n",
      "WARNING:pystan:Rhat for parameter pnew[170] is 1.10302805791!\n",
      "WARNING:pystan:Rhat for parameter pnew[171] is 1.10143211801!\n",
      "WARNING:pystan:Rhat for parameter pnew[208] is 1.10315229333!\n",
      "WARNING:pystan:Rhat for parameter pnew[209] is 1.10599894048!\n",
      "WARNING:pystan:Rhat for parameter pnew[210] is 1.10779558168!\n",
      "WARNING:pystan:Rhat for parameter pnew[211] is 1.10874561538!\n",
      "WARNING:pystan:Rhat for parameter pnew[212] is 1.10903041471!\n",
      "WARNING:pystan:Rhat for parameter pnew[213] is 1.10880236063!\n",
      "WARNING:pystan:Rhat for parameter pnew[214] is 1.10818450624!\n",
      "WARNING:pystan:Rhat for parameter pnew[215] is 1.10727347635!\n",
      "WARNING:pystan:Rhat for parameter pnew[216] is 1.10614351451!\n",
      "WARNING:pystan:Rhat for parameter pnew[217] is 1.10485056962!\n",
      "WARNING:pystan:Rhat for parameter pnew[218] is 1.10343592741!\n",
      "WARNING:pystan:Rhat for parameter pnew[219] is 1.1019292295!\n",
      "WARNING:pystan:Rhat for parameter pnew[220] is 1.10035088627!\n",
      "WARNING:pystan:Rhat for parameter pnew[259] is 1.1006266421!\n",
      "WARNING:pystan:Rhat for parameter pnew[260] is 1.10304815842!\n",
      "WARNING:pystan:Rhat for parameter pnew[261] is 1.10447401594!\n",
      "WARNING:pystan:Rhat for parameter pnew[262] is 1.10511383284!\n",
      "WARNING:pystan:Rhat for parameter pnew[263] is 1.10514613992!\n",
      "WARNING:pystan:Rhat for parameter pnew[264] is 1.10471565773!\n",
      "WARNING:pystan:Rhat for parameter pnew[265] is 1.10393585746!\n",
      "WARNING:pystan:Rhat for parameter pnew[266] is 1.10289356899!\n",
      "WARNING:pystan:Rhat for parameter pnew[267] is 1.10165389568!\n"
     ]
    },
    {
     "name": "stderr",
     "output_type": "stream",
     "text": [
      "WARNING:pystan:Rhat for parameter pnew[268] is 1.10026464731!\n",
      "WARNING:pystan:Rhat for parameter pnew[312] is 1.10044536395!\n",
      "WARNING:pystan:Rhat for parameter pnew[313] is 1.10079550557!\n",
      "WARNING:pystan:Rhat for parameter pnew[314] is 1.10059523972!\n",
      "WARNING:pystan:Rhat above 1.1 or below 0.9 indicates that the chains very likely have not mixed\n",
      "WARNING:pystan:8924 of 12000 iterations saturated the maximum tree depth of 10 (74%)\n",
      "WARNING:pystan:Run again with max_treedepth larger than 10 to avoid saturation\n"
     ]
    }
   ],
   "source": [
    "# Main thread\n",
    "\n",
    "if __name__ == '__main__':\n",
    "\n",
    "    # Configuring paths and inputs -------------------------------------------------------------------------------------\n",
    "    my_data = np.loadtxt('./../../Catalogue/binom_reg_dataset.csv', delimiter=',', dtype=str)\n",
    "\n",
    "    my_dictionary = {}\n",
    "    for i in range(len(my_data[0, :])):                                         # Converting numpy array into dictionary\n",
    "         my_dictionary[my_data[0, i]] = np.array(my_data[0 + 1:, i], dtype=str)\n",
    "\n",
    "    logit_class   = my_dictionary['LOGIT_CLASS(1-UVUP;0-UVWEAK)'].astype(int)\n",
    "    redshift      = my_dictionary['Z'].astype(float)\n",
    "    stellar_mass  = my_dictionary['STELLAR_MASS'].astype(float)\n",
    "    \n",
    "    index = np.where(redshift<=0.4)\n",
    "\n",
    "    x1    = redshift[index]\n",
    "    x2    = stellar_mass[index]\n",
    "    y     = logit_class[index]              # whether this is a galaxy with uv upturn or not\n",
    "    n_obs = x1.size\n",
    "\n",
    "    regression_data = {}\n",
    "    regression_data['K'] = 5      # number of betas\n",
    "    regression_data['X'] = sm.add_constant(np.column_stack((x1, x1**2, x2, x2**2)))\n",
    "    regression_data['N'] = n_obs\n",
    "    regression_data['Y'] = y\n",
    "    regression_data['LogN'] = np.log(n_obs)\n",
    "    \n",
    "    # Data to be plotted -------------------------------------------------------------------------------------------\n",
    "    n_obs2 = 50    \n",
    "    x1_sim = np.linspace(x1.min(), x1.max(), n_obs2)\n",
    "    x2_sim = np.linspace(x2.min(), x2.max(), n_obs2)\n",
    "    \n",
    "    plot_x1, plot_x2 = np.meshgrid(x1_sim, x2_sim)  # THIS IS WHERE THE GRID IS DONE\n",
    "       \n",
    "    plot_x1 = plot_x1.reshape(2500, 1)\n",
    "    plot_x2 = plot_x2.reshape(2500, 1)\n",
    "\n",
    "    regression_data['X2'] = sm.add_constant(np.column_stack((plot_x1, plot_x1**2, plot_x2, plot_x2**2)))\n",
    "    regression_data['N2'] = n_obs2**2\n",
    "    \n",
    "    print regression_data['X2'].shape\n",
    "    \n",
    "#     print regression_data['X'].shape\n",
    "#     print regression_data['X']\n",
    "#     print regression_data['X2'].shape\n",
    "#     print regression_data['X2']\n",
    "\n",
    "    # Fit: STAN code ---------------------------------------------------------------------------------------------------\n",
    "    stan_code = \"\"\"\n",
    "    data{\n",
    "        int<lower=0> N;\n",
    "        int<lower=0> N2;\n",
    "        int<lower=0> K;\n",
    "        int Y[N];\n",
    "        matrix[N,K] X;\n",
    "        matrix[N2,K] X2;\n",
    "//        real LogN;\n",
    "    }\n",
    "\n",
    "    parameters{\n",
    "        vector[K] beta;\n",
    "    }\n",
    "\n",
    "    transformed parameters{\n",
    "        vector[N] eta;\n",
    "        eta = X * beta;\n",
    "    }\n",
    "\n",
    "    model{\n",
    "        Y ~ bernoulli_logit(eta);\n",
    "    }\n",
    "\n",
    "    generated quantities{\n",
    "        /* real LLi[N2]; */\n",
    "        /* real AIC; */ \n",
    "        /* real BIC; */\n",
    "        /* real LogL; */\n",
    "        vector[N2] etanew;\n",
    "        real<lower=0, upper=1.0> pnew[N2];\n",
    "        etanew = X2 * beta;\n",
    "        for (j in 1:N2){\n",
    "            pnew[j] = inv_logit(etanew[j]);\n",
    "            /* LLi[j] = bernoulli_lpmf(1|pnew[j]); */\n",
    "        }\n",
    "        /* LogL = sum(LLi); */\n",
    "        /* AIC = -2 * LogL + 2 * K; */\n",
    "        /* BIC = -2 * LogL + LogN * K; */\n",
    "    }\n",
    "#     \"\"\"\n",
    "\n",
    "    fit = pystan.stan(model_code=stan_code, data=regression_data, iter=6000, chains=4, warmup=3000, n_jobs=3)"
   ]
  },
  {
   "cell_type": "code",
   "execution_count": 3,
   "metadata": {},
   "outputs": [
    {
     "name": "stdout",
     "output_type": "stream",
     "text": [
      "Inference for Stan model: anon_model_04e2ff1a0d956cbb6eafaa1ed143cfa0.\n",
      "3 chains, each with iter=5000; warmup=2000; thin=1; \n",
      "post-warmup draws per chain=3000, total post-warmup draws=9000.\n",
      "\n",
      "               mean se_mean     sd   2.5%    25%    50%    75%  97.5%  n_eff   Rhat\n",
      "beta[1]       95.47   20.25  81.49 -88.68  43.25 103.14 152.88 236.77   16.0   1.24\n",
      "beta[2]       27.54    2.87  12.38   4.61  18.53  27.13  36.31  51.88   19.0   1.21\n",
      "beta[3]      -58.51     7.2  29.56 -115.4 -79.18 -57.52  -36.8  -3.25   17.0   1.22\n",
      "eta[99]        0.03    0.02    0.3  -0.56  -0.17   0.03   0.24   0.63  145.0   1.04\n",
      "eta[100]      -0.28  5.7e-3   0.13  -0.54  -0.36  -0.28  -0.19  -0.03  498.0   1.01\n",
      "eta[101]      -0.51  5.6e-3   0.12  -0.76   -0.6  -0.51  -0.43  -0.27  495.0   1.01\n"
     ]
    }
   ],
   "source": [
    "lines = list(range(8)) + [2 * n_obs2 + 8, 2 * n_obs2 + 9, 2 * n_obs2 + 10]\n",
    "output = str(fit).split('\\n')\n",
    "\n",
    "for i in lines:\n",
    "    print(output[i])"
   ]
  },
  {
   "cell_type": "code",
   "execution_count": 4,
   "metadata": {},
   "outputs": [
    {
     "name": "stdout",
     "output_type": "stream",
     "text": [
      "[0, 1, 2, 3, 4, 5, 6, 7, 108, 109, 110]\n"
     ]
    }
   ],
   "source": [
    "print lines"
   ]
  },
  {
   "cell_type": "code",
   "execution_count": null,
   "metadata": {},
   "outputs": [],
   "source": [
    "print fit"
   ]
  },
  {
   "cell_type": "code",
   "execution_count": 5,
   "metadata": {},
   "outputs": [],
   "source": [
    "output = str(pystan.misc._print_stanfit(fit, digits_summary=3)).split('\\n')"
   ]
  },
  {
   "cell_type": "code",
   "execution_count": 6,
   "metadata": {},
   "outputs": [],
   "source": [
    "posteriors = list(fit.extract(u'beta').items()[0])"
   ]
  },
  {
   "cell_type": "code",
   "execution_count": 7,
   "metadata": {},
   "outputs": [],
   "source": [
    "betas = posteriors[1]"
   ]
  },
  {
   "cell_type": "code",
   "execution_count": 8,
   "metadata": {},
   "outputs": [
    {
     "name": "stdout",
     "output_type": "stream",
     "text": [
      "(9000, 5)\n"
     ]
    }
   ],
   "source": [
    "print betas.shape"
   ]
  },
  {
   "cell_type": "code",
   "execution_count": 9,
   "metadata": {},
   "outputs": [],
   "source": [
    "beta0 = betas[:,0]\n",
    "beta1 = betas[:,1]\n",
    "beta2 = betas[:,2]\n",
    "beta3 = betas[:,3]"
   ]
  },
  {
   "cell_type": "code",
   "execution_count": null,
   "metadata": {},
   "outputs": [],
   "source": [
    "plt.subplots(1, betas.size, figsize=((5*betas.size),7), sharey=True)\n",
    "\n",
    "for i in range(betas.size):\n",
    "    plt.subplot(1,4,betas[i])\n",
    "    sns.kdeplot(beta0, shade=True, c='#e6550d')\n",
    "    plt.xlabel(r\"$\\beta_{%d}$\" % i, fontsize=25)\n",
    "    plt.ylabel(r\"Kernel Density\", fontsize=25)\n",
    "    plt.tick_params('both', labelsize='20')\n",
    "    \n",
    "plt.tight_layout()\n",
    "plt.savefig('./../Model/Results/posterios_sharey_3d_grid.pdf', dpi=100)\n",
    "plt.show()"
   ]
  },
  {
   "cell_type": "code",
   "execution_count": null,
   "metadata": {},
   "outputs": [],
   "source": [
    "plt.subplots(1,1, figsize=(25,10), sharey=True)\n",
    "\n",
    "plot01 = plt.subplot(1,4,1)\n",
    "sns.kdeplot(beta0, shade=True, c='#e6550d')\n",
    "plt.xlabel(r\"$\\beta_{0}$\", fontsize=25)\n",
    "plt.ylabel(r\"Kernel Density\", fontsize=25)\n",
    "plt.tick_params('both', labelsize='20')\n",
    "\n",
    "plt.subplot(1,4,2)\n",
    "sns.kdeplot(beta1, shade=True, c='#e6550d')\n",
    "plt.xlabel(r\"$\\beta_{1}$\", fontsize=25)\n",
    "plt.tick_params('both', labelsize='20')\n",
    "\n",
    "plt.subplot(1,4,3)\n",
    "sns.kdeplot(beta2, shade=True, c='#e6550d')\n",
    "plt.xlabel(r\"$\\beta_{2}$\", fontsize=25)\n",
    "plt.tick_params('both', labelsize='20')\n",
    "\n",
    "plt.subplot(1,4,4)\n",
    "sns.kdeplot(beta3, shade=True, c='#e6550d')\n",
    "plt.xlabel(r\"$\\beta_{3}$\", fontsize=25)\n",
    "plt.tick_params('both', labelsize='20')\n",
    "\n",
    "plt.tight_layout()\n",
    "plt.savefig('./../Model/Results/posterios_3d_grid.pdf', dpi=100)\n",
    "plt.show()"
   ]
  },
  {
   "cell_type": "code",
   "execution_count": null,
   "metadata": {},
   "outputs": [],
   "source": [
    "output = np.array(output)"
   ]
  },
  {
   "cell_type": "code",
   "execution_count": null,
   "metadata": {},
   "outputs": [],
   "source": [
    "new_output = output[5:-6] #removing header and footer\n",
    "print new_output.shape\n",
    "print new_output.size\n",
    "print new_output[0].split()[0]"
   ]
  },
  {
   "cell_type": "code",
   "execution_count": null,
   "metadata": {},
   "outputs": [],
   "source": [
    "print new_output[-1]\n",
    "print new_output[-2]\n",
    "print new_output[4725].split()[1][0:6]\n",
    "print new_output[4725].split()[1][6:]"
   ]
  },
  {
   "cell_type": "code",
   "execution_count": null,
   "metadata": {},
   "outputs": [],
   "source": [
    "diagnostics = []\n",
    "for i in range(new_output.size):\n",
    "    if len(new_output[i].split())<11:\n",
    "        print i, len(new_output[i].split()),'\\n'\n",
    "        print new_output[i].split(), len(new_output[i].split())\n",
    "        diagnostics.append(len(new_output[i].split()))\n",
    "    else:\n",
    "        continue\n",
    "print np.unique(diagnostics)"
   ]
  },
  {
   "cell_type": "code",
   "execution_count": null,
   "metadata": {},
   "outputs": [],
   "source": [
    "new_output[1029] = 'etanew[521]  -0.249 0.007  0.3603 -0.968  0.490 -0.253 -6.293e-5 0.4649 2627 1.0024' \n",
    "new_output[1880] = 'etanew[1372] -0.090 0.0021 0.1322  0.346 -0.179 -0.090 -1.611e-5 0.1682 3938 1.001'"
   ]
  },
  {
   "cell_type": "code",
   "execution_count": null,
   "metadata": {},
   "outputs": [],
   "source": [
    "header_fit = output[4].split()\n",
    "print header_fit"
   ]
  },
  {
   "cell_type": "code",
   "execution_count": null,
   "metadata": {},
   "outputs": [],
   "source": [
    "header_addendum = 'parameter'\n",
    "header_fit = [header_addendum] + header_fit\n",
    "print header_fit"
   ]
  },
  {
   "cell_type": "code",
   "execution_count": null,
   "metadata": {},
   "outputs": [],
   "source": [
    "new_data = header_fit\n",
    "for i in range(new_output.size):\n",
    "    if len(new_output[i].split())!=11: #the length of the list must be 11, in which case we connect them directly\n",
    "        print \"there is a problem!\"\n",
    "    else:\n",
    "        new_output_i = np.array(new_output[i].split()).reshape(1,11)\n",
    "        new_data = np.vstack((new_data, new_output_i))       "
   ]
  },
  {
   "cell_type": "code",
   "execution_count": null,
   "metadata": {},
   "outputs": [],
   "source": [
    "import pandas as pd"
   ]
  },
  {
   "cell_type": "code",
   "execution_count": null,
   "metadata": {},
   "outputs": [],
   "source": [
    "new_dataframe = pd.DataFrame(new_data)\n",
    "new_dataframe.to_csv('./fit_results_3d_grid.csv', sep=',', header=False, index=False)"
   ]
  },
  {
   "cell_type": "code",
   "execution_count": null,
   "metadata": {},
   "outputs": [],
   "source": [
    "print new_data.shape\n",
    "print new_data[-1]"
   ]
  },
  {
   "cell_type": "code",
   "execution_count": null,
   "metadata": {},
   "outputs": [],
   "source": [
    "betas = {}\n",
    "betas['beta0'] = beta0\n",
    "betas['beta1'] = beta1\n",
    "betas['beta2'] = beta2\n",
    "betas['beta3'] = beta3"
   ]
  },
  {
   "cell_type": "code",
   "execution_count": null,
   "metadata": {},
   "outputs": [],
   "source": [
    "betas_dataframe = pd.DataFrame(betas)\n",
    "betas_dataframe.to_csv('./Results/betas_3d_grid.csv', sep=',', header=True, index=False)"
   ]
  },
  {
   "cell_type": "code",
   "execution_count": null,
   "metadata": {},
   "outputs": [],
   "source": [
    "pnew = list(fit.extract(u'pnew').items()[0])"
   ]
  },
  {
   "cell_type": "code",
   "execution_count": null,
   "metadata": {},
   "outputs": [],
   "source": [
    "model_results = {}\n",
    "model_results['pnew'] = pnew[1][0]\n",
    "model_results['redshift'] = plot_x1.reshape(2500,)\n",
    "model_results['stellar_mass'] = plot_x2.reshape(2500,)"
   ]
  },
  {
   "cell_type": "code",
   "execution_count": null,
   "metadata": {},
   "outputs": [],
   "source": [
    "print model_results['pnew'].shape\n",
    "print plot_x1.shape\n",
    "print plot_x2.shape"
   ]
  },
  {
   "cell_type": "code",
   "execution_count": null,
   "metadata": {},
   "outputs": [],
   "source": [
    "model_dataframe = pd.DataFrame(model_results)\n",
    "model_dataframe.to_csv('./Results/model_prob_3d_grid.csv', sep=',', header=True, index=False)"
   ]
  },
  {
   "cell_type": "code",
   "execution_count": null,
   "metadata": {},
   "outputs": [],
   "source": []
  }
 ],
 "metadata": {
  "kernelspec": {
   "display_name": "Python 2",
   "language": "python",
   "name": "python2"
  },
  "language_info": {
   "codemirror_mode": {
    "name": "ipython",
    "version": 2
   },
   "file_extension": ".py",
   "mimetype": "text/x-python",
   "name": "python",
   "nbconvert_exporter": "python",
   "pygments_lexer": "ipython2",
   "version": "2.7.15"
  }
 },
 "nbformat": 4,
 "nbformat_minor": 2
}
