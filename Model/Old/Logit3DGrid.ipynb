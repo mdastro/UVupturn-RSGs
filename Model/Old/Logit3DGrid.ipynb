{
 "cells": [
  {
   "cell_type": "code",
   "execution_count": 1,
   "metadata": {},
   "outputs": [],
   "source": [
    "import numpy as np\n",
    "import pystan\n",
    "import matplotlib.pyplot as plt\n",
    "import statsmodels.api as sm\n",
    "import seaborn as sns\n",
    "import time"
   ]
  },
  {
   "cell_type": "code",
   "execution_count": 2,
   "metadata": {},
   "outputs": [
    {
     "name": "stdout",
     "output_type": "stream",
     "text": [
      "(2500, 5)\n"
     ]
    }
   ],
   "source": [
    "# Main thread\n",
    "\n",
    "if __name__ == '__main__':\n",
    "\n",
    "    # Configuring paths and inputs -------------------------------------------------------------------------------------\n",
    "    my_data = np.loadtxt('./../../../Catalogue/binom_reg_dataset.csv', delimiter=',', dtype=str)\n",
    "\n",
    "    my_dictionary = {}\n",
    "    for i in range(len(my_data[0, :])):                                         # Converting numpy array into dictionary\n",
    "         my_dictionary[my_data[0, i]] = np.array(my_data[0 + 1:, i], dtype=str)\n",
    "\n",
    "    logit_class   = my_dictionary['LOGIT_CLASS(1-UVUP;0-UVWEAK)'].astype(int)\n",
    "    redshift      = my_dictionary['Z'].astype(float)\n",
    "    stellar_mass  = my_dictionary['STELLAR_MASS'].astype(float)\n",
    "    \n",
    "    index = np.where(redshift<=0.4)\n",
    "\n",
    "    x1    = redshift[index]\n",
    "    x2    = stellar_mass[index]\n",
    "    y     = logit_class[index]              # whether this is a galaxy with uv upturn or not\n",
    "    n_obs = x1.size\n",
    "\n",
    "    regression_data = {}\n",
    "    regression_data['K'] = 5      # number of betas\n",
    "    regression_data['X'] = sm.add_constant(np.column_stack((x1, x1**2, x2, x2**2)))\n",
    "    regression_data['N'] = n_obs\n",
    "    regression_data['Y'] = y\n",
    "    regression_data['LogN'] = np.log(n_obs)\n",
    "    \n",
    "    # Data to be plotted -------------------------------------------------------------------------------------------\n",
    "    n_obs2 = 50    \n",
    "    x1_sim = np.linspace(x1.min(), x1.max(), n_obs2)\n",
    "    x2_sim = np.linspace(x2.min(), x2.max(), n_obs2)\n",
    "    \n",
    "    plot_x1, plot_x2 = np.meshgrid(x1_sim, x2_sim)  # THIS IS WHERE THE GRID IS DONE\n",
    "       \n",
    "    plot_x1 = plot_x1.reshape(2500, 1)\n",
    "    plot_x2 = plot_x2.reshape(2500, 1)\n",
    "\n",
    "    regression_data['X2'] = sm.add_constant(np.column_stack((plot_x1, plot_x1**2, plot_x2, plot_x2**2)))\n",
    "    regression_data['N2'] = n_obs2**2\n",
    "    \n",
    "    print regression_data['X2'].shape\n",
    "    \n",
    "#     print regression_data['X'].shape\n",
    "#     print regression_data['X']\n",
    "#     print regression_data['X2'].shape\n",
    "#     print regression_data['X2']\n",
    "\n",
    "    # Fit: STAN code ---------------------------------------------------------------------------------------------------\n",
    "    stan_code = \"\"\"\n",
    "    data{\n",
    "        int<lower=0> N;\n",
    "        int<lower=0> N2;\n",
    "        int<lower=0> K;\n",
    "        int Y[N];\n",
    "        matrix[N,K] X;\n",
    "        matrix[N2,K] X2;\n",
    "//        real LogN;\n",
    "    }\n",
    "\n",
    "    parameters{\n",
    "        vector[K] beta;\n",
    "    }\n",
    "\n",
    "    transformed parameters{\n",
    "        vector[N] eta;\n",
    "        eta = X * beta;\n",
    "    }\n",
    "\n",
    "    model{\n",
    "        Y ~ bernoulli_logit(eta);\n",
    "    }\n",
    "\n",
    "    generated quantities{\n",
    "        /* real LLi[N2]; */\n",
    "        /* real AIC; */ \n",
    "        /* real BIC; */\n",
    "        /* real LogL; */\n",
    "        vector[N2] etanew;\n",
    "        real<lower=0, upper=1.0> pnew[N2];\n",
    "        etanew = X2 * beta;\n",
    "        for (j in 1:N2){\n",
    "            pnew[j] = inv_logit(etanew[j]);\n",
    "            /* LLi[j] = bernoulli_lpmf(1|pnew[j]); */\n",
    "        }\n",
    "        /* LogL = sum(LLi); */\n",
    "        /* AIC = -2 * LogL + 2 * K; */\n",
    "        /* BIC = -2 * LogL + LogN * K; */\n",
    "    }\n",
    "#     \"\"\""
   ]
  },
  {
   "cell_type": "code",
   "execution_count": 3,
   "metadata": {},
   "outputs": [],
   "source": [
    "iterations = 7000\n",
    "chains     = 3                           # HMC chains\n",
    "warmup     = 3000                        # How many of the first iterations we'll ignore - burnin\n",
    "jobs       = -1                          # Run code in parallel -- see pystan documentation\n",
    "seed       = 1"
   ]
  },
  {
   "cell_type": "code",
   "execution_count": 4,
   "metadata": {},
   "outputs": [],
   "source": [
    "control = {}\n",
    "control['max_treedepth'] = 15\n",
    "control['adapt_delta'] = 0.95"
   ]
  },
  {
   "cell_type": "code",
   "execution_count": 5,
   "metadata": {},
   "outputs": [
    {
     "name": "stderr",
     "output_type": "stream",
     "text": [
      "INFO:pystan:COMPILING THE C++ CODE FOR MODEL anon_model_04e2ff1a0d956cbb6eafaa1ed143cfa0 NOW.\n",
      "/home/mlldantas/anaconda3/envs/py2k7/lib/python2.7/site-packages/Cython/Compiler/Main.py:367: FutureWarning: Cython directive 'language_level' not set, using 2 for now (Py2). This will change in a later release! File: /tmp/tmpP1LWBD/stanfit4anon_model_04e2ff1a0d956cbb6eafaa1ed143cfa0_6472176055705432839.pyx\n",
      "  tree = Parsing.p_module(s, pxd, full_module_name)\n"
     ]
    },
    {
     "name": "stdout",
     "output_type": "stream",
     "text": [
      "79.5730222662\n"
     ]
    }
   ],
   "source": [
    "start = time.time()\n",
    "\n",
    "fit = pystan.stan(model_code=stan_code, data=regression_data, seed=seed, iter=iterations, chains=chains, warmup=warmup,\n",
    "                  n_jobs=jobs, control=control)\n",
    "\n",
    "end = time.time()\n",
    "print((end-start)/60.)"
   ]
  },
  {
   "cell_type": "code",
   "execution_count": 6,
   "metadata": {},
   "outputs": [],
   "source": [
    "fit_df = fit.to_dataframe()"
   ]
  },
  {
   "cell_type": "code",
   "execution_count": 7,
   "metadata": {},
   "outputs": [
    {
     "name": "stdout",
     "output_type": "stream",
     "text": [
      "2.02578719854\n"
     ]
    }
   ],
   "source": [
    "start = time.time()\n",
    "fit_df.to_csv('../../../LargeFilesResults/Model/entirefit_noemlines.csv', index=False)\n",
    "end   = time.time()\n",
    "print((end-start)/60.)"
   ]
  },
  {
   "cell_type": "code",
   "execution_count": 8,
   "metadata": {},
   "outputs": [],
   "source": [
    "summary       = pystan.stansummary(fit=fit, digits_summary=5)\n",
    "summary_arr   = np.array(summary.split('\\n'))\n",
    "summary_clean = summary_arr[5:-6,]"
   ]
  },
  {
   "cell_type": "code",
   "execution_count": 9,
   "metadata": {},
   "outputs": [],
   "source": [
    "header_fit = ['parameter'] + summary_arr[4].split()"
   ]
  },
  {
   "cell_type": "code",
   "execution_count": 10,
   "metadata": {},
   "outputs": [],
   "source": [
    "posteriors = list(fit.extract(u'beta').items()[0])"
   ]
  },
  {
   "cell_type": "code",
   "execution_count": 11,
   "metadata": {},
   "outputs": [],
   "source": [
    "betas = posteriors[1]"
   ]
  },
  {
   "cell_type": "code",
   "execution_count": 12,
   "metadata": {},
   "outputs": [
    {
     "name": "stdout",
     "output_type": "stream",
     "text": [
      "(12000, 5)\n"
     ]
    }
   ],
   "source": [
    "print betas.shape"
   ]
  },
  {
   "cell_type": "code",
   "execution_count": 13,
   "metadata": {},
   "outputs": [],
   "source": [
    "beta0 = betas[:,0]\n",
    "beta1 = betas[:,1]\n",
    "beta2 = betas[:,2]\n",
    "beta3 = betas[:,3]"
   ]
  },
  {
   "cell_type": "code",
   "execution_count": null,
   "metadata": {},
   "outputs": [],
   "source": [
    "# plt.subplots(1, betas.size, figsize=((5*betas.size),7), sharey=True)\n",
    "\n",
    "# for i in range(betas.size):\n",
    "#     plt.subplot(1,4,betas[i])\n",
    "#     sns.kdeplot(beta0, shade=True, c='#e6550d')\n",
    "#     plt.xlabel(r\"$\\beta_{%d}$\" % i, fontsize=25)\n",
    "#     plt.ylabel(r\"Kernel Density\", fontsize=25)\n",
    "#     plt.tick_params('both', labelsize='20')\n",
    "    \n",
    "# plt.tight_layout()\n",
    "# plt.savefig('../../../LargeFilesResults/Model/posteriors_noemlines.pdf', dpi=100)\n",
    "# plt.show()"
   ]
  },
  {
   "cell_type": "code",
   "execution_count": null,
   "metadata": {},
   "outputs": [],
   "source": [
    "# plt.subplots(1,1, figsize=(25,10), sharey=True)\n",
    "\n",
    "# plot01 = plt.subplot(1,4,1)\n",
    "# sns.kdeplot(beta0, shade=True, c='#e6550d')\n",
    "# plt.xlabel(r\"$\\beta_{0}$\", fontsize=25)\n",
    "# plt.ylabel(r\"Kernel Density\", fontsize=25)\n",
    "# plt.tick_params('both', labelsize='20')\n",
    "\n",
    "# plt.subplot(1,4,2)\n",
    "# sns.kdeplot(beta1, shade=True, c='#e6550d')\n",
    "# plt.xlabel(r\"$\\beta_{1}$\", fontsize=25)\n",
    "# plt.tick_params('both', labelsize='20')\n",
    "\n",
    "# plt.subplot(1,4,3)\n",
    "# sns.kdeplot(beta2, shade=True, c='#e6550d')\n",
    "# plt.xlabel(r\"$\\beta_{2}$\", fontsize=25)\n",
    "# plt.tick_params('both', labelsize='20')\n",
    "\n",
    "# plt.subplot(1,4,4)\n",
    "# sns.kdeplot(beta3, shade=True, c='#e6550d')\n",
    "# plt.xlabel(r\"$\\beta_{3}$\", fontsize=25)\n",
    "# plt.tick_params('both', labelsize='20')\n",
    "\n",
    "# plt.tight_layout()\n",
    "# # plt.savefig('./../Model/Results/posterios_3d_grid.pdf', dpi=100)\n",
    "# plt.show()"
   ]
  },
  {
   "cell_type": "code",
   "execution_count": null,
   "metadata": {},
   "outputs": [],
   "source": [
    "output = np.array(output)"
   ]
  },
  {
   "cell_type": "code",
   "execution_count": null,
   "metadata": {},
   "outputs": [],
   "source": [
    "new_output = output[5:-6] #removing header and footer\n",
    "print new_output.shape\n",
    "print new_output.size\n",
    "print new_output[0].split()[0]"
   ]
  },
  {
   "cell_type": "code",
   "execution_count": null,
   "metadata": {},
   "outputs": [],
   "source": [
    "print new_output[-1]\n",
    "print new_output[-2]\n",
    "print new_output[4725].split()[1][0:6]\n",
    "print new_output[4725].split()[1][6:]"
   ]
  },
  {
   "cell_type": "code",
   "execution_count": null,
   "metadata": {},
   "outputs": [],
   "source": [
    "diagnostics = []\n",
    "for i in range(new_output.size):\n",
    "    if len(new_output[i].split())<11:\n",
    "        print i, len(new_output[i].split()),'\\n'\n",
    "        print new_output[i].split(), len(new_output[i].split())\n",
    "        diagnostics.append(len(new_output[i].split()))\n",
    "    else:\n",
    "        continue\n",
    "print np.unique(diagnostics)"
   ]
  },
  {
   "cell_type": "code",
   "execution_count": null,
   "metadata": {},
   "outputs": [],
   "source": [
    "new_output[1029] = 'etanew[521]  -0.249 0.007  0.3603 -0.968  0.490 -0.253 -6.293e-5 0.4649 2627 1.0024' \n",
    "new_output[1880] = 'etanew[1372] -0.090 0.0021 0.1322  0.346 -0.179 -0.090 -1.611e-5 0.1682 3938 1.001'"
   ]
  },
  {
   "cell_type": "code",
   "execution_count": null,
   "metadata": {},
   "outputs": [],
   "source": [
    "header_fit = output[4].split()\n",
    "print header_fit"
   ]
  },
  {
   "cell_type": "code",
   "execution_count": null,
   "metadata": {},
   "outputs": [],
   "source": [
    "header_addendum = 'parameter'\n",
    "header_fit = [header_addendum] + header_fit\n",
    "print header_fit"
   ]
  },
  {
   "cell_type": "code",
   "execution_count": null,
   "metadata": {},
   "outputs": [],
   "source": [
    "new_data = header_fit\n",
    "for i in range(new_output.size):\n",
    "    if len(new_output[i].split())!=11: #the length of the list must be 11, in which case we connect them directly\n",
    "        print \"there is a problem!\"\n",
    "    else:\n",
    "        new_output_i = np.array(new_output[i].split()).reshape(1,11)\n",
    "        new_data = np.vstack((new_data, new_output_i))       "
   ]
  },
  {
   "cell_type": "code",
   "execution_count": null,
   "metadata": {},
   "outputs": [],
   "source": [
    "import pandas as pd"
   ]
  },
  {
   "cell_type": "code",
   "execution_count": null,
   "metadata": {},
   "outputs": [],
   "source": [
    "new_dataframe = pd.DataFrame(new_data)\n",
    "new_dataframe.to_csv('../../../LargeFilesResults/Model/fit_results_3d_grid.csv', sep=',', header=False, index=False)"
   ]
  },
  {
   "cell_type": "code",
   "execution_count": null,
   "metadata": {},
   "outputs": [],
   "source": [
    "print new_data.shape\n",
    "print new_data[-1]"
   ]
  },
  {
   "cell_type": "code",
   "execution_count": null,
   "metadata": {},
   "outputs": [],
   "source": [
    "betas = {}\n",
    "betas['beta0'] = beta0\n",
    "betas['beta1'] = beta1\n",
    "betas['beta2'] = beta2\n",
    "betas['beta3'] = beta3"
   ]
  },
  {
   "cell_type": "code",
   "execution_count": null,
   "metadata": {},
   "outputs": [],
   "source": [
    "betas_dataframe = pd.DataFrame(betas)\n",
    "betas_dataframe.to_csv('../../../LargeFilesResults/Model/betas_3d_grid.csv', sep=',', header=True, index=False)"
   ]
  },
  {
   "cell_type": "code",
   "execution_count": null,
   "metadata": {},
   "outputs": [],
   "source": [
    "pnew = list(fit.extract(u'pnew').items()[0])"
   ]
  },
  {
   "cell_type": "code",
   "execution_count": null,
   "metadata": {},
   "outputs": [],
   "source": [
    "model_results = {}\n",
    "model_results['pnew'] = pnew[1][0]\n",
    "model_results['redshift'] = plot_x1.reshape(2500,)\n",
    "model_results['stellar_mass'] = plot_x2.reshape(2500,)"
   ]
  },
  {
   "cell_type": "code",
   "execution_count": null,
   "metadata": {},
   "outputs": [],
   "source": [
    "print model_results['pnew'].shape\n",
    "print plot_x1.shape\n",
    "print plot_x2.shape"
   ]
  },
  {
   "cell_type": "code",
   "execution_count": null,
   "metadata": {},
   "outputs": [],
   "source": [
    "model_dataframe = pd.DataFrame(model_results)\n",
    "model_dataframe.to_csv('../../../LargeFilesResults/Model/model_noemlines.csv', sep=',', header=True, index=False)"
   ]
  },
  {
   "cell_type": "code",
   "execution_count": null,
   "metadata": {},
   "outputs": [],
   "source": []
  }
 ],
 "metadata": {
  "kernelspec": {
   "display_name": "Python 2",
   "language": "python",
   "name": "python2"
  },
  "language_info": {
   "codemirror_mode": {
    "name": "ipython",
    "version": 2
   },
   "file_extension": ".py",
   "mimetype": "text/x-python",
   "name": "python",
   "nbconvert_exporter": "python",
   "pygments_lexer": "ipython2",
   "version": "2.7.15"
  }
 },
 "nbformat": 4,
 "nbformat_minor": 2
}
