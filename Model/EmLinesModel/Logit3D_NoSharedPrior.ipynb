{
 "cells": [
  {
   "cell_type": "markdown",
   "metadata": {},
   "source": [
    "# 1. Functions"
   ]
  },
  {
   "cell_type": "code",
   "execution_count": 1,
   "metadata": {},
   "outputs": [],
   "source": [
    "def standardize(parameter):\n",
    "    \"\"\"\n",
    "    :param parameter: the array with the parameters you wish to standardize\n",
    "    :return param_mean: mean of the input array\n",
    "    :return param_std : standard deviation of the input array\n",
    "    :return stdized_param: final standardized array\n",
    "    \"\"\"\n",
    "    import numpy as np\n",
    "    \n",
    "    param_mean    = np.mean(parameter)\n",
    "    param_std     = np.std(parameter)\n",
    "    stdized_param = []                  # standardized parameter -- output\n",
    "    for i in range(parameter.size):\n",
    "        param_temp = (parameter[i] - param_mean)/param_std\n",
    "        stdized_param.append(param_temp)\n",
    "    stdized_param = np.array(stdized_param)\n",
    "    return (param_mean, param_std, stdized_param)"
   ]
  },
  {
   "cell_type": "code",
   "execution_count": 2,
   "metadata": {},
   "outputs": [],
   "source": [
    "def un_standardize(stdized_par, mean, std):\n",
    "    \"\"\"\n",
    "    This function undoes what the former does!\n",
    "    \"\"\"\n",
    "    \n",
    "    import numpy as np\n",
    "    \n",
    "    recovered_par = []\n",
    "    for i in range(stdized_par.size):\n",
    "        param_temp = stdized_par[i]*std + mean\n",
    "        recovered_par.append(param_temp)\n",
    "    recovered_par = np.array(recovered_par)\n",
    "    return (recovered_par)"
   ]
  },
  {
   "cell_type": "code",
   "execution_count": 3,
   "metadata": {},
   "outputs": [],
   "source": [
    "def print_time(begin_time, end_time):\n",
    "    \"\"\" \n",
    "    This function prints the time in minutes that a certain task took.\n",
    "    \"\"\"\n",
    "    print (\"--------------------------------------------------\")\n",
    "    print (\"CPU process time: %.2f [min]\" % float((end-start)/60))\n",
    "    print (\"--------------------------------------------------\")"
   ]
  },
  {
   "cell_type": "markdown",
   "metadata": {},
   "source": [
    "# 2. Packages"
   ]
  },
  {
   "cell_type": "code",
   "execution_count": 4,
   "metadata": {},
   "outputs": [],
   "source": [
    "import numpy             as np\n",
    "import pandas            as pd\n",
    "import matplotlib.pyplot as plt\n",
    "import statsmodels.api   as sm\n",
    "import seaborn           as sns\n",
    "import arviz\n",
    "import pystan\n",
    "import time\n",
    "import os"
   ]
  },
  {
   "cell_type": "code",
   "execution_count": 5,
   "metadata": {},
   "outputs": [],
   "source": [
    "my_data = pd.read_csv('../../../Catalogue/binom_reg_dataset.csv')"
   ]
  },
  {
   "cell_type": "code",
   "execution_count": 6,
   "metadata": {},
   "outputs": [],
   "source": [
    "results_path = '../../../EmLinesModel_Results/'"
   ]
  },
  {
   "cell_type": "code",
   "execution_count": 7,
   "metadata": {},
   "outputs": [],
   "source": [
    "# filtering the dataset\n",
    "redshifts = my_data['Z']\n",
    "index     = np.where(redshifts.values<=0.4)\n",
    "\n",
    "# # parameters of interest\n",
    "logit_class = my_data['LOGIT_CLASS(1-UVUP;0-UVWEAK)'].values[index].astype(int)    # y axis: logit class: \n",
    "                                                                                   # UVUP yes/no\n",
    "whan_class  = my_data['WHAN(0-NA;1-RP;2-wA;3-sA;4-SF)'].values[index].astype(int)  # My types of galaxies\n",
    "mass        = my_data['STELLAR_MASS'].values[index].astype(float)                  # 1st parameter\n",
    "redshift    = redshifts.values[index].astype(float)                                # 2nd parameter"
   ]
  },
  {
   "cell_type": "code",
   "execution_count": 8,
   "metadata": {},
   "outputs": [],
   "source": [
    "# original parameters\n",
    "mean_mass, std_mass, x2 = standardize(mass)\n",
    "x1      = redshift\n",
    "y       = logit_class\n",
    "classes = (whan_class+1).astype(int)        # Must sum +1 to avoid index issues with STAN\n",
    "n_obs   = x1.size\n",
    "n_class = np.unique(classes).size\n",
    "\n",
    "# new parameters - important for plotting!\n",
    "n_obs2 = 30\n",
    "x1_sim = np.linspace(x1.min(), x1.max(), n_obs2)\n",
    "x2_sim = np.linspace(x2.min(), x2.max(), n_obs2)\n",
    "\n",
    "# grid\n",
    "plot_x1, plot_x2 = np.meshgrid(x1_sim, x2_sim)  # THIS IS WHERE THE GRID IS DONE\n",
    "plot_x1 = plot_x1.reshape((n_obs2**2), 1)\n",
    "plot_x2 = plot_x2.reshape((n_obs2**2), 1)"
   ]
  },
  {
   "cell_type": "code",
   "execution_count": 9,
   "metadata": {},
   "outputs": [],
   "source": [
    "# dataset to be used in the regression\n",
    "regression_data      = {}                                                 # Dictionary, as stated in the pystan manual\n",
    "regression_data['Y'] = y\n",
    "regression_data['X'] = sm.add_constant(np.column_stack((x1, x1**2, x2, x2**2)))\n",
    "regression_data['K'] = regression_data['X'][0,:].size                     # Number of betas -- b0, b1, b2, b3, b4\n",
    "regression_data['W'] = classes\n",
    "regression_data['N'] = n_obs\n",
    "regression_data['C'] = n_class                                       # Number of different classes (partial pooling)\n",
    "\n",
    "# dataset to be used in the plot -- after meshgrid\n",
    "regression_data['X2'] = sm.add_constant(np.column_stack((plot_x1, plot_x1**2, plot_x2, plot_x2**2)))\n",
    "regression_data['N2'] = n_obs2**2"
   ]
  },
  {
   "cell_type": "code",
   "execution_count": 10,
   "metadata": {},
   "outputs": [
    {
     "data": {
      "text/plain": [
       "array([[ 1.        ,  0.13198   ,  0.01741872, -1.70524698,  2.90786727],\n",
       "       [ 1.        ,  0.1387    ,  0.01923769,  0.1025686 ,  0.01052032],\n",
       "       [ 1.        ,  0.17168   ,  0.02947402,  0.31307328,  0.09801488],\n",
       "       ...,\n",
       "       [ 1.        ,  0.20231   ,  0.04092934,  1.26636376,  1.60367718],\n",
       "       [ 1.        ,  0.20539   ,  0.04218505,  0.55180499,  0.30448875],\n",
       "       [ 1.        ,  0.18752   ,  0.03516375,  0.29910587,  0.08946432]])"
      ]
     },
     "execution_count": 10,
     "metadata": {},
     "output_type": "execute_result"
    }
   ],
   "source": [
    "regression_data['X']"
   ]
  },
  {
   "cell_type": "code",
   "execution_count": 11,
   "metadata": {},
   "outputs": [],
   "source": [
    "# sns.lmplot(x='STELLAR_MASS', y='LOGIT_CLASS(1-UVUP;0-UVWEAK)', data=my_data.iloc[index], logistic=True)\n",
    "# plt.savefig(os.path.join(results_path, 'logistic_seaborn.pdf'))\n",
    "# plt.show()"
   ]
  },
  {
   "cell_type": "markdown",
   "metadata": {},
   "source": [
    "### 2.1 Fit: STAN code "
   ]
  },
  {
   "cell_type": "code",
   "execution_count": 12,
   "metadata": {},
   "outputs": [],
   "source": [
    "stan_code = \"\"\"\n",
    "// DECLARATION OF VARIABLES ------------------------------------------------------------------------------------------\n",
    "data{\n",
    "    int<lower=1> N;\n",
    "    int<lower=1> N2;\n",
    "    int<lower=1> K;\n",
    "    int<lower=1> C;\n",
    "    int W[N];\n",
    "    int<lower=0, upper=1> Y[N];\n",
    "    matrix[N, K] X;         // redshift and stellar mass \n",
    "    matrix[N2,K] X2;        // redshift and stellar mass -- after grid\n",
    "    }\n",
    "\n",
    "// DEFINING THE PRIOR(S) ---------------------------------------------------------------------------------------------\n",
    "parameters{\n",
    "    matrix[K,C] beta;         // 25 betas!\n",
    "//    real<lower=0> sigma;    // Shared hyperpriors\n",
    "//    real mu;                // Shared hyperpriors\n",
    "    }\n",
    "\n",
    "// MODEL: PROBABILITY, HYPERPRIORS, PRIORS, AND REGRESSION -----------------------------------------------------------\n",
    "model {\n",
    "   vector[N] prob;\n",
    "    for (i in 1:N) {\n",
    "      prob[i] = beta[1,W[i]]*X[i,1] + beta[2,W[i]]*X[i,2] + beta[3,W[i]]*X[i,3] + beta[4,W[i]]*X[i,4] + \n",
    "      beta[5,W[i]]*X[i,5];\n",
    "      }\n",
    "\n",
    "//    sigma ~ gamma(0.001, 0.001);                           // shared hyperpriors\n",
    "//    mu ~ normal(0, 100);                                   // shared hyperpriors\n",
    "     \n",
    "    for (i in 1:K) {\n",
    "       for (j in 1:C) beta[i,j] ~ normal(0, 100);       // priors\n",
    "        }\n",
    "\n",
    "    Y ~ bernoulli_logit(prob);                             // regression\n",
    "    }\n",
    "\n",
    "// DATA TO BE PLOTTED ------------------------------------------------------------------------------------------------\n",
    "generated quantities{\n",
    "    vector[N2] prob01;\n",
    "    vector[N2] eta01;\n",
    "    vector[N2] prob02;\n",
    "    vector[N2] eta02;\n",
    "    vector[N2] prob03;\n",
    "    vector[N2] eta03;\n",
    "    vector[N2] prob04;\n",
    "    vector[N2] eta04;\n",
    "    vector[N2] prob05;\n",
    "    vector[N2] eta05;\n",
    "    \n",
    "    for(j in 1:N2){\n",
    "        eta01[j] = beta[1,1]*X2[j,1] + beta[2,1]*X2[j,2] + beta[3,1]*X2[j,3] + beta[4,1]*X2[j,4] + beta[5,1]*X2[j,5];\n",
    "        eta02[j] = beta[1,2]*X2[j,1] + beta[2,2]*X2[j,2] + beta[3,2]*X2[j,3] + beta[4,2]*X2[j,4] + beta[5,2]*X2[j,5];\n",
    "        eta03[j] = beta[1,3]*X2[j,1] + beta[2,3]*X2[j,2] + beta[3,3]*X2[j,3] + beta[4,3]*X2[j,4] + beta[5,3]*X2[j,5];\n",
    "        eta04[j] = beta[1,4]*X2[j,1] + beta[2,4]*X2[j,2] + beta[3,4]*X2[j,3] + beta[4,4]*X2[j,4] + beta[5,4]*X2[j,5];\n",
    "        eta05[j] = beta[1,5]*X2[j,1] + beta[2,5]*X2[j,2] + beta[3,5]*X2[j,3] + beta[4,5]*X2[j,4] + beta[5,5]*X2[j,5];\n",
    "        prob01[j] = inv_logit(eta01[j]);\n",
    "        prob02[j] = inv_logit(eta02[j]);\n",
    "        prob03[j] = inv_logit(eta03[j]);\n",
    "        prob04[j] = inv_logit(eta04[j]);\n",
    "        prob05[j] = inv_logit(eta05[j]);\n",
    "        }\n",
    "\n",
    "    }\n",
    "\n",
    "\"\"\""
   ]
  },
  {
   "cell_type": "markdown",
   "metadata": {},
   "source": [
    "### 2.2 Fit settings (for STAN)"
   ]
  },
  {
   "cell_type": "code",
   "execution_count": 13,
   "metadata": {},
   "outputs": [],
   "source": [
    "iterations = 7000\n",
    "chains     = 3                           # HMC chains\n",
    "warmup     = 3000                        # How many of the first iterations we'll ignore - burnin\n",
    "jobs       = -1                          # Run code in parallel -- see pystan documentation\n",
    "seed       = 1"
   ]
  },
  {
   "cell_type": "code",
   "execution_count": 14,
   "metadata": {},
   "outputs": [],
   "source": [
    "control = {}\n",
    "control['max_treedepth'] = 30\n",
    "control['adapt_delta'] = 0.99"
   ]
  },
  {
   "cell_type": "markdown",
   "metadata": {},
   "source": [
    "### 2.3 Running the fit"
   ]
  },
  {
   "cell_type": "code",
   "execution_count": 15,
   "metadata": {},
   "outputs": [
    {
     "name": "stderr",
     "output_type": "stream",
     "text": [
      "INFO:pystan:COMPILING THE C++ CODE FOR MODEL anon_model_5cb83d78da90e6f0b257f8fad4560d83 NOW.\n"
     ]
    },
    {
     "name": "stdout",
     "output_type": "stream",
     "text": [
      "--------------------------------------------------\n",
      "CPU process time: 0.89 [min]\n",
      "--------------------------------------------------\n"
     ]
    }
   ],
   "source": [
    "start = time.time()\n",
    "\n",
    "model = pystan.StanModel(model_code=stan_code)\n",
    "\n",
    "end = time.time()\n",
    "print_time(start, end)"
   ]
  },
  {
   "cell_type": "code",
   "execution_count": 16,
   "metadata": {},
   "outputs": [
    {
     "name": "stderr",
     "output_type": "stream",
     "text": [
      "WARNING:pystan:Maximum (flat) parameter count (1000) exceeded: skipping diagnostic tests for n_eff and Rhat.\n",
      "To run all diagnostics call pystan.check_hmc_diagnostics(fit)\n"
     ]
    },
    {
     "name": "stdout",
     "output_type": "stream",
     "text": [
      "--------------------------------------------------\n",
      "CPU process time: 49.66 [min]\n",
      "--------------------------------------------------\n"
     ]
    }
   ],
   "source": [
    "start = time.time()\n",
    "\n",
    "fit = model.sampling(data=regression_data, seed=seed, iter=iterations, chains=chains, warmup=warmup, n_jobs=jobs, \n",
    "                     control=control)\n",
    "end = time.time()\n",
    "print_time(start, end)"
   ]
  },
  {
   "cell_type": "markdown",
   "metadata": {},
   "source": [
    "# 3. Retrieving the data from the fit"
   ]
  },
  {
   "cell_type": "markdown",
   "metadata": {},
   "source": [
    "### 3.1 Saving the entire fit: brace for impact!"
   ]
  },
  {
   "cell_type": "code",
   "execution_count": 17,
   "metadata": {},
   "outputs": [
    {
     "name": "stdout",
     "output_type": "stream",
     "text": [
      "--------------------------------------------------\n",
      "CPU process time: 0.26 [min]\n",
      "--------------------------------------------------\n"
     ]
    }
   ],
   "source": [
    "start  = time.time()\n",
    "fit_df = fit.to_dataframe()\n",
    "end    = time.time()\n",
    "print_time(start, end)"
   ]
  },
  {
   "cell_type": "code",
   "execution_count": 18,
   "metadata": {},
   "outputs": [
    {
     "name": "stdout",
     "output_type": "stream",
     "text": [
      "--------------------------------------------------\n",
      "CPU process time: 3.80 [min]\n",
      "--------------------------------------------------\n"
     ]
    }
   ],
   "source": [
    "start = time.time()\n",
    "fit_df.to_csv(os.path.join(results_path, 'entirefit_noshared.csv'), index=False)\n",
    "end   = time.time()\n",
    "print_time(start, end)"
   ]
  },
  {
   "cell_type": "code",
   "execution_count": 19,
   "metadata": {},
   "outputs": [],
   "source": [
    "posteriors = fit_df[fit.flatnames[:25]]\n",
    "header_posteriors = fit.flatnames[:25]"
   ]
  },
  {
   "cell_type": "code",
   "execution_count": 20,
   "metadata": {},
   "outputs": [],
   "source": [
    "manual_list = [fit['beta[1,1]'], fit['beta[2,1]'], fit['beta[3,1]'], fit['beta[4,1]'], fit['beta[5,1]'],  \n",
    "               fit['beta[1,2]'], fit['beta[2,2]'], fit['beta[3,2]'], fit['beta[4,2]'], fit['beta[5,2]'],\n",
    "               fit['beta[1,3]'], fit['beta[2,3]'], fit['beta[3,3]'], fit['beta[4,3]'], fit['beta[5,3]'],\n",
    "               fit['beta[1,4]'], fit['beta[2,4]'], fit['beta[3,4]'], fit['beta[4,4]'], fit['beta[5,4]'],\n",
    "               fit['beta[1,5]'], fit['beta[2,5]'], fit['beta[3,5]'], fit['beta[4,5]'], fit['beta[5,5]']]"
   ]
  },
  {
   "cell_type": "code",
   "execution_count": 21,
   "metadata": {},
   "outputs": [
    {
     "name": "stderr",
     "output_type": "stream",
     "text": [
      "/home/mlldantas/anaconda3/lib/python3.7/site-packages/IPython/core/pylabtools.py:132: UserWarning: constrained_layout not applied.  At least one axes collapsed to zero width or height.\n",
      "  fig.canvas.print_figure(bytes_io, **kw)\n"
     ]
    },
    {
     "data": {
      "image/png": "[encoded data removed]",
      "text/plain": [
       "<Figure size 432x288 with 1 Axes>"
      ]
     },
     "metadata": {
      "needs_background": "light"
     },
     "output_type": "display_data"
    }
   ],
   "source": [
    "arviz.plot_density(data=manual_list)\n",
    "plt.yscale('log')\n",
    "plt.show()"
   ]
  },
  {
   "cell_type": "code",
   "execution_count": 22,
   "metadata": {},
   "outputs": [
    {
     "ename": "TypeError",
     "evalue": "plot_forest() got an unexpected keyword argument 'n_eff'",
     "output_type": "error",
     "traceback": [
      "\u001b[0;31m---------------------------------------------------------------------------\u001b[0m",
      "\u001b[0;31mTypeError\u001b[0m                                 Traceback (most recent call last)",
      "\u001b[0;32m<ipython-input-22-4152c3cbfdb7>\u001b[0m in \u001b[0;36m<module>\u001b[0;34m\u001b[0m\n\u001b[1;32m      1\u001b[0m arviz.plot_forest(data=[fit['beta[1,1]'], fit['beta[2,1]'], fit['beta[3,1]'], fit['beta[4,1]'], fit['beta[5,1]']],\n\u001b[1;32m      2\u001b[0m                   \u001b[0mkind\u001b[0m\u001b[0;34m=\u001b[0m\u001b[0;34m'ridgeplot'\u001b[0m\u001b[0;34m,\u001b[0m \u001b[0mmodel_names\u001b[0m\u001b[0;34m=\u001b[0m\u001b[0;34m[\u001b[0m\u001b[0;34m'beta[1,1]'\u001b[0m\u001b[0;34m,\u001b[0m \u001b[0;34m'beta[2,1]'\u001b[0m\u001b[0;34m,\u001b[0m \u001b[0;34m'beta[3,1]'\u001b[0m\u001b[0;34m,\u001b[0m \u001b[0;34m'beta[4,1]'\u001b[0m\u001b[0;34m,\u001b[0m \u001b[0;34m'beta[5,1]'\u001b[0m\u001b[0;34m]\u001b[0m\u001b[0;34m,\u001b[0m\u001b[0;34m\u001b[0m\u001b[0;34m\u001b[0m\u001b[0m\n\u001b[0;32m----> 3\u001b[0;31m                   n_eff=False, figsize=(6,6))\n\u001b[0m\u001b[1;32m      4\u001b[0m \u001b[0mplt\u001b[0m\u001b[0;34m.\u001b[0m\u001b[0mtight_layout\u001b[0m\u001b[0;34m(\u001b[0m\u001b[0;34m)\u001b[0m\u001b[0;34m\u001b[0m\u001b[0;34m\u001b[0m\u001b[0m\n\u001b[1;32m      5\u001b[0m \u001b[0mplt\u001b[0m\u001b[0;34m.\u001b[0m\u001b[0msavefig\u001b[0m\u001b[0;34m(\u001b[0m\u001b[0mos\u001b[0m\u001b[0;34m.\u001b[0m\u001b[0mpath\u001b[0m\u001b[0;34m.\u001b[0m\u001b[0mjoin\u001b[0m\u001b[0;34m(\u001b[0m\u001b[0mresults_path\u001b[0m\u001b[0;34m,\u001b[0m \u001b[0;34m'betas_noshared_forest01.png'\u001b[0m\u001b[0;34m)\u001b[0m\u001b[0;34m,\u001b[0m \u001b[0mdpi\u001b[0m\u001b[0;34m=\u001b[0m\u001b[0;36m150\u001b[0m\u001b[0;34m,\u001b[0m \u001b[0mbbox_inches\u001b[0m\u001b[0;34m=\u001b[0m\u001b[0;34m'tight'\u001b[0m\u001b[0;34m)\u001b[0m\u001b[0;34m\u001b[0m\u001b[0;34m\u001b[0m\u001b[0m\n",
      "\u001b[0;31mTypeError\u001b[0m: plot_forest() got an unexpected keyword argument 'n_eff'"
     ]
    }
   ],
   "source": [
    "arviz.plot_forest(data=[fit['beta[1,1]'], fit['beta[2,1]'], fit['beta[3,1]'], fit['beta[4,1]'], fit['beta[5,1]']],\n",
    "                  kind='ridgeplot', model_names=['beta[1,1]', 'beta[2,1]', 'beta[3,1]', 'beta[4,1]', 'beta[5,1]'],\n",
    "                  n_eff=False, figsize=(6,6))\n",
    "plt.tight_layout()\n",
    "plt.savefig(os.path.join(results_path, 'betas_noshared_forest01.png'), dpi=150, bbox_inches='tight')\n",
    "plt.savefig(os.path.join(results_path, 'betas_noshared_forest01.pdf'), dpi=150, bbox_inches='tight')\n",
    "plt.show()\n",
    "\n",
    "arviz.plot_forest(data=[fit['beta[1,2]'], fit['beta[2,2]'], fit['beta[3,2]'], fit['beta[4,2]'], fit['beta[5,2]']], \n",
    "                  kind='ridgeplot', model_names=['beta[1,2]', 'beta[2,2]', 'beta[3,2]', 'beta[4,2]', 'beta[5,2]'], \n",
    "                  n_eff=False, figsize=(6,6))\n",
    "plt.tight_layout()\n",
    "plt.savefig(os.path.join(results_path, 'betas_noshared_forest02.png'), dpi=150, bbox_inches='tight')\n",
    "plt.savefig(os.path.join(results_path, 'betas_noshared_forest02.pdf'), dpi=150, bbox_inches='tight')\n",
    "plt.show()\n",
    "\n",
    "arviz.plot_forest(data=[fit['beta[1,3]'], fit['beta[2,3]'], fit['beta[3,3]'], fit['beta[4,3]'], fit['beta[5,3]']], \n",
    "                  kind='ridgeplot', model_names=['beta[1,3]', 'beta[2,3]', 'beta[3,3]', 'beta[4,3]', 'beta[5,3]'], \n",
    "                  n_eff=False, figsize=(6,6))\n",
    "plt.tight_layout()\n",
    "plt.savefig(os.path.join(results_path, 'betas_noshared_forest03.png'), dpi=150, bbox_inches='tight')\n",
    "plt.savefig(os.path.join(results_path, 'betas_noshared_forest03.pdf'), dpi=150, bbox_inches='tight')\n",
    "plt.show()\n",
    "\n",
    "arviz.plot_forest(data=[fit['beta[1,4]'], fit['beta[2,4]'], fit['beta[3,4]'], fit['beta[4,4]'], fit['beta[5,4]']], \n",
    "                  kind='ridgeplot', model_names=['beta[1,4]', 'beta[2,4]', 'beta[3,4]', 'beta[4,4]', 'beta[5,4]'],\n",
    "                  n_eff=False, figsize=(6,6))\n",
    "plt.tight_layout()\n",
    "plt.savefig(os.path.join(results_path, 'betas_noshared_forest04.png'), dpi=150, bbox_inches='tight')\n",
    "plt.savefig(os.path.join(results_path, 'betas_noshared_forest04.pdf'), dpi=150, bbox_inches='tight')\n",
    "plt.show()\n",
    "\n",
    "arviz.plot_forest(data=[fit['beta[1,5]'], fit['beta[2,5]'], fit['beta[3,5]'], fit['beta[4,5]'], fit['beta[5,5]']], \n",
    "                  kind='ridgeplot', model_names=['beta[1,5]', 'beta[2,5]', 'beta[3,5]', 'beta[4,5]', 'beta[5,5]'], \n",
    "                  n_eff=False, figsize=(6,6))\n",
    "plt.tight_layout()\n",
    "plt.savefig(os.path.join(results_path, 'betas_noshared_forest05.png'), dpi=150, bbox_inches='tight')\n",
    "plt.savefig(os.path.join(results_path, 'betas_noshared_forest05.pdf'), dpi=150, bbox_inches='tight')\n",
    "plt.show()"
   ]
  },
  {
   "cell_type": "code",
   "execution_count": null,
   "metadata": {},
   "outputs": [],
   "source": [
    "figsize=(6,3)"
   ]
  },
  {
   "cell_type": "code",
   "execution_count": null,
   "metadata": {
    "scrolled": true
   },
   "outputs": [],
   "source": [
    "plot = arviz.plot_trace(data=fit['beta[1,1]'], figsize=figsize)\n",
    "plot = arviz.plot_trace(data=fit['beta[2,1]'], figsize=figsize)\n",
    "plot = arviz.plot_trace(data=fit['beta[3,1]'], figsize=figsize)\n",
    "plot = arviz.plot_trace(data=fit['beta[4,1]'], figsize=figsize)\n",
    "plot = arviz.plot_trace(data=fit['beta[5,1]'], figsize=figsize)\n",
    "plt.tight_layout()\n",
    "# plt.savefig('../../LargeFilesResults/Model/trace_class01.pdf', bbox_inches='tight')\n",
    "plt.show()"
   ]
  },
  {
   "cell_type": "code",
   "execution_count": null,
   "metadata": {},
   "outputs": [],
   "source": [
    "plot = arviz.plot_trace(data=fit['beta[1,2]'], figsize=figsize)\n",
    "plot = arviz.plot_trace(data=fit['beta[2,2]'], figsize=figsize)\n",
    "plot = arviz.plot_trace(data=fit['beta[3,2]'], figsize=figsize)\n",
    "plot = arviz.plot_trace(data=fit['beta[4,2]'], figsize=figsize)\n",
    "plot = arviz.plot_trace(data=fit['beta[5,2]'], figsize=figsize)\n",
    "plt.tight_layout()\n",
    "# plt.savefig('../../LargeFilesResults/Model/trace_class02.pdf', bbox_inches='tight')\n",
    "plt.show()"
   ]
  },
  {
   "cell_type": "code",
   "execution_count": null,
   "metadata": {},
   "outputs": [],
   "source": [
    "plot = arviz.plot_trace(data=fit['beta[1,3]'], figsize=figsize)\n",
    "plot = arviz.plot_trace(data=fit['beta[2,3]'], figsize=figsize)\n",
    "plot = arviz.plot_trace(data=fit['beta[3,3]'], figsize=figsize)\n",
    "plot = arviz.plot_trace(data=fit['beta[4,3]'], figsize=figsize)\n",
    "plot = arviz.plot_trace(data=fit['beta[5,3]'], figsize=figsize)\n",
    "plt.tight_layout()\n",
    "# plt.savefig('../../LargeFilesResults/Model/trace_class03.pdf', bbox_inches='tight')\n",
    "plt.show()"
   ]
  },
  {
   "cell_type": "code",
   "execution_count": null,
   "metadata": {},
   "outputs": [],
   "source": [
    "plot = arviz.plot_trace(data=fit['beta[1,4]'], figsize=figsize)\n",
    "plot = arviz.plot_trace(data=fit['beta[2,4]'], figsize=figsize)\n",
    "plot = arviz.plot_trace(data=fit['beta[3,4]'], figsize=figsize)\n",
    "plot = arviz.plot_trace(data=fit['beta[4,4]'], figsize=figsize)\n",
    "plot = arviz.plot_trace(data=fit['beta[5,4]'], figsize=figsize)\n",
    "# plt.savefig('../../LargeFilesResults/Model/trace_class04.pdf', bbox_inches='tight')\n",
    "plt.tight_layout()\n",
    "plt.show()"
   ]
  },
  {
   "cell_type": "code",
   "execution_count": null,
   "metadata": {},
   "outputs": [],
   "source": [
    "plot = arviz.plot_trace(data=fit['beta[1,5]'], figsize=figsize)\n",
    "plot = arviz.plot_trace(data=fit['beta[2,5]'], figsize=figsize)\n",
    "plot = arviz.plot_trace(data=fit['beta[3,5]'], figsize=figsize)\n",
    "plot = arviz.plot_trace(data=fit['beta[4,5]'], figsize=figsize)\n",
    "plot = arviz.plot_trace(data=fit['beta[5,5]'], figsize=figsize)\n",
    "# plt.savefig('../../LargeFilesResults/Model/trace_class05.pdf', bbox_inches='tight')\n",
    "plt.tight_layout()\n",
    "plt.show()"
   ]
  },
  {
   "cell_type": "markdown",
   "metadata": {},
   "source": [
    "### 3.2 Saving the automatic summary from STAN"
   ]
  },
  {
   "cell_type": "code",
   "execution_count": null,
   "metadata": {},
   "outputs": [],
   "source": [
    "summary = pystan.stansummary(fit=fit, digits_summary=4)"
   ]
  },
  {
   "cell_type": "code",
   "execution_count": null,
   "metadata": {},
   "outputs": [],
   "source": [
    "summary_arr  = np.array(summary.split('\\n'))\n",
    "summary_clean = summary_arr[5:-6,]"
   ]
  },
  {
   "cell_type": "code",
   "execution_count": null,
   "metadata": {},
   "outputs": [],
   "source": [
    "header_fit = ['parameter'] + summary_arr[4].split()"
   ]
  },
  {
   "cell_type": "markdown",
   "metadata": {},
   "source": [
    "#### 3.2.1 Recovering the mass (undo the stadardization) and adding x1 and x2 to the summary"
   ]
  },
  {
   "cell_type": "code",
   "execution_count": null,
   "metadata": {},
   "outputs": [],
   "source": [
    "recovered_mass  = un_standardize(stdized_par=plot_x2, mean=mean_mass, std=std_mass)\n",
    "recovered_pars  = np.column_stack((np.squeeze(plot_x1), np.squeeze(recovered_mass)))\n",
    "rp      = recovered_pars\n",
    "rp_cols = np.vstack((rp, rp, rp, rp, rp))    # for 5 whan classes we must stack these 5x"
   ]
  },
  {
   "cell_type": "code",
   "execution_count": null,
   "metadata": {},
   "outputs": [],
   "source": [
    "recovered_mass"
   ]
  },
  {
   "cell_type": "code",
   "execution_count": null,
   "metadata": {},
   "outputs": [],
   "source": [
    "recovered_pars"
   ]
  },
  {
   "cell_type": "code",
   "execution_count": null,
   "metadata": {},
   "outputs": [],
   "source": [
    "rp_cols"
   ]
  },
  {
   "cell_type": "markdown",
   "metadata": {},
   "source": [
    "#### 3.2.2 Checking if the numbers aren't overlaped"
   ]
  },
  {
   "cell_type": "code",
   "execution_count": null,
   "metadata": {
    "scrolled": true
   },
   "outputs": [],
   "source": [
    "new_summary = list(np.zeros(len(header_fit)))\n",
    "for i in range(summary_clean.size):\n",
    "    if len(summary_clean[i].split())!=11:\n",
    "#         print (len(summary_clean[i].split()))\n",
    "        new_summ_temp = np.array(summary_clean[i].split())\n",
    "        new_summ_temp = np.concatenate((new_summ_temp, ['X']))\n",
    "        new_summary   = np.vstack((new_summary, new_summ_temp))\n",
    "        print ('new_summary[%d] = ' %i, \"'%s'\" % summary_clean[i])\n",
    "    else:\n",
    "        new_summ_temp = np.array(summary_clean[i].split()).reshape(1,11)\n",
    "        new_summary   = np.vstack((new_summary, new_summ_temp))\n",
    "new_summary = new_summary[1:,:]            # removing the zeroes in the beggining (line one)\n",
    "print (new_summary[:,0].shape)"
   ]
  },
  {
   "cell_type": "code",
   "execution_count": null,
   "metadata": {},
   "outputs": [],
   "source": [
    "# new_summary[5] =  'beta[1,2]    -3.46    0.02   1.79  -6.99  -4.62  -3.43  -2.26 -7.0e-3   7663    1.0'\n",
    "# new_summary[88] =  'prob01[64]    0.14  1.3e-3   0.15 10.0e-4   0.02   0.08    0.2   0.55  12962    1.0'\n",
    "# new_summary[1175] =  'eta01[251]   -0.59  9.3e-3   0.85  -2.41  -1.12  -0.54 -8.5e-3   0.94   8385    1.0'\n",
    "# new_summary[1238] =  'eta01[314]   -0.02  7.8e-3   0.72  -1.47  -0.49 -3.4e-3   0.47   1.36   8448    1.0'\n",
    "# new_summary[1336] =  'eta01[412]    0.47  6.4e-3   0.72  -0.93 -7.8e-3   0.47   0.95    1.9  12507    1.0'\n",
    "# new_summary[1391] =  'eta01[467]     0.3  4.2e-3   0.45  -0.58 -1.2e-3   0.31   0.61    1.2  11831    1.0'\n",
    "# new_summary[1445] =  'eta01[521]   -0.73  3.7e-3   0.38  -1.51  -0.98  -0.73  -0.48 -1.7e-3  10514    1.0'\n",
    "# new_summary[1581] =  'eta01[657] -6.5e-3  6.4e-3   0.69  -1.37  -0.45 -2.4e-3   0.44   1.34  11576    1.0'\n",
    "# new_summary[1628] =  'eta01[704] -6.1e-3  4.6e-3    0.6  -1.21   -0.4 -8.1e-4    0.4   1.15  17024    1.0'\n",
    "# new_summary[1727] =  'eta01[803]     0.6  7.6e-3   0.91  -1.21 -6.9e-3    0.6   1.21   2.36  14351    1.0'\n",
    "# new_summary[1773] =  'eta01[849]    -1.0    0.01   1.49  -4.05  -1.97  -0.98 -1.9e-3   1.86  17529    1.0'\n",
    "# new_summary[2424] =  'prob02[600]   0.15  1.5e-3   0.14 10.0e-3   0.05    0.1    0.2   0.55   9069    1.0'\n",
    "# new_summary[2807] =  'eta02[83]    -0.86    0.01   1.29  -3.47   -1.7  -0.84 -2.6e-3   1.65  12808    1.0'\n",
    "# new_summary[2836] =  'eta02[112]   -0.77    0.01   1.16  -3.12  -1.54  -0.76 -4.2e-3   1.51  12513    1.0'\n",
    "# new_summary[2865] =  'eta02[141]   -0.69  9.5e-3   1.04  -2.79  -1.38  -0.68 -2.7e-3   1.35  12224    1.0'\n",
    "# new_summary[2914] =  'eta02[190]   -0.41  6.2e-3   0.62  -1.66  -0.81   -0.4 -5.3e-4   0.78   9988    1.0'\n",
    "# new_summary[2952] =  'eta02[228]    -0.5  6.8e-3   0.73  -1.95  -0.98   -0.5 -8.8e-3   0.95  11448    1.0'\n",
    "# new_summary[3033] =  'eta02[309]   -0.53  2.6e-3   0.27  -1.08  -0.71  -0.52  -0.35 -9.5e-3  11091    1.0'\n",
    "# new_summary[3124] =  'eta02[400]   -0.39  1.8e-3    0.2  -0.78  -0.52  -0.39  -0.26 -5.3e-3  12032    1.0'\n",
    "# new_summary[3143] =  'eta02[419]   -2.33    0.01   1.19   -4.7  -3.13  -2.33  -1.52 -4.8e-3  11888    1.0'\n",
    "# new_summary[3174] =  'eta02[450]   -2.56    0.01   1.31  -5.16  -3.44  -2.57  -1.67 -6.9e-3  11131    1.0'\n",
    "# new_summary[3182] =  'eta02[458]   -0.45  2.2e-3   0.23  -0.91  -0.61  -0.45   -0.3 -9.0e-3  11095    1.0'\n",
    "# new_summary[3434] =  'eta02[710]    0.23  2.9e-3   0.34  -0.43 -2.8e-4   0.22   0.45   0.91  14243    1.0'\n",
    "# new_summary[3500] =  'eta02[776]   -0.45  6.1e-3   0.67  -1.77   -0.9  -0.46 -4.2e-3   0.86  12075    1.0'\n",
    "# new_summary[3773] =  'prob03[149]   0.71  2.9e-3   0.34 10.0e-3   0.47   0.89   0.99    1.0  13508    1.0'\n",
    "# new_summary[3803] =  'prob03[179]    0.7  2.9e-3   0.34 10.0e-3   0.44   0.88   0.99    1.0  13697    1.0'\n",
    "# new_summary[4612] =  'eta03[88]     2.41    0.03    3.6  -4.56 -4.8e-4   2.32   4.79   9.64  17041    1.0'\n",
    "# new_summary[4839] =  'eta03[315]  6.8e-3  9.2e-3    1.0  -1.94  -0.65 -3.5e-3   0.67   1.98  11656    1.0'\n",
    "# new_summary[4922] =  'eta03[398]   -0.38  4.9e-3   0.56  -1.48  -0.75  -0.38 -4.5e-3    0.7  13146    1.0'\n",
    "# new_summary[4924] =  'eta03[400]   -0.36  4.7e-3   0.53  -1.41  -0.72  -0.35 -5.6e-3   0.69  12679    1.0'\n",
    "# new_summary[5048] =  'eta03[524]   -0.32  4.2e-3   0.47  -1.23  -0.63  -0.31 -3.2e-3    0.6  12377    1.0'\n",
    "# new_summary[5074] =  'eta03[550]   -0.42  5.3e-3   0.61  -1.65  -0.82   -0.4 -6.3e-3   0.76  13398    1.0'\n",
    "# new_summary[5083] =  'eta03[559]  2.7e-3  6.8e-3   0.78  -1.52  -0.52 -6.2e-3   0.51   1.57  13128    1.0'\n",
    "# new_summary[5142] =  'eta03[618]  7.2e-3  5.8e-3   0.66  -1.27  -0.42 -1.6e-3   0.44   1.34  12691    1.0'\n",
    "# new_summary[5171] =  'eta03[647]  7.5e-4  6.6e-3   0.73  -1.43  -0.49 -6.9e-3   0.49   1.45  12380    1.0'\n",
    "# new_summary[5217] =  'eta03[693]   -0.05    0.02   2.04  -4.15  -1.41 -2.1e-3   1.31   3.92  11173    1.0'\n",
    "# new_summary[5495] =  'prob04[71]    0.12  1.9e-3    0.2 10.0e-5 5.3e-3   0.03   0.14   0.76  11199    1.0'\n",
    "# new_summary[5956] =  'prob04[532]   0.25  1.9e-3   0.21 10.0e-3   0.08   0.19   0.38   0.76  11901    1.0'\n",
    "# new_summary[6123] =  'prob04[699]   0.65  3.4e-3   0.35 10.0e-3   0.33   0.79   0.97    1.0  10336    1.0'\n",
    "# new_summary[6140] =  'prob04[716]   0.33  2.2e-3   0.26 10.0e-3   0.11   0.27   0.53   0.89  13572    1.0'\n",
    "# new_summary[6510] =  'eta04[186]   -1.71  9.1e-3   0.98  -3.87   -2.3  -1.63  -1.03 -4.3e-3  11564    1.0'\n",
    "# new_summary[6657] =  'eta04[333]   -0.01    0.01   1.14  -2.26  -0.76 -6.7e-3   0.75   2.22   9512    1.0'\n",
    "# new_summary[6723] =  'eta04[399]   -0.44  5.5e-3   0.65  -1.74  -0.87  -0.43 -6.6e-3   0.81  13835    1.0'\n",
    "# new_summary[6908] =  'eta04[584]  3.5e-3  8.9e-3    1.0  -1.97  -0.67 -9.8e-3   0.67   1.98  12673    1.0'\n",
    "# new_summary[7008] =  'eta04[684]   -0.92    0.01   1.36  -3.79  -1.77  -0.87 -8.1e-3   1.56  13046    1.0'\n",
    "# new_summary[7042] =  'eta04[718]   -1.32    0.02   1.93   -5.4  -2.53  -1.23 -2.0e-4    2.2  13593    1.0'\n",
    "# new_summary[7187] =  'eta04[863]   -0.01    0.04   4.36  -8.61   -2.9 -3.3e-3    2.9   8.55  10855    1.0'\n",
    "# new_summary[8220] =  'eta05[96]  -5.2e-3  9.1e-3   0.99  -1.96  -0.66 -2.7e-3   0.65   1.98  11893    1.0'\n",
    "# new_summary[8257] =  'eta05[133] -7.5e-3    0.01   1.14  -2.26  -0.75 -8.2e-4   0.74   2.23   8751    1.0'\n",
    "# new_summary[8328] =  'eta05[204]    0.79    0.01   1.17  -1.54 -6.9e-4   0.79   1.58   3.05  13155    1.0'\n",
    "# new_summary[8365] =  'eta05[241] -4.3e-3  7.7e-3   0.69  -1.39  -0.47 10.0e-3   0.47   1.33   8217    1.0'\n",
    "# new_summary[8528] =  'eta05[404]   -0.26  3.6e-3   0.36  -0.97  -0.51  -0.25 -8.3e-3   0.46  10051    1.0'\n",
    "# new_summary[8597] =  'eta05[473]    0.43  5.3e-3   0.66  -0.87 -9.0e-3   0.43   0.87   1.72  15090    1.0'\n",
    "# new_summary[8740] =  'eta05[616]    -0.2  2.6e-3   0.28  -0.76  -0.39   -0.2 -4.2e-3   0.35  12137    1.0'\n",
    "# new_summary[8988] =  'eta05[864]    0.69  8.6e-3   1.04  -1.32 -5.6e-3   0.69   1.38   2.79  14541    1.0'"
   ]
  },
  {
   "cell_type": "code",
   "execution_count": null,
   "metadata": {},
   "outputs": [],
   "source": [
    "print (new_summary.shape)"
   ]
  },
  {
   "cell_type": "markdown",
   "metadata": {},
   "source": [
    "#### 3.2.3 Retrieving only the probabilities from the summary and stacking x1 and x2 at the end of the dataframe"
   ]
  },
  {
   "cell_type": "code",
   "execution_count": null,
   "metadata": {},
   "outputs": [],
   "source": [
    "parameters = new_summary[:,0].astype(str)\n",
    "pnew_idxs  = []\n",
    "for i in range(parameters.size):\n",
    "    if parameters[i][0:4]=='prob':\n",
    "        pnew_idxs.append(i)\n",
    "    else:\n",
    "        continue\n",
    "print (new_summary[pnew_idxs,:].shape, rp_cols.shape)\n",
    "model_results    = np.column_stack((new_summary[pnew_idxs,:], rp_cols))\n",
    "model_results_df = pd.DataFrame(model_results)\n",
    "model_results_df.columns = header_fit + ['Z'] + ['LOG_STELLAR_MASS']\n",
    "model_results_df.index = model_results_df['parameter']\n",
    "model_results_df = model_results_df.drop(columns='parameter', axis=1)\n",
    "model_results_df.to_csv(os.path.join(results_path, 'fit_summary_rmshared_revised.csv'), header=True, index=True)"
   ]
  },
  {
   "cell_type": "code",
   "execution_count": null,
   "metadata": {},
   "outputs": [],
   "source": [
    "model_results_df"
   ]
  },
  {
   "cell_type": "code",
   "execution_count": null,
   "metadata": {},
   "outputs": [],
   "source": [
    "posteriors = fit_df[fit.flatnames[:25]]"
   ]
  },
  {
   "cell_type": "code",
   "execution_count": null,
   "metadata": {},
   "outputs": [],
   "source": [
    "fit_df.keys()"
   ]
  },
  {
   "cell_type": "code",
   "execution_count": null,
   "metadata": {},
   "outputs": [],
   "source": [
    "fit_df['treedepth__'].describe()"
   ]
  },
  {
   "cell_type": "code",
   "execution_count": null,
   "metadata": {},
   "outputs": [],
   "source": [
    "fit_df['n_leapfrog__'].describe()"
   ]
  },
  {
   "cell_type": "code",
   "execution_count": null,
   "metadata": {},
   "outputs": [],
   "source": [
    "posteriors.to_csv(os.path.join(results_path, 'posteriors_rmshared_revised.csv'), index=False)"
   ]
  },
  {
   "cell_type": "code",
   "execution_count": null,
   "metadata": {},
   "outputs": [],
   "source": [
    "posteriors"
   ]
  },
  {
   "cell_type": "code",
   "execution_count": null,
   "metadata": {},
   "outputs": [],
   "source": [
    "diagnostics = pystan.check_hmc_diagnostics(fit, per_chain=True)"
   ]
  },
  {
   "cell_type": "code",
   "execution_count": null,
   "metadata": {},
   "outputs": [],
   "source": [
    "diagnostics"
   ]
  },
  {
   "cell_type": "code",
   "execution_count": null,
   "metadata": {},
   "outputs": [],
   "source": [
    "pystan.check_hmc_diagnostics??"
   ]
  },
  {
   "cell_type": "code",
   "execution_count": null,
   "metadata": {},
   "outputs": [],
   "source": [
    "model_results_df['Rhat'].max()"
   ]
  },
  {
   "cell_type": "code",
   "execution_count": null,
   "metadata": {},
   "outputs": [],
   "source": [
    "model_results_df['Rhat'].min()"
   ]
  }
 ],
 "metadata": {
  "kernelspec": {
   "display_name": "Python 3",
   "language": "python",
   "name": "python3"
  },
  "language_info": {
   "codemirror_mode": {
    "name": "ipython",
    "version": 3
   },
   "file_extension": ".py",
   "mimetype": "text/x-python",
   "name": "python",
   "nbconvert_exporter": "python",
   "pygments_lexer": "ipython3",
   "version": "3.7.7"
  }
 },
 "nbformat": 4,
 "nbformat_minor": 2
}
