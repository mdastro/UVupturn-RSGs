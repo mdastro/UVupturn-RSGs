{
 "cells": [
  {
   "cell_type": "code",
   "execution_count": 1,
   "metadata": {},
   "outputs": [],
   "source": [
    "# From: Bayesian Models for Astrophysical Data, Cambridge Univ. Press\n",
    "# (c) 2017,  Joseph M. Hilbe, Rafael S. de Souza and Emille E. O. Ishida \n",
    "# \n",
    "# you are kindly asked to include the complete citation if you used this \n",
    "# material in a publication\n",
    "#\n",
    "# Code 10.19 Bernoulli logit model, in Python using Stan, for assessing \n",
    "#            the relationship between Seyfert AGN activity and \n",
    "#            galactocentric distance\n",
    "#\n",
    "# Statistical Model: Bernoulli mixed model in Python using Stan\n",
    "#\n",
    "# Astronomy case: Relationship between Seyfert activity and \n",
    "#                 cluster centric distance - taken from \n",
    "#                 de Souza et al., 2016, MNRAS in  press, \n",
    "#                 arXiv:astro-ph/1603.06256\n",
    "#\n",
    "# 1 response variable (Y - galaxy class Seyfert - 1/AGN - 0)\n",
    "# 2 explanatory variable (x1 - M200, x2 - cluster-centric distance)\n",
    "#\n",
    "# Data from: Trevisan, Mamon & Khosroshahi, 2017, MNRAS, 464, p.4593-4610\n",
    "#            https://github.com/COINtoolbox/LOGIT_AGNs/tree/master/data\n",
    "\n",
    "import numpy as np\n",
    "import pandas as pd\n",
    "import pystan \n",
    "import statsmodels.api as sm\n",
    "\n",
    "# Data\n",
    "path_to_data = 'https://raw.githubusercontent.com/astrobayes/BMAD/master/data/Section_10p8/Seyfert.csv'\n",
    "\n",
    "# read data\n",
    "data_frame = dict(pd.read_csv(path_to_data))\n",
    "\n",
    "x1 = data_frame['logM200']\n",
    "x2 = data_frame['r_r200']\n",
    "\n",
    "data = {}\n",
    "data['Y'] = data_frame['bpt']\n",
    "data['X'] = sm.add_constant(np.column_stack((x1,x2)))\n",
    "data['K'] = data['X'].shape[1]\n",
    "data['N'] = data['X'].shape[0]\n",
    "data['gal'] = [0 if item == data_frame['zoo'][0] else 1 \n",
    "                 for item in data_frame['zoo']]\n",
    "data['P'] = 2\n"
   ]
  },
  {
   "cell_type": "code",
   "execution_count": 10,
   "metadata": {},
   "outputs": [
    {
     "name": "stdout",
     "output_type": "stream",
     "text": [
      "3\n"
     ]
    }
   ],
   "source": [
    "print data['K']"
   ]
  },
  {
   "cell_type": "code",
   "execution_count": null,
   "metadata": {},
   "outputs": [],
   "source": [
    "# Fit\n",
    "stan_code=\"\"\"\n",
    "data{\n",
    "    int<lower=0> N;                # number of data points\n",
    "    int<lower=0> K;                # number of coefficients\n",
    "    int<lower=0> P;                # number of populations\n",
    "    matrix[N,K] X;                 # [logM200, galactocentric distance]\n",
    "    int<lower=0, upper=1> Y[N];    # Seyfert 1/AGN 0\n",
    "    int<lower=0, upper=1> gal[N];  # elliptical 0/spiral 1\n",
    "}\n",
    "parameters{\n",
    "    matrix[K,P] beta;\n",
    "    real<lower=0> sigma;\n",
    "    real mu;\n",
    "}\n",
    "model{\n",
    "    vector[N] pi;\n",
    "\n",
    "    for (i in 1:N) {\n",
    "        if (gal[i] == gal[1]) \n",
    "            pi[i] = dot_product(col(beta,1), X[i]);\n",
    "        else \n",
    "            pi[i] = dot_product(col(beta,2), X[i]);\n",
    "    }\n",
    "\n",
    "    # shared hyperpriors\n",
    "    sigma ~ gamma(0.001, 0.001);\n",
    "    mu ~ normal(0, 100);\n",
    "\n",
    "    # priors and likelihood\n",
    "    for (i in 1:K) {\n",
    "        for (j in 1:P) beta[i,j] ~ normal(mu, sigma);\n",
    "    }\n",
    "\n",
    "    Y ~ bernoulli_logit(pi);\n",
    "}\n",
    "\"\"\"\n",
    "\n",
    "# Run mcmc\n",
    "fit = pystan.stan(model_code=stan_code, data=data, iter=60000, chains=3,\n",
    "                  warmup=30000, thin=10, n_jobs=3)\n",
    "\n",
    "# Output\n",
    "print(fit)\n"
   ]
  }
 ],
 "metadata": {
  "kernelspec": {
   "display_name": "Python 2",
   "language": "python",
   "name": "python2"
  },
  "language_info": {
   "codemirror_mode": {
    "name": "ipython",
    "version": 2
   },
   "file_extension": ".py",
   "mimetype": "text/x-python",
   "name": "python",
   "nbconvert_exporter": "python",
   "pygments_lexer": "ipython2",
   "version": "2.7.15"
  }
 },
 "nbformat": 4,
 "nbformat_minor": 2
}
