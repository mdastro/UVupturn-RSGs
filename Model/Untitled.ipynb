{
 "cells": [
  {
   "cell_type": "code",
   "execution_count": 6,
   "metadata": {},
   "outputs": [],
   "source": [
    "import numpy              as np\n",
    "import pandas             as pd\n",
    "import matplotlib.pyplot  as plt\n",
    "import seaborn            as sns\n",
    "import statsmodels.api    as sm\n",
    "import glob\n",
    "import time\n",
    "import os\n",
    "from mpl_toolkits.mplot3d import Axes3D"
   ]
  },
  {
   "cell_type": "code",
   "execution_count": 7,
   "metadata": {},
   "outputs": [
    {
     "name": "stdout",
     "output_type": "stream",
     "text": [
      "[[ 1.          0.         -1.        ]\n",
      " [ 1.          0.01010101 -1.        ]\n",
      " [ 1.          0.02020202 -1.        ]\n",
      " [ 1.          0.03030303 -1.        ]\n",
      " [ 1.          0.04040404 -1.        ]\n",
      " [ 1.          0.05050505 -1.        ]\n",
      " [ 1.          0.06060606 -1.        ]\n",
      " [ 1.          0.07070707 -1.        ]\n",
      " [ 1.          0.08080808 -1.        ]\n",
      " [ 1.          0.09090909 -1.        ]]\n"
     ]
    }
   ],
   "source": [
    "nobs = 100\n",
    "x1 = np.linspace(0, 1, nobs)\n",
    "y1 = np.linspace(-1, 1, nobs)\n",
    "x2, y2 = np.meshgrid(x1, y1)\n",
    "x2 = x2.reshape((nobs**2), 1)\n",
    "y2 = y2.reshape((nobs**2), 1)\n",
    "reg = sm.add_constant(np.column_stack((x2, y2)))\n",
    "print (reg[:10])\n",
    "\n",
    "# z = 2*np.array(x2) + np.array(y2)**2 + 0.5*np.array(y2)\n",
    "\n",
    "# fig = plt.figure()\n",
    "# ax = fig.add_subplot(111, projection='3d')\n",
    "# ax.set_xlabel(\"\\n x\", fontsize=14)\n",
    "# ax.set_ylabel(\"\\n y\", fontsize=14)\n",
    "# ax.set_zlabel(\"\\n z\", fontsize=14)\n",
    "# ax.plot_trisurf(x2, y2, z, color='#a6611a', alpha=0.8, linewidth=0, antialiased=False)\n",
    "\n",
    "# plt.show()"
   ]
  },
  {
   "cell_type": "code",
   "execution_count": 8,
   "metadata": {},
   "outputs": [
    {
     "name": "stdout",
     "output_type": "stream",
     "text": [
      "[[ 1.          0.         -1.        ]\n",
      " [ 1.          0.01010101 -1.        ]\n",
      " [ 1.          0.02020202 -1.        ]\n",
      " [ 1.          0.03030303 -1.        ]\n",
      " [ 1.          0.04040404 -1.        ]\n",
      " [ 1.          0.05050505 -1.        ]\n",
      " [ 1.          0.06060606 -1.        ]\n",
      " [ 1.          0.07070707 -1.        ]\n",
      " [ 1.          0.08080808 -1.        ]\n",
      " [ 1.          0.09090909 -1.        ]]\n"
     ]
    }
   ],
   "source": [
    "nobs = 100\n",
    "x1 = np.linspace(0, 1, nobs)\n",
    "y1 = np.linspace(-1, 1, nobs)\n",
    "x2, y2 = np.meshgrid(x1, y1)\n",
    "x2 = x2.reshape((nobs**2),)\n",
    "y2 = y2.reshape((nobs**2),)\n",
    "reg = sm.add_constant(np.column_stack((x2, y2)))\n",
    "print (reg[:10])\n"
   ]
  },
  {
   "cell_type": "code",
   "execution_count": null,
   "metadata": {},
   "outputs": [],
   "source": []
  }
 ],
 "metadata": {
  "kernelspec": {
   "display_name": "Python 2",
   "language": "python",
   "name": "python2"
  },
  "language_info": {
   "codemirror_mode": {
    "name": "ipython",
    "version": 2
   },
   "file_extension": ".py",
   "mimetype": "text/x-python",
   "name": "python",
   "nbconvert_exporter": "python",
   "pygments_lexer": "ipython2",
   "version": "2.7.15"
  }
 },
 "nbformat": 4,
 "nbformat_minor": 2
}
