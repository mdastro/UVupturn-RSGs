{
 "cells": [
  {
   "cell_type": "code",
   "execution_count": 1,
   "metadata": {},
   "outputs": [],
   "source": [
    "def standardize(parameter):\n",
    "    \"\"\"\n",
    "    :param parameter: the array with the parameters you wish to standardize\n",
    "    :return param_mean: mean of the input array\n",
    "    :return param_std : standard deviation of the input array\n",
    "    :return stdized_param: final standardized array\n",
    "    \"\"\"\n",
    "    import numpy as np\n",
    "    \n",
    "    param_mean    = np.mean(parameter)\n",
    "    param_std     = np.std(parameter)\n",
    "    stdized_param = []                  # standardized parameter -- output\n",
    "    for i in range(parameter.size):\n",
    "        param_temp = (parameter[i] - param_mean)/param_std\n",
    "        stdized_param.append(param_temp)\n",
    "    stdized_param = np.array(stdized_param)\n",
    "    return (param_mean, param_std, stdized_param)"
   ]
  },
  {
   "cell_type": "markdown",
   "metadata": {},
   "source": [
    "# Libraries"
   ]
  },
  {
   "cell_type": "code",
   "execution_count": 2,
   "metadata": {},
   "outputs": [],
   "source": [
    "import numpy             as np\n",
    "import pandas            as pd\n",
    "import matplotlib.pyplot as plt\n",
    "import statsmodels.api   as sm\n",
    "import seaborn           as sns\n",
    "import pystan\n",
    "import time"
   ]
  },
  {
   "cell_type": "markdown",
   "metadata": {},
   "source": [
    "# Configuring the regression parameters"
   ]
  },
  {
   "cell_type": "code",
   "execution_count": 3,
   "metadata": {},
   "outputs": [],
   "source": [
    "my_data = pd.read_csv('../../Catalogue/binom_reg_dataset.csv')"
   ]
  },
  {
   "cell_type": "code",
   "execution_count": 4,
   "metadata": {},
   "outputs": [
    {
     "data": {
      "text/plain": [
       "Index([u'CATAID', u'BPT_CLASS', u'LOGIT_CLASS(1-UVUP;0-UVWEAK)',\n",
       "       u'STELLAR_MASS', u'UV_CLASS', u'WHAN(0-NA;1-RP;2-wA;3-sA;4-SF)',\n",
       "       u'WHAN_CLASS', u'Z'],\n",
       "      dtype='object')"
      ]
     },
     "execution_count": 4,
     "metadata": {},
     "output_type": "execute_result"
    }
   ],
   "source": [
    "my_data.columns"
   ]
  },
  {
   "cell_type": "code",
   "execution_count": 5,
   "metadata": {},
   "outputs": [],
   "source": [
    "# filtering the dataset\n",
    "redshifts = my_data['Z']\n",
    "index     = np.where(redshifts.values<=0.4)\n",
    "\n",
    "# parameters of interest\n",
    "logit_class = my_data['LOGIT_CLASS(1-UVUP;0-UVWEAK)'].values[index]    # y axis: logit class -- uv upturn yes or no\n",
    "whan_class  = my_data['WHAN(0-NA;1-RP;2-wA;3-sA;4-SF)'].values[index]  # My types of galaxies\n",
    "mass        = my_data['STELLAR_MASS'].values[index]                    # 1st parameter\n",
    "redshift    = redshifts.values[index]                                  # 2nd parameter"
   ]
  },
  {
   "cell_type": "code",
   "execution_count": 9,
   "metadata": {},
   "outputs": [],
   "source": [
    "# original parameters\n",
    "x1      = redshift\n",
    "x2      = standardize(mass)[-1]\n",
    "y       = logit_class\n",
    "classes = (whan_class+1).astype(int)\n",
    "n_obs   = x1.size\n",
    "n_class = np.unique(classes).size\n",
    "\n",
    "# new parameters - important for plotting!\n",
    "n_obs2 = 50\n",
    "x1_sim = np.linspace(x1.min(), x1.max(), n_obs2)\n",
    "x2_sim = np.linspace(x2.min(), x2.max(), n_obs2)\n",
    "\n",
    "plot_x1, plot_x2 = np.meshgrid(x1_sim, x2_sim)  # THIS IS WHERE THE GRID IS DONE\n",
    "   \n",
    "plot_x1 = plot_x1.reshape(2500, 1)\n",
    "plot_x2 = plot_x2.reshape(2500, 1)"
   ]
  },
  {
   "cell_type": "code",
   "execution_count": 7,
   "metadata": {},
   "outputs": [],
   "source": [
    "# dataset to be used in the regression\n",
    "regression_data      = {}                                                 # Dictionary, as stated in the pystan manual\n",
    "regression_data['Y'] = y\n",
    "regression_data['X'] = sm.add_constant(np.column_stack((x1, x1**2, x2, x2**2)))\n",
    "regression_data['K'] = regression_data['X'][0,:].size                     # Number of betas -- b0, b1, b2, b3, b4\n",
    "regression_data['W'] = whan_class\n",
    "regression_data['N'] = n_obs\n",
    "regression_data['C'] = n_class                                            # Number of different classes (partial pooling)\n",
    "\n",
    "# dataset to be used in the plot -- after meshgrid\n",
    "regression_data['X2'] = sm.add_constant(np.column_stack((plot_x1, plot_x1**2, plot_x2, plot_x2)))\n",
    "regression_data['N2'] = n_obs2**2"
   ]
  },
  {
   "cell_type": "code",
   "execution_count": 8,
   "metadata": {},
   "outputs": [],
   "source": [
    "# Fit: STAN code ----------------------------------------------------------------------------------------------------------\n",
    "stan_code = \"\"\"\n",
    "// DECLARATION OF VARIABLES -----------------------------------------------------------------------------------------------\n",
    "data{\n",
    "    int<lower=0> N;\n",
    "    int<lower=0> N2;\n",
    "    int<lower=0> K;\n",
    "    int<lower=0> C;\n",
    "    int W[N];\n",
    "    int<lower=0, upper=1> Y[N];\n",
    "    matrix[N, K] X;         // redshift and stellar mass \n",
    "    matrix[N2,K] X2;        // redshift and stellar mass -- after grid\n",
    "    }\n",
    "\n",
    "// DEFINING THE PRIOR(S) --------------------------------------------------------------------------------------------------\n",
    "parameters{\n",
    "    matrix[K,C] beta;       // 25 betas!\n",
    "    real<lower=0> sigma;    // Shared hyperpriors\n",
    "    real mu;                // Shared hyperpriors\n",
    "    }\n",
    "\n",
    "// MODEL: PROBABILITY, HYPERPRIORS, PRIORS, AND REGRESSION ----------------------------------------------------------------\n",
    "model {\n",
    "   vector[N] prob;\n",
    "    for (i in 1:N) {\n",
    "      prob[i] = beta[1,W[i]]*X[i,1] + beta[2,W[i]]*X[i,2] + beta[3,W[i]]*X[i,3] + beta[4,W[i]]*X[i,4] + \n",
    "      beta[5,W[i]]*X[i,5];\n",
    "      }\n",
    "\n",
    "    sigma ~ gamma(0.001, 0.001);                // shared hyperpriors\n",
    "    mu ~ normal(0, 100);                        // shared hyperpriors\n",
    "     \n",
    "    for (i in 1:K) {\n",
    "       for (j in 1:C){\n",
    "           beta[i,j] ~ normal(mu, sigma);       // priors\n",
    "           }\n",
    "        }\n",
    "\n",
    "    Y ~ bernoulli_logit(prob);                  // regression\n",
    "    }\n",
    "\n",
    "// DATA TO BE PLOTTED -----------------------------------------------------------------------------------------------------\n",
    "generated quantities{\n",
    "    vector[N2] prob01;\n",
    "    vector[N2] eta01;\n",
    "    vector[N2] prob02;\n",
    "    vector[N2] eta02;\n",
    "    vector[N2] prob03;\n",
    "    vector[N2] eta03;\n",
    "    vector[N2] prob04;\n",
    "    vector[N2] eta04;\n",
    "    vector[N2] prob05;\n",
    "    vector[N2] eta05;\n",
    "    \n",
    "    for(j in 1:N2){\n",
    "        eta01[j] = beta[1,1]*X2[j,1] + beta[2,1]*X2[j,2] + beta[3,1]*X2[j,3] + beta[4,1]*X2[j,4] + beta[5,1]*X2[j,5];\n",
    "        eta02[j] = beta[1,2]*X2[j,1] + beta[2,2]*X2[j,2] + beta[3,2]*X2[j,3] + beta[4,2]*X2[j,4] + beta[5,2]*X2[j,5];\n",
    "        eta03[j] = beta[1,3]*X2[j,1] + beta[2,3]*X2[j,2] + beta[3,3]*X2[j,3] + beta[4,3]*X2[j,4] + beta[5,3]*X2[j,5];\n",
    "        eta04[j] = beta[1,4]*X2[j,1] + beta[2,4]*X2[j,2] + beta[3,4]*X2[j,3] + beta[4,4]*X2[j,4] + beta[5,4]*X2[j,5];\n",
    "        eta05[j] = beta[1,5]*X2[j,1] + beta[2,5]*X2[j,2] + beta[3,5]*X2[j,3] + beta[4,5]*X2[j,4] + beta[5,5]*X2[j,5];\n",
    "        prob01[j] = inv_logit(eta01[j]);\n",
    "        prob02[j] = inv_logit(eta02[j]);\n",
    "        prob03[j] = inv_logit(eta03[j]);\n",
    "        prob04[j] = inv_logit(eta04[j]);\n",
    "        prob05[j] = inv_logit(eta05[j]);\n",
    "        }\n",
    "\n",
    "    }\n",
    "\n",
    "\"\"\""
   ]
  },
  {
   "cell_type": "markdown",
   "metadata": {},
   "source": [
    "### Settings for running STAN"
   ]
  },
  {
   "cell_type": "code",
   "execution_count": 9,
   "metadata": {},
   "outputs": [],
   "source": [
    "iterations    = 5000\n",
    "chains        = 3\n",
    "warmup        = 2000   # How many of the first iterations we'll ignore - burnin\n",
    "jobs          = -1\n",
    "seed          = 100\n",
    "control = {}\n",
    "control['max_treedepth'] = 20\n",
    "control['adapt_delta'] = 0.99"
   ]
  },
  {
   "cell_type": "markdown",
   "metadata": {},
   "source": [
    "### The fit:"
   ]
  },
  {
   "cell_type": "code",
   "execution_count": null,
   "metadata": {},
   "outputs": [
    {
     "name": "stderr",
     "output_type": "stream",
     "text": [
      "INFO:pystan:COMPILING THE C++ CODE FOR MODEL anon_model_cd2fef95c6cbdaf02654f91e40cd08c3 NOW.\n",
      "/home/mlldantas/anaconda3/envs/py2k7/lib/python2.7/site-packages/Cython/Compiler/Main.py:367: FutureWarning: Cython directive 'language_level' not set, using 2 for now (Py2). This will change in a later release! File: /tmp/tmpcPOiC0/stanfit4anon_model_cd2fef95c6cbdaf02654f91e40cd08c3_3967711507839622183.pyx\n",
      "  tree = Parsing.p_module(s, pxd, full_module_name)\n",
      "Process PoolWorker-2:\n",
      "Process PoolWorker-5:\n",
      "Process PoolWorker-6:\n",
      "Traceback (most recent call last):\n",
      "Process PoolWorker-4:\n",
      "Traceback (most recent call last):\n",
      "Traceback (most recent call last):\n",
      "Traceback (most recent call last):\n",
      "  File \"/home/mlldantas/anaconda3/envs/py2k7/lib/python2.7/multiprocessing/process.py\", line 267, in _bootstrap\n",
      "  File \"/home/mlldantas/anaconda3/envs/py2k7/lib/python2.7/multiprocessing/process.py\", line 267, in _bootstrap\n",
      "  File \"/home/mlldantas/anaconda3/envs/py2k7/lib/python2.7/multiprocessing/process.py\", line 267, in _bootstrap\n",
      "  File \"/home/mlldantas/anaconda3/envs/py2k7/lib/python2.7/multiprocessing/process.py\", line 267, in _bootstrap\n",
      "    self.run()\n",
      "    self.run()\n",
      "    self.run()\n",
      "    self.run()\n",
      "  File \"/home/mlldantas/anaconda3/envs/py2k7/lib/python2.7/multiprocessing/process.py\", line 114, in run\n",
      "  File \"/home/mlldantas/anaconda3/envs/py2k7/lib/python2.7/multiprocessing/process.py\", line 114, in run\n",
      "  File \"/home/mlldantas/anaconda3/envs/py2k7/lib/python2.7/multiprocessing/process.py\", line 114, in run\n",
      "  File \"/home/mlldantas/anaconda3/envs/py2k7/lib/python2.7/multiprocessing/process.py\", line 114, in run\n",
      "    self._target(*self._args, **self._kwargs)\n",
      "    self._target(*self._args, **self._kwargs)\n",
      "    self._target(*self._args, **self._kwargs)\n",
      "  File \"/home/mlldantas/anaconda3/envs/py2k7/lib/python2.7/multiprocessing/pool.py\", line 102, in worker\n",
      "    self._target(*self._args, **self._kwargs)\n",
      "  File \"/home/mlldantas/anaconda3/envs/py2k7/lib/python2.7/multiprocessing/pool.py\", line 102, in worker\n",
      "  File \"/home/mlldantas/anaconda3/envs/py2k7/lib/python2.7/multiprocessing/pool.py\", line 102, in worker\n",
      "  File \"/home/mlldantas/anaconda3/envs/py2k7/lib/python2.7/multiprocessing/pool.py\", line 102, in worker\n",
      "    task = get()\n",
      "    task = get()\n",
      "    task = get()\n",
      "  File \"/home/mlldantas/anaconda3/envs/py2k7/lib/python2.7/multiprocessing/queues.py\", line 374, in get\n",
      "    task = get()\n",
      "    racquire()\n",
      "KeyboardInterrupt\n",
      "  File \"/home/mlldantas/anaconda3/envs/py2k7/lib/python2.7/multiprocessing/queues.py\", line 374, in get\n",
      "  File \"/home/mlldantas/anaconda3/envs/py2k7/lib/python2.7/multiprocessing/queues.py\", line 374, in get\n",
      "    racquire()\n",
      "  File \"/home/mlldantas/anaconda3/envs/py2k7/lib/python2.7/multiprocessing/queues.py\", line 376, in get\n",
      "    racquire()\n",
      "KeyboardInterrupt\n",
      "    return recv()\n",
      "KeyboardInterrupt\n",
      "KeyboardInterrupt\n",
      "Process PoolWorker-9:\n",
      "Process PoolWorker-7:\n",
      "Process PoolWorker-8:\n",
      "Traceback (most recent call last):\n",
      "Traceback (most recent call last):\n",
      "Process PoolWorker-10:\n",
      "  File \"/home/mlldantas/anaconda3/envs/py2k7/lib/python2.7/multiprocessing/process.py\", line 267, in _bootstrap\n",
      "  File \"/home/mlldantas/anaconda3/envs/py2k7/lib/python2.7/multiprocessing/process.py\", line 267, in _bootstrap\n",
      "Traceback (most recent call last):\n",
      "  File \"/home/mlldantas/anaconda3/envs/py2k7/lib/python2.7/multiprocessing/process.py\", line 267, in _bootstrap\n",
      "    self.run()\n",
      "Traceback (most recent call last):\n",
      "    self.run()\n",
      "    self.run()\n",
      "  File \"/home/mlldantas/anaconda3/envs/py2k7/lib/python2.7/multiprocessing/process.py\", line 114, in run\n",
      "  File \"/home/mlldantas/anaconda3/envs/py2k7/lib/python2.7/multiprocessing/process.py\", line 267, in _bootstrap\n",
      "    self._target(*self._args, **self._kwargs)\n",
      "  File \"/home/mlldantas/anaconda3/envs/py2k7/lib/python2.7/multiprocessing/pool.py\", line 102, in worker\n",
      "  File \"/home/mlldantas/anaconda3/envs/py2k7/lib/python2.7/multiprocessing/process.py\", line 114, in run\n",
      "  File \"/home/mlldantas/anaconda3/envs/py2k7/lib/python2.7/multiprocessing/queues.py\", line 374, in get\n",
      "    self._target(*self._args, **self._kwargs)\n",
      "    task = get()\n",
      "  File \"/home/mlldantas/anaconda3/envs/py2k7/lib/python2.7/multiprocessing/process.py\", line 114, in run\n",
      "    self._target(*self._args, **self._kwargs)\n",
      "    racquire()\n",
      "    self.run()\n",
      "  File \"/home/mlldantas/anaconda3/envs/py2k7/lib/python2.7/multiprocessing/pool.py\", line 102, in worker\n",
      "  File \"/home/mlldantas/anaconda3/envs/py2k7/lib/python2.7/multiprocessing/pool.py\", line 102, in worker\n",
      "    task = get()\n",
      "    task = get()\n",
      "  File \"/home/mlldantas/anaconda3/envs/py2k7/lib/python2.7/multiprocessing/queues.py\", line 374, in get\n",
      "KeyboardInterrupt\n",
      "  File \"/home/mlldantas/anaconda3/envs/py2k7/lib/python2.7/multiprocessing/queues.py\", line 374, in get\n",
      "    racquire()\n",
      "KeyboardInterrupt\n",
      "  File \"/home/mlldantas/anaconda3/envs/py2k7/lib/python2.7/multiprocessing/process.py\", line 114, in run\n",
      "    racquire()\n",
      "    self._target(*self._args, **self._kwargs)\n",
      "KeyboardInterrupt\n",
      "  File \"/home/mlldantas/anaconda3/envs/py2k7/lib/python2.7/multiprocessing/pool.py\", line 102, in worker\n",
      "    task = get()\n",
      "  File \"/home/mlldantas/anaconda3/envs/py2k7/lib/python2.7/multiprocessing/queues.py\", line 374, in get\n",
      "    racquire()\n",
      "KeyboardInterrupt\n",
      "Process PoolWorker-11:\n",
      "Process PoolWorker-12:\n",
      "Traceback (most recent call last):\n",
      "Traceback (most recent call last):\n",
      "  File \"/home/mlldantas/anaconda3/envs/py2k7/lib/python2.7/multiprocessing/process.py\", line 267, in _bootstrap\n",
      "  File \"/home/mlldantas/anaconda3/envs/py2k7/lib/python2.7/multiprocessing/process.py\", line 267, in _bootstrap\n",
      "    self.run()\n",
      "  File \"/home/mlldantas/anaconda3/envs/py2k7/lib/python2.7/multiprocessing/process.py\", line 114, in run\n",
      "    self.run()\n",
      "    self._target(*self._args, **self._kwargs)\n",
      "  File \"/home/mlldantas/anaconda3/envs/py2k7/lib/python2.7/multiprocessing/pool.py\", line 102, in worker\n",
      "  File \"/home/mlldantas/anaconda3/envs/py2k7/lib/python2.7/multiprocessing/process.py\", line 114, in run\n",
      "    self._target(*self._args, **self._kwargs)\n",
      "  File \"/home/mlldantas/anaconda3/envs/py2k7/lib/python2.7/multiprocessing/pool.py\", line 102, in worker\n",
      "    task = get()\n",
      "  File \"/home/mlldantas/anaconda3/envs/py2k7/lib/python2.7/multiprocessing/queues.py\", line 374, in get\n",
      "    task = get()\n",
      "    racquire()\n",
      "  File \"/home/mlldantas/anaconda3/envs/py2k7/lib/python2.7/multiprocessing/queues.py\", line 374, in get\n",
      "    racquire()\n",
      "KeyboardInterrupt\n",
      "KeyboardInterrupt\n",
      "Process PoolWorker-13:\n",
      "Process PoolWorker-14:\n",
      "Traceback (most recent call last):\n",
      "  File \"/home/mlldantas/anaconda3/envs/py2k7/lib/python2.7/multiprocessing/process.py\", line 267, in _bootstrap\n",
      "    self.run()\n",
      "  File \"/home/mlldantas/anaconda3/envs/py2k7/lib/python2.7/multiprocessing/process.py\", line 114, in run\n",
      "Traceback (most recent call last):\n",
      "  File \"/home/mlldantas/anaconda3/envs/py2k7/lib/python2.7/multiprocessing/process.py\", line 267, in _bootstrap\n",
      "    self.run()\n",
      "    self._target(*self._args, **self._kwargs)\n",
      "  File \"/home/mlldantas/anaconda3/envs/py2k7/lib/python2.7/multiprocessing/pool.py\", line 102, in worker\n",
      "  File \"/home/mlldantas/anaconda3/envs/py2k7/lib/python2.7/multiprocessing/process.py\", line 114, in run\n",
      "    task = get()\n",
      "    self._target(*self._args, **self._kwargs)\n",
      "  File \"/home/mlldantas/anaconda3/envs/py2k7/lib/python2.7/multiprocessing/pool.py\", line 102, in worker\n",
      "    task = get()\n",
      "  File \"/home/mlldantas/anaconda3/envs/py2k7/lib/python2.7/multiprocessing/queues.py\", line 374, in get\n",
      "  File \"/home/mlldantas/anaconda3/envs/py2k7/lib/python2.7/multiprocessing/queues.py\", line 374, in get\n",
      "    racquire()\n",
      "    racquire()\n",
      "KeyboardInterrupt\n",
      "KeyboardInterrupt\n",
      "Process PoolWorker-15:\n",
      "Process PoolWorker-16:\n",
      "Traceback (most recent call last):\n",
      "  File \"/home/mlldantas/anaconda3/envs/py2k7/lib/python2.7/multiprocessing/process.py\", line 267, in _bootstrap\n",
      "Traceback (most recent call last):\n",
      "    self.run()\n",
      "  File \"/home/mlldantas/anaconda3/envs/py2k7/lib/python2.7/multiprocessing/process.py\", line 267, in _bootstrap\n",
      "  File \"/home/mlldantas/anaconda3/envs/py2k7/lib/python2.7/multiprocessing/process.py\", line 114, in run\n",
      "    self.run()\n",
      "  File \"/home/mlldantas/anaconda3/envs/py2k7/lib/python2.7/multiprocessing/process.py\", line 114, in run\n",
      "    self._target(*self._args, **self._kwargs)\n"
     ]
    },
    {
     "name": "stderr",
     "output_type": "stream",
     "text": [
      "  File \"/home/mlldantas/anaconda3/envs/py2k7/lib/python2.7/multiprocessing/pool.py\", line 102, in worker\n",
      "    self._target(*self._args, **self._kwargs)\n",
      "    task = get()\n",
      "  File \"/home/mlldantas/anaconda3/envs/py2k7/lib/python2.7/multiprocessing/queues.py\", line 374, in get\n",
      "    racquire()\n",
      "KeyboardInterrupt\n",
      "  File \"/home/mlldantas/anaconda3/envs/py2k7/lib/python2.7/multiprocessing/pool.py\", line 102, in worker\n",
      "    task = get()\n",
      "  File \"/home/mlldantas/anaconda3/envs/py2k7/lib/python2.7/multiprocessing/queues.py\", line 374, in get\n",
      "    racquire()\n",
      "KeyboardInterrupt\n"
     ]
    }
   ],
   "source": [
    "start = time.clock()\n",
    "\n",
    "fit = pystan.stan(model_code=stan_code, data=regression_data, seed=seed, iter=iterations, chains=chains, \n",
    "                  warmup=warmup, n_jobs=jobs, control=control)\n",
    "\n",
    "end = time.clock()"
   ]
  },
  {
   "cell_type": "code",
   "execution_count": null,
   "metadata": {},
   "outputs": [],
   "source": [
    "print (\"--------------------------------------------------\")\n",
    "print (\"CPU process time: %.1f [min]\" % ((start-end/60.))\n",
    "print (\"--------------------------------------------------\")"
   ]
  },
  {
   "cell_type": "code",
   "execution_count": null,
   "metadata": {},
   "outputs": [],
   "source": [
    "print pystan.stansummary(fit=fit, digits_summary=3)"
   ]
  },
  {
   "cell_type": "markdown",
   "metadata": {},
   "source": [
    "### Extracting fit properties"
   ]
  },
  {
   "cell_type": "code",
   "execution_count": null,
   "metadata": {},
   "outputs": [],
   "source": [
    "output = str(fit).split('\\n')"
   ]
  }
 ],
 "metadata": {
  "kernelspec": {
   "display_name": "Python 2",
   "language": "python",
   "name": "python2"
  },
  "language_info": {
   "codemirror_mode": {
    "name": "ipython",
    "version": 2
   },
   "file_extension": ".py",
   "mimetype": "text/x-python",
   "name": "python",
   "nbconvert_exporter": "python",
   "pygments_lexer": "ipython2",
   "version": "2.7.15"
  }
 },
 "nbformat": 4,
 "nbformat_minor": 2
}
