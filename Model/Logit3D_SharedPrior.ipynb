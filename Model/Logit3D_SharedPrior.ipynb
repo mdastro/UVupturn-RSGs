{
 "cells": [
  {
   "cell_type": "markdown",
   "metadata": {},
   "source": [
    "# Libraries"
   ]
  },
  {
   "cell_type": "code",
   "execution_count": 1,
   "metadata": {},
   "outputs": [],
   "source": [
    "import numpy             as np\n",
    "import pandas            as pd\n",
    "import matplotlib.pyplot as plt\n",
    "import statsmodels.api   as sm\n",
    "import seaborn           as sns\n",
    "import pystan"
   ]
  },
  {
   "cell_type": "markdown",
   "metadata": {},
   "source": [
    "# Configuring the regression parameters"
   ]
  },
  {
   "cell_type": "code",
   "execution_count": 2,
   "metadata": {},
   "outputs": [],
   "source": [
    "my_data = pd.read_csv('../../Catalogue/binom_reg_dataset.csv')"
   ]
  },
  {
   "cell_type": "code",
   "execution_count": 3,
   "metadata": {},
   "outputs": [],
   "source": [
    "# filtering the dataset\n",
    "redshifts = my_data['Z']\n",
    "index     = np.where(redshifts.values<=0.4)\n",
    "\n",
    "# parameters of interest\n",
    "logit_class = my_data['LOGIT_CLASS(1-UVUP;0-UVWEAK)'].values[index]    # y axis: logit class -- uv upturn yes or no\n",
    "whan_class  = my_data['WHAN(0-NA;1-RP;2-wA;3-sA;4-SF)'].values[index]  # My types of galaxies\n",
    "mass        = my_data['STELLAR_MASS'].values[index]                    # 1st parameter\n",
    "redshift    = redshifts.values[index]                                  # 2nd parameter"
   ]
  },
  {
   "cell_type": "code",
   "execution_count": 6,
   "metadata": {},
   "outputs": [],
   "source": [
    "# original parameters\n",
    "x1    = redshift\n",
    "x2    = mass\n",
    "y     = logit_class\n",
    "n_obs = x1.size\n",
    "\n",
    "# new parameters - important for plotting!\n",
    "n_obs2 = 50\n",
    "x1_sim = np.linspace(x1.min(), x1.max(), n_obs2)\n",
    "x2_sim = np.linspace(x2.min(), x2.max(), n_obs2)\n",
    "\n",
    "plot_x1, plot_x2 = np.meshgrid(x1_sim, x2_sim)  # THIS IS WHERE THE GRID IS DONE\n",
    "   \n",
    "plot_x1 = plot_x1.reshape(2500, 1)\n",
    "plot_x2 = plot_x2.reshape(2500, 1)\n",
    "\n",
    "# dataset to be used in the regression\n",
    "regression_data         = {}                                      # Dictionary, as stated in the pystan manual\n",
    "regression_data['K']    = 4                                       # Number of betas -- b0, b1, b2, b3\n",
    "regression_data['C']    = np.unique(whan_class).size              # Number of different classes - for partial pooling\n",
    "regression_data['X']    = sm.add_constant(np.column_stack((x1, x1**2, x2)))\n",
    "regression_data['N']    = n_obs\n",
    "regression_data['Y']    = y\n",
    "regression_data['WHAN'] = whan_class\n",
    "\n",
    "# dataset to be used in the plot -- after meshgrid\n",
    "regression_data['X2']   = sm.add_constant(np.column_stack((plot_x1, plot_x1**2, plot_x2)))\n",
    "regression_data['N2']   = n_obs2**2"
   ]
  },
  {
   "cell_type": "code",
   "execution_count": 7,
   "metadata": {},
   "outputs": [
    {
     "name": "stdout",
     "output_type": "stream",
     "text": [
      "(2500, 4)\n"
     ]
    }
   ],
   "source": [
    "print regression_data['X2'].shape"
   ]
  },
  {
   "cell_type": "code",
   "execution_count": null,
   "metadata": {},
   "outputs": [],
   "source": [
    "# Fit: STAN code ----------------------------------------------------------------------------------------------------------\n",
    "stan_code = \"\"\"\n",
    "// DECLARATION OF VARIABLES -----------------------------------------------------------------------------------------------\n",
    "data{\n",
    "    int<lower=0> N;\n",
    "    int<lower=0> N2;\n",
    "    int<lower=0> K;\n",
    "    int<lower=0> C;\n",
    "    int Y[N];\n",
    "    matrix[N,K] X;          // redshift and stellar mass\n",
    "    matrix[N2,K] X2;        // redshift and stellar mass -- after grid\n",
    "    }\n",
    "\n",
    "// DEFINING THE PRIOR(S) --------------------------------------------------------------------------------------------------\n",
    "parameters{\n",
    "    matrix[K,C] beta;\n",
    "    real<lower=0> sigma;   // Shared hyperpriors\n",
    "    real mu;               // Shared hyperpriors\n",
    "    }\n",
    "    \n",
    "// HYPERPRIORS, PRIORS, LIKELIHOOD -- REGRESSION --------------------------------------------------------------------------\n",
    "model{\n",
    "    vector[N] product;\n",
    "    \n",
    "    sigma ~ gamma(0.001, 0.001);   // Shared hyperpriors\n",
    "    mu ~ normal(0, 100);           // Shared hyperpriors\n",
    "    \n",
    "    for (i in 1:K) {\n",
    "        for (j in 1:C){\n",
    "            beta[i,j] ~ normal(mu, sigma);  // Priors given the hyperpriors\n",
    "            }\n",
    "        }\n",
    "    \n",
    "    for (i in 1:N) {\n",
    "        if (WHAN[i] == WHAN[1]) \n",
    "            product[i] = dot_product(col(beta,1), X[i]);\n",
    "        else if (WHAN[i] == WHAN[2])\n",
    "            product[i] = dot_product(col(beta,2), X[i]);\n",
    "        else if (WHAN[i] == WHAN[3])\n",
    "            product[i] = dot_product(col(beta,3), X[i]);\n",
    "        else if (WHAN[i] == WHAN[4])\n",
    "            product[i] = dot_product(col(beta,4), X[i]);\n",
    "        else\n",
    "            product[i] = dot_product(col(beta,5), X[i]);\n",
    "    }    \n",
    "\n",
    "    Y ~ bernoulli_logit(product);                       // Regression  \n",
    "    }\n",
    "    \n",
    "    \n",
    "// OUTPUTS - SPECIALLY IMPORTANT FOR PLOTS --------------------------------------------------------------------------------\n",
    "generated quantities{\n",
    "    vector[N2] product2;\n",
    "    real<lower=0, upper=1.0> pnew[N2];\n",
    "    \n",
    "    for (i in 1:N2) {\n",
    "        if (WHAN[i] == WHAN[1]) \n",
    "            product2[i] = dot_product(col(beta,1), X2[i]);\n",
    "        else if (WHAN[i] == WHAN[2])\n",
    "            product2[i] = dot_product(col(beta,2), X2[i]);\n",
    "        else if (WHAN[i] == WHAN[3])\n",
    "            product2[i] = dot_product(col(beta,3), X2[i]);\n",
    "        else if (WHAN[i] == WHAN[4])\n",
    "            product2[i] = dot_product(col(beta,4), X2[i]);\n",
    "        else\n",
    "            product2[i] = dot_product(col(beta,5), X2[i]);\n",
    "    }\n",
    "    \n",
    "    for (j in 1:N2){\n",
    "        pnew[j] = inv_logit(product2[j]);\n",
    "        }\n",
    "    }\n",
    "\"\"\"\"    "
   ]
  },
  {
   "cell_type": "markdown",
   "metadata": {},
   "source": [
    "### Settings for running STAN"
   ]
  },
  {
   "cell_type": "code",
   "execution_count": null,
   "metadata": {},
   "outputs": [],
   "source": [
    "iterations = 5000\n",
    "chains     = 3\n",
    "warmup     = 2000   # How many of the first iterations we'll ignore - burnin\n",
    "jobs       = 1"
   ]
  },
  {
   "cell_type": "code",
   "execution_count": null,
   "metadata": {},
   "outputs": [],
   "source": [
    "fit = pystan.stan(model_code=stan_code, data=regression_data, iter=iteractions, chains=chains, warmup=warmup, n_jobs=jobs)"
   ]
  }
 ],
 "metadata": {
  "kernelspec": {
   "display_name": "Python 2",
   "language": "python",
   "name": "python2"
  },
  "language_info": {
   "codemirror_mode": {
    "name": "ipython",
    "version": 2
   },
   "file_extension": ".py",
   "mimetype": "text/x-python",
   "name": "python",
   "nbconvert_exporter": "python",
   "pygments_lexer": "ipython2",
   "version": "2.7.15"
  }
 },
 "nbformat": 4,
 "nbformat_minor": 2
}
