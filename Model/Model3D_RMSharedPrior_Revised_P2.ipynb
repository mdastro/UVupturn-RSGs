{
 "cells": [
  {
   "cell_type": "markdown",
   "metadata": {},
   "source": [
    "# Packages"
   ]
  },
  {
   "cell_type": "code",
   "execution_count": 1,
   "metadata": {},
   "outputs": [],
   "source": [
    "import numpy              as np\n",
    "import pandas             as pd\n",
    "import matplotlib.pyplot  as plt\n",
    "import seaborn            as sns\n",
    "import scipy.interpolate  as s\n",
    "import arviz\n",
    "import time\n",
    "import os\n",
    "from mpl_toolkits.mplot3d import Axes3D"
   ]
  },
  {
   "cell_type": "markdown",
   "metadata": {},
   "source": [
    "# Paths and dataset"
   ]
  },
  {
   "cell_type": "code",
   "execution_count": 2,
   "metadata": {},
   "outputs": [],
   "source": [
    "results_path = '../../LargeFilesResults/Model'  # where the outputs of this notebook will be saved"
   ]
  },
  {
   "cell_type": "code",
   "execution_count": 3,
   "metadata": {},
   "outputs": [],
   "source": [
    "my_summary = pd.read_csv(os.path.join(results_path, 'allprobabilities_summ_rmshared_revised.csv'), \n",
    "                         index_col=\"Unnamed: 0\")\n",
    "posteriors = pd.read_csv(os.path.join(results_path, 'posteriors_rmshared_revised.csv'))"
   ]
  },
  {
   "cell_type": "markdown",
   "metadata": {},
   "source": [
    "# Posteriors"
   ]
  },
  {
   "cell_type": "code",
   "execution_count": null,
   "metadata": {},
   "outputs": [],
   "source": [
    "whan_classes = ['Not classified', 'Retired/Passive', 'wAGN', 'sAGN', 'SF']\n",
    "palette      = np.array(['#8c510a','#bf812d','#80cdc1','#35978f','#01665e'])\n",
    "figsize      = (15, 15)\n",
    "alpha        = 0.6"
   ]
  },
  {
   "cell_type": "code",
   "execution_count": null,
   "metadata": {},
   "outputs": [],
   "source": [
    "dimensions = posteriors.columns.values.reshape(5,5)\n",
    "rows       = dimensions[:,0].size\n",
    "columns    = dimensions[0,:].size"
   ]
  },
  {
   "cell_type": "code",
   "execution_count": null,
   "metadata": {},
   "outputs": [],
   "source": [
    "plt.subplots(figsize=figsize)\n",
    "position = 1\n",
    "for each_beta in range(rows):\n",
    "    for each_class in range(columns):\n",
    "        name_temp = posteriors.columns.values.reshape(rows, columns)[each_beta,each_class]\n",
    "        plot_temp = plt.subplot(rows, columns, position)\n",
    "        sns.kdeplot(posteriors['%s' % str(name_temp)], shade=True, alpha=alpha, color=palette[each_beta])\n",
    "        plt.legend(loc='upper right', fontsize=15)\n",
    "        plt.axvline(x=0, linestyle=\"--\", color='black')\n",
    "        plt.xlabel(r\"%s\" % str(name_temp), fontsize=20)\n",
    "        plt.tick_params('both', labelsize='20')\n",
    "        plt.xlim([-1.8,1.8])\n",
    "        plt.ylim([0,3.])      \n",
    "        if (each_class==0):\n",
    "            plt.ylabel(\"$\\,$ WHAN \\n %s\" % whan_classes[each_beta], fontsize=20)       \n",
    "        elif (each_class!=0): \n",
    "            plot_temp.yaxis.set_visible(False)            \n",
    "        position+=1\n",
    "\n",
    "plt.tight_layout(w_pad=0)\n",
    "plt.savefig(os.path.join(results_path, '25betas_rmshared_revised.png'), bbox_inch='tight')\n",
    "plt.savefig(os.path.join(results_path, '25betas_rmshared_revised.pdf'), bbox_inch='tight')\n",
    "plt.show()"
   ]
  },
  {
   "cell_type": "markdown",
   "metadata": {},
   "source": [
    "# Probability x Mass"
   ]
  },
  {
   "cell_type": "code",
   "execution_count": null,
   "metadata": {},
   "outputs": [],
   "source": [
    "header = my_summary.keys()"
   ]
  },
  {
   "cell_type": "code",
   "execution_count": null,
   "metadata": {},
   "outputs": [],
   "source": [
    "class01, class02, class03, class04, class05 = np.split(my_summary.values, 5)"
   ]
  },
  {
   "cell_type": "code",
   "execution_count": null,
   "metadata": {},
   "outputs": [],
   "source": [
    "class01_df = pd.DataFrame(class01)\n",
    "class01_df.columns = header"
   ]
  },
  {
   "cell_type": "code",
   "execution_count": null,
   "metadata": {},
   "outputs": [],
   "source": [
    "class02_df = pd.DataFrame(class02)\n",
    "class02_df.columns = header"
   ]
  },
  {
   "cell_type": "code",
   "execution_count": null,
   "metadata": {},
   "outputs": [],
   "source": [
    "class03_df = pd.DataFrame(class03)\n",
    "class03_df.columns = header"
   ]
  },
  {
   "cell_type": "code",
   "execution_count": null,
   "metadata": {},
   "outputs": [],
   "source": [
    "class04_df = pd.DataFrame(class04)\n",
    "class04_df.columns = header"
   ]
  },
  {
   "cell_type": "code",
   "execution_count": null,
   "metadata": {},
   "outputs": [],
   "source": [
    "class05_df = pd.DataFrame(class05)\n",
    "class05_df.columns = header"
   ]
  },
  {
   "cell_type": "code",
   "execution_count": null,
   "metadata": {},
   "outputs": [],
   "source": [
    "plt.plot(class01_df[\"LOG_STELLAR_MASS\"], class01_df[\"50%\"], '.')\n",
    "plt.show()"
   ]
  },
  {
   "cell_type": "code",
   "execution_count": null,
   "metadata": {},
   "outputs": [],
   "source": [
    "class01_df.describe()"
   ]
  },
  {
   "cell_type": "code",
   "execution_count": null,
   "metadata": {},
   "outputs": [],
   "source": [
    "unique_masses = np.unique(class01_df[\"LOG_STELLAR_MASS\"].values)"
   ]
  },
  {
   "cell_type": "code",
   "execution_count": null,
   "metadata": {},
   "outputs": [],
   "source": [
    "for i in range(unique_masses.size):\n",
    "    if i==0:\n",
    "        summary_temp = pd.DataFrame(class01_df[class01_df[\"LOG_STELLAR_MASS\"].values==unique_masses[i]].describe())\n",
    "        mean_temp    = summary_temp.loc[[\"mean\"]]\n",
    "        mean_all_df  = mean_temp\n",
    "    else:\n",
    "        summary_temp = pd.DataFrame(class01_df[class01_df[\"LOG_STELLAR_MASS\"].values==unique_masses[i]].describe())\n",
    "        mean_temp    = summary_temp.loc[[\"mean\"]]\n",
    "        mean_all_df  = pd.concat([mean_all_df, mean_temp])\n",
    "mean_all_df"
   ]
  },
  {
   "cell_type": "code",
   "execution_count": null,
   "metadata": {},
   "outputs": [],
   "source": [
    "plt.plot(mean_all_df['LOG_STELLAR_MASS'], mean_all_df['mean'], '-')\n",
    "plt.plot(mean_all_df['LOG_STELLAR_MASS'], mean_all_df['25%'], '-')\n",
    "plt.plot(mean_all_df['LOG_STELLAR_MASS'], mean_all_df['75%'], '-')\n",
    "plt.plot(mean_all_df['LOG_STELLAR_MASS'], mean_all_df['2.5%'], '--')\n",
    "plt.plot(mean_all_df['LOG_STELLAR_MASS'], mean_all_df['97.5%'], '--')\n",
    "\n",
    "plt.show()"
   ]
  },
  {
   "cell_type": "code",
   "execution_count": null,
   "metadata": {},
   "outputs": [],
   "source": [
    "mean_all_df.to_csv(os.path.join(results_path, 'data_for_plotting_mass_revised.csv'))"
   ]
  },
  {
   "cell_type": "code",
   "execution_count": null,
   "metadata": {},
   "outputs": [],
   "source": []
  }
 ],
 "metadata": {
  "kernelspec": {
   "display_name": "Python 3",
   "language": "python",
   "name": "python3"
  },
  "language_info": {
   "codemirror_mode": {
    "name": "ipython",
    "version": 3
   },
   "file_extension": ".py",
   "mimetype": "text/x-python",
   "name": "python",
   "nbconvert_exporter": "python",
   "pygments_lexer": "ipython3",
   "version": "3.6.6"
  }
 },
 "nbformat": 4,
 "nbformat_minor": 2
}
