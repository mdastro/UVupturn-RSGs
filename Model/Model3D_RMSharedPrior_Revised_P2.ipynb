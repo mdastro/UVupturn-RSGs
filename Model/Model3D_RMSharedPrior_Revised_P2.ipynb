{
 "cells": [
  {
   "cell_type": "markdown",
   "metadata": {},
   "source": [
    "# Packages"
   ]
  },
  {
   "cell_type": "code",
   "execution_count": 1,
   "metadata": {},
   "outputs": [],
   "source": [
    "import numpy              as np\n",
    "import pandas             as pd\n",
    "import matplotlib.pyplot  as plt\n",
    "import seaborn            as sns\n",
    "import scipy.interpolate  as s\n",
    "import arviz\n",
    "import time\n",
    "import os\n",
    "from mpl_toolkits.mplot3d import Axes3D"
   ]
  },
  {
   "cell_type": "markdown",
   "metadata": {},
   "source": [
    "# Paths and dataset"
   ]
  },
  {
   "cell_type": "code",
   "execution_count": 2,
   "metadata": {},
   "outputs": [],
   "source": [
    "results_path = '../../LargeFilesResults/Model'  # where the outputs of this notebook will be saved"
   ]
  },
  {
   "cell_type": "code",
   "execution_count": 3,
   "metadata": {},
   "outputs": [],
   "source": [
    "my_summary = pd.read_csv(os.path.join(results_path, 'allprobabilities_summ_rmshared_revised.csv'), \n",
    "                         index_col=\"Unnamed: 0\")\n",
    "posteriors = pd.read_csv(os.path.join(results_path, 'posteriors_rmshared_revised.csv'))"
   ]
  },
  {
   "cell_type": "markdown",
   "metadata": {},
   "source": [
    "# Posteriors"
   ]
  },
  {
   "cell_type": "code",
   "execution_count": null,
   "metadata": {},
   "outputs": [],
   "source": [
    "whan_classes = ['Not classified', 'Retired/Passive', 'wAGN', 'sAGN', 'SF']\n",
    "palette      = np.array(['#8c510a','#bf812d','#80cdc1','#35978f','#01665e'])\n",
    "figsize      = (15, 15)\n",
    "alpha        = 0.6"
   ]
  },
  {
   "cell_type": "code",
   "execution_count": null,
   "metadata": {},
   "outputs": [],
   "source": [
    "dimensions = posteriors.columns.values.reshape(5,5)\n",
    "rows       = dimensions[:,0].size\n",
    "columns    = dimensions[0,:].size"
   ]
  },
  {
   "cell_type": "code",
   "execution_count": null,
   "metadata": {},
   "outputs": [],
   "source": [
    "plt.subplots(figsize=figsize)\n",
    "position = 1\n",
    "for each_beta in range(rows):\n",
    "    for each_class in range(columns):\n",
    "        name_temp = posteriors.columns.values.reshape(rows, columns)[each_beta,each_class]\n",
    "        plot_temp = plt.subplot(rows, columns, position)\n",
    "        sns.kdeplot(posteriors['%s' % str(name_temp)], shade=True, alpha=alpha, color=palette[each_beta])\n",
    "        plt.legend(loc='upper right', fontsize=15)\n",
    "        plt.axvline(x=0, linestyle=\"--\", color='black')\n",
    "        plt.xlabel(r\"%s\" % str(name_temp), fontsize=20)\n",
    "        plt.tick_params('both', labelsize='20')\n",
    "        plt.xlim([-1.8,1.8])\n",
    "        plt.ylim([0,3.])      \n",
    "        if (each_class==0):\n",
    "            plt.ylabel(\"$\\,$ WHAN \\n %s\" % whan_classes[each_beta], fontsize=20)       \n",
    "        elif (each_class!=0): \n",
    "            plot_temp.yaxis.set_visible(False)            \n",
    "        position+=1\n",
    "\n",
    "plt.tight_layout(w_pad=0)\n",
    "plt.savefig(os.path.join(results_path, '25betas_rmshared_revised.png'), bbox_inch='tight')\n",
    "plt.savefig(os.path.join(results_path, '25betas_rmshared_revised.pdf'), bbox_inch='tight')\n",
    "plt.show()"
   ]
  },
  {
   "cell_type": "markdown",
   "metadata": {},
   "source": [
    "# Probability x Mass"
   ]
  },
  {
   "cell_type": "code",
   "execution_count": 4,
   "metadata": {},
   "outputs": [],
   "source": [
    "header = my_summary.keys()"
   ]
  },
  {
   "cell_type": "code",
   "execution_count": 5,
   "metadata": {},
   "outputs": [],
   "source": [
    "class01, class02, class03, class04, class05 = np.split(my_summary.values, 5)"
   ]
  },
  {
   "cell_type": "code",
   "execution_count": 6,
   "metadata": {},
   "outputs": [],
   "source": [
    "class01_df = pd.DataFrame(class01)\n",
    "class01_df.columns = header"
   ]
  },
  {
   "cell_type": "code",
   "execution_count": 7,
   "metadata": {},
   "outputs": [],
   "source": [
    "class02_df = pd.DataFrame(class02)\n",
    "class02_df.columns = header"
   ]
  },
  {
   "cell_type": "code",
   "execution_count": 8,
   "metadata": {},
   "outputs": [],
   "source": [
    "class03_df = pd.DataFrame(class03)\n",
    "class03_df.columns = header"
   ]
  },
  {
   "cell_type": "code",
   "execution_count": 9,
   "metadata": {},
   "outputs": [],
   "source": [
    "class04_df = pd.DataFrame(class04)\n",
    "class04_df.columns = header"
   ]
  },
  {
   "cell_type": "code",
   "execution_count": 10,
   "metadata": {},
   "outputs": [],
   "source": [
    "class05_df = pd.DataFrame(class05)\n",
    "class05_df.columns = header"
   ]
  },
  {
   "cell_type": "code",
   "execution_count": 11,
   "metadata": {},
   "outputs": [
    {
     "data": {
      "image/png": "[encoded data removed]",
      "text/plain": [
       "<Figure size 432x288 with 1 Axes>"
      ]
     },
     "metadata": {
      "needs_background": "light"
     },
     "output_type": "display_data"
    }
   ],
   "source": [
    "plt.plot(class01_df[\"LOG_STELLAR_MASS\"], class01_df[\"mean\"], '.')\n",
    "plt.show()"
   ]
  },
  {
   "cell_type": "code",
   "execution_count": 12,
   "metadata": {
    "scrolled": false
   },
   "outputs": [
    {
     "data": {
      "text/html": [
       "<div>\n",
       "<style scoped>\n",
       "    .dataframe tbody tr th:only-of-type {\n",
       "        vertical-align: middle;\n",
       "    }\n",
       "\n",
       "    .dataframe tbody tr th {\n",
       "        vertical-align: top;\n",
       "    }\n",
       "\n",
       "    .dataframe thead th {\n",
       "        text-align: right;\n",
       "    }\n",
       "</style>\n",
       "<table border=\"1\" class=\"dataframe\">\n",
       "  <thead>\n",
       "    <tr style=\"text-align: right;\">\n",
       "      <th></th>\n",
       "      <th>count</th>\n",
       "      <th>mean</th>\n",
       "      <th>std</th>\n",
       "      <th>min</th>\n",
       "      <th>2.5%</th>\n",
       "      <th>25%</th>\n",
       "      <th>50%</th>\n",
       "      <th>75%</th>\n",
       "      <th>97.5%</th>\n",
       "      <th>max</th>\n",
       "      <th>LOG_STELLAR_MASS</th>\n",
       "      <th>Z</th>\n",
       "    </tr>\n",
       "  </thead>\n",
       "  <tbody>\n",
       "    <tr>\n",
       "      <th>count</th>\n",
       "      <td>900.0</td>\n",
       "      <td>900.000000</td>\n",
       "      <td>900.000000</td>\n",
       "      <td>900.000000</td>\n",
       "      <td>900.000000</td>\n",
       "      <td>900.000000</td>\n",
       "      <td>900.000000</td>\n",
       "      <td>900.000000</td>\n",
       "      <td>900.000000</td>\n",
       "      <td>900.000000</td>\n",
       "      <td>900.000000</td>\n",
       "      <td>900.000000</td>\n",
       "    </tr>\n",
       "    <tr>\n",
       "      <th>mean</th>\n",
       "      <td>15000.0</td>\n",
       "      <td>0.317834</td>\n",
       "      <td>0.098839</td>\n",
       "      <td>0.078727</td>\n",
       "      <td>0.154929</td>\n",
       "      <td>0.243898</td>\n",
       "      <td>0.308479</td>\n",
       "      <td>0.382745</td>\n",
       "      <td>0.530011</td>\n",
       "      <td>0.723702</td>\n",
       "      <td>10.000000</td>\n",
       "      <td>0.208120</td>\n",
       "    </tr>\n",
       "    <tr>\n",
       "      <th>std</th>\n",
       "      <td>0.0</td>\n",
       "      <td>0.077758</td>\n",
       "      <td>0.048235</td>\n",
       "      <td>0.059604</td>\n",
       "      <td>0.095010</td>\n",
       "      <td>0.090935</td>\n",
       "      <td>0.081309</td>\n",
       "      <td>0.084346</td>\n",
       "      <td>0.128465</td>\n",
       "      <td>0.156243</td>\n",
       "      <td>0.597259</td>\n",
       "      <td>0.083724</td>\n",
       "    </tr>\n",
       "    <tr>\n",
       "      <th>min</th>\n",
       "      <td>15000.0</td>\n",
       "      <td>0.228763</td>\n",
       "      <td>0.053748</td>\n",
       "      <td>0.000236</td>\n",
       "      <td>0.011287</td>\n",
       "      <td>0.119281</td>\n",
       "      <td>0.222864</td>\n",
       "      <td>0.269673</td>\n",
       "      <td>0.355733</td>\n",
       "      <td>0.471809</td>\n",
       "      <td>9.000000</td>\n",
       "      <td>0.067940</td>\n",
       "    </tr>\n",
       "    <tr>\n",
       "      <th>25%</th>\n",
       "      <td>15000.0</td>\n",
       "      <td>0.258921</td>\n",
       "      <td>0.068109</td>\n",
       "      <td>0.016589</td>\n",
       "      <td>0.069893</td>\n",
       "      <td>0.170137</td>\n",
       "      <td>0.249216</td>\n",
       "      <td>0.311888</td>\n",
       "      <td>0.421304</td>\n",
       "      <td>0.591700</td>\n",
       "      <td>9.482759</td>\n",
       "      <td>0.135613</td>\n",
       "    </tr>\n",
       "    <tr>\n",
       "      <th>50%</th>\n",
       "      <td>15000.0</td>\n",
       "      <td>0.290796</td>\n",
       "      <td>0.078155</td>\n",
       "      <td>0.080897</td>\n",
       "      <td>0.156506</td>\n",
       "      <td>0.220641</td>\n",
       "      <td>0.273297</td>\n",
       "      <td>0.361465</td>\n",
       "      <td>0.505485</td>\n",
       "      <td>0.696158</td>\n",
       "      <td>10.000000</td>\n",
       "      <td>0.208120</td>\n",
       "    </tr>\n",
       "    <tr>\n",
       "      <th>75%</th>\n",
       "      <td>15000.0</td>\n",
       "      <td>0.354513</td>\n",
       "      <td>0.108410</td>\n",
       "      <td>0.119862</td>\n",
       "      <td>0.222679</td>\n",
       "      <td>0.301383</td>\n",
       "      <td>0.350435</td>\n",
       "      <td>0.442965</td>\n",
       "      <td>0.616755</td>\n",
       "      <td>0.858535</td>\n",
       "      <td>10.517241</td>\n",
       "      <td>0.280627</td>\n",
       "    </tr>\n",
       "    <tr>\n",
       "      <th>max</th>\n",
       "      <td>15000.0</td>\n",
       "      <td>0.538128</td>\n",
       "      <td>0.239366</td>\n",
       "      <td>0.187483</td>\n",
       "      <td>0.349832</td>\n",
       "      <td>0.469713</td>\n",
       "      <td>0.539332</td>\n",
       "      <td>0.606858</td>\n",
       "      <td>0.849140</td>\n",
       "      <td>0.995086</td>\n",
       "      <td>11.000000</td>\n",
       "      <td>0.348300</td>\n",
       "    </tr>\n",
       "  </tbody>\n",
       "</table>\n",
       "</div>"
      ],
      "text/plain": [
       "         count        mean         std         min        2.5%         25%  \\\n",
       "count    900.0  900.000000  900.000000  900.000000  900.000000  900.000000   \n",
       "mean   15000.0    0.317834    0.098839    0.078727    0.154929    0.243898   \n",
       "std        0.0    0.077758    0.048235    0.059604    0.095010    0.090935   \n",
       "min    15000.0    0.228763    0.053748    0.000236    0.011287    0.119281   \n",
       "25%    15000.0    0.258921    0.068109    0.016589    0.069893    0.170137   \n",
       "50%    15000.0    0.290796    0.078155    0.080897    0.156506    0.220641   \n",
       "75%    15000.0    0.354513    0.108410    0.119862    0.222679    0.301383   \n",
       "max    15000.0    0.538128    0.239366    0.187483    0.349832    0.469713   \n",
       "\n",
       "              50%         75%       97.5%         max  LOG_STELLAR_MASS  \\\n",
       "count  900.000000  900.000000  900.000000  900.000000        900.000000   \n",
       "mean     0.308479    0.382745    0.530011    0.723702         10.000000   \n",
       "std      0.081309    0.084346    0.128465    0.156243          0.597259   \n",
       "min      0.222864    0.269673    0.355733    0.471809          9.000000   \n",
       "25%      0.249216    0.311888    0.421304    0.591700          9.482759   \n",
       "50%      0.273297    0.361465    0.505485    0.696158         10.000000   \n",
       "75%      0.350435    0.442965    0.616755    0.858535         10.517241   \n",
       "max      0.539332    0.606858    0.849140    0.995086         11.000000   \n",
       "\n",
       "                Z  \n",
       "count  900.000000  \n",
       "mean     0.208120  \n",
       "std      0.083724  \n",
       "min      0.067940  \n",
       "25%      0.135613  \n",
       "50%      0.208120  \n",
       "75%      0.280627  \n",
       "max      0.348300  "
      ]
     },
     "execution_count": 12,
     "metadata": {},
     "output_type": "execute_result"
    }
   ],
   "source": [
    "class01_df.describe()"
   ]
  },
  {
   "cell_type": "code",
   "execution_count": 13,
   "metadata": {},
   "outputs": [],
   "source": [
    "unique_masses = np.unique(class01_df[\"LOG_STELLAR_MASS\"].values)"
   ]
  },
  {
   "cell_type": "markdown",
   "metadata": {},
   "source": [
    "### class 01 - unclassified"
   ]
  },
  {
   "cell_type": "code",
   "execution_count": 14,
   "metadata": {},
   "outputs": [],
   "source": [
    "for i in range(unique_masses.size):\n",
    "    summary_temp  = pd.DataFrame(class01_df[class01_df[\"LOG_STELLAR_MASS\"].values==unique_masses[i]].describe())\n",
    "    mean_temp     = summary_temp.loc[[\"mean\"]]\n",
    "    if i==0:\n",
    "        mean_all01_df = mean_temp\n",
    "    else:\n",
    "        mean_all01_df = pd.concat([mean_all01_df, mean_temp])"
   ]
  },
  {
   "cell_type": "markdown",
   "metadata": {},
   "source": [
    "### class 02 - retired/passive"
   ]
  },
  {
   "cell_type": "code",
   "execution_count": 15,
   "metadata": {},
   "outputs": [],
   "source": [
    "for i in range(unique_masses.size):\n",
    "    summary_temp  = pd.DataFrame(class02_df[class02_df[\"LOG_STELLAR_MASS\"].values==unique_masses[i]].describe())\n",
    "    mean_temp     = summary_temp.loc[[\"mean\"]]\n",
    "    if i==0:\n",
    "        mean_all02_df = mean_temp\n",
    "    else:\n",
    "        mean_all02_df = pd.concat([mean_all02_df, mean_temp])"
   ]
  },
  {
   "cell_type": "markdown",
   "metadata": {},
   "source": [
    "### class 03 - wAGN"
   ]
  },
  {
   "cell_type": "code",
   "execution_count": 16,
   "metadata": {},
   "outputs": [],
   "source": [
    "for i in range(unique_masses.size):\n",
    "    summary_temp  = pd.DataFrame(class03_df[class03_df[\"LOG_STELLAR_MASS\"].values==unique_masses[i]].describe())\n",
    "    mean_temp     = summary_temp.loc[[\"mean\"]]\n",
    "    if i==0:\n",
    "        mean_all03_df = mean_temp\n",
    "    else:\n",
    "        mean_all03_df = pd.concat([mean_all03_df, mean_temp])"
   ]
  },
  {
   "cell_type": "markdown",
   "metadata": {},
   "source": [
    "### class 04 - sAGN"
   ]
  },
  {
   "cell_type": "code",
   "execution_count": 17,
   "metadata": {},
   "outputs": [],
   "source": [
    "for i in range(unique_masses.size):\n",
    "    summary_temp  = pd.DataFrame(class04_df[class04_df[\"LOG_STELLAR_MASS\"].values==unique_masses[i]].describe())\n",
    "    mean_temp     = summary_temp.loc[[\"mean\"]]\n",
    "    if i==0:\n",
    "        mean_all04_df = mean_temp\n",
    "    else:\n",
    "        mean_all04_df = pd.concat([mean_all04_df, mean_temp])"
   ]
  },
  {
   "cell_type": "markdown",
   "metadata": {},
   "source": [
    "### class 05 - SF"
   ]
  },
  {
   "cell_type": "code",
   "execution_count": 18,
   "metadata": {},
   "outputs": [],
   "source": [
    "for i in range(unique_masses.size):\n",
    "    summary_temp  = pd.DataFrame(class05_df[class05_df[\"LOG_STELLAR_MASS\"].values==unique_masses[i]].describe())\n",
    "    mean_temp     = summary_temp.loc[[\"mean\"]]\n",
    "    if i==0:\n",
    "        mean_all05_df = mean_temp\n",
    "    else:\n",
    "        mean_all05_df = pd.concat([mean_all05_df, mean_temp])"
   ]
  },
  {
   "cell_type": "code",
   "execution_count": 19,
   "metadata": {},
   "outputs": [
    {
     "data": {
      "image/png": "[encoded data removed]",
      "text/plain": [
       "<Figure size 432x288 with 1 Axes>"
      ]
     },
     "metadata": {
      "needs_background": "light"
     },
     "output_type": "display_data"
    }
   ],
   "source": [
    "plt.plot(mean_all01_df['LOG_STELLAR_MASS'], mean_all01_df['mean'], '-')\n",
    "plt.plot(mean_all01_df['LOG_STELLAR_MASS'], mean_all01_df['25%'], '-')\n",
    "plt.plot(mean_all01_df['LOG_STELLAR_MASS'], mean_all01_df['75%'], '-')\n",
    "plt.plot(mean_all01_df['LOG_STELLAR_MASS'], mean_all01_df['2.5%'], '--')\n",
    "plt.plot(mean_all01_df['LOG_STELLAR_MASS'], mean_all01_df['97.5%'], '--')\n",
    "\n",
    "plt.show()"
   ]
  },
  {
   "cell_type": "code",
   "execution_count": 20,
   "metadata": {},
   "outputs": [],
   "source": [
    "n_classes = np.split(my_summary.values, 5)"
   ]
  },
  {
   "cell_type": "code",
   "execution_count": 21,
   "metadata": {},
   "outputs": [],
   "source": [
    "list_of_dfs = [mean_all01_df, mean_all02_df, mean_all03_df, mean_all04_df, mean_all05_df]"
   ]
  },
  {
   "cell_type": "code",
   "execution_count": 22,
   "metadata": {},
   "outputs": [],
   "source": [
    "for n in range(len(n_classes)):\n",
    "    list_of_dfs[n].to_csv(os.path.join(results_path, 'data_for_plotting_class%d.csv' % (n+1)))"
   ]
  },
  {
   "cell_type": "code",
   "execution_count": 23,
   "metadata": {},
   "outputs": [
    {
     "name": "stdout",
     "output_type": "stream",
     "text": [
      "[ 9.          9.06896552  9.13793103  9.20689655  9.27586207  9.34482759\n",
      "  9.4137931   9.48275862  9.55172414  9.62068966  9.68965517  9.75862069\n",
      "  9.82758621  9.89655172  9.96551724 10.03448276 10.10344828 10.17241379\n",
      " 10.24137931 10.31034483 10.37931034 10.44827586 10.51724138 10.5862069\n",
      " 10.65517241 10.72413793 10.79310345 10.86206897 10.93103448 11.        ]\n"
     ]
    }
   ],
   "source": [
    "print(unique_masses)"
   ]
  },
  {
   "cell_type": "markdown",
   "metadata": {},
   "source": [
    "# Probability x Z ---  to be continued"
   ]
  },
  {
   "cell_type": "code",
   "execution_count": 24,
   "metadata": {},
   "outputs": [
    {
     "name": "stdout",
     "output_type": "stream",
     "text": [
      "[0.06794    0.07760759 0.08727517 0.09694276 0.10661034 0.11627793\n",
      " 0.12594552 0.1356131  0.14528069 0.15494828 0.16461586 0.17428345\n",
      " 0.18395103 0.19361862 0.20328621 0.21295379 0.22262138 0.23228897\n",
      " 0.24195655 0.25162414 0.26129172 0.27095931 0.2806269  0.29029448\n",
      " 0.29996207 0.30962966 0.31929724 0.32896483 0.33863241 0.3483    ]\n"
     ]
    }
   ],
   "source": [
    "unique_redshifts = np.unique(my_summary['Z'].values)\n",
    "print (unique_redshifts)"
   ]
  },
  {
   "cell_type": "code",
   "execution_count": 25,
   "metadata": {},
   "outputs": [
    {
     "name": "stdout",
     "output_type": "stream",
     "text": [
      "[9.0, 10.034482758620687, 11.0]\n"
     ]
    }
   ],
   "source": [
    "mass_slices = [unique_masses[0], unique_masses[15], unique_masses[29]]\n",
    "print (mass_slices)"
   ]
  },
  {
   "cell_type": "markdown",
   "metadata": {},
   "source": [
    "### class 01 - unclassified"
   ]
  },
  {
   "cell_type": "code",
   "execution_count": 26,
   "metadata": {},
   "outputs": [],
   "source": [
    "for i in range(len(mass_slices)):\n",
    "    current_slice = mass_slices[i]\n",
    "    df_temp = class01_df[class01_df[\"LOG_STELLAR_MASS\"]==current_slice]\n",
    "    if i==0:\n",
    "        subsample01 = df_temp\n",
    "    else:\n",
    "        subsample01 = pd.concat([subsample01, df_temp])"
   ]
  },
  {
   "cell_type": "markdown",
   "metadata": {},
   "source": [
    "### class 02 - retired/passive"
   ]
  },
  {
   "cell_type": "code",
   "execution_count": 28,
   "metadata": {},
   "outputs": [],
   "source": [
    "for i in range(len(mass_slices)):\n",
    "    current_slice = mass_slices[i]\n",
    "    df_temp = class02_df[class02_df[\"LOG_STELLAR_MASS\"]==current_slice]\n",
    "    if i==0:\n",
    "        subsample02 = df_temp\n",
    "    else:\n",
    "        subsample02 = pd.concat([subsample02, df_temp])"
   ]
  },
  {
   "cell_type": "markdown",
   "metadata": {},
   "source": [
    "### class 03 - wAGN"
   ]
  },
  {
   "cell_type": "code",
   "execution_count": 29,
   "metadata": {},
   "outputs": [],
   "source": [
    "for i in range(len(mass_slices)):\n",
    "    current_slice = mass_slices[i]\n",
    "    df_temp = class03_df[class03_df[\"LOG_STELLAR_MASS\"]==current_slice]\n",
    "    if i==0:\n",
    "        subsample03 = df_temp\n",
    "    else:\n",
    "        subsample03 = pd.concat([subsample03, df_temp])"
   ]
  },
  {
   "cell_type": "markdown",
   "metadata": {},
   "source": [
    "### class 04 - sAGN"
   ]
  },
  {
   "cell_type": "code",
   "execution_count": 30,
   "metadata": {},
   "outputs": [],
   "source": [
    "for i in range(len(mass_slices)):\n",
    "    current_slice = mass_slices[i]\n",
    "    df_temp = class04_df[class04_df[\"LOG_STELLAR_MASS\"]==current_slice]\n",
    "    if i==0:\n",
    "        subsample04 = df_temp\n",
    "    else:\n",
    "        subsample04 = pd.concat([subsample04, df_temp])"
   ]
  },
  {
   "cell_type": "markdown",
   "metadata": {},
   "source": [
    "### class 05 - SF"
   ]
  },
  {
   "cell_type": "code",
   "execution_count": 31,
   "metadata": {},
   "outputs": [],
   "source": [
    "for i in range(len(mass_slices)):\n",
    "    current_slice = mass_slices[i]\n",
    "    df_temp = class05_df[class05_df[\"LOG_STELLAR_MASS\"]==current_slice]\n",
    "    if i==0:\n",
    "        subsample05 = df_temp\n",
    "    else:\n",
    "        subsample05 = pd.concat([subsample05, df_temp])"
   ]
  },
  {
   "cell_type": "code",
   "execution_count": 35,
   "metadata": {},
   "outputs": [
    {
     "data": {
      "image/png": "[encoded data removed]",
      "text/plain": [
       "<Figure size 432x288 with 1 Axes>"
      ]
     },
     "metadata": {
      "needs_background": "light"
     },
     "output_type": "display_data"
    }
   ],
   "source": [
    "plt.plot(subsample01[\"Z\"][subsample01[\"LOG_STELLAR_MASS\"]==mass_slices[0]], \n",
    "         subsample01[\"mean\"][subsample01[\"LOG_STELLAR_MASS\"]==mass_slices[0]], '--')\n",
    "plt.plot(subsample01[\"Z\"][subsample01[\"LOG_STELLAR_MASS\"]==mass_slices[0]], \n",
    "         subsample01[\"25%\"][subsample01[\"LOG_STELLAR_MASS\"]==mass_slices[0]], '--')\n",
    "plt.plot(subsample01[\"Z\"][subsample01[\"LOG_STELLAR_MASS\"]==mass_slices[0]], \n",
    "         subsample01[\"75%\"][subsample01[\"LOG_STELLAR_MASS\"]==mass_slices[0]], '--')\n",
    "plt.plot(subsample01[\"Z\"][subsample01[\"LOG_STELLAR_MASS\"]==mass_slices[0]], \n",
    "         subsample01[\"2.5%\"][subsample01[\"LOG_STELLAR_MASS\"]==mass_slices[0]], '--')\n",
    "plt.plot(subsample01[\"Z\"][subsample01[\"LOG_STELLAR_MASS\"]==mass_slices[0]], \n",
    "         subsample01[\"97.5%\"][subsample01[\"LOG_STELLAR_MASS\"]==mass_slices[0]], '--')\n",
    "plt.ylim([-0.05,1])\n",
    "\n",
    "plt.show()"
   ]
  },
  {
   "cell_type": "code",
   "execution_count": null,
   "metadata": {},
   "outputs": [],
   "source": []
  }
 ],
 "metadata": {
  "kernelspec": {
   "display_name": "Python 3",
   "language": "python",
   "name": "python3"
  },
  "language_info": {
   "codemirror_mode": {
    "name": "ipython",
    "version": 3
   },
   "file_extension": ".py",
   "mimetype": "text/x-python",
   "name": "python",
   "nbconvert_exporter": "python",
   "pygments_lexer": "ipython3",
   "version": "3.6.6"
  }
 },
 "nbformat": 4,
 "nbformat_minor": 2
}
