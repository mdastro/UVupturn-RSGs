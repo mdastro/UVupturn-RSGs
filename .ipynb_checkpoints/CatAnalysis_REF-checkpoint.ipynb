{
 "cells": [
  {
   "cell_type": "markdown",
   "metadata": {},
   "source": [
    "# Packages"
   ]
  },
  {
   "cell_type": "code",
   "execution_count": 1,
   "metadata": {},
   "outputs": [],
   "source": [
    "import numpy             as np\n",
    "import pandas            as pd\n",
    "import matplotlib.pyplot as plt\n",
    "import seaborn           as sns"
   ]
  },
  {
   "cell_type": "code",
   "execution_count": 2,
   "metadata": {},
   "outputs": [],
   "source": [
    "plotpars = {'axes.labelsize': 18,\n",
    "            'axes.linewidth': 1.,\n",
    "            'figure.figsize': (7.,5.),\n",
    "            'font.size': 20,\n",
    "            'legend.frameon': True,\n",
    "            'legend.framealpha': 0.85,\n",
    "            'legend.edgecolor': 'black',\n",
    "            'legend.loc': 'best',\n",
    "            'legend.fontsize': 12,\n",
    "            'mathtext.fontset': 'stixsans',\n",
    "            'savefig.bbox': 'tight',\n",
    "            'xtick.labelsize': 18,\n",
    "            'ytick.labelsize': 18,\n",
    "           }\n",
    "\n",
    "plotpars_3rows = {'axes.labelsize': 18,\n",
    "                  'axes.linewidth': 1.,\n",
    "                  'figure.figsize': (6, 9),\n",
    "                  'font.size': 12,\n",
    "                  'legend.frameon': True,\n",
    "                  'legend.framealpha': 0.85,\n",
    "                  'legend.edgecolor': 'black',\n",
    "                  'legend.loc': 'best',\n",
    "                  'legend.fontsize': 12,\n",
    "                  'mathtext.fontset': 'stixsans',\n",
    "                  'savefig.bbox': 'tight',\n",
    "                  'xtick.labelsize': 15,\n",
    "                  'ytick.labelsize': 15,\n",
    "                 }\n",
    "\n",
    "plotpars_3cols = {'axes.labelsize': 18,\n",
    "                  'axes.linewidth': 1.,\n",
    "                  'figure.figsize': (12, 3.5),\n",
    "                  'font.size': 12,\n",
    "                  'legend.frameon': True,\n",
    "                  'legend.framealpha': 0.85,\n",
    "                  'legend.edgecolor': 'black',\n",
    "                  'legend.loc': 'best',\n",
    "                  'legend.fontsize': 12,\n",
    "                  'mathtext.fontset': 'stixsans',\n",
    "                  'savefig.bbox': 'tight',\n",
    "                  'xtick.labelsize': 15,\n",
    "                  'ytick.labelsize': 15,\n",
    "                 }"
   ]
  },
  {
   "cell_type": "markdown",
   "metadata": {},
   "source": [
    "# Dataset"
   ]
  },
  {
   "cell_type": "code",
   "execution_count": 3,
   "metadata": {},
   "outputs": [],
   "source": [
    "my_data   = pd.read_csv('../Catalogue/Match07_smalldoubleclean_emlines.csv')\n",
    "dust_data = pd.read_csv('../../../GAMADR3/MagPhys/MagPhys.csv')"
   ]
  },
  {
   "cell_type": "code",
   "execution_count": 4,
   "metadata": {},
   "outputs": [],
   "source": [
    "fuv_k = []\n",
    "nuv_k = []\n",
    "r_k = []\n",
    "uvclass = []\n",
    "for i in range(my_data['UV_CLASS_YI2011'].values.size):\n",
    "    fuv_k.append(my_data['KCORR_FUV'].values[i])\n",
    "    nuv_k.append(my_data['KCORR_NUV'].values[i])\n",
    "    r_k.append(my_data['KCORR_R'].values[i])\n",
    "    uvclass.append(my_data['UV_CLASS_YI2011'].values[i])\n",
    "\n",
    "fuv_k   = np.array(fuv_k)\n",
    "nuv_k   = np.array(nuv_k)\n",
    "r_k     = np.array(r_k)\n",
    "uvclass = np.array(uvclass)\n",
    "\n",
    "header = np.array(['KCORR_FUV', 'KCORR_NUV', 'KCORR_R', 'UV_CLASS'])\n",
    "kcorr_data = np.column_stack([fuv_k, nuv_k, r_k, uvclass])\n",
    "kcorr_data = pd.DataFrame(kcorr_data, columns=header)"
   ]
  },
  {
   "cell_type": "code",
   "execution_count": 5,
   "metadata": {},
   "outputs": [],
   "source": [
    "palette = ['#1b9e77','#d95f02','#7570b3']"
   ]
  },
  {
   "cell_type": "code",
   "execution_count": 7,
   "metadata": {},
   "outputs": [
    {
     "data": {
      "image/png": "[encoded data removed]",
      "text/plain": [
       "<Figure size 864x252 with 3 Axes>"
      ]
     },
     "metadata": {
      "needs_background": "light"
     },
     "output_type": "display_data"
    }
   ],
   "source": [
    "plt.rcParams.update(plotpars_3cols)\n",
    "\n",
    "plt.subplot(1,3,1)\n",
    "n, bins, patches = plt.hist(x=fuv_k[kcorr_data['UV_CLASS']=='RSF'], bins=15, color=palette[2], edgecolor='black', \n",
    "                            alpha=0.4, label='FUV', histtype='stepfilled')\n",
    "plt.hist(x=nuv_k[kcorr_data['UV_CLASS']=='RSF'], bins=bins, color=palette[0], edgecolor='black', alpha=0.4, \n",
    "         label='NUV', histtype='stepfilled')\n",
    "plt.hist(x=r_k[kcorr_data['UV_CLASS']=='RSF'], bins=bins, color=palette[1], edgecolor='black', alpha=0.4, \n",
    "         label='$r$', histtype='stepfilled')\n",
    "plt.title('RSF')\n",
    "plt.ylabel('Frequency')\n",
    "# plt.xlabel('K-correction')\n",
    "plt.yscale('log')\n",
    "# plt.legend(loc='best')\n",
    "\n",
    "\n",
    "plt.subplot(1,3,2)\n",
    "n, bins, patches = plt.hist(x=fuv_k[kcorr_data['UV_CLASS']=='UV_WEAK'], bins=15, color=palette[2], edgecolor='black',\n",
    "                            alpha=0.4, label='FUV', histtype='stepfilled')\n",
    "plt.hist(x=nuv_k[kcorr_data['UV_CLASS']=='UV_WEAK'], bins=bins, edgecolor='black', color=palette[0], alpha=0.4,\n",
    "         label='NUV', histtype='stepfilled')\n",
    "plt.hist(x=r_k[kcorr_data['UV_CLASS']=='UV_WEAK'], bins=bins, edgecolor='black', color=palette[1], alpha=0.4,\n",
    "         label='$r$', histtype='stepfilled')\n",
    "plt.title('UV weak')\n",
    "# plt.ylabel('Frequency')\n",
    "plt.xlabel('K-correction')\n",
    "plt.yscale('log')\n",
    "plt.legend(loc='best')\n",
    "\n",
    "plt.subplot(1,3,3)\n",
    "n, bins, patches = plt.hist(x=fuv_k[kcorr_data['UV_CLASS']=='UV_UPTURN'], bins=15, color=palette[2], \n",
    "                            edgecolor='black', alpha=0.4, label='FUV', histtype='stepfilled')\n",
    "plt.hist(x=nuv_k[kcorr_data['UV_CLASS']=='UV_UPTURN'], bins=bins, edgecolor='black', color=palette[0], alpha=0.4,\n",
    "         label='NUV', histtype='stepfilled')\n",
    "plt.hist(x=r_k[kcorr_data['UV_CLASS']=='UV_UPTURN'],   bins=bins, edgecolor='black', color=palette[1], alpha=0.4,\n",
    "         label='$r$', histtype='stepfilled')\n",
    "plt.title('UV upturn')\n",
    "plt.yscale('log')\n",
    "plt.tight_layout()\n",
    "plt.savefig('../LargeFilesResults/PaperFigs/kcorrections.pdf')\n",
    "plt.savefig('../LargeFilesResults/PaperFigs/kcorrections.png')\n",
    "plt.show()"
   ]
  },
  {
   "cell_type": "code",
   "execution_count": 21,
   "metadata": {},
   "outputs": [],
   "source": [
    "new_match = my_data.merge(dust_data, on=['CATAID'], how='left', indicator=True)"
   ]
  },
  {
   "cell_type": "code",
   "execution_count": 22,
   "metadata": {},
   "outputs": [
    {
     "name": "stdout",
     "output_type": "stream",
     "text": [
      "CATAID\n",
      "OBJID_SDSSDR7\n",
      "ALPHA_J2000\n",
      "DELTA_J2000\n",
      "KRON_RADIUS\n",
      "PETRO_RADIUS\n",
      "MAG_PETRO_u\n",
      "MAGERR_PETRO_u\n",
      "FLAGS_u\n",
      "MAG_PETRO_g\n",
      "MAGERR_PETRO_g\n",
      "FLAGS_g\n",
      "MAG_PETRO_r\n",
      "MAGERR_PETRO_r\n",
      "FLAGS_r\n",
      "MAG_PETRO_i\n",
      "MAGERR_PETRO_i\n",
      "FLAGS_i\n",
      "MAG_PETRO_z\n",
      "MAGERR_PETRO_z\n",
      "FLAGS_z\n",
      "MAG_PETRO_X\n",
      "MAGERR_PETRO_X\n",
      "FLAGS_X\n",
      "MAG_PETRO_Y\n",
      "MAGERR_PETRO_Y\n",
      "FLAGS_Y\n",
      "MAG_PETRO_J\n",
      "MAGERR_PETRO_J\n",
      "FLAGS_J\n",
      "MAG_PETRO_H\n",
      "MAGERR_PETRO_H\n",
      "FLAGS_H\n",
      "MAG_PETRO_K\n",
      "MAGERR_PETRO_K\n",
      "FLAGS_K\n",
      "FLAGS\n",
      "PSFMAG_R\n",
      "FIBERMAG_R\n",
      "FLAGS_R_SDSS\n",
      "PETRORAD_R\n",
      "PETROR90_R\n",
      "PETROR50_R\n",
      "PETROMAG_R\n",
      "MODELMAG_U\n",
      "MODELMAG_G\n",
      "MODELMAG_R\n",
      "MODELMAG_I\n",
      "MODELMAG_Z\n",
      "STATUS\n",
      "BEST_MAG_NUV\n",
      "BEST_MAGERR_NUV\n",
      "BEST_MAG_FUV\n",
      "BEST_MAGERR_FUV\n",
      "BEST_METHOD\n",
      "NMATCHUV\n",
      "NMATCHOPT\n",
      "NUVFLAG\n",
      "FUVFLAG\n",
      "NN_DIST\n",
      "NN_NMATCH4\n",
      "NN_MANY2ONE\n",
      "NN_SFLAGS_NUV\n",
      "NN_SFLAGS_FUV\n",
      "KCORR_FUV\n",
      "KCORR_NUV\n",
      "KCORR_U\n",
      "KCORR_G\n",
      "KCORR_R\n",
      "KCORR_I\n",
      "KCORR_Z\n",
      "KCORR_Y\n",
      "KCORR_J\n",
      "KCORR_H\n",
      "KCORR_K\n",
      "CHI2\n",
      "MASS\n",
      "INTSFH\n",
      "METS\n",
      "B300\n",
      "B1000\n",
      "SURVEY_CODE\n",
      "SURVEY_CLASS\n",
      "nbands\n",
      "S2N\n",
      "PPP\n",
      "logmstar\n",
      "dellogmstar\n",
      "logmoverl_i\n",
      "dellogmoverl_i\n",
      "logage\n",
      "dellogage\n",
      "logtau\n",
      "dellogtau\n",
      "logmintsfh\n",
      "dellogmintsfh\n",
      "logmremnants\n",
      "dellogmremnants\n",
      "metal\n",
      "delmetal\n",
      "extBV\n",
      "delextBV\n",
      "logLWage\n",
      "dellogLWage\n",
      "gminusi\n",
      "delgminusi\n",
      "uminusr\n",
      "deluminusr\n",
      "gminusi_stars\n",
      "uminusr_stars\n",
      "C_logM_ur\n",
      "C_logM_gi\n",
      "C_logM_eBV\n",
      "SPECID\n",
      "SURVEY_CODE_EMLINES\n",
      "SN\n",
      "D4000N\n",
      "D4000N_ERR\n",
      "SURVEY\n",
      "Z\n",
      "NQ\n",
      "PROB\n",
      "HB_FLUX_COMP\n",
      "HB_FLUX_ERR_COMP\n",
      "HB_EW_COMP\n",
      "HB_EW_ERR_COMP\n",
      "OIIIR_FLUX_COMP\n",
      "OIIIR_FLUX_ERR_COMP\n",
      "OIIIR_EW_COMP\n",
      "OIIIR_EW_ERR_COMP\n",
      "HA_FLUX_COMP\n",
      "HA_FLUX_ERR_COMP\n",
      "HA_EW_COMP\n",
      "HA_EW_ERR_COMP\n",
      "NIIR_FLUX_COMP\n",
      "NIIR_FLUX_ERR_COMP\n",
      "NIIR_EW_COMP\n",
      "NIIR_EW_ERR_COMP\n",
      "MAG_AB_FUV\n",
      "MAG_AB_NUV\n",
      "MAG_AB_U\n",
      "MAG_AB_G\n",
      "MAG_AB_R\n",
      "MAG_AB_I\n",
      "MAG_AB_Z\n",
      "MAG_AB_Y\n",
      "MAG_AB_J\n",
      "MAG_AB_H\n",
      "MAG_AB_K\n",
      "MAG_ABSOLUTE_FUV\n",
      "MAG_ABSOLUTE_NUV\n",
      "MAG_ABSOLUTE_U\n",
      "MAG_ABSOLUTE_G\n",
      "MAG_ABSOLUTE_R\n",
      "MAG_ABSOLUTE_I\n",
      "MAG_ABSOLUTE_Z\n",
      "MAG_ABSOLUTE_Y\n",
      "MAG_ABSOLUTE_J\n",
      "MAG_ABSOLUTE_H\n",
      "MAG_ABSOLUTE_K\n",
      "UV_CLASS_YI2011\n",
      "TYPE\n",
      "BPT_CLASS\n",
      "WHAN_CLASS\n",
      "L_dust_best_fit\n",
      "L_dust_percentile2_5\n",
      "L_dust_percentile16\n",
      "L_dust_percentile50\n",
      "L_dust_percentile84\n",
      "L_dust_percentile97_5\n",
      "mass_dust_best_fit\n",
      "mass_dust_percentile2_5\n",
      "mass_dust_percentile16\n",
      "mass_dust_percentile50\n",
      "mass_dust_percentile84\n",
      "mass_dust_percentile97_5\n",
      "tlastb_percentile2_5\n",
      "tlastb_percentile16\n",
      "tlastb_percentile50\n",
      "tlastb_percentile84\n",
      "tlastb_percentile97_5\n",
      "_merge\n"
     ]
    }
   ],
   "source": [
    "for i in new_match.keys():\n",
    "    print(i)"
   ]
  },
  {
   "cell_type": "code",
   "execution_count": 24,
   "metadata": {},
   "outputs": [
    {
     "name": "stdout",
     "output_type": "stream",
     "text": [
      "RSF\n",
      "nan\n",
      "RSF\n",
      "nan\n"
     ]
    }
   ],
   "source": [
    "for i in range(new_match['CATAID'].values.size):\n",
    "    if new_match['_merge'].values[i]!='both':\n",
    "        print (new_match['UV_CLASS_YI2011'].values[i])\n",
    "        print (new_match['L_dust_best_fit'].values[i])\n",
    "    else:\n",
    "        continue"
   ]
  },
  {
   "cell_type": "code",
   "execution_count": 28,
   "metadata": {},
   "outputs": [],
   "source": [
    "uv_weak_objs = new_match[new_match['UV_CLASS_YI2011']=='UV_WEAK']\n",
    "uv_uptr_objs = new_match[new_match['UV_CLASS_YI2011']=='UV_UPTURN']"
   ]
  },
  {
   "cell_type": "code",
   "execution_count": 60,
   "metadata": {},
   "outputs": [
    {
     "data": {
      "image/png": "[encoded data removed]",
      "text/plain": [
       "<Figure size 504x360 with 1 Axes>"
      ]
     },
     "metadata": {
      "needs_background": "light"
     },
     "output_type": "display_data"
    }
   ],
   "source": [
    "plt.rcParams.update(plotpars)\n",
    "\n",
    "n1, bins1, patches1 = plt.hist(uv_weak_objs['L_dust_best_fit'], histtype='stepfilled', color='blue', bins=20, \n",
    "                               alpha=0.5, label='UV weak', edgecolor='black')\n",
    "n2, bins2, patches2 = plt.hist(uv_uptr_objs['L_dust_best_fit'], histtype='stepfilled', color='green', bins=bins1, \n",
    "                               alpha=0.5, label='UV upturn', edgecolor='black')\n",
    "plt.yscale('log')\n",
    "plt.xlabel('Dust luminosity')\n",
    "plt.ylabel('Frequency')\n",
    "plt.ticklabel_format(axis='x', useMathText=True)\n",
    "plt.legend(loc='best')\n",
    "plt.show()"
   ]
  },
  {
   "cell_type": "code",
   "execution_count": 57,
   "metadata": {},
   "outputs": [
    {
     "data": {
      "image/png": "[encoded data removed]",
      "text/plain": [
       "<Figure size 504x360 with 1 Axes>"
      ]
     },
     "metadata": {
      "needs_background": "light"
     },
     "output_type": "display_data"
    }
   ],
   "source": [
    "plt.rcParams.update(plotpars)\n",
    "\n",
    "n, bins, patches = plt.hist(uv_weak_objs['mass_dust_best_fit'], histtype='stepfilled', color='blue', bins=20, \n",
    "                            alpha=0.5, edgecolor='black', label='UV weak')\n",
    "plt.hist(uv_uptr_objs['mass_dust_best_fit'], histtype='stepfilled', color='green', bins=bins, alpha=0.5, \n",
    "         edgecolor='black', label='UV upturn')\n",
    "plt.yscale('log')\n",
    "plt.xlabel('Mass/dust best fit')\n",
    "plt.ylabel('Frequency')\n",
    "plt.ticklabel_format(axis='x', useMathText=True)\n",
    "plt.show()"
   ]
  },
  {
   "cell_type": "code",
   "execution_count": null,
   "metadata": {},
   "outputs": [],
   "source": []
  },
  {
   "cell_type": "code",
   "execution_count": null,
   "metadata": {},
   "outputs": [],
   "source": []
  },
  {
   "cell_type": "code",
   "execution_count": 59,
   "metadata": {},
   "outputs": [
    {
     "data": {
      "image/png": "[encoded data removed]",
      "text/plain": [
       "<Figure size 864x252 with 3 Axes>"
      ]
     },
     "metadata": {
      "needs_background": "light"
     },
     "output_type": "display_data"
    }
   ],
   "source": [
    "plt.rcParams.update(plotpars_3cols)\n",
    "\n",
    "plt.subplot(1,3,1)\n",
    "plt.title('Percentile 16')\n",
    "n, bins, patches = plt.hist(uv_weak_objs['mass_dust_percentile16'], histtype='stepfilled', color='blue', bins=20, \n",
    "                            alpha=0.5, edgecolor='black', label='UV weak')\n",
    "plt.hist(uv_uptr_objs['mass_dust_percentile16'], histtype='stepfilled', color='green', bins=bins, alpha=0.5, \n",
    "         edgecolor='black', label='UV upturn')\n",
    "plt.yscale('log')\n",
    "plt.ylabel('Frequency')\n",
    "plt.ticklabel_format(axis='x', useMathText=True)\n",
    "\n",
    "plt.subplot(1,3,2)\n",
    "plt.title('Percentile 50')\n",
    "n, bins, patches = plt.hist(uv_weak_objs['mass_dust_percentile50'], histtype='stepfilled', color='blue', bins=20, \n",
    "                            alpha=0.5, edgecolor='black', label='UV weak')\n",
    "plt.hist(uv_uptr_objs['mass_dust_percentile50'], histtype='stepfilled', color='green', bins=bins, alpha=0.5, \n",
    "         edgecolor='black', label='UV upturn')\n",
    "plt.yscale('log')\n",
    "plt.xlabel('Mass/dust')\n",
    "plt.ticklabel_format(axis='x', useMathText=True)\n",
    "\n",
    "plt.subplot(1,3,3)\n",
    "plt.title('Percentile 84')\n",
    "n, bins, patches = plt.hist(uv_weak_objs['mass_dust_percentile84'], histtype='stepfilled', color='blue', bins=20, \n",
    "                            alpha=0.5, edgecolor='black', label='UV weak')\n",
    "plt.hist(uv_uptr_objs['mass_dust_percentile84'], histtype='stepfilled', color='green', bins=bins, alpha=0.5, \n",
    "         edgecolor='black', label='UV upturn')\n",
    "plt.yscale('log')\n",
    "plt.ticklabel_format(axis='x', useMathText=True)\n",
    "\n",
    "plt.show()"
   ]
  },
  {
   "cell_type": "code",
   "execution_count": null,
   "metadata": {},
   "outputs": [],
   "source": []
  }
 ],
 "metadata": {
  "kernelspec": {
   "display_name": "Python 3",
   "language": "python",
   "name": "python3"
  },
  "language_info": {
   "codemirror_mode": {
    "name": "ipython",
    "version": 3
   },
   "file_extension": ".py",
   "mimetype": "text/x-python",
   "name": "python",
   "nbconvert_exporter": "python",
   "pygments_lexer": "ipython3",
   "version": "3.6.6"
  }
 },
 "nbformat": 4,
 "nbformat_minor": 2
}
