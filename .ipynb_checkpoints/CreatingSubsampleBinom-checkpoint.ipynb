{
 "cells": [
  {
   "cell_type": "markdown",
   "metadata": {},
   "source": [
    "# Libraries"
   ]
  },
  {
   "cell_type": "code",
   "execution_count": 1,
   "metadata": {},
   "outputs": [],
   "source": [
    "import numpy as np\n",
    "import pandas as pd\n",
    "import pystan\n",
    "import matplotlib.pyplot as plt\n",
    "import statsmodels.api as sm\n",
    "import seaborn as sns"
   ]
  },
  {
   "cell_type": "code",
   "execution_count": 2,
   "metadata": {
    "collapsed": true
   },
   "outputs": [],
   "source": [
    "my_data = np.loadtxt('../Catalogue/Match07_smalldoubleclean_emlines.csv', delimiter=',', dtype=str)"
   ]
  },
  {
   "cell_type": "code",
   "execution_count": 3,
   "metadata": {
    "collapsed": true
   },
   "outputs": [],
   "source": [
    "my_dictionary = {}\n",
    "for i in range(len(my_data[0, :])):                                         # Converting numpy array into dictionary\n",
    "    my_dictionary[my_data[0, i]] = np.array(my_data[0 + 1:, i], dtype=str)"
   ]
  },
  {
   "cell_type": "code",
   "execution_count": 4,
   "metadata": {
    "collapsed": true
   },
   "outputs": [],
   "source": [
    "cataid       = my_dictionary['CATAID'].astype(str)\n",
    "redshift     = my_dictionary['Z'].astype(float)\n",
    "stellar_mass = my_dictionary['logmstar'].astype(float)   # stellar mass from sed fitting - log scale\n",
    "survey       = my_dictionary['SURVEY'].astype(str)\n",
    "uv_class     = my_dictionary['UV_CLASS_YI2011'].astype(str)\n",
    "bpt_class    = my_dictionary['BPT_CLASS'].astype(str)\n",
    "whan_class   = my_dictionary['WHAN_CLASS'].astype(str)"
   ]
  },
  {
   "cell_type": "code",
   "execution_count": 5,
   "metadata": {},
   "outputs": [],
   "source": [
    "logit_class = []\n",
    "for i in range(cataid.size):\n",
    "    if uv_class[i]=='UV_UPTURN':\n",
    "        logit_class.append(1)\n",
    "    else:\n",
    "        logit_class.append(0)\n",
    "logit_class = np.array(logit_class)"
   ]
  },
  {
   "cell_type": "code",
   "execution_count": 11,
   "metadata": {},
   "outputs": [],
   "source": [
    "logit_dataframe                 = {}\n",
    "logit_dataframe['CATAID']       = cataid\n",
    "logit_dataframe['LOGIT_CLASS']  = logit_class\n",
    "logit_dataframe['Z']            = redshift\n",
    "logit_dataframe['STELLAR_MASS'] = stellar_mass\n",
    "logit_dataframe['UV_CLASS']     = uv_class\n",
    "logit_dataframe['BPT_CLASS']    = bpt_class\n",
    "logit_dataframe['WHAN_CLASS']   = whan_class"
   ]
  },
  {
   "cell_type": "code",
   "execution_count": 21,
   "metadata": {},
   "outputs": [],
   "source": [
    "logit_df = pd.DataFrame(logit_dataframe)"
   ]
  },
  {
   "cell_type": "code",
   "execution_count": 25,
   "metadata": {},
   "outputs": [
    {
     "data": {
      "text/plain": [
       "['BPT_CLASS',\n",
       " 'CATAID',\n",
       " 'LOGIT_CLASS',\n",
       " 'STELLAR_MASS',\n",
       " 'UV_CLASS',\n",
       " 'WHAN_CLASS',\n",
       " 'Z']"
      ]
     },
     "execution_count": 25,
     "metadata": {},
     "output_type": "execute_result"
    }
   ],
   "source": [
    "cols =logit_df.columns.tolist()\n",
    "cols"
   ]
  },
  {
   "cell_type": "code",
   "execution_count": 26,
   "metadata": {},
   "outputs": [],
   "source": [
    "cols = cols[0] "
   ]
  },
  {
   "cell_type": "code",
   "execution_count": null,
   "metadata": {},
   "outputs": [],
   "source": []
  }
 ],
 "metadata": {
  "kernelspec": {
   "display_name": "Python 2",
   "language": "python",
   "name": "python2"
  },
  "language_info": {
   "codemirror_mode": {
    "name": "ipython",
    "version": 2
   },
   "file_extension": ".py",
   "mimetype": "text/x-python",
   "name": "python",
   "nbconvert_exporter": "python",
   "pygments_lexer": "ipython2",
   "version": "2.7.6"
  }
 },
 "nbformat": 4,
 "nbformat_minor": 2
}
