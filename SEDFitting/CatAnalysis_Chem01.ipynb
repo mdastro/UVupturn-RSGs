{
 "cells": [
  {
   "cell_type": "markdown",
   "metadata": {},
   "source": [
    "# Pre-settings"
   ]
  },
  {
   "cell_type": "markdown",
   "metadata": {},
   "source": [
    "### Plot"
   ]
  },
  {
   "cell_type": "code",
   "execution_count": 1,
   "metadata": {},
   "outputs": [],
   "source": [
    "plotpars = {'axes.labelsize': 18,\n",
    "            'axes.linewidth': 1.,\n",
    "            'figure.figsize': (7.,5.),\n",
    "            'font.size': 12,\n",
    "            'legend.frameon': True,\n",
    "            'legend.framealpha': 0.85,\n",
    "            'legend.edgecolor': 'black',\n",
    "            'legend.loc': 'best',\n",
    "            'legend.fontsize': 12,\n",
    "            'mathtext.fontset': 'stixsans',\n",
    "            'savefig.bbox': 'tight',\n",
    "            'xtick.labelsize': 18,\n",
    "            'ytick.labelsize': 18,\n",
    "           }"
   ]
  },
  {
   "cell_type": "code",
   "execution_count": 2,
   "metadata": {},
   "outputs": [],
   "source": [
    "palette = ['#23576B', '#35B8EA', '#2980A1', '#162F38', '#060C0E'] "
   ]
  },
  {
   "cell_type": "markdown",
   "metadata": {},
   "source": [
    "### Constants"
   ]
  },
  {
   "cell_type": "code",
   "execution_count": 3,
   "metadata": {},
   "outputs": [],
   "source": [
    "mpc_to_cm  = 3.086E24\n",
    "h_alpha_wl = 6.563E-5   # in cm = 6563A"
   ]
  },
  {
   "cell_type": "markdown",
   "metadata": {},
   "source": [
    "# Libraries"
   ]
  },
  {
   "cell_type": "code",
   "execution_count": 4,
   "metadata": {},
   "outputs": [],
   "source": [
    "import numpy              as np\n",
    "import pandas             as pd\n",
    "import matplotlib.pyplot  as plt\n",
    "import matplotlib.ticker  as mtick\n",
    "import seaborn            as sns\n",
    "import os\n",
    "from matplotlib.gridspec  import GridSpec\n",
    "from mpl_toolkits.mplot3d import Axes3D\n",
    "from astropy.cosmology    import FlatLambdaCDM"
   ]
  },
  {
   "cell_type": "markdown",
   "metadata": {},
   "source": [
    "# Dataset(s), paths, tests"
   ]
  },
  {
   "cell_type": "code",
   "execution_count": 5,
   "metadata": {},
   "outputs": [],
   "source": [
    "data = pd.read_csv('../../Catalogue/Match07_smalldoubleclean_emlines.csv')"
   ]
  },
  {
   "cell_type": "code",
   "execution_count": 6,
   "metadata": {},
   "outputs": [],
   "source": [
    "output_path = '../../LargeFilesResults/SEDFitting/Pre_Analysis/'"
   ]
  },
  {
   "cell_type": "code",
   "execution_count": 7,
   "metadata": {},
   "outputs": [
    {
     "data": {
      "text/plain": [
       "(array([3]), array([14331]))"
      ]
     },
     "execution_count": 7,
     "metadata": {},
     "output_type": "execute_result"
    }
   ],
   "source": [
    "np.unique(data['TYPE'].values, return_counts=True)"
   ]
  },
  {
   "cell_type": "code",
   "execution_count": 8,
   "metadata": {},
   "outputs": [
    {
     "name": "stdout",
     "output_type": "stream",
     "text": [
      "CATAID\n",
      "OBJID_SDSSDR7\n",
      "ALPHA_J2000\n",
      "DELTA_J2000\n",
      "KRON_RADIUS\n",
      "PETRO_RADIUS\n",
      "MAG_PETRO_u\n",
      "MAGERR_PETRO_u\n",
      "FLAGS_u\n",
      "MAG_PETRO_g\n",
      "MAGERR_PETRO_g\n",
      "FLAGS_g\n",
      "MAG_PETRO_r\n",
      "MAGERR_PETRO_r\n",
      "FLAGS_r\n",
      "MAG_PETRO_i\n",
      "MAGERR_PETRO_i\n",
      "FLAGS_i\n",
      "MAG_PETRO_z\n",
      "MAGERR_PETRO_z\n",
      "FLAGS_z\n",
      "MAG_PETRO_X\n",
      "MAGERR_PETRO_X\n",
      "FLAGS_X\n",
      "MAG_PETRO_Y\n",
      "MAGERR_PETRO_Y\n",
      "FLAGS_Y\n",
      "MAG_PETRO_J\n",
      "MAGERR_PETRO_J\n",
      "FLAGS_J\n",
      "MAG_PETRO_H\n",
      "MAGERR_PETRO_H\n",
      "FLAGS_H\n",
      "MAG_PETRO_K\n",
      "MAGERR_PETRO_K\n",
      "FLAGS_K\n",
      "FLAGS\n",
      "PSFMAG_R\n",
      "FIBERMAG_R\n",
      "FLAGS_R_SDSS\n",
      "PETRORAD_R\n",
      "PETROR90_R\n",
      "PETROR50_R\n",
      "PETROMAG_R\n",
      "MODELMAG_U\n",
      "MODELMAG_G\n",
      "MODELMAG_R\n",
      "MODELMAG_I\n",
      "MODELMAG_Z\n",
      "STATUS\n",
      "BEST_MAG_NUV\n",
      "BEST_MAGERR_NUV\n",
      "BEST_MAG_FUV\n",
      "BEST_MAGERR_FUV\n",
      "BEST_METHOD\n",
      "NMATCHUV\n",
      "NMATCHOPT\n",
      "NUVFLAG\n",
      "FUVFLAG\n",
      "NN_DIST\n",
      "NN_NMATCH4\n",
      "NN_MANY2ONE\n",
      "NN_SFLAGS_NUV\n",
      "NN_SFLAGS_FUV\n",
      "KCORR_FUV\n",
      "KCORR_NUV\n",
      "KCORR_U\n",
      "KCORR_G\n",
      "KCORR_R\n",
      "KCORR_I\n",
      "KCORR_Z\n",
      "KCORR_Y\n",
      "KCORR_J\n",
      "KCORR_H\n",
      "KCORR_K\n",
      "CHI2\n",
      "MASS\n",
      "INTSFH\n",
      "METS\n",
      "B300\n",
      "B1000\n",
      "SURVEY_CODE\n",
      "SURVEY_CLASS\n",
      "nbands\n",
      "S2N\n",
      "PPP\n",
      "logmstar\n",
      "dellogmstar\n",
      "logmoverl_i\n",
      "dellogmoverl_i\n",
      "logage\n",
      "dellogage\n",
      "logtau\n",
      "dellogtau\n",
      "logmintsfh\n",
      "dellogmintsfh\n",
      "logmremnants\n",
      "dellogmremnants\n",
      "metal\n",
      "delmetal\n",
      "extBV\n",
      "delextBV\n",
      "logLWage\n",
      "dellogLWage\n",
      "gminusi\n",
      "delgminusi\n",
      "uminusr\n",
      "deluminusr\n",
      "gminusi_stars\n",
      "uminusr_stars\n",
      "C_logM_ur\n",
      "C_logM_gi\n",
      "C_logM_eBV\n",
      "SPECID\n",
      "SURVEY_CODE_EMLINES\n",
      "SN\n",
      "D4000N\n",
      "D4000N_ERR\n",
      "SURVEY\n",
      "Z\n",
      "NQ\n",
      "PROB\n",
      "HB_FLUX_COMP\n",
      "HB_FLUX_ERR_COMP\n",
      "HB_EW_COMP\n",
      "HB_EW_ERR_COMP\n",
      "OIIIR_FLUX_COMP\n",
      "OIIIR_FLUX_ERR_COMP\n",
      "OIIIR_EW_COMP\n",
      "OIIIR_EW_ERR_COMP\n",
      "HA_FLUX_COMP\n",
      "HA_FLUX_ERR_COMP\n",
      "HA_EW_COMP\n",
      "HA_EW_ERR_COMP\n",
      "NIIR_FLUX_COMP\n",
      "NIIR_FLUX_ERR_COMP\n",
      "NIIR_EW_COMP\n",
      "NIIR_EW_ERR_COMP\n",
      "MAG_AB_FUV\n",
      "MAG_AB_NUV\n",
      "MAG_AB_U\n",
      "MAG_AB_G\n",
      "MAG_AB_R\n",
      "MAG_AB_I\n",
      "MAG_AB_Z\n",
      "MAG_AB_Y\n",
      "MAG_AB_J\n",
      "MAG_AB_H\n",
      "MAG_AB_K\n",
      "MAG_ABSOLUTE_FUV\n",
      "MAG_ABSOLUTE_NUV\n",
      "MAG_ABSOLUTE_U\n",
      "MAG_ABSOLUTE_G\n",
      "MAG_ABSOLUTE_R\n",
      "MAG_ABSOLUTE_I\n",
      "MAG_ABSOLUTE_Z\n",
      "MAG_ABSOLUTE_Y\n",
      "MAG_ABSOLUTE_J\n",
      "MAG_ABSOLUTE_H\n",
      "MAG_ABSOLUTE_K\n",
      "UV_CLASS_YI2011\n",
      "TYPE\n",
      "BPT_CLASS\n",
      "WHAN_CLASS\n"
     ]
    }
   ],
   "source": [
    "for i in data.keys():\n",
    "    print(i)"
   ]
  },
  {
   "cell_type": "code",
   "execution_count": 9,
   "metadata": {},
   "outputs": [],
   "source": [
    "data = data.fillna('Unclassified')"
   ]
  },
  {
   "cell_type": "markdown",
   "metadata": {},
   "source": [
    "## UV upturn objects"
   ]
  },
  {
   "cell_type": "code",
   "execution_count": 10,
   "metadata": {},
   "outputs": [],
   "source": [
    "uvup_data  = data.loc[data['UV_CLASS_YI2011']=='UV_UPTURN']\n",
    "data_gby   = uvup_data.groupby('WHAN_CLASS')\n",
    "data_count = data_gby.count()"
   ]
  },
  {
   "cell_type": "code",
   "execution_count": 12,
   "metadata": {},
   "outputs": [
    {
     "data": {
      "image/png": "[encoded data removed]",
      "text/plain": [
       "<Figure size 504x360 with 1 Axes>"
      ]
     },
     "metadata": {
      "needs_background": "light"
     },
     "output_type": "display_data"
    }
   ],
   "source": [
    "order = [2,0,4,3,1]\n",
    "plt.bar(x=data_count.index.values[order], height=data_count['CATAID'].values[order], color=palette[2], alpha=0.75)\n",
    "plt.rcParams.update(plotpars)\n",
    "plt.xticks([0,1,2,3,4],['Unclass.', 'R/P', 'wAGN', 'sAGN', 'SF'])\n",
    "plt.tight_layout()\n",
    "plt.savefig(os.path.join(output_path, 'distribution_of_uvups.png'))\n",
    "plt.savefig(os.path.join(output_path, 'distribution_of_uvups.pdf'))\n",
    "plt.show()"
   ]
  },
  {
   "cell_type": "markdown",
   "metadata": {},
   "source": [
    "# Cosmology"
   ]
  },
  {
   "cell_type": "code",
   "execution_count": 13,
   "metadata": {},
   "outputs": [],
   "source": [
    "adopted_cosmology   = FlatLambdaCDM(H0=70, Om0=0.3)\n",
    "luminosity_distance = adopted_cosmology.luminosity_distance(uvup_data['Z']).value"
   ]
  },
  {
   "cell_type": "markdown",
   "metadata": {},
   "source": [
    "# SFR"
   ]
  },
  {
   "cell_type": "code",
   "execution_count": 14,
   "metadata": {},
   "outputs": [],
   "source": [
    "rm_spur_halpha = np.where(uvup_data['HA_FLUX_COMP'].values!=-99999.)"
   ]
  },
  {
   "cell_type": "code",
   "execution_count": 15,
   "metadata": {},
   "outputs": [],
   "source": [
    "luminosity = 4*np.pi*((luminosity_distance[rm_spur_halpha]/h_alpha_wl)**2)*(uvup_data['HA_EW_COMP'].\n",
    "                                                                               iloc[rm_spur_halpha].values)\n",
    "luminosity_cm = luminosity * mpc_to_cm"
   ]
  },
  {
   "cell_type": "code",
   "execution_count": 16,
   "metadata": {},
   "outputs": [],
   "source": [
    "sfr = (7.9E-42) * luminosity_cm # the wl correction "
   ]
  },
  {
   "cell_type": "code",
   "execution_count": 55,
   "metadata": {},
   "outputs": [
    {
     "data": {
      "image/png": "[encoded data removed]",
      "text/plain": [
       "<Figure size 504x360 with 1 Axes>"
      ]
     },
     "metadata": {
      "needs_background": "light"
     },
     "output_type": "display_data"
    }
   ],
   "source": [
    "plt.rcParams.update(plotpars)\n",
    "sns.boxenplot(x=uvup_data['WHAN_CLASS'].iloc[rm_spur_halpha].values, \n",
    "            y=sfr[np.where(uvup_data['WHAN_CLASS'].iloc[rm_spur_halpha].values)], color=palette[2], saturation=1.,\n",
    "              order=['Unclassified', 'Retired/Passive', 'wAGN', 'sAGN', 'SF'])\n",
    "plt.xticks([0,1,2,3,4],['Unclass.', 'R/P', 'wAGN', 'sAGN', 'SF'])\n",
    "# plt.yscale('log')\n",
    "plt.ylabel(r\"SFR\")\n",
    "plt.savefig(os.path.join(output_path, 'bxplt_uvup_sfr.png'))\n",
    "plt.savefig(os.path.join(output_path, 'bxplt_uvup_sfr.pdf'))\n",
    "plt.show()"
   ]
  },
  {
   "cell_type": "code",
   "execution_count": 56,
   "metadata": {},
   "outputs": [
    {
     "data": {
      "image/png": "[encoded data removed]",
      "text/plain": [
       "<Figure size 504x360 with 1 Axes>"
      ]
     },
     "metadata": {
      "needs_background": "light"
     },
     "output_type": "display_data"
    }
   ],
   "source": [
    "plt.rcParams.update(plotpars)\n",
    "sns.boxenplot(x=uvup_data['WHAN_CLASS'].iloc[rm_spur_halpha].values, \n",
    "            y=uvup_data['Z'].values[np.where(uvup_data['WHAN_CLASS'].iloc[rm_spur_halpha].values)], color=palette[2], saturation=1.,\n",
    "              order=['Unclassified', 'Retired/Passive', 'wAGN', 'sAGN', 'SF'])\n",
    "plt.xticks([0,1,2,3,4],['Unclass.', 'R/P', 'wAGN', 'sAGN', 'SF'])\n",
    "# plt.yscale('log')\n",
    "plt.ylabel(r\"redshift\")\n",
    "plt.savefig(os.path.join(output_path, 'bxplt_uvup_z.png'))\n",
    "plt.savefig(os.path.join(output_path, 'bxplt_uvup_z.pdf'))\n",
    "plt.show()"
   ]
  },
  {
   "cell_type": "code",
   "execution_count": 149,
   "metadata": {},
   "outputs": [
    {
     "data": {
      "image/png": "[encoded data removed]",
      "text/plain": [
       "<Figure size 504x360 with 1 Axes>"
      ]
     },
     "metadata": {
      "needs_background": "light"
     },
     "output_type": "display_data"
    }
   ],
   "source": [
    "classes = ['R/P', 'SF', 'Unclass.', 'sAGN', 'wAGN']\n",
    "plt.rcParams.update(plotpars)\n",
    "plot01 = sns.scatterplot(x=uvup_data['logmstar'].iloc[rm_spur_halpha].values, y=sfr, \n",
    "                         hue=uvup_data['WHAN_CLASS'].iloc[rm_spur_halpha].values, \n",
    "                         style=uvup_data['WHAN_CLASS'].iloc[rm_spur_halpha].values, s=80, palette=palette, alpha=0.75)\n",
    "plot01.legend(loc='lower center', borderaxespad=0.2, ncol=3)\n",
    "plt.xlabel(\"$\\log$ M$_*$ (M$_\\odot$)\")\n",
    "plt.ylabel(\"SFR (M$_\\odot$ yr$^{-1}$)\")\n",
    "plt.yscale('log')\n",
    "plt.ylim([10**(-3.5), 10**1])\n",
    "plt.savefig(os.path.join(output_path, 'scatter_mass_sfr.png'))\n",
    "plt.savefig(os.path.join(output_path, 'scatter_mass_sfr.pdf'))\n",
    "plt.show()"
   ]
  },
  {
   "cell_type": "code",
   "execution_count": null,
   "metadata": {},
   "outputs": [],
   "source": []
  }
 ],
 "metadata": {
  "kernelspec": {
   "display_name": "Python 3",
   "language": "python",
   "name": "python3"
  },
  "language_info": {
   "codemirror_mode": {
    "name": "ipython",
    "version": 3
   },
   "file_extension": ".py",
   "mimetype": "text/x-python",
   "name": "python",
   "nbconvert_exporter": "python",
   "pygments_lexer": "ipython3",
   "version": "3.6.6"
  }
 },
 "nbformat": 4,
 "nbformat_minor": 2
}
