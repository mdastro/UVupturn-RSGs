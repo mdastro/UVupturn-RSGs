{
 "cells": [
  {
   "cell_type": "markdown",
   "metadata": {},
   "source": [
    "# To make my life a bit easier..."
   ]
  },
  {
   "cell_type": "code",
   "execution_count": null,
   "metadata": {},
   "outputs": [],
   "source": [
    "def plot_sed(x, y, yerr):\n",
    "    plt.clf()\n",
    "    plt.errorbar(wavelength, flux, yerr=flux_err, c='red', ecolor='gray', capthick=2)\n",
    "    plt.show()"
   ]
  },
  {
   "cell_type": "markdown",
   "metadata": {},
   "source": [
    "# Packages"
   ]
  },
  {
   "cell_type": "markdown",
   "metadata": {},
   "source": [
    "### General packages"
   ]
  },
  {
   "cell_type": "code",
   "execution_count": null,
   "metadata": {},
   "outputs": [],
   "source": [
    "import numpy             as np\n",
    "import pandas            as pd\n",
    "import matplotlib.pyplot as plt\n",
    "import seaborn           as sns\n",
    "import astropy.io.fits   as pf\n",
    "import astropy.constants as ct\n",
    "import os\n",
    "import time\n",
    "import scipy.interpolate as sci\n",
    "import ipywidgets        as widgets"
   ]
  },
  {
   "cell_type": "markdown",
   "metadata": {},
   "source": [
    "### pPXF imports"
   ]
  },
  {
   "cell_type": "code",
   "execution_count": null,
   "metadata": {},
   "outputs": [],
   "source": [
    "import ppxf.miles_util   as lib  # MILES library embedded in ppxf\n",
    "import ppxf.ppxf_util    as util\n",
    "import ppxf              as ppxf_module\n",
    "from ppxf.ppxf           import ppxf\n",
    "from ppxf.ppxf_util      import log_rebin"
   ]
  },
  {
   "cell_type": "markdown",
   "metadata": {},
   "source": [
    "# Config. inputs"
   ]
  },
  {
   "cell_type": "markdown",
   "metadata": {},
   "source": [
    "### Paths and files"
   ]
  },
  {
   "cell_type": "code",
   "execution_count": null,
   "metadata": {},
   "outputs": [],
   "source": [
    "seds_list    = np.loadtxt('../../../GAMAII_SPEC/WHAN_NA_UVUP/gal_list.txt', dtype=str)\n",
    "seds_path    = '../../../GAMAII_SPEC/WHAN_NA_UVUP/'\n",
    "results_path = '../../LargeFilesResults/SEDFitting/'\n",
    "ppxf_dir     = os.path.dirname(os.path.realpath(ppxf_module.__file__))\n",
    "miles_lib    = ppxf_dir+'/miles_models/Mun1.30*.fits'"
   ]
  },
  {
   "cell_type": "code",
   "execution_count": null,
   "metadata": {},
   "outputs": [],
   "source": [
    "dataset_path = './../../Catalogue/Match08_smallemlines_inputcattype.csv'\n",
    "my_data      = pd.read_csv(dataset_path)"
   ]
  },
  {
   "cell_type": "markdown",
   "metadata": {},
   "source": [
    "### Constants"
   ]
  },
  {
   "cell_type": "code",
   "execution_count": null,
   "metadata": {},
   "outputs": [],
   "source": [
    "light_speed = float(str(ct.c.to('km/s')).split(' ')[0])            # selecting the numerical values (must be in km/s)\n",
    "gama_resol  = 1300."
   ]
  },
  {
   "cell_type": "markdown",
   "metadata": {},
   "source": [
    "## Some parameters"
   ]
  },
  {
   "cell_type": "code",
   "execution_count": null,
   "metadata": {},
   "outputs": [],
   "source": [
    "whan_class = my_data['WHAN_CLASS']\n",
    "uv_class   = my_data['UV_CLASS_YI2011']\n",
    "cataid     = my_data['CATAID']\n",
    "specid     = my_data['SPECID']\n",
    "s2n        = my_data['S2N']\n",
    "chi2_gama  = my_data['CHI2']\n",
    "redshift   = my_data['Z']"
   ]
  },
  {
   "cell_type": "code",
   "execution_count": null,
   "metadata": {},
   "outputs": [],
   "source": [
    "uv_unique   = np.unique(uv_class.values.astype(str), return_counts=True)\n",
    "whan_unique = np.unique(whan_class.values.astype(str), return_counts=True)\n",
    "# print (uv_unique, '\\n', whan_unique)"
   ]
  },
  {
   "cell_type": "code",
   "execution_count": null,
   "metadata": {},
   "outputs": [],
   "source": [
    "idx_uvup_rp = np.where((uv_class.values=='UV_UPTURN')*(whan_class.values=='Retired/Passive'))\n",
    "idx_uvup_na = np.where((uv_class.values=='UV_UPTURN')*(whan_class.isna().values==True))"
   ]
  },
  {
   "cell_type": "markdown",
   "metadata": {},
   "source": [
    "# This section of the Jupyter Notebook is for tests:"
   ]
  },
  {
   "cell_type": "code",
   "execution_count": null,
   "metadata": {},
   "outputs": [],
   "source": [
    "palette = ['#a6611a','#dfc27d','#80cdc1','#018571']\n",
    "bins=20\n",
    "plt.rcParams[\"axes.edgecolor\"] = \"0.15\"\n",
    "plt.rcParams[\"axes.linewidth\"] = 1.\n",
    "plt.subplots(figsize=(10,5))\n",
    "plt.subplot(1,2,1)\n",
    "plt.title(r\"S/N\")\n",
    "plt.hist(s2n.iloc[idx_uvup_rp], bins=bins, color=palette[0], alpha=0.6)\n",
    "plt.yscale('log')\n",
    "plt.subplot(1,2,2)\n",
    "plt.title(r\"$\\chi^2$\")\n",
    "plt.hist(chi2_gama.iloc[idx_uvup_rp], bins=bins, color=palette[3], alpha=0.6)\n",
    "plt.yscale('log')\n",
    "plt.show()"
   ]
  },
  {
   "cell_type": "code",
   "execution_count": null,
   "metadata": {},
   "outputs": [],
   "source": [
    "s2n_rp = s2n[whan_class=='Retired/Passive']\n",
    "s2n_na = s2n[whan_class.isna()]\n",
    "\n",
    "my_data_rp = my_data[whan_class=='Retired/Passive']\n",
    "my_data_na = my_data[whan_class.isna()]"
   ]
  },
  {
   "cell_type": "code",
   "execution_count": null,
   "metadata": {},
   "outputs": [],
   "source": [
    "np.unique(my_data_rp['BPT_CLASS'].values.astype(str), return_counts=True)"
   ]
  },
  {
   "cell_type": "code",
   "execution_count": null,
   "metadata": {},
   "outputs": [],
   "source": [
    "np.unique(my_data_na['BPT_CLASS'].values.astype(str), return_counts=True)"
   ]
  },
  {
   "cell_type": "code",
   "execution_count": null,
   "metadata": {},
   "outputs": [],
   "source": []
  },
  {
   "cell_type": "code",
   "execution_count": null,
   "metadata": {},
   "outputs": [],
   "source": [
    "teste = np.argsort(s2n.values, kind=)"
   ]
  },
  {
   "cell_type": "code",
   "execution_count": null,
   "metadata": {},
   "outputs": [],
   "source": [
    "s2n.iloc[teste]"
   ]
  },
  {
   "cell_type": "code",
   "execution_count": null,
   "metadata": {},
   "outputs": [],
   "source": [
    "sorted(s2n.loc[idx_uvup_rp], reverse=True)"
   ]
  },
  {
   "cell_type": "markdown",
   "metadata": {},
   "source": [
    "# Plot parameters (because I'm lazy)"
   ]
  },
  {
   "cell_type": "code",
   "execution_count": null,
   "metadata": {},
   "outputs": [],
   "source": [
    "plt.rcParams.keys()"
   ]
  },
  {
   "cell_type": "code",
   "execution_count": null,
   "metadata": {},
   "outputs": [],
   "source": [
    "plotpars = {'axes.linewidth': 1.,\n",
    "            'axes.labelsize': 18,\n",
    "            'xtick.labelsize': 18,\n",
    "            'ytick.labelsize': 18,\n",
    "            'legend.framealpha': 0.6,\n",
    "            'legend.loc': 'upper right',\n",
    "            'legend.fontsize': 12,\n",
    "            }"
   ]
  },
  {
   "cell_type": "code",
   "execution_count": null,
   "metadata": {},
   "outputs": [],
   "source": [
    "palette      = ['#ef8a62','#f7f7f7','#67a9cf']\n",
    "transparency = 0.8\n",
    "lw           = 2."
   ]
  },
  {
   "cell_type": "markdown",
   "metadata": {},
   "source": [
    "# Spectral fitting"
   ]
  },
  {
   "cell_type": "markdown",
   "metadata": {},
   "source": [
    "## Configuring inputs"
   ]
  },
  {
   "cell_type": "code",
   "execution_count": null,
   "metadata": {},
   "outputs": [],
   "source": [
    "seds_list = []\n",
    "for i in specid_top: seds_list.append(i+'.fit')"
   ]
  },
  {
   "cell_type": "markdown",
   "metadata": {},
   "source": [
    "### pPXF \"fixed\" parameters"
   ]
  },
  {
   "cell_type": "code",
   "execution_count": null,
   "metadata": {},
   "outputs": [],
   "source": [
    "# Fit (V, sig, h3, h4) moments=4 for the stars; (V, sig) moments=2 for the two gas kinematic components\n",
    "moments        = [4, 2, 2]\n",
    "degree         = -1         # Additive Legendre polynomial degrees\n",
    "mdegree        = 180        # Multiplicative Legendre polynomial degrees\n",
    "regul_err      = 0.013      # Desired regularization error -- TODO: MUST CHECK WHY 0.013\n",
    "tied_balmer    = True\n",
    "limit_doublets = False\n",
    "stellar_comp_w = [0]        # weight of the stellar component\n",
    "balmer_comp_w  = [1]        # weight of the balmer emission lines\n",
    "forbid_comp_w  = [2]        # weight of the forbidden lines\n",
    "# wl_min         = 3540       # MILES RANGE MIN\n",
    "# wl_max         = 7409       # MILES RANGE MAX\n",
    "wl_min = 4350            # removing the bluest part of the spectra in order to mitigate noise effects\n",
    "wl_max = 7409"
   ]
  },
  {
   "cell_type": "markdown",
   "metadata": {},
   "source": [
    "### pPXF loop"
   ]
  },
  {
   "cell_type": "code",
   "execution_count": null,
   "metadata": {},
   "outputs": [],
   "source": [
    "bar = widgets.IntProgress(value=0, min=0, max=len(seds_list)+1, step=0.5, description='Running pPXF:',\n",
    "                          orientation='horizontal')\n",
    "display(bar)"
   ]
  },
  {
   "cell_type": "code",
   "execution_count": null,
   "metadata": {},
   "outputs": [],
   "source": [
    "mean_age   = ['<logAge>']\n",
    "mean_metal = ['<[M/H]>']\n",
    "mass2light = ['MASS2LIGHT_R']\n",
    "ids        = ['CATAID']\n",
    "redshifts  = ['Z']"
   ]
  },
  {
   "cell_type": "code",
   "execution_count": null,
   "metadata": {},
   "outputs": [],
   "source": [
    "for each_sed in range(len(seds_list)):\n",
    "    \n",
    "    # settings for the progress bar widget above: does not influence in ppxf -----------------------------------------\n",
    "    bar.value += each_sed/2.                                          # signal to increment the progress bar\n",
    "    if each_sed<len(seds_list): \n",
    "        bar.bar_style = \"\"                                            # blue when in progress\n",
    "    else: \n",
    "        bar.bar_style = \"success\"                                     # green when it finishes        \n",
    "        \n",
    "    # flux -----------------------------------------------------------------------------------------------------------\n",
    "    sed_file  = os.path.join(seds_path, seds_list[each_sed])          # link between path and files\n",
    "    sed_flux  = pf.getdata(sed_file)[0]                               # opening each spectra\n",
    "    sed_err   = pf.getdata(sed_file)[1]                               # opening each spectra error\n",
    "    \n",
    "    # wavelength -----------------------------------------------------------------------------------------------------\n",
    "    sed_header = pf.open(sed_file)[0].header\n",
    "    sed_wl_ini = sed_header['WMIN'] \n",
    "    sed_wl_stp = sed_header['CD1_1']\n",
    "    sed_wl     = np.arange(sed_flux.size)*(sed_wl_stp)+sed_wl_ini     # sed wavelength    \n",
    "#     plot_sed(sed_wl, sed_flux, sed_err)\n",
    "    \n",
    "    # cleaning flux and wavelength trash -----------------------------------------------------------------------------\n",
    "    idx_clean       = np.where((np.logical_not(np.isnan(sed_flux)))*(sed_err>0))    # indices where NAN is present\n",
    "    flux_temp       = sed_flux[idx_clean]                                           # removing NAN values from spectra\n",
    "    flux_temp_err   = sed_err[idx_clean]\n",
    "    wavelength_temp = sed_wl[idx_clean]    \n",
    "#     plot_sed(wavelength_temp, flux_temp, flux_temp_err)\n",
    "    \n",
    "    # limiting the spectrum regarding the wavelength range of the library --------------------------------------------\n",
    "    wl_lib_idx = (wavelength_temp>wl_min) & (wavelength_temp<wl_max)       # MILES wavelength range\n",
    "    flux       = flux_temp[wl_lib_idx]\n",
    "    flux_err   = flux_temp_err[wl_lib_idx]\n",
    "    wavelength = wavelength_temp[wl_lib_idx]    \n",
    "#     plot_sed(wavelength, flux, flux_err)    \n",
    "    \n",
    "    # other important parameters -------------------------------------------------------------------------------------\n",
    "    redshift  = sed_header['Z']\n",
    "    cataid    = sed_header['CATAID']\n",
    "    fwhm_gama = wavelength*gama_resol\n",
    "    \n",
    "    # ppxf -----------------------------------------------------------------------------------------------------------\n",
    "    vel_scale          = light_speed*np.log(wavelength[1]/wavelength[0])      # velocity scale - Eq.8 Capellari 2017\n",
    "    \n",
    "    ### setup templates ----------------------------------------------------------------------------------------------\n",
    "    #### stellar pops ------------------------------------------------------------------------------------------------\n",
    "    miles              = lib.miles(miles_lib, vel_scale, fwhm_gama)\n",
    "    stellar_templates  = miles.templates.reshape(miles.templates.shape[0], -1)\n",
    "    reg_dim            = miles.templates.shape[1:]\n",
    "    dv                 = light_speed*(miles.log_lam_temp[0] - np.log(wavelength[0]))  # eq.(8) of Cappellari (2017)\n",
    "    vel                = light_speed*np.log(1 + redshift)                             # eq.(8) of Cappellari (2017)\n",
    "    start              = [vel, 180.]\n",
    "    \n",
    "    #### gas templates -----------------------------------------------------------------------------------------------\n",
    "    wl_range_galaxy = np.array([np.min(wavelength), np.max(wavelength)])/(1 + redshift)\n",
    "    gas_templates, gas_names, line_wave = util.emission_lines(miles.log_lam_temp, wl_range_galaxy, fwhm_gama, \n",
    "                                                              tie_balmer=tied_balmer, limit_doublets=limit_doublets)\n",
    "    number_of_templates = stellar_templates.shape[1]\n",
    "    number_of_forbidden = np.sum([\"[\" in a for a in gas_names])                      # forbidden lines contain \"[*]\"\n",
    "    number_of_balmer    = len(gas_names) - number_of_forbidden\n",
    "        \n",
    "    component = (stellar_comp_w*number_of_templates)+(balmer_comp_w*number_of_balmer)+(forbid_comp_w\n",
    "                                                                                       *number_of_forbidden)\n",
    "        \n",
    "    gas_component = np.array(component) > 0       # gas_component=True for gas templates\n",
    "    start3        = [start, start, start]         # adopt the same starting value for the 3 components\n",
    "    gas_reddening = 0 if tied_balmer else None    # If the Balmer lines are tied one should allow for gas reddening.\n",
    "    \n",
    "    \n",
    "    #### all templates -----------------------------------------------------------------------------------------------\n",
    "    all_templates = np.column_stack([stellar_templates, gas_templates])\n",
    "    \n",
    "    ### rebinning the spectrum so it is at the same size as the templates (or smaller) -------------------------------\n",
    "    new_shape          = stellar_templates[:,0].shape\n",
    "    rebinning_function = sci.interp1d(wavelength, flux)   # for the flux\n",
    "    wavelength_rebin   = np.linspace(start=wavelength.min(), stop=wavelength.max(), num=int(new_shape[0]))\n",
    "    flux_rebin         = rebinning_function(wavelength_rebin)\n",
    "    \n",
    "    ### rebinning the error ------------------------------------------------------------------------------------------\n",
    "    rebin_func_error   = sci.interp1d(wavelength, flux_err)\n",
    "    wl_rebin_error     = np.linspace(start=wavelength.min(), stop=wavelength.max(), num=int(new_shape[0]))\n",
    "    flux_err_rebin     = rebin_func_error(wavelength_rebin)\n",
    "    \n",
    "    ### final galaxy spectrum and its error to be analysed -----------------------------------------------------------\n",
    "    galaxy             = flux_rebin/np.median(flux_rebin)               # Normalize spectrum to avoid numerical issues\n",
    "    noise              = flux_err_rebin/np.median(flux_err_rebin)       # idem\n",
    "    \n",
    "#     plot_sed(wavelength_rebin, galaxy, noise)    \n",
    "    \n",
    "    ### SED FITTING WITH PPXF ----------------------------------------------------------------------------------------\n",
    "    start_time = time.clock()\n",
    "    sed_fit = ppxf(templates=all_templates, galaxy=galaxy, noise=noise, velscale=vel_scale, start=start3, plot=False, \n",
    "                   lam=wavelength_rebin, moments=moments, degree=degree, mdegree=mdegree, regul=1./regul_err, \n",
    "                   reg_dim=reg_dim, vsyst=dv, clean=False, component=component, gas_component=gas_component,\n",
    "                   gas_reddening=gas_reddening)\n",
    "    end_time = time.clock()\n",
    "    \n",
    "    ## output parameters -- most of them will become a dataframe at the end of the script  \n",
    "    residues = (galaxy-sed_fit.bestfit)\n",
    "    \n",
    "    stellar_weights = sed_fit.weights[~gas_component]                         # Exclude weights of the gas templates\n",
    "    stellar_weights = stellar_weights.reshape(reg_dim)/stellar_weights.sum()  # Normalized\n",
    "    \n",
    "    velocity = sed_fit.sol[0][0]\n",
    "    sigma    = sed_fit.sol[0][1]\n",
    "    \n",
    "    mean_age.append(miles.mean_age_metal(stellar_weights)[0])\n",
    "    mean_metal.append(miles.mean_age_metal(stellar_weights)[1])\n",
    "    mass2light.append(miles.mass_to_light(stellar_weights, band=\"r\"))\n",
    "    ids.append(cataid)\n",
    "    redshifts.append(redshift)\n",
    "       \n",
    "    print(r\"Current $\\chi^2$: %.4f\" % (sed_fit.chi2))\n",
    "    print('Elapsed time in PPXF: %.2f [min]' % ((end_time-start_time)/60))\n",
    "    \n",
    "    ### Saving fit results -------------------------------------------------------------------------------------------\n",
    "    output = {}\n",
    "    output['wavelength'] = wavelength_rebin\n",
    "    output['flux']       = sed_fit.galaxy\n",
    "    output['best_fit']   = sed_fit.bestfit\n",
    "    \n",
    "    output_df = pd.DataFrame(output)\n",
    "    output_df.to_csv(os.path.join('./Results/', 'fit_'+str(cataid)+'_'+str(mdegree)+'_'+str(wl_min)+'.csv'), \n",
    "                     index=False)\n",
    "\n",
    "    ### Saving plots -------------------------------------------------------------------------------------------------\n",
    "    plt.subplots(figsize=(12,8))\n",
    "    \n",
    "    #### plot01 ------------------------------------------------------------------------------------------------------\n",
    "    plt.subplot(2,2,1)\n",
    "    plt.plot(wavelength_rebin, sed_fit.galaxy, '-', color=palette[-1], linewidth=lw, label=\"Spectrum\")\n",
    "    plt.plot(wavelength_rebin, sed_fit.bestfit, '-', color=palette[0], linewidth=lw, label=\"Best Fit\")\n",
    "    plt.title(\"Object %s: S/N=%.4f\" % (cataid, s2n_top10[each_sed]))\n",
    "    plt.legend(loc='best')\n",
    "    plt.xlabel(\"Wavelength ($\\mathrm{\\AA}$)\", fontsize=12)\n",
    "    plt.ylabel(\"Norm. flux\", fontsize=12)\n",
    "    \n",
    "    #### plot02 ------------------------------------------------------------------------------------------------------\n",
    "    plt.subplot(2,2,2)\n",
    "    miles.plot(stellar_weights)\n",
    "    \n",
    "    #### plot03 ------------------------------------------------------------------------------------------------------\n",
    "    plt.subplot(2,2,3)\n",
    "    plt.plot(wavelength_rebin, residues, '.', color=palette[-1], linewidth=lw, label=\"Residues\", alpha=transparency)\n",
    "    plt.axhline(y=0, c='black')\n",
    "    plt.legend(loc='best')\n",
    "    plt.xlabel(\"Wavelength ($\\mathrm{\\AA}$)\", fontsize=12)\n",
    "    plt.ylabel(\"Residues\", fontsize=12)\n",
    "    plt.ylim([-1,1])\n",
    "    \n",
    "    #### plot04 ------------------------------------------------------------------------------------------------------\n",
    "    plt.subplot(2,2,4)\n",
    "    plt.text(0.1, 0.5, \"Object:{:s} \\n mdegree = {:d} \\n regul_err = {:.4f}\\n S2N(runz) = {:.4f} \\n $\\chi^2 = ${:.4f}\"\n",
    "             .format(sed_header['SPECID'], mdegree, regul_err, sed_header['SN'], chi2_top[each_sed]), \n",
    "             fontsize=13)\n",
    "    plt.text(0.1, 0.0, \" \\n $\\chi^2$ ppxf = {:.4f} \\n velocity = {:.4f} \\n $\\sigma$ = {:.4f}\"\n",
    "             .format(sed_fit.chi2, velocity, sigma), fontsize=13)\n",
    "    plt.axis('off') \n",
    "    \n",
    "    plt.tight_layout()\n",
    "    plt.savefig(os.path.join('./Results/', 'gal_'+str(cataid)+'_'+str(mdegree)+'_'+str(wl_min)+'.png'))\n",
    "    plt.show()"
   ]
  }
 ],
 "metadata": {
  "kernelspec": {
   "display_name": "Python 3",
   "language": "python",
   "name": "python3"
  },
  "language_info": {
   "codemirror_mode": {
    "name": "ipython",
    "version": 3
   },
   "file_extension": ".py",
   "mimetype": "text/x-python",
   "name": "python",
   "nbconvert_exporter": "python",
   "pygments_lexer": "ipython3",
   "version": "3.6.6"
  }
 },
 "nbformat": 4,
 "nbformat_minor": 2
}
