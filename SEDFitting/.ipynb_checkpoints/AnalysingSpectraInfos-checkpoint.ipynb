{
 "cells": [
  {
   "cell_type": "code",
   "execution_count": null,
   "metadata": {},
   "outputs": [],
   "source": [
    "# specs_path = './../../../../GAMADR3_SPECTRA/DATABASE/'\n",
    "# specs_list = os.listdir(spec_path)"
   ]
  },
  {
   "cell_type": "markdown",
   "metadata": {},
   "source": [
    "# Libraries"
   ]
  },
  {
   "cell_type": "code",
   "execution_count": 1,
   "metadata": {},
   "outputs": [],
   "source": [
    "import numpy             as np\n",
    "import pandas            as pd\n",
    "import matplotlib.pyplot as plt\n",
    "import astropy.io.fits   as pf\n",
    "import os"
   ]
  },
  {
   "cell_type": "markdown",
   "metadata": {},
   "source": [
    "# Dataset"
   ]
  },
  {
   "cell_type": "code",
   "execution_count": 2,
   "metadata": {},
   "outputs": [],
   "source": [
    "dataset_path = './../../Catalogue/Match08_smallemlines_inputcattype.csv'\n",
    "my_data      = pd.read_csv(dataset_path)"
   ]
  },
  {
   "cell_type": "markdown",
   "metadata": {},
   "source": [
    "# Plot the distributions of S/N"
   ]
  },
  {
   "cell_type": "code",
   "execution_count": 39,
   "metadata": {},
   "outputs": [],
   "source": [
    "whan_class = my_data['WHAN_CLASS'].values.astype(str)\n",
    "uv_class   = my_data['UV_CLASS_YI2011'].values.astype(str)\n",
    "cataid     = my_data['CATAID'].values.astype(str)\n",
    "specid     = my_data['SPECID'].values.astype(str)\n",
    "s2n        = my_data['S2N'].values.astype(float)\n",
    "chi2_gama  = my_data['CHI2'].values.astype(float)\n",
    "redshift   = my_data['Z'].values.astype(float)"
   ]
  },
  {
   "cell_type": "code",
   "execution_count": 37,
   "metadata": {},
   "outputs": [
    {
     "name": "stdout",
     "output_type": "stream",
     "text": [
      "(array(['RSF', 'UV_UPTURN', 'UV_WEAK'], dtype='<U9'), array([13840,   210,   296])) \n",
      " (array(['Retired/Passive', 'SF', 'nan', 'sAGN', 'wAGN'], dtype='<U15'), array([ 876, 9408, 1285, 2184,  593]))\n"
     ]
    }
   ],
   "source": [
    "uv_unique   = np.unique(uv_class, return_counts=True)\n",
    "whan_unique = np.unique(whan_class, return_counts=True)\n",
    "print (uv_unique, '\\n', whan_unique)"
   ]
  },
  {
   "cell_type": "code",
   "execution_count": 35,
   "metadata": {},
   "outputs": [],
   "source": [
    "idxs = []\n",
    "idx_uvup_rp = np.where((uv_class=='UV_UPTURN')*(whan_class=='Retired/Passive'))"
   ]
  },
  {
   "cell_type": "code",
   "execution_count": 42,
   "metadata": {},
   "outputs": [],
   "source": [
    "# print (redshift.max(), redshift.min())"
   ]
  },
  {
   "cell_type": "markdown",
   "metadata": {},
   "source": [
    "### Plot settings (yes, I'm lazy)"
   ]
  },
  {
   "cell_type": "code",
   "execution_count": null,
   "metadata": {},
   "outputs": [],
   "source": [
    "bins = 50\n",
    "palette = []"
   ]
  }
 ],
 "metadata": {
  "kernelspec": {
   "display_name": "Python 3",
   "language": "python",
   "name": "python3"
  },
  "language_info": {
   "codemirror_mode": {
    "name": "ipython",
    "version": 3
   },
   "file_extension": ".py",
   "mimetype": "text/x-python",
   "name": "python",
   "nbconvert_exporter": "python",
   "pygments_lexer": "ipython3",
   "version": "3.6.6"
  }
 },
 "nbformat": 4,
 "nbformat_minor": 2
}
