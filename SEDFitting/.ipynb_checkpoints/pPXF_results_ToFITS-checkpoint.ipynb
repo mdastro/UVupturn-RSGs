{
 "cells": [
  {
   "cell_type": "markdown",
   "metadata": {},
   "source": [
    "# Useful functions throughout the code"
   ]
  },
  {
   "cell_type": "code",
   "execution_count": 1,
   "metadata": {},
   "outputs": [],
   "source": [
    "def plot_sed(x, y, yerr):\n",
    "    plt.clf()\n",
    "    plt.errorbar(wavelength, flux, yerr=flux_err, c='red', ecolor='gray', capthick=2)\n",
    "    plt.show()"
   ]
  },
  {
   "cell_type": "code",
   "execution_count": 2,
   "metadata": {},
   "outputs": [],
   "source": [
    "def fwhm_gama(wave):\n",
    "    fwhm = wave/1300.\n",
    "    return(fwhm)"
   ]
  },
  {
   "cell_type": "markdown",
   "metadata": {},
   "source": [
    "# Libraries"
   ]
  },
  {
   "cell_type": "code",
   "execution_count": 3,
   "metadata": {},
   "outputs": [],
   "source": [
    "# usual libraries ----------------------------------------------------------------------------------------------------\n",
    "import numpy             as np\n",
    "import pandas            as pd\n",
    "import matplotlib.pyplot as plt\n",
    "import seaborn           as sns\n",
    "import astropy.io.fits   as pf\n",
    "import astropy.constants as ct\n",
    "import scipy.interpolate as sci\n",
    "import ipywidgets        as widgets\n",
    "import datetime          as dt\n",
    "import os\n",
    "import time"
   ]
  },
  {
   "cell_type": "code",
   "execution_count": 4,
   "metadata": {},
   "outputs": [],
   "source": [
    "# ppxf separately ----------------------------------------------------------------------------------------------------\n",
    "import ppxf.miles_util   as lib  # MILES library embedded in ppxf\n",
    "import ppxf.ppxf_util    as util\n",
    "import ppxf              as ppxf_module\n",
    "from ppxf.ppxf           import ppxf\n",
    "from ppxf.ppxf_util      import log_rebin"
   ]
  },
  {
   "cell_type": "markdown",
   "metadata": {},
   "source": [
    "# Dataset"
   ]
  },
  {
   "cell_type": "code",
   "execution_count": 5,
   "metadata": {},
   "outputs": [],
   "source": [
    "dataset_path = './../../Catalogue/Match08_smallemlines_inputcattype.csv'\n",
    "my_data      = pd.read_csv(dataset_path)"
   ]
  },
  {
   "cell_type": "code",
   "execution_count": 6,
   "metadata": {},
   "outputs": [],
   "source": [
    "whan_class = my_data['WHAN_CLASS'].values.astype(str)\n",
    "uv_class   = my_data['UV_CLASS_YI2011'].values.astype(str)\n",
    "cataid     = my_data['CATAID'].values.astype(str)\n",
    "specid     = my_data['SPECID'].values.astype(str)\n",
    "s2n        = my_data['S2N'].values.astype(float)\n",
    "chi2_gama  = my_data['CHI2'].values.astype(float)\n",
    "redshift   = my_data['Z'].values.astype(float)"
   ]
  },
  {
   "cell_type": "code",
   "execution_count": 7,
   "metadata": {},
   "outputs": [],
   "source": [
    "idx_uvup_rp = np.where((uv_class=='UV_UPTURN')*(whan_class=='Retired/Passive'))"
   ]
  },
  {
   "cell_type": "markdown",
   "metadata": {},
   "source": [
    "## Plot the distributions of S/N"
   ]
  },
  {
   "cell_type": "markdown",
   "metadata": {},
   "source": [
    "### Plot settings (yes, I'm lazy)"
   ]
  },
  {
   "cell_type": "code",
   "execution_count": 8,
   "metadata": {},
   "outputs": [],
   "source": [
    "bins = 20\n",
    "palette = ['#a6611a','#dfc27d','#80cdc1','#018571']\n",
    "sns.set_style(\"white\")\n",
    "plt.rcParams[\"axes.edgecolor\"] = \"0.15\"\n",
    "plt.rcParams[\"axes.linewidth\"] = 1."
   ]
  },
  {
   "cell_type": "markdown",
   "metadata": {},
   "source": [
    "### Histogram - S/N and $\\chi^2$"
   ]
  },
  {
   "cell_type": "code",
   "execution_count": 9,
   "metadata": {},
   "outputs": [
    {
     "data": {
      "image/png": "[encoded data removed]",
      "text/plain": [
       "<Figure size 720x360 with 2 Axes>"
      ]
     },
     "metadata": {},
     "output_type": "display_data"
    }
   ],
   "source": [
    "plt.subplots(figsize=(10,5))\n",
    "plt.subplot(1,2,1)\n",
    "plt.hist(s2n[idx_uvup_rp], bins=bins, color=palette[0])\n",
    "plt.yscale('log')\n",
    "plt.subplot(1,2,2)\n",
    "plt.hist(chi2_gama[idx_uvup_rp], bins=bins, color=palette[3])\n",
    "plt.yscale('log')\n",
    "plt.show()"
   ]
  },
  {
   "cell_type": "markdown",
   "metadata": {},
   "source": [
    "### Selecting top 10 objects with the best S2N"
   ]
  },
  {
   "cell_type": "code",
   "execution_count": 10,
   "metadata": {},
   "outputs": [],
   "source": [
    "# best_s2n_10 = np.argsort(s2n[idx_uvup_rp])[-10:-1]"
   ]
  },
  {
   "cell_type": "code",
   "execution_count": 11,
   "metadata": {},
   "outputs": [],
   "source": [
    "# s2n_top10 = s2n[idx_uvup_rp][best_s2n_10]    # top 10 objects given the S/N"
   ]
  },
  {
   "cell_type": "code",
   "execution_count": 12,
   "metadata": {},
   "outputs": [],
   "source": [
    "# chi2_top   = chi2_gama[idx_uvup_rp][best_s2n_10]\n",
    "# specid_top = specid[idx_uvup_rp][best_s2n_10]"
   ]
  },
  {
   "cell_type": "markdown",
   "metadata": {},
   "source": [
    "# pPXF"
   ]
  },
  {
   "cell_type": "markdown",
   "metadata": {},
   "source": [
    "## Configuring inputs"
   ]
  },
  {
   "cell_type": "code",
   "execution_count": 13,
   "metadata": {},
   "outputs": [],
   "source": [
    "ppxf_dir     = os.path.dirname(os.path.realpath(ppxf_module.__file__))\n",
    "miles_lib    = ppxf_dir+'/miles_models/Mun1.30*.fits'\n",
    "seds_path    = './../../../../GAMADR3_SPECTRA/DATABASE/'\n",
    "results_path = './Results/'\n",
    "\n",
    "light_speed  = float(str(ct.c.to('km/s')).split(' ')[0])            # selecting the numerical values (must be in km/s)"
   ]
  },
  {
   "cell_type": "code",
   "execution_count": 14,
   "metadata": {},
   "outputs": [],
   "source": [
    "# seds_list = []\n",
    "# for i in specid_top: seds_list.append(i+'.fit')\n",
    "seds_list_all = []\n",
    "for i in specid[idx_uvup_rp]: seds_list_all.append(i+'.fit')"
   ]
  },
  {
   "cell_type": "code",
   "execution_count": 15,
   "metadata": {},
   "outputs": [
    {
     "data": {
      "application/vnd.jupyter.widget-view+json": {
       "model_id": "635671d2a223483cab48a6a3ac700d51",
       "version_major": 2,
       "version_minor": 0
      },
      "text/plain": [
       "IntProgress(value=0, description='Running pPXF:', max=88)"
      ]
     },
     "metadata": {},
     "output_type": "display_data"
    }
   ],
   "source": [
    "bar = widgets.IntProgress(value=0, min=0, max=len(seds_list_all)+1, step=0.25, description='Running pPXF:',\n",
    "                          orientation='horizontal')\n",
    "display(bar)"
   ]
  },
  {
   "cell_type": "markdown",
   "metadata": {},
   "source": [
    "### pPXF plot settings"
   ]
  },
  {
   "cell_type": "code",
   "execution_count": 16,
   "metadata": {},
   "outputs": [],
   "source": [
    "palette      = ['#ef8a62','#f7f7f7','#67a9cf']\n",
    "transparency = 0.8\n",
    "lw           = 2."
   ]
  },
  {
   "cell_type": "markdown",
   "metadata": {},
   "source": [
    "## pPXF settings"
   ]
  },
  {
   "cell_type": "code",
   "execution_count": 17,
   "metadata": {},
   "outputs": [],
   "source": [
    "# Fit (V, sig, h3, h4) moments=4 for the stars; (V, sig) moments=2 for the two gas kinematic components\n",
    "moments        = [4, 2, 2]\n",
    "degree         = -1         # Additive Legendre polynomial degrees\n",
    "mdegree        = 250        # Multiplicative Legendre polynomial degrees\n",
    "regul_err      = 0.01       # Desired regularization error -- TODO: MUST CHECK WHY 0.013\n",
    "tied_balmer    = True\n",
    "limit_doublets = False\n",
    "stellar_comp_w = [0]        # weight of the stellar component\n",
    "balmer_comp_w  = [1]        # weight of the balmer emission lines\n",
    "forbid_comp_w  = [2]        # weight of the forbidden lines\n",
    "wl_min_miles   = 3540       # MILES RANGE MIN\n",
    "wl_max_miles   = 7409       # MILES RANGE MAX\n",
    "wl_min         = 4350       # removing the bluest part of the spectra in order to mitigate noise effects\n",
    "wl_max         = 7409"
   ]
  },
  {
   "cell_type": "code",
   "execution_count": 18,
   "metadata": {},
   "outputs": [],
   "source": [
    "mean_age   = ['<logAge>']\n",
    "mean_metal = ['<[M/H]>']\n",
    "mass2light = ['MASS2LIGHT_R']\n",
    "ids        = ['CATAID']\n",
    "redshifts  = ['Z']\n",
    "s2n_runz   = ['S2N_runz']\n",
    "ppxf_chi2  = ['CHI2_PPXF']"
   ]
  },
  {
   "cell_type": "code",
   "execution_count": 19,
   "metadata": {},
   "outputs": [
    {
     "name": "stderr",
     "output_type": "stream",
     "text": [
      "/home/mlldantas/anaconda3/envs/py3k6/lib/python3.6/site-packages/ipykernel_launcher.py:26: RuntimeWarning: invalid value encountered in greater\n"
     ]
    },
    {
     "name": "stdout",
     "output_type": "stream",
     "text": [
      "Emission lines included in gas templates:\n",
      "['Balmer' '[OII]3726' '[OII]3729' '[OIII]5007_d' '[OI]6300_d']\n",
      "Best Fit:       Vel     sigma        h3        h4\n",
      " comp. 0:     48458      1000     0.270     0.300\n",
      " comp. 1:     47734         1\n",
      " comp. 2:     47499       180\n",
      "chi2/DOF: 0.007571\n",
      "method = capfit ; Jac calls: 10 ; Func calls: 2608 ; Status: 2\n",
      "Gas Reddening E(B-V): 2.428\n",
      "Nonzero Templates:  75  /  155\n",
      "+++++++++++++++++++++++++++++++++++++++++++++++++++++++++\n",
      "gas_component   name       flux       err      V     sig\n",
      "+++++++++++++++++++++++++++++++++++++++++++++++++++++++++\n",
      "Comp: 1       Unknown     0.1044       1.6   47734     1\n",
      "Comp: 2       Unknown          0       8.6   47499   180\n",
      "Comp: 2       Unknown          0       8.5   47499   180\n",
      "Comp: 2       Unknown          0       4.4   47499   180\n",
      "Comp: 2       Unknown          0       3.1   47499   180\n",
      "---------------------------------------------------------\n",
      "Weighted <logAge> [yr]: 9.88\n",
      "Weighted <[M/H]>: -0.196\n",
      "Weighted <logAge> [yr]: 9.88\n",
      "Weighted <[M/H]>: -0.196\n",
      "M/L_r: 3.034\n",
      "Current $\\chi^2$: 0.0076\n",
      "Elapsed time in PPXF: 15.78 [min]\n"
     ]
    },
    {
     "ename": "FileNotFoundError",
     "evalue": "[Errno 2] No such file or directory: './Results/fit_594994_250_4350.csv'",
     "output_type": "error",
     "traceback": [
      "\u001b[0;31m---------------------------------------------------------------------------\u001b[0m",
      "\u001b[0;31mFileNotFoundError\u001b[0m                         Traceback (most recent call last)",
      "\u001b[0;32m<ipython-input-19-d73f27ae03ea>\u001b[0m in \u001b[0;36m<module>\u001b[0;34m\u001b[0m\n\u001b[1;32m    131\u001b[0m     \u001b[0moutput_df\u001b[0m \u001b[0;34m=\u001b[0m \u001b[0mpd\u001b[0m\u001b[0;34m.\u001b[0m\u001b[0mDataFrame\u001b[0m\u001b[0;34m(\u001b[0m\u001b[0moutput\u001b[0m\u001b[0;34m)\u001b[0m\u001b[0;34m\u001b[0m\u001b[0m\n\u001b[1;32m    132\u001b[0m     \u001b[0mbasename\u001b[0m  \u001b[0;34m=\u001b[0m \u001b[0mstr\u001b[0m\u001b[0;34m(\u001b[0m\u001b[0mcataid\u001b[0m\u001b[0;34m)\u001b[0m\u001b[0;34m+\u001b[0m\u001b[0;34m'_'\u001b[0m\u001b[0;34m+\u001b[0m\u001b[0mstr\u001b[0m\u001b[0;34m(\u001b[0m\u001b[0mmdegree\u001b[0m\u001b[0;34m)\u001b[0m\u001b[0;34m+\u001b[0m\u001b[0;34m'_'\u001b[0m\u001b[0;34m+\u001b[0m\u001b[0mstr\u001b[0m\u001b[0;34m(\u001b[0m\u001b[0mwl_min\u001b[0m\u001b[0;34m)\u001b[0m\u001b[0;34m\u001b[0m\u001b[0m\n\u001b[0;32m--> 133\u001b[0;31m     \u001b[0moutput_df\u001b[0m\u001b[0;34m.\u001b[0m\u001b[0mto_csv\u001b[0m\u001b[0;34m(\u001b[0m\u001b[0mos\u001b[0m\u001b[0;34m.\u001b[0m\u001b[0mpath\u001b[0m\u001b[0;34m.\u001b[0m\u001b[0mjoin\u001b[0m\u001b[0;34m(\u001b[0m\u001b[0;34m'./Results/'\u001b[0m\u001b[0;34m,\u001b[0m \u001b[0;34m'fit_'\u001b[0m\u001b[0;34m+\u001b[0m\u001b[0mbasename\u001b[0m\u001b[0;34m+\u001b[0m\u001b[0;34m'.csv'\u001b[0m\u001b[0;34m)\u001b[0m\u001b[0;34m,\u001b[0m \u001b[0mindex\u001b[0m\u001b[0;34m=\u001b[0m\u001b[0;32mFalse\u001b[0m\u001b[0;34m)\u001b[0m\u001b[0;34m\u001b[0m\u001b[0m\n\u001b[0m\u001b[1;32m    134\u001b[0m \u001b[0;34m\u001b[0m\u001b[0m\n\u001b[1;32m    135\u001b[0m     \u001b[0;31m#### HDU METADATA ------------------------------------------------------------------------------------------------\u001b[0m\u001b[0;34m\u001b[0m\u001b[0;34m\u001b[0m\u001b[0m\n",
      "\u001b[0;32m~/anaconda3/envs/py3k6/lib/python3.6/site-packages/pandas/core/frame.py\u001b[0m in \u001b[0;36mto_csv\u001b[0;34m(self, path_or_buf, sep, na_rep, float_format, columns, header, index, index_label, mode, encoding, compression, quoting, quotechar, line_terminator, chunksize, tupleize_cols, date_format, doublequote, escapechar, decimal)\u001b[0m\n\u001b[1;32m   1743\u001b[0m                                  \u001b[0mdoublequote\u001b[0m\u001b[0;34m=\u001b[0m\u001b[0mdoublequote\u001b[0m\u001b[0;34m,\u001b[0m\u001b[0;34m\u001b[0m\u001b[0m\n\u001b[1;32m   1744\u001b[0m                                  escapechar=escapechar, decimal=decimal)\n\u001b[0;32m-> 1745\u001b[0;31m         \u001b[0mformatter\u001b[0m\u001b[0;34m.\u001b[0m\u001b[0msave\u001b[0m\u001b[0;34m(\u001b[0m\u001b[0;34m)\u001b[0m\u001b[0;34m\u001b[0m\u001b[0m\n\u001b[0m\u001b[1;32m   1746\u001b[0m \u001b[0;34m\u001b[0m\u001b[0m\n\u001b[1;32m   1747\u001b[0m         \u001b[0;32mif\u001b[0m \u001b[0mpath_or_buf\u001b[0m \u001b[0;32mis\u001b[0m \u001b[0;32mNone\u001b[0m\u001b[0;34m:\u001b[0m\u001b[0;34m\u001b[0m\u001b[0m\n",
      "\u001b[0;32m~/anaconda3/envs/py3k6/lib/python3.6/site-packages/pandas/io/formats/csvs.py\u001b[0m in \u001b[0;36msave\u001b[0;34m(self)\u001b[0m\n\u001b[1;32m    154\u001b[0m             f, handles = _get_handle(self.path_or_buf, self.mode,\n\u001b[1;32m    155\u001b[0m                                      \u001b[0mencoding\u001b[0m\u001b[0;34m=\u001b[0m\u001b[0mencoding\u001b[0m\u001b[0;34m,\u001b[0m\u001b[0;34m\u001b[0m\u001b[0m\n\u001b[0;32m--> 156\u001b[0;31m                                      compression=self.compression)\n\u001b[0m\u001b[1;32m    157\u001b[0m             \u001b[0mclose\u001b[0m \u001b[0;34m=\u001b[0m \u001b[0;32mTrue\u001b[0m\u001b[0;34m\u001b[0m\u001b[0m\n\u001b[1;32m    158\u001b[0m \u001b[0;34m\u001b[0m\u001b[0m\n",
      "\u001b[0;32m~/anaconda3/envs/py3k6/lib/python3.6/site-packages/pandas/io/common.py\u001b[0m in \u001b[0;36m_get_handle\u001b[0;34m(path_or_buf, mode, encoding, compression, memory_map, is_text)\u001b[0m\n\u001b[1;32m    398\u001b[0m         \u001b[0;32melif\u001b[0m \u001b[0mencoding\u001b[0m\u001b[0;34m:\u001b[0m\u001b[0;34m\u001b[0m\u001b[0m\n\u001b[1;32m    399\u001b[0m             \u001b[0;31m# Python 3 and encoding\u001b[0m\u001b[0;34m\u001b[0m\u001b[0;34m\u001b[0m\u001b[0m\n\u001b[0;32m--> 400\u001b[0;31m             \u001b[0mf\u001b[0m \u001b[0;34m=\u001b[0m \u001b[0mopen\u001b[0m\u001b[0;34m(\u001b[0m\u001b[0mpath_or_buf\u001b[0m\u001b[0;34m,\u001b[0m \u001b[0mmode\u001b[0m\u001b[0;34m,\u001b[0m \u001b[0mencoding\u001b[0m\u001b[0;34m=\u001b[0m\u001b[0mencoding\u001b[0m\u001b[0;34m)\u001b[0m\u001b[0;34m\u001b[0m\u001b[0m\n\u001b[0m\u001b[1;32m    401\u001b[0m         \u001b[0;32melif\u001b[0m \u001b[0mis_text\u001b[0m\u001b[0;34m:\u001b[0m\u001b[0;34m\u001b[0m\u001b[0m\n\u001b[1;32m    402\u001b[0m             \u001b[0;31m# Python 3 and no explicit encoding\u001b[0m\u001b[0;34m\u001b[0m\u001b[0;34m\u001b[0m\u001b[0m\n",
      "\u001b[0;31mFileNotFoundError\u001b[0m: [Errno 2] No such file or directory: './Results/fit_594994_250_4350.csv'"
     ]
    }
   ],
   "source": [
    "all_start = time.clock()\n",
    "for each_sed in range(len(seds_list_all)):\n",
    "# for each_sed in range(1):\n",
    "    \n",
    "    # settings for the progress bar widget above: does not influence in ppxf -----------------------------------------\n",
    "    bar.value += each_sed/4.                                          # signal to increment the progress bar\n",
    "    if each_sed<len(seds_list_all): \n",
    "        bar.bar_style = \"\"                                            # blue when in progress\n",
    "    else: \n",
    "        bar.bar_style = \"success\"                                     # green when it finishes \n",
    "        \n",
    "    # ================================================================================================================\n",
    "    # flux -----------------------------------------------------------------------------------------------------------\n",
    "    sed_file  = os.path.join(seds_path, seds_list_all[each_sed])      # link between path and files\n",
    "    sed_flux  = pf.getdata(sed_file)[0]                               # opening each spectra\n",
    "    sed_err   = pf.getdata(sed_file)[1]                               # opening each spectra error\n",
    "    \n",
    "    # wavelength -----------------------------------------------------------------------------------------------------\n",
    "    sed_header = pf.open(sed_file)[0].header\n",
    "    sed_wl_ini = sed_header['WMIN'] \n",
    "    sed_wl_stp = sed_header['CD1_1']\n",
    "    sed_wl     = np.arange(sed_flux.size)*(sed_wl_stp)+sed_wl_ini     # sed wavelength    \n",
    "#     plot_sed(sed_wl, sed_flux, sed_err)\n",
    "    \n",
    "    # cleaning flux and wavelength trash -----------------------------------------------------------------------------\n",
    "    idx_clean       = np.where((np.logical_not(np.isnan(sed_flux)))*(sed_err>0))    # indices where NAN is present\n",
    "    flux_temp       = sed_flux[idx_clean]                                           # removing NAN values from spectra\n",
    "    flux_temp_err   = sed_err[idx_clean]\n",
    "    wavelength_temp = sed_wl[idx_clean]    \n",
    "#     plot_sed(wavelength_temp, flux_temp, flux_temp_err)\n",
    "    \n",
    "    # limiting the spectrum regarding the wavelength range of the library --------------------------------------------\n",
    "    wl_lib_idx = (wavelength_temp>wl_min) & (wavelength_temp<wl_max)       # MILES wavelength range\n",
    "    flux       = flux_temp[wl_lib_idx]\n",
    "    flux_err   = flux_temp_err[wl_lib_idx]\n",
    "    wavelength = wavelength_temp[wl_lib_idx]    \n",
    "#     plot_sed(wavelength, flux, flux_err)    \n",
    "    \n",
    "    # other important parameters -------------------------------------------------------------------------------------\n",
    "    redshift  = sed_header['Z']\n",
    "    cataid    = sed_header['CATAID']\n",
    "    theo_gama = np.linspace(wl_min_miles, wl_max_miles, 4300)/1300.  # wl range same as miles and fwhm calc.all\n",
    "  \n",
    "    # ================================================================================================================\n",
    "    # ppxf -----------------------------------------------------------------------------------------------------------\n",
    "    vel_scale          = light_speed*np.log(wavelength[1]/wavelength[0])      # velocity scale - Eq.8 Capellari 2017\n",
    "    \n",
    "    ### setup templates ----------------------------------------------------------------------------------------------\n",
    "    #### stellar pops ------------------------------------------------------------------------------------------------\n",
    "    miles              = lib.miles(miles_lib, vel_scale, theo_gama)\n",
    "    stellar_templates  = miles.templates.reshape(miles.templates.shape[0], -1)\n",
    "    reg_dim            = miles.templates.shape[1:]\n",
    "    dv                 = light_speed*(miles.log_lam_temp[0] - np.log(wavelength[0]))  # eq.(8) of Cappellari (2017)\n",
    "    vel                = light_speed*np.log(1 + redshift)                             # eq.(8) of Cappellari (2017)\n",
    "    start              = [vel, 180.]\n",
    "    \n",
    "    #### gas templates -----------------------------------------------------------------------------------------------\n",
    "    wl_range_galaxy = np.array([np.min(wavelength), np.max(wavelength)])/(1 + redshift)\n",
    "    \n",
    "    gas_templates, gas_names, line_wave = util.emission_lines(miles.log_lam_temp, wl_range_galaxy, fwhm_gama, \n",
    "                                                              tie_balmer=tied_balmer, limit_doublets=limit_doublets)\n",
    "    number_of_templates = stellar_templates.shape[1]\n",
    "    number_of_forbidden = np.sum([\"[\" in a for a in gas_names])                      # forbidden lines contain \"[*]\"\n",
    "    number_of_balmer    = len(gas_names) - number_of_forbidden\n",
    "        \n",
    "    component = (stellar_comp_w*number_of_templates)+(balmer_comp_w*number_of_balmer)+(forbid_comp_w\n",
    "                                                                                       *number_of_forbidden)\n",
    "        \n",
    "    gas_component = np.array(component) > 0       # gas_component=True for gas templates\n",
    "    start3        = [start, start, start]         # adopt the same starting value for the 3 components\n",
    "    gas_reddening = 0 if tied_balmer else None    # If the Balmer lines are tied one should allow for gas reddening.\n",
    "    \n",
    "    \n",
    "    #### all templates -----------------------------------------------------------------------------------------------\n",
    "    all_templates = np.column_stack([stellar_templates, gas_templates])\n",
    "    \n",
    "    ### rebinning the spectrum so it is at the same size as the templates (or smaller) -------------------------------\n",
    "    new_shape          = stellar_templates[:,0].shape\n",
    "    rebinning_function = sci.interp1d(wavelength, flux)   # for the flux\n",
    "    wavelength_rebin   = np.linspace(start=wavelength.min(), stop=wavelength.max(), num=int(new_shape[0]))\n",
    "    flux_rebin         = rebinning_function(wavelength_rebin)\n",
    "    \n",
    "    ### rebinning the error ------------------------------------------------------------------------------------------\n",
    "    rebin_func_error   = sci.interp1d(wavelength, flux_err)\n",
    "    wl_rebin_error     = np.linspace(start=wavelength.min(), stop=wavelength.max(), num=int(new_shape[0]))\n",
    "    flux_err_rebin     = rebin_func_error(wavelength_rebin)\n",
    "    \n",
    "    ### final galaxy spectrum and its error to be analysed -----------------------------------------------------------\n",
    "    galaxy             = flux_rebin/np.median(flux_rebin)               # Normalize spectrum to avoid numerical issues\n",
    "    noise              = flux_err_rebin/np.median(flux_err_rebin)       # idem\n",
    "       \n",
    "#     plot_sed(wavelength_rebin, galaxy, noise)\n",
    "    \n",
    "    # ================================================================================================================    \n",
    "    ### SED FITTING WITH PPXF ----------------------------------------------------------------------------------------\n",
    "    start_time = time.clock()\n",
    "    sed_fit = ppxf(templates=all_templates, galaxy=galaxy, noise=noise, velscale=vel_scale, start=start3, plot=False, \n",
    "                   lam=wavelength_rebin, moments=moments, degree=degree, mdegree=mdegree, regul=1./regul_err, \n",
    "                   reg_dim=reg_dim, vsyst=dv, clean=False, component=component, gas_component=gas_component,\n",
    "                   gas_reddening=gas_reddening)\n",
    "    end_time = time.clock()\n",
    "    \n",
    "    ## output parameters -- most of them will become a dataframe at the end of the script  \n",
    "    residues = (galaxy-sed_fit.bestfit)\n",
    "    \n",
    "    stellar_weights = sed_fit.weights[~gas_component]                         # Exclude weights of the gas templates\n",
    "    stellar_weights = stellar_weights.reshape(reg_dim)/stellar_weights.sum()  # Normalized\n",
    "    \n",
    "    velocity = sed_fit.sol[0][0]\n",
    "    sigma    = sed_fit.sol[0][1]\n",
    "    \n",
    "    mean_age.append(miles.mean_age_metal(stellar_weights)[0])\n",
    "    mean_metal.append(miles.mean_age_metal(stellar_weights)[1])\n",
    "    mass2light.append(miles.mass_to_light(stellar_weights, band=\"r\"))\n",
    "    ids.append(cataid)\n",
    "    redshifts.append(redshift)\n",
    "    s2n_runz.append(sed_header['SN'])\n",
    "    ppxf_chi2.append(sed_fit.chi2)\n",
    "       \n",
    "    print(r\"Current $\\chi^2$: %.4f\" % (sed_fit.chi2))\n",
    "    print('Elapsed time in PPXF: %.2f [min]' % ((end_time-start_time)/60))\n",
    "    \n",
    "    # ================================================================================================================    \n",
    "    ### Saving results from the SED fitting (csv and fits) -----------------------------------------------------------\n",
    "    output = {}\n",
    "    output['wavelength']  = wavelength_rebin\n",
    "    output['flux']        = sed_fit.galaxy\n",
    "    output['best_fit']    = sed_fit.bestfit\n",
    "    output['gas_bestfit'] = sed_fit.gas_bestfit\n",
    "    \n",
    "    output_df = pd.DataFrame(output)\n",
    "    basename  = str(cataid)+'_'+str(mdegree)+'_'+str(wl_min)\n",
    "    output_df.to_csv(os.path.join('../../LargeFilesResults/SEDFitting/', 'fit_'+basename+'.csv'), index=False)\n",
    "    \n",
    "    #### HDU METADATA ------------------------------------------------------------------------------------------------\n",
    "    metadata             = pf.Header()\n",
    "    metadata['CATAID']   = cataid\n",
    "    metadata['SPECID']   = sed_header['SPECID']\n",
    "    metadata['Z']        = redshift\n",
    "    metadata['FIT_CODE'] = 'pPXF'\n",
    "    metadata['LIB']      = 'MILES'\n",
    "    metadata['Isochr']   = 'PADOVA+00'\n",
    "    metadata['Version']  = '11.0'\n",
    "    metadata['COMMENT']  = 'MILES library covers the range of wavelength 3540-7409'\n",
    "    metadata['WMIN']     = wl_min\n",
    "    metadata['WMAX']     = wl_max\n",
    "    metadata['mdegree']  = mdegree\n",
    "    metadata['LogAGE']   = miles.mean_age_metal(stellar_weights)[0]\n",
    "    metadata['MET_M2H']  = miles.mean_age_metal(stellar_weights)[1]\n",
    "    metadata['M2L_r']    = miles.mass_to_light(stellar_weights, band=\"r\")\n",
    "    metadata['SIGMA']    = sigma\n",
    "    metadata['VELOCITY'] = velocity\n",
    "    metadata['DATE']     = dt.datetime.now().strftime(\"%d/%m/%Y\")\n",
    "    metadata['TIME']     = dt.datetime.now().strftime(\"%H:%M:%S\")\n",
    "\n",
    "    primary_hdu = pf.PrimaryHDU(header=metadata)\n",
    "    \n",
    "    #### HDU DATA ----------------------------------------------------------------------------------------------------\n",
    "    column01 = pf.Column(name='wavelength', format='D', array=wavelength_rebin)\n",
    "    column02 = pf.Column(name='flux', format='D', array=sed_fit.galaxy)\n",
    "    column03 = pf.Column(name='best_fit', format='D', array=sed_fit.bestfit)\n",
    "    column04 = pf.Column(name='residues', format='D', array=residues)\n",
    "    column05 = pf.Column(name='templates_weights', format='D', array=sed_fit.weights)\n",
    "    \n",
    "    columns = pf.ColDefs([column01, column02, column03, column04, column05])\n",
    "    output_hdu = pf.BinTableHDU.from_columns(columns)\n",
    "    \n",
    "    #### FULL HDU INTO FITS FILE -------------------------------------------------------------------------------------\n",
    "    all_hdu = pf.HDUList([primary_hdu, output_hdu])\n",
    "    all_hdu.writeto(os.path.join('../../LargeFilesResults/SEDFitting/', 'fit_'+basename+'.fits'))\n",
    "    \n",
    "    # ================================================================================================================\n",
    "    ### Saving plots -------------------------------------------------------------------------------------------------\n",
    "    plt.subplots(figsize=(12,8))\n",
    "    \n",
    "    #### plot01 ------------------------------------------------------------------------------------------------------\n",
    "    plt.subplot(2,2,1)\n",
    "    plt.plot(wavelength_rebin, sed_fit.galaxy, '-', color=palette[-1], linewidth=lw, label=\"Spectrum\")\n",
    "    plt.plot(wavelength_rebin, sed_fit.bestfit, '-', color=palette[0], linewidth=lw, label=\"Best Fit\")\n",
    "    plt.title(\"Object %s: S/N=%.4f\" % (cataid, s2n[each_sed]))\n",
    "    plt.legend(loc='best')\n",
    "    plt.xlabel(\"Wavelength ($\\mathrm{\\AA}$)\", fontsize=12)\n",
    "    plt.ylabel(\"Norm. flux\", fontsize=12)\n",
    "    \n",
    "    #### plot02 ------------------------------------------------------------------------------------------------------\n",
    "    plt.subplot(2,2,2)\n",
    "    miles.plot(stellar_weights)\n",
    "    \n",
    "    #### plot03 ------------------------------------------------------------------------------------------------------\n",
    "    plt.subplot(2,2,3)\n",
    "    plt.plot(wavelength_rebin, residues, '.', color=palette[-1], linewidth=lw, label=\"Residues\", alpha=transparency)\n",
    "    plt.axhline(y=0, c='black')\n",
    "    plt.legend(loc='best')\n",
    "    plt.xlabel(\"Wavelength ($\\mathrm{\\AA}$)\", fontsize=12)\n",
    "    plt.ylabel(\"Residues\", fontsize=12)\n",
    "    plt.ylim([-1,1])\n",
    "    \n",
    "    #### plot04 ------------------------------------------------------------------------------------------------------\n",
    "    plt.subplot(2,2,4)\n",
    "    plt.text(0.1, 0.5, \"Object:{:s} \\n mdegree = {:d} \\n regul_err = {:.4f}\\n S2N(runz) = {:.4f} \\n $\\chi^2 = ${:.4f}\"\n",
    "             .format(sed_header['SPECID'], mdegree, regul_err, sed_header['SN'], chi2_gama[idx_uvup_rp][each_sed]), \n",
    "             fontsize=13)\n",
    "    plt.text(0.1, 0.0, \" \\n $\\chi^2$ ppxf = {:.4f} \\n velocity = {:.4f} \\n $\\sigma$ = {:.4f}\"\n",
    "             .format(sed_fit.chi2, velocity, sigma), fontsize=13)\n",
    "    plt.axis('off') \n",
    "    \n",
    "    plt.tight_layout()\n",
    "    plt.savefig(os.path.join('../../LargeFilesResults/SEDFitting/', 'gal_'+basename+'.png'), dpi=100)\n",
    "    plt.show()\n",
    "    print (\"We have run %d galaxies so far\" % int(len(ids)-1))\n",
    "    \n",
    "all_end = time.clock()\n",
    "print(\"------------------------------------------\")\n",
    "print('Elapsed time for all spectra: %.2f [min]' % ((all_end-all_start)/60))\n",
    "print(\"------------------------------------------\")"
   ]
  },
  {
   "cell_type": "code",
   "execution_count": null,
   "metadata": {},
   "outputs": [],
   "source": [
    "### Saving outputs as dataframe ----------------------------------------------------------------------------------\n",
    "ids        = np.array(ids)\n",
    "redshifts  = np.array(redshifts)\n",
    "mean_age   = np.array(mean_age)\n",
    "mean_metal = np.array(mean_metal)\n",
    "mass2light = np.array(mass2light)\n",
    "s2n_runz   = np.array(s2n_runz)\n",
    "ppxf_chi2  = np.array(ppxf_chi2)\n",
    "outputs    = np.column_stack((ids, redshifts, mean_age, mean_metal, mass2light, s2n_runz, ppxf_chi2))\n",
    "columns    = outputs[0,:]\n",
    "outputs_dataframe = pd.DataFrame(outputs[1:,:])\n",
    "outputs_dataframe.columns = columns\n",
    "outputs_dataframe.to_csv('../../LargeFilesResults/SEDFitting/'+'ouputs_ppxf_'+str(mdegree)+'_'+str(wl_min)+'.csv', \n",
    "                         index=False)"
   ]
  },
  {
   "cell_type": "code",
   "execution_count": null,
   "metadata": {},
   "outputs": [],
   "source": [
    "plt.subplots(figsize=(10,5))\n",
    "plt.subplot(1,2,1)\n",
    "plt.hist(s2n_runz, bins=bins, color=palette[0])\n",
    "plt.yscale('log')\n",
    "plt.subplot(1,2,2)\n",
    "plt.hist(ppxf_chi2, bins=bins, color=palette[3])\n",
    "plt.yscale('log')\n",
    "plt.show()"
   ]
  }
 ],
 "metadata": {
  "kernelspec": {
   "display_name": "Python 3",
   "language": "python",
   "name": "python3"
  },
  "language_info": {
   "codemirror_mode": {
    "name": "ipython",
    "version": 3
   },
   "file_extension": ".py",
   "mimetype": "text/x-python",
   "name": "python",
   "nbconvert_exporter": "python",
   "pygments_lexer": "ipython3",
   "version": "3.6.6"
  }
 },
 "nbformat": 4,
 "nbformat_minor": 2
}
