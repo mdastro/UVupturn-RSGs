{
 "cells": [
  {
   "cell_type": "markdown",
   "metadata": {},
   "source": [
    "# Libraries"
   ]
  },
  {
   "cell_type": "code",
   "execution_count": 1,
   "metadata": {},
   "outputs": [],
   "source": [
    "import numpy             as np\n",
    "import pandas            as pd\n",
    "import matplotlib.pyplot as plt\n",
    "import seaborn           as sns\n",
    "import astropy.io.fits   as pf   # Pyfits is depracated\n",
    "import astropy.constants as ct\n",
    "import ppxf.miles_util   as lib  # MILES library embedded in ppxf\n",
    "import ppxf.ppxf_util    as util\n",
    "import ppxf              as ppxf_module\n",
    "import os\n",
    "import scipy.interpolate as sci\n",
    "from ppxf.ppxf           import ppxf\n",
    "from ppxf.ppxf_util      import log_rebin"
   ]
  },
  {
   "cell_type": "markdown",
   "metadata": {},
   "source": [
    "# FIT or FITS file's"
   ]
  },
  {
   "cell_type": "code",
   "execution_count": 4,
   "metadata": {},
   "outputs": [],
   "source": [
    "sed_example = '../../../GAMAII_SPEC/WHAN_NA_UVUP/G09_Y1_CX1_374_modified.fit'"
   ]
  },
  {
   "cell_type": "code",
   "execution_count": 5,
   "metadata": {},
   "outputs": [],
   "source": [
    "sed = pf.open(sed_example)"
   ]
  },
  {
   "cell_type": "code",
   "execution_count": 6,
   "metadata": {},
   "outputs": [],
   "source": [
    "header = sed[0].header"
   ]
  },
  {
   "cell_type": "code",
   "execution_count": 7,
   "metadata": {},
   "outputs": [
    {
     "data": {
      "text/plain": [
       "SIMPLE  =                    T / file does conform to FITS standard             \n",
       "BITPIX  =                  -32 / number of bits per data pixel                  \n",
       "NAXIS   =                    2 / number of data axes                            \n",
       "NAXIS1  =                 4944 / length of data axis 1                          \n",
       "NAXIS2  =                    5 / length of data axis 2                          \n",
       "EXTEND  =                    T / FITS dataset may contain extensions            \n",
       "COMMENT   FITS (Flexible Image Transport System) format is defined in 'Astronomy\n",
       "COMMENT   and Astrophysics', volume 376, page 359; bibcode: 2001A&A...376..359H \n",
       "BSCALE  =                   1. / True_value = BSCALE * FITS_value + BZERO       \n",
       "BZERO   =                   0. / True_value = BSCALE * FITS_value + BZERO       \n",
       "DATE    = '2015-03-24T14:06:21' / file creation date (YYYY-MM-DDThh:mm:ss UT)   \n",
       "ORIGIN  = 'GAMA    '           / Source of the data                             \n",
       "OBSERVAT= 'SSO     '           / Name of observatory                            \n",
       "LATITUDE=            -31.27704 / Telescope latitude in deg                      \n",
       "LONGITUD=             149.0661 / Telescope longitude in deg                     \n",
       "ALTITUDE=                1164. / Telescope height above sea level in m          \n",
       "TELESCOP= 'AAT     '           / 3.9m Anglo-Australian Telescope                \n",
       "INSTRUME= 'AAOMEGA-2dF'        / AAOmega/2dF multi-fibre spectrograph           \n",
       "SPECTID = 'RD      '           / Spectrograph ID                                \n",
       "GRATID  = '385R 580V'          / Disperser ID                                   \n",
       "DICHROIC= 'X5700   '           / Dichroic name                                  \n",
       "PLATE   =                    0 / 2dF plate number                               \n",
       "RDNOISE =                 3.49 / Readout noise in e-                            \n",
       "GAIN    =                1.799 / Readout gain in e-/ADU                         \n",
       "FIBRE   =                  374 / Fibre number                                   \n",
       "PIVOT   =                  374 / Pivot number                                   \n",
       "X       =                79130 / Fibre button x position on plate               \n",
       "Y       =               185274 / Fibre button y position on plate               \n",
       "THETA   =               334.53 / Fibre angle in deg                             \n",
       "N_EXP   =                    2 / Number of exposures                            \n",
       "T_EXP   =                3000. / Total exposure time in s                       \n",
       "N_NIGHTS=                    1 / Number of nights over which exposures were spre\n",
       "DATE-OBS= '2008-03-31'         / UT date of observation                         \n",
       "UTMJD   =     54556.3916837732 / Mean MJD of start of exposures                 \n",
       "UTSTART = '09:10:29'           / UT of start of first exposure                  \n",
       "UTEND   = '10:04:40'           / UT of end of last exposure                     \n",
       "ZDSTART =                37.59 / Zenith distance at start of first exposure in d\n",
       "ZDEND   =                34.15 / Zenith distance at end of last exposure in deg \n",
       "HASTART =               -17.49 / Hour angle at start of first exposure in deg   \n",
       "HAEND   =                -5.49 / Hour angle at end of last exposure in deg      \n",
       "HEL_VC  =               -23.65 / Heliocentric velocity correction in km/s       \n",
       "CTYPE1  = 'Wavelength'         / Type of coordinate on axis 1                   \n",
       "CUNIT1  = 'Angstrom'           / Units for axis 1                               \n",
       "CRPIX1  =                2472. / WCS reference point                            \n",
       "CDELT1  =       1.035900920889 / Wavelength at the ref pixel 2476 for STECKMAP  \n",
       "CRVAL1  =              3727.79 / WCS reference value                            \n",
       "CD1_1   =       1.035900920889 / WCS transformation matrix element              \n",
       "CD1_2   =                   0. / WCS transformation matrix element              \n",
       "CD2_1   =                   0. / WCS transformation matrix element              \n",
       "CD2_2   =                   1. / WCS transformation matrix element              \n",
       "ROW1    = 'Spectrum'           / Flux-calibrated spectrum in 10^-17 erg/s/cm^2/A\n",
       "ROW2    = 'Error   '           / 1 sigma error spectrum                         \n",
       "ROW3    = 'Spectrum_nocalib'   / Spectrum without flux calibration              \n",
       "ROW4    = 'Error_nocalib'      / 1 sigma error spectrum (no flux calibration)   \n",
       "ROW5    = 'Sky     '           / Sky spectrum (no flux calibration)             \n",
       "FIELDID = 'G09_Y1_CX1'         / ID of GAMA AAT field                           \n",
       "SPECID  = 'G09_Y1_CX1_374'     / ID of GAMA AAT spectrum                        \n",
       "RA      =            133.96354 / RA of spectrum in deg (J2000)                  \n",
       "DEC     =              2.79225 / DEC of spectrum in deg (J2000)                 \n",
       "WMIN    =                3736. / Minimum wavelength in A                        \n",
       "WMAX    =              8856.46 / Maximum wavelength in A                        \n",
       "Z       =              0.21647 / Heliocentric redshift                          \n",
       "NQ      =                    4 / Normalised redshift quality (use nQ>2 for scien\n",
       "PROB    =                   1. / Probability that redshift is correct           \n",
       "SN      =                12.81 / S/N as measured by runz                        \n",
       "SN_ALT  =                 11.3 / Median S/N per pixel in 4500-6500 A band       \n",
       "RFLUXFAC=           7.0767E-19 / Ratio of r-band petrosian to fibre flux        \n",
       "CATAID  =               423115 / ID of matched GAMA object                      \n",
       "OBJECT  =               423115 / ID of matched GAMA object                      \n",
       "GAMANAME= 'GAMAJ085551.24+024732.1' / Name of matched GAMA object               \n",
       "IC_FLAG =                 4104 / Catalogue source(s) of matched GAMA object     \n",
       "DIST    =                   0. / Distance between spec and object in arcsec     \n",
       "IS_SBEST=                    T / GAMA AAT spectrum with best redshift for this o"
      ]
     },
     "execution_count": 7,
     "metadata": {},
     "output_type": "execute_result"
    }
   ],
   "source": [
    "header"
   ]
  },
  {
   "cell_type": "code",
   "execution_count": 8,
   "metadata": {},
   "outputs": [],
   "source": [
    "flux_all     = pf.getdata(sed_example)[0, 3:-3]\n",
    "flux_err_all = pf.getdata(sed_example)[1, 3:-3]"
   ]
  },
  {
   "cell_type": "code",
   "execution_count": 9,
   "metadata": {},
   "outputs": [],
   "source": [
    "idx_clean = np.where(np.logical_not(np.isnan(flux_all)))"
   ]
  },
  {
   "cell_type": "code",
   "execution_count": 10,
   "metadata": {},
   "outputs": [],
   "source": [
    "flux     = flux_all[idx_clean]\n",
    "flux_err = flux_err_all[idx_clean]"
   ]
  },
  {
   "cell_type": "code",
   "execution_count": 11,
   "metadata": {},
   "outputs": [],
   "source": [
    "wl_i    = header['WMIN']\n",
    "wl_step = header['CD1_1']\n",
    "wl      = np.arange(flux.size)*wl_step + wl_i"
   ]
  },
  {
   "cell_type": "code",
   "execution_count": 12,
   "metadata": {},
   "outputs": [],
   "source": [
    "redshift = header['Z']"
   ]
  },
  {
   "cell_type": "code",
   "execution_count": null,
   "metadata": {},
   "outputs": [],
   "source": [
    "# %matplotlib notebook"
   ]
  },
  {
   "cell_type": "code",
   "execution_count": 13,
   "metadata": {},
   "outputs": [
    {
     "data": {
      "image/png": "[encoded data removed]",
      "text/plain": [
       "<Figure size 504x288 with 1 Axes>"
      ]
     },
     "metadata": {},
     "output_type": "display_data"
    }
   ],
   "source": [
    "sns.set_style(\"white\")\n",
    "plt.rcParams[\"axes.edgecolor\"] = \"0.15\"\n",
    "plt.rcParams[\"axes.linewidth\"] = 1.\n",
    "plt.subplots(1,1, figsize=(7,4))\n",
    "plt.plot(wl,flux,'-')\n",
    "plt.xlabel(\"Wavelength ($\\mathrm{\\AA}$)\", fontsize=12)\n",
    "plt.ylabel(\"Flux (10$^{-17}$ erg s$^{-1}$ cm$^2$ $\\mathrm{\\AA^{-1}}$)\", fontsize=12)\n",
    "plt.tick_params('both', labelsize=12)\n",
    "plt.show()"
   ]
  },
  {
   "cell_type": "markdown",
   "metadata": {},
   "source": [
    "# pPXF config"
   ]
  },
  {
   "cell_type": "markdown",
   "metadata": {},
   "source": [
    "### Getting the Libraries' path -- those that already came with ppxf"
   ]
  },
  {
   "cell_type": "code",
   "execution_count": 14,
   "metadata": {},
   "outputs": [],
   "source": [
    "wl_range_index = (wl>3540) & (wl<7409)              # Limiting the range of wl given the library -- in this case MILES"
   ]
  },
  {
   "cell_type": "code",
   "execution_count": 15,
   "metadata": {},
   "outputs": [],
   "source": [
    "ppxf_dir = os.path.dirname(os.path.realpath(ppxf_module.__file__))"
   ]
  },
  {
   "cell_type": "code",
   "execution_count": 16,
   "metadata": {},
   "outputs": [
    {
     "data": {
      "text/plain": [
       "'/home/mlldantas/anaconda3/envs/py3k6/lib/python3.6/site-packages/ppxf'"
      ]
     },
     "execution_count": 16,
     "metadata": {},
     "output_type": "execute_result"
    }
   ],
   "source": [
    "ppxf_dir"
   ]
  },
  {
   "cell_type": "code",
   "execution_count": 17,
   "metadata": {},
   "outputs": [],
   "source": [
    "flux_pp = flux[wl_range_index]\n",
    "wl_pp   = wl[wl_range_index]"
   ]
  },
  {
   "cell_type": "code",
   "execution_count": 18,
   "metadata": {},
   "outputs": [
    {
     "name": "stdout",
     "output_type": "stream",
     "text": [
      "[-15.374364   -4.797919   -4.4835305 ...  20.24269    20.094873\n",
      "  19.964918 ]\n"
     ]
    }
   ],
   "source": [
    "print (flux_pp)"
   ]
  },
  {
   "cell_type": "code",
   "execution_count": 19,
   "metadata": {},
   "outputs": [
    {
     "name": "stdout",
     "output_type": "stream",
     "text": [
      "  Name   = Speed of light in vacuum\n",
      "  Value  = 299792458.0\n",
      "  Uncertainty  = 0.0\n",
      "  Unit  = m / s\n",
      "  Reference = CODATA 2014\n"
     ]
    }
   ],
   "source": [
    "print(ct.c)"
   ]
  },
  {
   "cell_type": "code",
   "execution_count": 20,
   "metadata": {},
   "outputs": [
    {
     "name": "stdout",
     "output_type": "stream",
     "text": [
      "299792.458 km / s\n"
     ]
    }
   ],
   "source": [
    "print(ct.c.to('km/s'))"
   ]
  },
  {
   "cell_type": "code",
   "execution_count": 21,
   "metadata": {},
   "outputs": [],
   "source": [
    "light_kms = float(str(ct.c.to('km/s')).split(' ')[0])     # selecting the numerical values only"
   ]
  },
  {
   "cell_type": "code",
   "execution_count": 22,
   "metadata": {},
   "outputs": [],
   "source": [
    "vel_scale = light_kms*np.log(wl_pp[1]/wl_pp[0])    # velocity scale - Eq.8 Capellari 2017"
   ]
  },
  {
   "cell_type": "code",
   "execution_count": 23,
   "metadata": {},
   "outputs": [],
   "source": [
    "fwhm_gama = 2.                                     # MUST BE CHECKED!!!!! This is just a temporary value!!!"
   ]
  },
  {
   "cell_type": "code",
   "execution_count": 24,
   "metadata": {},
   "outputs": [],
   "source": [
    "# TODO \n",
    "# check the following information for GAMA:\n",
    "# 1) Are the spectra corrected by the air?  -- Do I need to correct them before runing ppxf?\n",
    "# 2) What is the FWHM (espectral resolution) of GAMA spectra? - IDEM\n",
    "# 3) Do we need gas templates?"
   ]
  },
  {
   "cell_type": "code",
   "execution_count": 25,
   "metadata": {},
   "outputs": [],
   "source": [
    "miles_templates = ppxf_dir+'/miles_models/Mun1.30*.fits'"
   ]
  },
  {
   "cell_type": "code",
   "execution_count": 26,
   "metadata": {},
   "outputs": [
    {
     "name": "stderr",
     "output_type": "stream",
     "text": [
      "/home/mlldantas/anaconda3/envs/py3k6/lib/python3.6/site-packages/ppxf/miles_util.py:149: RuntimeWarning: invalid value encountered in sqrt\n",
      "  FWHM_dif = np.sqrt(FWHM_gal**2 - FWHM_tem**2)\n"
     ]
    }
   ],
   "source": [
    "miles = lib.miles(miles_templates, vel_scale, fwhm_gama)"
   ]
  },
  {
   "cell_type": "code",
   "execution_count": 27,
   "metadata": {},
   "outputs": [
    {
     "name": "stdout",
     "output_type": "stream",
     "text": [
      "(2664, 150)\n"
     ]
    }
   ],
   "source": [
    "regularization_dimensions = miles.templates.shape[1:]\n",
    "stellar_templates         = miles.templates.reshape(miles.templates.shape[0], -1)\n",
    "print (stellar_templates.shape)"
   ]
  },
  {
   "cell_type": "code",
   "execution_count": null,
   "metadata": {},
   "outputs": [],
   "source": [
    "regularization_err = 0.013                        # Desired regularization error"
   ]
  },
  {
   "cell_type": "code",
   "execution_count": null,
   "metadata": {},
   "outputs": [],
   "source": [
    "wl_range = np.array([np.min(wl_pp), np.max(wl_pp)])/(1 + redshift)"
   ]
  },
  {
   "cell_type": "code",
   "execution_count": null,
   "metadata": {},
   "outputs": [],
   "source": [
    "dv    = light_kms*(miles.log_lam_temp[0] - np.log(wl_pp[0]))  # eq.(8) of Cappellari (2017)\n",
    "vel   = light_kms*np.log(1 + redshift)                        # eq.(8) of Cappellari (2017)\n",
    "start = [vel, 180.]                                           # (km/s), starting guess for [V, sigma]"
   ]
  },
  {
   "cell_type": "code",
   "execution_count": null,
   "metadata": {},
   "outputs": [],
   "source": [
    "# TODO: REBIN ? See error below."
   ]
  },
  {
   "cell_type": "code",
   "execution_count": null,
   "metadata": {},
   "outputs": [],
   "source": [
    "new_shape          = stellar_templates[:,0].shape\n",
    "rebinning_function = sci.interp1d(wl_pp, flux_pp)\n",
    "wl_pp_rebin        = np.linspace(start=wl_pp.min(), stop=wl_pp.max(), num=int(new_shape[0]))\n",
    "flux_pp_rebin      = rebinning_function(wl_pp_rebin)"
   ]
  },
  {
   "cell_type": "code",
   "execution_count": null,
   "metadata": {},
   "outputs": [],
   "source": [
    "galaxy  = flux_pp_rebin/np.median(flux_pp_rebin)   # Normalize spectrum to avoid numerical issues"
   ]
  },
  {
   "cell_type": "code",
   "execution_count": null,
   "metadata": {},
   "outputs": [],
   "source": [
    "noise = np.full_like(galaxy, 0.01635)              # Assume constant noise per pixel here\n",
    "# MUST BE CHECKED!!!!! This is just a temporary value!!!"
   ]
  },
  {
   "cell_type": "code",
   "execution_count": null,
   "metadata": {},
   "outputs": [],
   "source": [
    "%matplotlib notebook"
   ]
  },
  {
   "cell_type": "code",
   "execution_count": null,
   "metadata": {},
   "outputs": [],
   "source": [
    "pp = ppxf(templates=stellar_templates, galaxy=galaxy, noise=noise, velscale=vel_scale, start=start, plot=True, \n",
    "          lam=wl_pp_rebin, moments=4, degree=250)"
   ]
  },
  {
   "cell_type": "code",
   "execution_count": null,
   "metadata": {},
   "outputs": [],
   "source": [
    "pp.bestfit"
   ]
  },
  {
   "cell_type": "code",
   "execution_count": null,
   "metadata": {},
   "outputs": [],
   "source": [
    "pp.chi2"
   ]
  },
  {
   "cell_type": "code",
   "execution_count": null,
   "metadata": {},
   "outputs": [],
   "source": [
    "pp.bias"
   ]
  },
  {
   "cell_type": "code",
   "execution_count": null,
   "metadata": {},
   "outputs": [],
   "source": [
    "pp.clean"
   ]
  },
  {
   "cell_type": "code",
   "execution_count": null,
   "metadata": {},
   "outputs": [],
   "source": [
    "pp.apoly"
   ]
  },
  {
   "cell_type": "code",
   "execution_count": null,
   "metadata": {},
   "outputs": [],
   "source": [
    "pp.component"
   ]
  },
  {
   "cell_type": "code",
   "execution_count": null,
   "metadata": {},
   "outputs": [],
   "source": [
    "pp.sol"
   ]
  },
  {
   "cell_type": "code",
   "execution_count": null,
   "metadata": {},
   "outputs": [],
   "source": [
    "pp.ftol"
   ]
  },
  {
   "cell_type": "code",
   "execution_count": null,
   "metadata": {},
   "outputs": [],
   "source": [
    "pp??"
   ]
  },
  {
   "cell_type": "code",
   "execution_count": null,
   "metadata": {},
   "outputs": [],
   "source": [
    "plt.subplot(2,1,1)\n",
    "plt.plot(wl_pp_rebin, pp.galaxy, '-', linewidth=1., label=\"Spectrum\")\n",
    "plt.plot(wl_pp_rebin, pp.bestfit, '-', linewidth=1., label=\"Best Fit\")\n",
    "plt.legend(loc='best')\n",
    "plt.xlabel(\"Wavelength ($\\mathrm{\\AA}$)\")\n",
    "plt.ylabel(\"Norm. flux\")\n",
    "plt.subplot(2,1,2)\n",
    "plt.plot(wl_pp_rebin, (galaxy-pp.bestfit), '.', linewidth=1., label=\"Residues\", alpha=0.8)\n",
    "plt.axhline(y=0, c='black')\n",
    "plt.legend(loc='best')\n",
    "plt.xlabel(\"Wavelength ($\\mathrm{\\AA}$)\")\n",
    "plt.ylabel(\"Residues\")\n",
    "plt.savefig('./../Figs/ppxf_teste.png')\n",
    "plt.show()"
   ]
  },
  {
   "cell_type": "code",
   "execution_count": null,
   "metadata": {},
   "outputs": [],
   "source": []
  }
 ],
 "metadata": {
  "kernelspec": {
   "display_name": "Python 3",
   "language": "python",
   "name": "python3"
  },
  "language_info": {
   "codemirror_mode": {
    "name": "ipython",
    "version": 3
   },
   "file_extension": ".py",
   "mimetype": "text/x-python",
   "name": "python",
   "nbconvert_exporter": "python",
   "pygments_lexer": "ipython3",
   "version": "3.6.6"
  }
 },
 "nbformat": 4,
 "nbformat_minor": 2
}
