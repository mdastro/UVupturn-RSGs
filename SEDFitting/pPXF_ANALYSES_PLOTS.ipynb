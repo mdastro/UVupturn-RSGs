{
 "cells": [
  {
   "cell_type": "markdown",
   "metadata": {},
   "source": [
    "# Packages"
   ]
  },
  {
   "cell_type": "code",
   "execution_count": 1,
   "metadata": {},
   "outputs": [],
   "source": [
    "import numpy             as np\n",
    "import pandas            as pd\n",
    "import matplotlib.pyplot as plt\n",
    "import seaborn           as sns\n",
    "import astropy.io.fits   as pf\n",
    "import os"
   ]
  },
  {
   "cell_type": "markdown",
   "metadata": {},
   "source": [
    "# Paths"
   ]
  },
  {
   "cell_type": "code",
   "execution_count": 2,
   "metadata": {},
   "outputs": [],
   "source": [
    "outputs_path = '../../LargeFilesResults/SEDFitting/'"
   ]
  },
  {
   "cell_type": "markdown",
   "metadata": {},
   "source": [
    "# Reading the outputs"
   ]
  },
  {
   "cell_type": "code",
   "execution_count": 3,
   "metadata": {},
   "outputs": [],
   "source": [
    "out_m150 = pd.read_csv(os.path.join(outputs_path, 'Batch150/outputs_ppxf_150_4350.csv'))\n",
    "out_m200 = pd.read_csv(os.path.join(outputs_path, 'Batch200/outputs_ppxf_200_4350.csv'))\n",
    "out_m230 = pd.read_csv(os.path.join(outputs_path, 'Batch230/outputs_ppxf_230_4350.csv'))"
   ]
  },
  {
   "cell_type": "markdown",
   "metadata": {},
   "source": [
    "# Retrieving the data in the fits results"
   ]
  },
  {
   "cell_type": "code",
   "execution_count": 4,
   "metadata": {},
   "outputs": [],
   "source": [
    "m150_path = '../../LargeFilesResults/SEDFitting/Batch150/'\n",
    "m200_path = '../../LargeFilesResults/SEDFitting/Batch200/'\n",
    "m230_path = '../../LargeFilesResults/SEDFitting/Batch230/'\n",
    "fitted_glxs150 = os.listdir(m150_path)\n",
    "fitted_glxs200 = os.listdir(m200_path)\n",
    "fitted_glxs230 = os.listdir(m230_path)"
   ]
  },
  {
   "cell_type": "code",
   "execution_count": 5,
   "metadata": {},
   "outputs": [],
   "source": [
    "# mdegree = 150 ------------------------------------------------------------------------------------------------------\n",
    "nlist_150 = []\n",
    "for i in range(len(fitted_glxs150)):\n",
    "    if fitted_glxs150[i].split('.')[-1] != 'fits':\n",
    "        continue\n",
    "    else:\n",
    "        nlist_150.append(fitted_glxs150[i])\n",
    "nlist_150 = np.array(nlist_150)\n",
    "\n",
    "# mdegree = 200 ------------------------------------------------------------------------------------------------------\n",
    "nlist_200 = []\n",
    "for i in range(len(fitted_glxs200)):\n",
    "    if fitted_glxs200[i].split('.')[-1] != 'fits':\n",
    "        continue\n",
    "    else:\n",
    "        nlist_200.append(fitted_glxs200[i])\n",
    "nlist_200 = np.array(nlist_200)\n",
    "\n",
    "# mdegree = 230 ------------------------------------------------------------------------------------------------------\n",
    "nlist_230 = []\n",
    "for i in range(len(fitted_glxs230)):\n",
    "    if fitted_glxs230[i].split('.')[-1] != 'fits':\n",
    "        continue\n",
    "    else:\n",
    "        nlist_230.append(fitted_glxs230[i])\n",
    "nlist_230 = np.array(nlist_230)"
   ]
  },
  {
   "cell_type": "code",
   "execution_count": 6,
   "metadata": {},
   "outputs": [],
   "source": [
    "missing_data150 = []\n",
    "for i in range(nlist_150.size):\n",
    "    header_temp = pf.open(os.path.join(m150_path, nlist_150[i]))[0].header\n",
    "    cataid_temp = header_temp['CATAID']\n",
    "    missing_data150.append([cataid_temp, header_temp['SPECID'], header_temp['SIGMA'], header_temp['VELOCITY']])\n",
    "mdata150 = np.array(missing_data150)\n",
    "mdata150 = pd.DataFrame(mdata150, columns=['CATAID', 'SPECID', 'SIGMA', 'VELOCITY']).astype({'CATAID': int, \n",
    "                                                                                             'SPECID': str, \n",
    "                                                                                             'SIGMA': float, \n",
    "                                                                                             'VELOCITY': float})"
   ]
  },
  {
   "cell_type": "code",
   "execution_count": 7,
   "metadata": {},
   "outputs": [],
   "source": [
    "missing_data200 = []\n",
    "for i in range(nlist_200.size):\n",
    "    header_temp = pf.open(os.path.join(m200_path, nlist_200[i]))[0].header\n",
    "    cataid_temp = header_temp['CATAID']\n",
    "    missing_data200.append([cataid_temp, header_temp['SPECID'], header_temp['SIGMA'], header_temp['VELOCITY']])\n",
    "mdata200 = np.array(missing_data200)\n",
    "mdata200 = pd.DataFrame(mdata200, columns=['CATAID', 'SPECID', 'SIGMA', 'VELOCITY']).astype({'CATAID': int, \n",
    "                                                                                             'SPECID': str, \n",
    "                                                                                             'SIGMA': float, \n",
    "                                                                                             'VELOCITY': float})"
   ]
  },
  {
   "cell_type": "code",
   "execution_count": 8,
   "metadata": {},
   "outputs": [],
   "source": [
    "missing_data230 = []\n",
    "for i in range(nlist_230.size):\n",
    "    header_temp = pf.open(os.path.join(m230_path, nlist_230[i]))[0].header\n",
    "    cataid_temp = header_temp['CATAID']\n",
    "    missing_data230.append([cataid_temp, header_temp['SPECID'], header_temp['SIGMA'], header_temp['VELOCITY']])\n",
    "mdata230 = np.array(missing_data230)\n",
    "mdata230 = pd.DataFrame(mdata230, columns=['CATAID', 'SPECID', 'SIGMA', 'VELOCITY']).astype({'CATAID': int, \n",
    "                                                                                             'SPECID': str, \n",
    "                                                                                             'SIGMA': float, \n",
    "                                                                                             'VELOCITY': float})"
   ]
  },
  {
   "cell_type": "markdown",
   "metadata": {},
   "source": [
    "# Merging them into a single dataframe"
   ]
  },
  {
   "cell_type": "code",
   "execution_count": 9,
   "metadata": {},
   "outputs": [],
   "source": [
    "mdegree150 = np.full_like(out_m150['CATAID'].values, \"150\")\n",
    "mdegree200 = np.full_like(out_m200['CATAID'].values, \"200\")\n",
    "mdegree230 = np.full_like(out_m230['CATAID'].values, \"230\")"
   ]
  },
  {
   "cell_type": "code",
   "execution_count": 10,
   "metadata": {},
   "outputs": [],
   "source": [
    "out_m150.insert(loc=0, value=mdegree150, column='MDEGREE')\n",
    "out_m200.insert(loc=0, value=mdegree200, column='MDEGREE')\n",
    "out_m230.insert(loc=0, value=mdegree230, column='MDEGREE')"
   ]
  },
  {
   "cell_type": "code",
   "execution_count": 11,
   "metadata": {},
   "outputs": [],
   "source": [
    "s2n = out_m230['S2N_runz']\n",
    "chi = out_m230['CHI2_PPXF']"
   ]
  },
  {
   "cell_type": "code",
   "execution_count": 12,
   "metadata": {},
   "outputs": [],
   "source": [
    "out_m150.insert(loc=6, value=s2n, column='S2N_runz')\n",
    "out_m150.insert(loc=7, value=chi, column='CHI2_PPXF')\n",
    "out_m150 = out_m150.merge(mdata150, on='CATAID', how='inner', validate='one_to_one')"
   ]
  },
  {
   "cell_type": "code",
   "execution_count": 13,
   "metadata": {},
   "outputs": [],
   "source": [
    "out_m200.insert(loc=6, value=s2n, column='S2N_runz')\n",
    "out_m200.insert(loc=7, value=chi, column='CHI2_PPXF')\n",
    "out_m200 = out_m200.merge(mdata200, on='CATAID', how='inner', validate='one_to_one')"
   ]
  },
  {
   "cell_type": "code",
   "execution_count": 14,
   "metadata": {},
   "outputs": [],
   "source": [
    "out_m230 = out_m230.merge(mdata230, on='CATAID', how='inner', validate='one_to_one')"
   ]
  },
  {
   "cell_type": "code",
   "execution_count": 15,
   "metadata": {},
   "outputs": [],
   "source": [
    "frames = [out_m150, out_m200, out_m230]"
   ]
  },
  {
   "cell_type": "code",
   "execution_count": 16,
   "metadata": {},
   "outputs": [],
   "source": [
    "new_df = pd.concat(frames, sort=False)"
   ]
  },
  {
   "cell_type": "code",
   "execution_count": 17,
   "metadata": {},
   "outputs": [],
   "source": [
    "hue = []\n",
    "for i in range(new_df['CATAID'].values.size):\n",
    "    if new_df['S2N_runz'].values[i] >=10:\n",
    "        hue.append('High S/N')\n",
    "    else:\n",
    "        hue.append('Low S/N')\n",
    "hue = np.array(hue)\n",
    "\n",
    "new_df.insert(loc=8, value=hue, column='S2N_hue')"
   ]
  },
  {
   "cell_type": "markdown",
   "metadata": {},
   "source": [
    "# Plots"
   ]
  },
  {
   "cell_type": "code",
   "execution_count": 18,
   "metadata": {},
   "outputs": [],
   "source": [
    "# %matplotlib notebook\n",
    "\n",
    "palette  = ['#66c2a5', '#8da0cb']\n",
    "figsize  = (20, 5)\n",
    "fontsize = 15\n",
    "idx_good = np.where(new_df['CHI2_PPXF'].values>=10)\n",
    "idx_bad  = np.where(new_df['CHI2_PPXF'].values<10)\n",
    "leg_loc  = 'lower left'"
   ]
  },
  {
   "cell_type": "code",
   "execution_count": 19,
   "metadata": {},
   "outputs": [
    {
     "data": {
      "image/png": "[encoded data removed]",
      "text/plain": [
       "<Figure size 1440x360 with 5 Axes>"
      ]
     },
     "metadata": {
      "needs_background": "light"
     },
     "output_type": "display_data"
    }
   ],
   "source": [
    "plt.subplots(figsize=figsize)\n",
    "\n",
    "plt.subplot(1, 5, 1)\n",
    "sns.boxenplot(x=new_df['MDEGREE'], y=new_df['<[M/H]>'], palette=palette, hue=new_df['S2N_hue'],  saturation=1., \n",
    "              k_depth=\"proportion\")\n",
    "plt.ylabel(\"$<[M/H]>$\", fontsize=fontsize)\n",
    "plt.tick_params('both', labelsize=fontsize)\n",
    "plt.legend(loc=leg_loc)\n",
    "\n",
    "plt.subplot(1, 5, 2)\n",
    "sns.boxenplot(x=new_df['MDEGREE'], y=new_df['<logAge>'], palette=palette, hue=new_df['S2N_hue'], saturation=1., \n",
    "              k_depth=\"proportion\")\n",
    "plt.ylabel(\"$<\\log t >$\", fontsize=fontsize)\n",
    "plt.tick_params('both', labelsize=fontsize)\n",
    "plt.legend(loc=leg_loc)\n",
    "\n",
    "plt.subplot(1, 5, 3)\n",
    "sns.boxenplot(x=new_df['MDEGREE'], y=new_df['SIGMA'], palette=palette, hue=new_df['S2N_hue'], saturation=1., \n",
    "              k_depth=\"proportion\")\n",
    "plt.ylabel(\"$\\sigma$\", fontsize=fontsize)\n",
    "plt.tick_params('both', labelsize=fontsize)\n",
    "plt.legend(loc=leg_loc)\n",
    "\n",
    "plt.subplot(1, 5, 4)\n",
    "sns.boxenplot(x=new_df['MDEGREE'], y=new_df['VELOCITY'], palette=palette, saturation=1., hue=new_df['S2N_hue'],\n",
    "              k_depth=\"proportion\")\n",
    "plt.ylabel(\"$v$\", fontsize=fontsize)\n",
    "plt.tick_params('both', labelsize=fontsize)\n",
    "plt.legend(loc=leg_loc)\n",
    "\n",
    "plt.subplot(1, 5, 5)\n",
    "sns.boxenplot(x=new_df['MDEGREE'], y=new_df['MASS2LIGHT_R'], palette=palette, saturation=1., hue=new_df['S2N_hue'], \n",
    "              k_depth=\"proportion\")\n",
    "plt.ylabel(\"$(M/L)_r$\", fontsize=fontsize)\n",
    "plt.tick_params('both', labelsize=fontsize)\n",
    "plt.legend(loc=leg_loc)\n",
    "\n",
    "plt.tight_layout()\n",
    "plt.savefig(os.path.join(outputs_path, 'Analyses_mdegrees/ppxf_results.png'), dpi=100)\n",
    "plt.savefig(os.path.join(outputs_path, 'Analyses_mdegrees/ppxf_results.pdf'), dpi=100)\n",
    "plt.show()"
   ]
  },
  {
   "cell_type": "code",
   "execution_count": 20,
   "metadata": {},
   "outputs": [
    {
     "data": {
      "image/png": "[encoded data removed]",
      "text/plain": [
       "<Figure size 432x288 with 1 Axes>"
      ]
     },
     "metadata": {
      "needs_background": "light"
     },
     "output_type": "display_data"
    }
   ],
   "source": [
    "sns.boxenplot(x=new_df['MDEGREE'], y=new_df['<[M/H]>'], hue=new_df['S2N_hue'], saturation=1., k_depth=\"proportion\")\n",
    "plt.savefig(os.path.join(outputs_path, 'Analyses_mdegrees/lvplot_metallicity.png'))\n",
    "plt.show()"
   ]
  },
  {
   "cell_type": "code",
   "execution_count": 21,
   "metadata": {},
   "outputs": [
    {
     "data": {
      "image/png": "[encoded data removed]",
      "text/plain": [
       "<Figure size 432x288 with 1 Axes>"
      ]
     },
     "metadata": {
      "needs_background": "light"
     },
     "output_type": "display_data"
    }
   ],
   "source": [
    "sns.boxenplot(x=new_df['MDEGREE'], y=new_df['<logAge>'], palette=palette, saturation=1., k_depth=\"proportion\")\n",
    "plt.savefig(os.path.join(outputs_path, 'Analyses_mdegrees/lvplot_age.png'))\n",
    "plt.show()"
   ]
  },
  {
   "cell_type": "code",
   "execution_count": 22,
   "metadata": {},
   "outputs": [
    {
     "data": {
      "image/png": "[encoded data removed]",
      "text/plain": [
       "<Figure size 432x288 with 1 Axes>"
      ]
     },
     "metadata": {
      "needs_background": "light"
     },
     "output_type": "display_data"
    }
   ],
   "source": [
    "sns.boxenplot(x=new_df['MDEGREE'], y=new_df['SIGMA'], palette=palette, saturation=1., k_depth=\"proportion\")\n",
    "plt.savefig(os.path.join(outputs_path, 'Analyses_mdegrees/lvplot_sigma.png'))\n",
    "plt.show()"
   ]
  },
  {
   "cell_type": "code",
   "execution_count": 23,
   "metadata": {},
   "outputs": [
    {
     "data": {
      "image/png": "[encoded data removed]",
      "text/plain": [
       "<Figure size 432x288 with 1 Axes>"
      ]
     },
     "metadata": {
      "needs_background": "light"
     },
     "output_type": "display_data"
    }
   ],
   "source": [
    "sns.boxenplot(x=new_df['MDEGREE'], y=new_df['VELOCITY'], palette=palette, saturation=1., k_depth=\"proportion\")\n",
    "plt.savefig(os.path.join(outputs_path, 'Analyses_mdegrees/lvplot_sigmaI.png'))\n",
    "plt.show()"
   ]
  },
  {
   "cell_type": "code",
   "execution_count": 24,
   "metadata": {},
   "outputs": [
    {
     "data": {
      "image/png": "[encoded data removed]",
      "text/plain": [
       "<Figure size 432x288 with 1 Axes>"
      ]
     },
     "metadata": {
      "needs_background": "light"
     },
     "output_type": "display_data"
    }
   ],
   "source": [
    "sns.boxenplot(x=new_df['MDEGREE'], y=new_df['VELOCITY'], palette=palette, saturation=1., k_depth=\"trustworthy\")\n",
    "plt.savefig(os.path.join(outputs_path, 'Analyses_mdegrees/lvplot_sigmaII.png'))\n",
    "plt.show()"
   ]
  },
  {
   "cell_type": "code",
   "execution_count": 25,
   "metadata": {},
   "outputs": [],
   "source": [
    "split = np.split(new_df, 3)"
   ]
  },
  {
   "cell_type": "code",
   "execution_count": 26,
   "metadata": {},
   "outputs": [],
   "source": [
    "desc01, desc02, desc03 = split[0].describe(), split[1].describe(), split[2].describe()"
   ]
  },
  {
   "cell_type": "code",
   "execution_count": 27,
   "metadata": {},
   "outputs": [],
   "source": [
    "desc01.to_csv('./summ_m150.csv')\n",
    "desc02.to_csv('./summ_m200.csv')\n",
    "desc03.to_csv('./summ_m230.csv')"
   ]
  },
  {
   "cell_type": "code",
   "execution_count": 29,
   "metadata": {},
   "outputs": [],
   "source": [
    "list_hs2n = list(new_df[new_df['S2N_hue']=='High S/N']['SPECID'].values)"
   ]
  },
  {
   "cell_type": "code",
   "execution_count": 31,
   "metadata": {},
   "outputs": [
    {
     "data": {
      "text/plain": [
       "['G09_Y1_ES2_264.fit',\n",
       " 'G12_Y1_CND1_270.fit',\n",
       " 'G12_Y1_EN1_389.fit',\n",
       " 'G15_Y1_FS1_299.fit',\n",
       " 'G15_Y1_BN2_135.fit',\n",
       " 'G15_Y1_IN1_053.fit',\n",
       " 'G12_Y1_DX2_024.fit',\n",
       " 'G12_Y1_AX2_177.fit',\n",
       " 'G12_Y1_FX2_195.fit',\n",
       " 'G12_Y2_002_094.fit',\n",
       " 'G12_Y1_EX1_378.fit',\n",
       " 'G12_Y1_FX2_235.fit',\n",
       " 'G15_Y1_CN2_199.fit',\n",
       " 'G15_Y1_HN2_203.fit',\n",
       " 'G09_Y1_GN1_193.fit',\n",
       " 'G09_Y1_EN2_363.fit',\n",
       " 'G15_Y4_242_212.fit',\n",
       " 'G09_Y1_CX2_380.fit',\n",
       " 'G09_Y1_CX2_228.fit',\n",
       " 'G09_Y4_213_108.fit',\n",
       " 'G09_Y4_207_183.fit',\n",
       " 'G09_Y4_225_335.fit',\n",
       " 'G09_Y1_BS2_081.fit',\n",
       " 'G09_Y1_ES1_152.fit',\n",
       " 'G15_Y1_AX1_145.fit',\n",
       " 'G09_Y4_236_331.fit',\n",
       " 'G09_Y4_212_236.fit',\n",
       " 'G12_Y1_BS1_391.fit',\n",
       " 'G12_Y1_DS1_203.fit',\n",
       " 'G12_Y1_HS2_311.fit',\n",
       " 'G15_Y1_BS2_078.fit',\n",
       " 'G15_Y1_FS2_177.fit',\n",
       " 'G12_Y1_ND4_160.fit',\n",
       " 'G12_Y1_END1_096.fit',\n",
       " 'G12_Y1_ND5_067.fit',\n",
       " 'G15_Y1_CS1_013.fit',\n",
       " 'G12_Y1_ND4_288.fit',\n",
       " 'G12_Y1_GN1_363.fit',\n",
       " 'G15_Y1_CN1_125.fit',\n",
       " 'G15_Y1_EN2_054.fit',\n",
       " 'G12_Y1_AS2_331.fit',\n",
       " 'G12_Y1_GS2_373.fit',\n",
       " 'G12_Y1_ES1_298.fit',\n",
       " 'G12_Y1_FN1_136.fit',\n",
       " 'G12_Y1_HS1_285.fit',\n",
       " 'G12_Y1_CS2_390.fit',\n",
       " 'G12_Y1_FS2_205.fit',\n",
       " 'G12_Y1_GS2_014.fit',\n",
       " 'G09_Y1_DS2_117.fit',\n",
       " 'G09_Y1_IS1_064.fit',\n",
       " 'G09_Y1_DS1_385.fit',\n",
       " 'G15_Y1_IN2_239.fit',\n",
       " 'G09_Y1_ES2_264.fit',\n",
       " 'G12_Y1_CND1_270.fit',\n",
       " 'G12_Y1_EN1_389.fit',\n",
       " 'G15_Y1_FS1_299.fit',\n",
       " 'G15_Y1_BN2_135.fit',\n",
       " 'G15_Y1_IN1_053.fit',\n",
       " 'G12_Y1_DX2_024.fit',\n",
       " 'G12_Y1_AX2_177.fit',\n",
       " 'G12_Y1_FX2_195.fit',\n",
       " 'G12_Y2_002_094.fit',\n",
       " 'G12_Y1_EX1_378.fit',\n",
       " 'G12_Y1_FX2_235.fit',\n",
       " 'G15_Y1_CN2_199.fit',\n",
       " 'G15_Y1_HN2_203.fit',\n",
       " 'G09_Y1_GN1_193.fit',\n",
       " 'G09_Y1_EN2_363.fit',\n",
       " 'G15_Y4_242_212.fit',\n",
       " 'G09_Y1_CX2_380.fit',\n",
       " 'G09_Y1_CX2_228.fit',\n",
       " 'G09_Y4_213_108.fit',\n",
       " 'G09_Y4_207_183.fit',\n",
       " 'G09_Y4_225_335.fit',\n",
       " 'G09_Y1_BS2_081.fit',\n",
       " 'G09_Y1_ES1_152.fit',\n",
       " 'G15_Y1_AX1_145.fit',\n",
       " 'G09_Y4_236_331.fit',\n",
       " 'G09_Y4_212_236.fit',\n",
       " 'G12_Y1_BS1_391.fit',\n",
       " 'G12_Y1_DS1_203.fit',\n",
       " 'G12_Y1_HS2_311.fit',\n",
       " 'G15_Y1_BS2_078.fit',\n",
       " 'G15_Y1_FS2_177.fit',\n",
       " 'G12_Y1_ND4_160.fit',\n",
       " 'G12_Y1_END1_096.fit',\n",
       " 'G12_Y1_ND5_067.fit',\n",
       " 'G15_Y1_CS1_013.fit',\n",
       " 'G12_Y1_ND4_288.fit',\n",
       " 'G12_Y1_GN1_363.fit',\n",
       " 'G15_Y1_CN1_125.fit',\n",
       " 'G15_Y1_EN2_054.fit',\n",
       " 'G12_Y1_AS2_331.fit',\n",
       " 'G12_Y1_GS2_373.fit',\n",
       " 'G12_Y1_ES1_298.fit',\n",
       " 'G12_Y1_FN1_136.fit',\n",
       " 'G12_Y1_HS1_285.fit',\n",
       " 'G12_Y1_CS2_390.fit',\n",
       " 'G12_Y1_FS2_205.fit',\n",
       " 'G12_Y1_GS2_014.fit',\n",
       " 'G09_Y1_DS2_117.fit',\n",
       " 'G09_Y1_IS1_064.fit',\n",
       " 'G09_Y1_DS1_385.fit',\n",
       " 'G15_Y1_IN2_239.fit',\n",
       " 'G09_Y1_ES2_264.fit',\n",
       " 'G12_Y1_CND1_270.fit',\n",
       " 'G12_Y1_EN1_389.fit',\n",
       " 'G15_Y1_FS1_299.fit',\n",
       " 'G15_Y1_BN2_135.fit',\n",
       " 'G15_Y1_IN1_053.fit',\n",
       " 'G12_Y1_DX2_024.fit',\n",
       " 'G12_Y1_AX2_177.fit',\n",
       " 'G12_Y1_FX2_195.fit',\n",
       " 'G12_Y2_002_094.fit',\n",
       " 'G12_Y1_EX1_378.fit',\n",
       " 'G12_Y1_FX2_235.fit',\n",
       " 'G15_Y1_CN2_199.fit',\n",
       " 'G15_Y1_HN2_203.fit',\n",
       " 'G09_Y1_GN1_193.fit',\n",
       " 'G09_Y1_EN2_363.fit',\n",
       " 'G15_Y4_242_212.fit',\n",
       " 'G09_Y1_CX2_380.fit',\n",
       " 'G09_Y1_CX2_228.fit',\n",
       " 'G09_Y4_213_108.fit',\n",
       " 'G09_Y4_207_183.fit',\n",
       " 'G09_Y4_225_335.fit',\n",
       " 'G09_Y1_BS2_081.fit',\n",
       " 'G09_Y1_ES1_152.fit',\n",
       " 'G15_Y1_AX1_145.fit',\n",
       " 'G09_Y4_236_331.fit',\n",
       " 'G09_Y4_212_236.fit',\n",
       " 'G12_Y1_BS1_391.fit',\n",
       " 'G12_Y1_DS1_203.fit',\n",
       " 'G12_Y1_HS2_311.fit',\n",
       " 'G15_Y1_BS2_078.fit',\n",
       " 'G15_Y1_FS2_177.fit',\n",
       " 'G12_Y1_ND4_160.fit',\n",
       " 'G12_Y1_END1_096.fit',\n",
       " 'G12_Y1_ND5_067.fit',\n",
       " 'G15_Y1_CS1_013.fit',\n",
       " 'G12_Y1_ND4_288.fit',\n",
       " 'G12_Y1_GN1_363.fit',\n",
       " 'G15_Y1_CN1_125.fit',\n",
       " 'G15_Y1_EN2_054.fit',\n",
       " 'G12_Y1_AS2_331.fit',\n",
       " 'G12_Y1_GS2_373.fit',\n",
       " 'G12_Y1_ES1_298.fit',\n",
       " 'G12_Y1_FN1_136.fit',\n",
       " 'G12_Y1_HS1_285.fit',\n",
       " 'G12_Y1_CS2_390.fit',\n",
       " 'G12_Y1_FS2_205.fit',\n",
       " 'G12_Y1_GS2_014.fit',\n",
       " 'G09_Y1_DS2_117.fit',\n",
       " 'G09_Y1_IS1_064.fit',\n",
       " 'G09_Y1_DS1_385.fit',\n",
       " 'G15_Y1_IN2_239.fit']"
      ]
     },
     "execution_count": 31,
     "metadata": {},
     "output_type": "execute_result"
    }
   ],
   "source": [
    "cp_list = []\n",
    "for i in range(len(list_hs2n)):\n",
    "    cp_list.append(str(list_hs2n[i]+'.fit'))\n",
    "cp_list "
   ]
  },
  {
   "cell_type": "code",
   "execution_count": 36,
   "metadata": {},
   "outputs": [],
   "source": [
    "from shutil import copyfile"
   ]
  },
  {
   "cell_type": "code",
   "execution_count": 37,
   "metadata": {},
   "outputs": [],
   "source": [
    "for i in range(len(cp_list)):\n",
    "    copyfile(os.path.join('../../../../GAMADR3_SPECTRA/DATABASE/', cp_list[i]), \n",
    "             os.path.join('/home/mlldantas/Downloads/Lixo/', cp_list[i]))"
   ]
  },
  {
   "cell_type": "code",
   "execution_count": null,
   "metadata": {},
   "outputs": [],
   "source": []
  }
 ],
 "metadata": {
  "kernelspec": {
   "display_name": "Python 3",
   "language": "python",
   "name": "python3"
  },
  "language_info": {
   "codemirror_mode": {
    "name": "ipython",
    "version": 3
   },
   "file_extension": ".py",
   "mimetype": "text/x-python",
   "name": "python",
   "nbconvert_exporter": "python",
   "pygments_lexer": "ipython3",
   "version": "3.6.6"
  }
 },
 "nbformat": 4,
 "nbformat_minor": 2
}
