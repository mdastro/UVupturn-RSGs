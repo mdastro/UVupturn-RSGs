{
 "cells": [
  {
   "cell_type": "markdown",
   "metadata": {},
   "source": [
    "# Packages"
   ]
  },
  {
   "cell_type": "code",
   "execution_count": 1,
   "metadata": {},
   "outputs": [],
   "source": [
    "import numpy             as np\n",
    "import pandas            as pd\n",
    "import matplotlib.pyplot as plt\n",
    "import seaborn           as sns\n",
    "import astropy.io.fits   as pf   # Pyfits is depracated\n",
    "import astropy.constants as ct\n",
    "import ppxf.miles_util   as lib  # MILES library embedded in ppxf\n",
    "import ppxf.ppxf_util    as util\n",
    "import ppxf              as ppxf_module\n",
    "import os\n",
    "import scipy.interpolate as sci\n",
    "from ppxf.ppxf           import ppxf\n",
    "from ppxf.ppxf_util      import log_rebin"
   ]
  },
  {
   "cell_type": "markdown",
   "metadata": {},
   "source": [
    "# Config. inputs"
   ]
  },
  {
   "cell_type": "code",
   "execution_count": 2,
   "metadata": {},
   "outputs": [],
   "source": [
    "seds_list    = np.loadtxt('../../../GAMAII_SPEC/WHAN_NA_UVUP/gal_list.txt', dtype=str)\n",
    "seds_path    = '../../../GAMAII_SPEC/WHAN_NA_UVUP/'\n",
    "results_path = './Results/'\n",
    "ppxf_dir     = os.path.dirname(os.path.realpath(ppxf_module.__file__))\n",
    "miles_lib    = ppxf_dir+'/miles_models/Mun1.30*.fits'\n",
    "light_speed  = float(str(ct.c.to('km/s')).split(' ')[0])               # selecting the numerical values (must be in km/s)"
   ]
  },
  {
   "cell_type": "code",
   "execution_count": 5,
   "metadata": {},
   "outputs": [],
   "source": [
    "miles01_teste = pf.open(ppxf_dir+'/miles_models/Mun1.30Zm0.40T00.0631_iPp0.00_baseFe_linear_FWHM_2.51.fits')"
   ]
  },
  {
   "cell_type": "code",
   "execution_count": 10,
   "metadata": {},
   "outputs": [
    {
     "name": "stdout",
     "output_type": "stream",
     "text": [
      "Filename: /home/mlldantas/anaconda3/envs/py3k6/lib/python3.6/site-packages/ppxf/miles_models/Mun1.30Zm0.40T00.0631_iPp0.00_baseFe_linear_FWHM_2.51.fits\n",
      "No.    Name      Ver    Type      Cards   Dimensions   Format\n",
      "  0  PRIMARY       1 PrimaryHDU      63   (4300,)   float32   \n"
     ]
    }
   ],
   "source": [
    "miles01_teste.info()"
   ]
  },
  {
   "cell_type": "code",
   "execution_count": 9,
   "metadata": {},
   "outputs": [],
   "source": [
    "miles02_teste = pf.getdata(ppxf_dir+'/miles_models/Mun1.30Zm0.40T00.0631_iPp0.00_baseFe_linear_FWHM_2.51.fits')"
   ]
  },
  {
   "cell_type": "code",
   "execution_count": null,
   "metadata": {},
   "outputs": [],
   "source": []
  },
  {
   "cell_type": "markdown",
   "metadata": {},
   "source": [
    "# Plot parameters (because I'm lazy)"
   ]
  },
  {
   "cell_type": "code",
   "execution_count": null,
   "metadata": {},
   "outputs": [],
   "source": [
    "palette      = ['#af8dc3','#f7f7f7','#7fbf7b']\n",
    "transparency = 0.8\n",
    "lw           = 2."
   ]
  },
  {
   "cell_type": "markdown",
   "metadata": {},
   "source": [
    "# pPXF loop"
   ]
  },
  {
   "cell_type": "code",
   "execution_count": null,
   "metadata": {
    "scrolled": true
   },
   "outputs": [],
   "source": [
    "for each_sed in range(seds_list.size):\n",
    "    # flux ----------------------------------------------------------------------------------------------------------------\n",
    "    sed_file  = os.path.join(seds_path, seds_list[each_sed])          # link between path and files\n",
    "    sed_flux  = pf.getdata(sed_file)[0]                               # opening each spectra\n",
    "    sed_err   = pf.getdata(sed_file)[1]                               # opening each spectra error\n",
    "    \n",
    "    # wavelength ----------------------------------------------------------------------------------------------------------\n",
    "    sed_header = pf.open(sed_file)[0].header\n",
    "    sed_wl_ini = sed_header['WMIN'] \n",
    "    sed_wl_stp = sed_header['CD1_1']\n",
    "    sed_wl     = np.arange(sed_flux.size)*(sed_wl_stp)+sed_wl_ini\n",
    "    \n",
    "    # cleaning flux and wavelength trash ----------------------------------------------------------------------------------\n",
    "    idx_clean       = np.where((np.logical_not(np.isnan(sed_flux)))*(sed_err>0))    # indices where NAN is present\n",
    "    flux_temp       = sed_flux[idx_clean]                                         # removing NAN values from spectra\n",
    "    flux_temp_err   = sed_err[idx_clean]\n",
    "    wavelength_temp = sed_wl[idx_clean]\n",
    "    \n",
    "    # limiting the spectrum regarding the wavelength range of the library -------------------------------------------------\n",
    "    wl_lib_idx = (wavelength_temp>3540) & (wavelength_temp<7409)       # MILES wavelength range\n",
    "    flux       = flux_temp[wl_lib_idx]\n",
    "    flux_err   = flux_temp_err[wl_lib_idx]\n",
    "    wavelength = wavelength_temp[wl_lib_idx]\n",
    "    \n",
    "    # other important parameters ------------------------------------------------------------------------------------------\n",
    "    redshift = sed_header['Z']\n",
    "    cataid   = sed_header['CATAID']\n",
    "    \n",
    "    # ppxf ----------------------------------------------------------------------------------------------------------------\n",
    "    ### parameters --------------------------------------------------------------------------------------------------------\n",
    "    vel_scale          = light_speed*np.log(wavelength[1]/wavelength[0])            # velocity scale - Eq.8 Capellari 2017\n",
    "    fwhm_gama          = 2.                                       # MUST BE CHECKED!!!!! This is just a temporary value!!!\n",
    "    miles              = lib.miles(miles_lib, vel_scale, fwhm_gama)\n",
    "    stellar_templates  = miles.templates.reshape(miles.templates.shape[0], -1)\n",
    "    dv                 = light_speed*(miles.log_lam_temp[0] - np.log(wavelength[0]))  # eq.(8) of Cappellari (2017)\n",
    "    vel                = light_speed*np.log(1 + redshift)                             # eq.(8) of Cappellari (2017)\n",
    "    start              = [vel, 180.]        \n",
    "    \n",
    "    ### rebinning the spectrum so it is at the same size as the templates (or smaller) ------------------------------------\n",
    "    new_shape          = stellar_templates[:,0].shape\n",
    "    rebinning_function = sci.interp1d(wavelength, flux)   # for the flux\n",
    "    wavelength_rebin   = np.linspace(start=wavelength.min(), stop=wavelength.max(), num=int(new_shape[0]))\n",
    "    flux_rebin         = rebinning_function(wavelength_rebin)\n",
    "    \n",
    "    ### rebinning the error -----------------------------------------------------------------------------------------------\n",
    "    rebin_func_error   = sci.interp1d(wavelength, flux_err)\n",
    "    wl_rebin_error     = np.linspace(start=wavelength.min(), stop=wavelength.max(), num=int(new_shape[0]))\n",
    "    flux_err_rebin     = rebin_func_error(wl_rebin_error)\n",
    "    \n",
    "    ### final galaxy spectrum and its error to be analysed ----------------------------------------------------------------\n",
    "    galaxy             = flux_rebin/np.median(flux_rebin)                  # Normalize spectrum to avoid numerical issues\n",
    "    noise              = flux_err_rebin/np.median(flux_err_rebin)          # idem\n",
    " \n",
    "    \n",
    "    ### SED FITTING WITH PPXF ---------------------------------------------------------------------------------------------\n",
    "    sed_fit = ppxf(templates=stellar_templates, galaxy=galaxy, noise=noise, velscale=vel_scale, start=start, plot=False, \n",
    "                   lam=wavelength_rebin, moments=4, degree=50)\n",
    "    \n",
    "    residues = (galaxy-sed_fit.bestfit)\n",
    "    \n",
    "    print (sed_fit.gas_mpoly, sed_fit.gas_reddening, sed_fit.weights, sed_fit.status)\n",
    "    \n",
    "    ### Saving plots ------------------------------------------------------------------------------------------------------\n",
    "    plt.subplots(figsize=(10,5))\n",
    "    plt.subplot(2,1,1)\n",
    "    plt.plot(wavelength_rebin, sed_fit.galaxy, '-', color=palette[-1], linewidth=lw, label=\"Spectrum\")\n",
    "    plt.plot(wavelength_rebin, sed_fit.bestfit, '-', color=palette[0], linewidth=lw, label=\"Best Fit\")\n",
    "    plt.legend(loc='best')\n",
    "    plt.xlabel(\"Wavelength ($\\mathrm{\\AA}$)\", fontsize=12)\n",
    "    plt.ylabel(\"Norm. flux\", fontsize=12)\n",
    "    plt.subplot(2,1,2)\n",
    "    plt.plot(wavelength_rebin, residues, '.', color=palette[-1], linewidth=lw, label=\"Residues\", alpha=transparency)\n",
    "    plt.axhline(y=0, c='black')\n",
    "    plt.legend(loc='best')\n",
    "    plt.xlabel(\"Wavelength ($\\mathrm{\\AA}$)\", fontsize=12)\n",
    "    plt.ylabel(\"Residues\", fontsize=12)\n",
    "    plt.tight_layout()\n",
    "    plt.savefig(os.path.join('./../../Codes/SEDFitting/Results/', 'gal_'+str(cataid)+'.png'))\n",
    "    plt.show()"
   ]
  },
  {
   "cell_type": "code",
   "execution_count": null,
   "metadata": {},
   "outputs": [],
   "source": []
  }
 ],
 "metadata": {
  "kernelspec": {
   "display_name": "Python 3",
   "language": "python",
   "name": "python3"
  },
  "language_info": {
   "codemirror_mode": {
    "name": "ipython",
    "version": 3
   },
   "file_extension": ".py",
   "mimetype": "text/x-python",
   "name": "python",
   "nbconvert_exporter": "python",
   "pygments_lexer": "ipython3",
   "version": "3.6.6"
  }
 },
 "nbformat": 4,
 "nbformat_minor": 2
}
