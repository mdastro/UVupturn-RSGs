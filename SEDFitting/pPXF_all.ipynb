{
 "cells": [
  {
   "cell_type": "markdown",
   "metadata": {},
   "source": [
    "# Packages"
   ]
  },
  {
   "cell_type": "code",
   "execution_count": 1,
   "metadata": {},
   "outputs": [],
   "source": [
    "import numpy             as np\n",
    "import pandas            as pd\n",
    "import matplotlib.pyplot as plt\n",
    "import seaborn           as sns\n",
    "import astropy.io.fits   as pf   # Pyfits is depracated\n",
    "import astropy.constants as ct\n",
    "import ppxf.miles_util   as lib  # MILES library embedded in ppxf\n",
    "import ppxf.ppxf_util    as util\n",
    "import ppxf              as ppxf_module\n",
    "import time\n",
    "import os\n",
    "import scipy.interpolate as sci\n",
    "from ppxf.ppxf           import ppxf\n",
    "from ppxf.ppxf_util      import log_rebin"
   ]
  },
  {
   "cell_type": "markdown",
   "metadata": {},
   "source": [
    "# Config. inputs"
   ]
  },
  {
   "cell_type": "code",
   "execution_count": 2,
   "metadata": {},
   "outputs": [],
   "source": [
    "seds_list    = np.loadtxt('../../../GAMAII_SPEC/WHAN_NA_UVUP/gal_list.txt', dtype=str)\n",
    "seds_path    = '../../../GAMAII_SPEC/WHAN_NA_UVUP/'\n",
    "results_path = './Results/'\n",
    "ppxf_dir     = os.path.dirname(os.path.realpath(ppxf_module.__file__))\n",
    "miles_lib    = ppxf_dir+'/miles_models/Mun1.30*.fits'\n",
    "light_speed  = float(str(ct.c.to('km/s')).split(' ')[0])            # selecting the numerical values (must be in km/s)"
   ]
  },
  {
   "cell_type": "markdown",
   "metadata": {},
   "source": [
    "# Plot parameters (because I'm lazy)"
   ]
  },
  {
   "cell_type": "code",
   "execution_count": 3,
   "metadata": {},
   "outputs": [],
   "source": [
    "palette      = ['#ef8a62','#f7f7f7','#67a9cf']\n",
    "transparency = 0.8\n",
    "lw           = 2."
   ]
  },
  {
   "cell_type": "markdown",
   "metadata": {},
   "source": [
    "# pPXF \"fixed\" parameters"
   ]
  },
  {
   "cell_type": "code",
   "execution_count": 12,
   "metadata": {},
   "outputs": [],
   "source": [
    "# Fit (V, sig, h3, h4) moments=4 for the stars; (V, sig) moments=2 for the two gas kinematic components\n",
    "moments        = [4, 2, 2]\n",
    "degree         = -1         # Additive Legendre polynomial degrees\n",
    "mdegree        = 50         # Multiplicative Legendre polynomial degrees\n",
    "regul_err      = 0.013      # Desired regularization error -- TODO: MUST CHECK WHY\n",
    "tied_balmer    = False\n",
    "limit_doublets = False\n",
    "stellar_comp_w = [0]        # weight of the stellar component\n",
    "balmer_comp_w  = [1]        # weight of the balmer emission lines\n",
    "forbid_comp_w  = [2]        # weight of the forbidden lines"
   ]
  },
  {
   "cell_type": "markdown",
   "metadata": {},
   "source": [
    "# pPXF loop"
   ]
  },
  {
   "cell_type": "code",
   "execution_count": 13,
   "metadata": {},
   "outputs": [],
   "source": [
    "mean_age   = ['<logAge>']\n",
    "mean_metal = ['<[M/H]>']\n",
    "mass2light = ['MASS2LIGHT_R']\n",
    "ids        = ['CATAID']\n",
    "redshifts  = ['Z']"
   ]
  },
  {
   "cell_type": "code",
   "execution_count": null,
   "metadata": {
    "scrolled": true
   },
   "outputs": [
    {
     "name": "stderr",
     "output_type": "stream",
     "text": [
      "/home/mlldantas/anaconda3/envs/py3k6/lib/python3.6/site-packages/ipykernel_launcher.py:14: RuntimeWarning: invalid value encountered in greater\n",
      "  \n"
     ]
    },
    {
     "name": "stdout",
     "output_type": "stream",
     "text": [
      "0.07871 22714.04022946889 [22714.04022946889, 180.0]\n",
      "Emission lines included in gas templates:\n",
      "['Hdelta' 'Hgamma' 'Hbeta' 'Halpha' '[OII]3726' '[OII]3729' '[SII]6716'\n",
      " '[SII]6731' '[OIII]5007_d' '[OI]6300_d' '[NII]6583_d']\n"
     ]
    }
   ],
   "source": [
    "for each_sed in range(1):\n",
    "    # flux -----------------------------------------------------------------------------------------------------------\n",
    "    sed_file  = os.path.join(seds_path, seds_list[each_sed])          # link between path and files\n",
    "    sed_flux  = pf.getdata(sed_file)[0]                               # opening each spectra\n",
    "    sed_err   = pf.getdata(sed_file)[1]                               # opening each spectra error\n",
    "    \n",
    "    # wavelength -----------------------------------------------------------------------------------------------------\n",
    "    sed_header = pf.open(sed_file)[0].header\n",
    "    sed_wl_ini = sed_header['WMIN'] \n",
    "    sed_wl_stp = sed_header['CD1_1']\n",
    "    sed_wl     = np.arange(sed_flux.size)*(sed_wl_stp)+sed_wl_ini\n",
    "    \n",
    "    # cleaning flux and wavelength trash -----------------------------------------------------------------------------\n",
    "    idx_clean       = np.where((np.logical_not(np.isnan(sed_flux)))*(sed_err>0))    # indices where NAN is present\n",
    "    flux_temp       = sed_flux[idx_clean]                                           # removing NAN values from spectra\n",
    "    flux_temp_err   = sed_err[idx_clean]\n",
    "    wavelength_temp = sed_wl[idx_clean]\n",
    "    \n",
    "    # limiting the spectrum regarding the wavelength range of the library --------------------------------------------\n",
    "    wl_lib_idx = (wavelength_temp>3540) & (wavelength_temp<7409)       # MILES wavelength range\n",
    "    flux       = flux_temp[wl_lib_idx]\n",
    "    flux_err   = flux_temp_err[wl_lib_idx]\n",
    "    wavelength = wavelength_temp[wl_lib_idx]\n",
    "    \n",
    "    # other important parameters -------------------------------------------------------------------------------------\n",
    "    redshift  = sed_header['Z']\n",
    "    cataid    = sed_header['CATAID']\n",
    "    fwhm_gama = 2.\n",
    "    \n",
    "    # ppxf -----------------------------------------------------------------------------------------------------------\n",
    "    vel_scale          = light_speed*np.log(wavelength[1]/wavelength[0])      # velocity scale - Eq.8 Capellari 2017\n",
    "    \n",
    "    ### setup templates ----------------------------------------------------------------------------------------------\n",
    "    #### stellar pops ------------------------------------------------------------------------------------------------\n",
    "    miles              = lib.miles(miles_lib, vel_scale, fwhm_gama)\n",
    "    stellar_templates  = miles.templates.reshape(miles.templates.shape[0], -1)\n",
    "    reg_dim            = miles.templates.shape[1:]\n",
    "    dv                 = light_speed*(miles.log_lam_temp[0] - np.log(wavelength[0]))  # eq.(8) of Cappellari (2017)\n",
    "    vel                = light_speed*np.log(1 + redshift)                             # eq.(8) of Cappellari (2017)\n",
    "    start              = [vel, 180.]\n",
    "    print(redshift, vel, start)\n",
    "    \n",
    "    #### gas templates -----------------------------------------------------------------------------------------------\n",
    "    wl_range_galaxy = np.array([np.min(wavelength), np.max(wavelength)])/(1 + redshift)\n",
    "    gas_templates, gas_names, line_wave = util.emission_lines(miles.log_lam_temp, wl_range_galaxy, fwhm_gama, \n",
    "                                                              tie_balmer=tied_balmer, limit_doublets=limit_doublets)\n",
    "    number_of_templates = stellar_templates.shape[1]\n",
    "    number_of_forbidden = np.sum([\"[\" in a for a in gas_names])                      # forbidden lines contain \"[*]\"\n",
    "    number_of_balmer    = len(gas_names) - number_of_forbidden\n",
    "    \n",
    "    \"\"\"\n",
    "    print (\"SANITY CHECK NUMBER\")\n",
    "    print (\"number of templates\", number_of_templates, stellar_templates.shape[1])\n",
    "    print (\"number of forbidden lines\", number_of_forbidden)\n",
    "    print (\"number of balmer lines\", number_of_balmer)\n",
    "    print (\"emission lines:\", gas_names)\n",
    "    \"\"\"\n",
    "    \n",
    "    component = (stellar_comp_w*number_of_templates)+(balmer_comp_w*number_of_balmer)+(forbid_comp_w\n",
    "                                                                                       *number_of_forbidden)\n",
    "        \n",
    "    gas_component = np.array(component) > 0       # gas_component=True for gas templates\n",
    "    start3        = [start, start, start]         # adopt the same starting value for the 3 components\n",
    "    gas_reddening = 0 if tied_balmer else None    # If the Balmer lines are tied one should allow for gas reddeining.\n",
    "    \n",
    "    \"\"\"    \n",
    "    print (\"SANITY CHECK TEMPLATES & COMPONENTS\")    \n",
    "    print (\"component shape:\", np.array(component).shape)\n",
    "    print (\"component:\",  component)\n",
    "    print (\"gas component:\", gas_component)\n",
    "    print (\"start for all components:\", start3)\n",
    "    print (\"stellar templates:\", stellar_templates.shape)\n",
    "    print (\"gas templates:\", gas_templates.shape)\n",
    "    print (\"all templates:\", all_templates.shape)\n",
    "    print (\"gas reddening:\", gas_reddening)\n",
    "    \"\"\"\n",
    "    \n",
    "    #### all templates -----------------------------------------------------------------------------------------------\n",
    "    all_templates = np.column_stack([stellar_templates, gas_templates])\n",
    "    \n",
    "    ### rebinning the spectrum so it is at the same size as the templates (or smaller) -------------------------------\n",
    "    new_shape          = stellar_templates[:,0].shape\n",
    "    rebinning_function = sci.interp1d(wavelength, flux)   # for the flux\n",
    "    wavelength_rebin   = np.linspace(start=wavelength.min(), stop=wavelength.max(), num=int(new_shape[0]))\n",
    "    flux_rebin         = rebinning_function(wavelength_rebin)\n",
    "    \n",
    "    ### rebinning the error ------------------------------------------------------------------------------------------\n",
    "    rebin_func_error   = sci.interp1d(wavelength, flux_err)\n",
    "    wl_rebin_error     = np.linspace(start=wavelength.min(), stop=wavelength.max(), num=int(new_shape[0]))\n",
    "    flux_err_rebin     = rebin_func_error(wl_rebin_error)\n",
    "    \n",
    "    ### final galaxy spectrum and its error to be analysed -----------------------------------------------------------\n",
    "    galaxy             = flux_rebin/np.median(flux_rebin)               # Normalize spectrum to avoid numerical issues\n",
    "    noise              = flux_err_rebin/np.median(flux_err_rebin)       # idem\n",
    "    \n",
    "    ### SED FITTING WITH PPXF ----------------------------------------------------------------------------------------\n",
    "    start_time = time.clock()\n",
    "    sed_fit = ppxf(templates=all_templates, galaxy=galaxy, noise=noise, velscale=vel_scale, start=start3, plot=True, \n",
    "                   lam=wavelength_rebin, moments=moments, degree=degree, mdegree=mdegree, regul=1./regul_err, \n",
    "                   reg_dim=reg_dim, vsyst=dv, clean=False, component=component, gas_component=gas_component,\n",
    "                   gas_reddening=gas_reddening)\n",
    "    end_time = time.clock()\n",
    "    \n",
    "    ### output parameters -- most of them will become a dataframe at the end of the script  \n",
    "    residues = (galaxy-sed_fit.bestfit)\n",
    "    \n",
    "    stellar_weights = sed_fit.weights[~gas_component]                         # Exclude weights of the gas templates\n",
    "    stellar_weights = stellar_weights.reshape(reg_dim)/stellar_weights.sum()  # Normalized\n",
    "    \n",
    "    mean_age.append(miles.mean_age_metal(stellar_weights)[0])\n",
    "    mean_metal.append(miles.mean_age_metal(stellar_weights)[1])\n",
    "    mass2light.append(miles.mass_to_light(stellar_weights, band=\"r\"))\n",
    "    ids.append(cataid)\n",
    "    redshifts.append(redshift)\n",
    "       \n",
    "    print(r\"Current $\\Chi^2$: %.4g\" % (sed_fit.chi2))\n",
    "    print('Elapsed time in PPXF: %.2f [min]' % ((end_time-start_time)/60))\n",
    "\n",
    "    ### Saving plots -------------------------------------------------------------------------------------------------\n",
    "    plt.subplots(figsize=(5,10))\n",
    "    plt.subplot(3,1,1)\n",
    "    plt.plot(wavelength_rebin, sed_fit.galaxy, '-', color=palette[-1], linewidth=lw, label=\"Spectrum\")\n",
    "    plt.plot(wavelength_rebin, sed_fit.bestfit, '-', color=palette[0], linewidth=lw, label=\"Best Fit\")\n",
    "    plt.legend(loc='best')\n",
    "    plt.xlabel(\"Wavelength ($\\mathrm{\\AA}$)\", fontsize=12)\n",
    "    plt.ylabel(\"Norm. flux\", fontsize=12)\n",
    "          \n",
    "    plt.subplot(3,1,2)\n",
    "    plt.plot(wavelength_rebin, residues, '.', color=palette[-1], linewidth=lw, label=\"Residues\", alpha=transparency)\n",
    "    plt.axhline(y=0, c='black')\n",
    "    plt.legend(loc='best')\n",
    "    plt.xlabel(\"Wavelength ($\\mathrm{\\AA}$)\", fontsize=12)\n",
    "    plt.ylabel(\"Residues\", fontsize=12)\n",
    "    \n",
    "    plt.subplot(3,1,3)\n",
    "    miles.plot(stellar_weights)\n",
    "          \n",
    "    plt.tight_layout()\n",
    "#     plt.savefig(os.path.join('./../../Codes/SEDFitting/Results/', 'gal_'+str(cataid)+'.png'))\n",
    "    plt.show()"
   ]
  },
  {
   "cell_type": "code",
   "execution_count": null,
   "metadata": {},
   "outputs": [],
   "source": [
    "print (sed_fit.chi2)"
   ]
  },
  {
   "cell_type": "code",
   "execution_count": null,
   "metadata": {},
   "outputs": [],
   "source": [
    "### Saving outputs as dataframe ----------------------------------------------------------------------------------\n",
    "ids        = np.array(ids)\n",
    "redshifts  = np.array(redshifts)\n",
    "mean_age   = np.array(mean_age)\n",
    "mean_metal = np.array(mean_metal)\n",
    "mass2light = np.array(mass2light)\n",
    "outputs    = np.column_stack((ids, redshifts, mean_age, mean_metal, mass2light))\n",
    "columns    = outputs[0,:]\n",
    "outputs_dataframe = pd.DataFrame(outputs[1:,:])\n",
    "outputs_dataframe.columns = columns\n",
    "outputs_dataframe.to_csv('./Results/ouputs_ppxf.csv', index=False)"
   ]
  },
  {
   "cell_type": "code",
   "execution_count": null,
   "metadata": {},
   "outputs": [],
   "source": [
    "outputs_dataframe"
   ]
  },
  {
   "cell_type": "code",
   "execution_count": null,
   "metadata": {},
   "outputs": [],
   "source": [
    "print (np.unique(np.isnan(noise)))"
   ]
  },
  {
   "cell_type": "code",
   "execution_count": null,
   "metadata": {},
   "outputs": [],
   "source": []
  }
 ],
 "metadata": {
  "kernelspec": {
   "display_name": "Python 3",
   "language": "python",
   "name": "python3"
  },
  "language_info": {
   "codemirror_mode": {
    "name": "ipython",
    "version": 3
   },
   "file_extension": ".py",
   "mimetype": "text/x-python",
   "name": "python",
   "nbconvert_exporter": "python",
   "pygments_lexer": "ipython3",
   "version": "3.6.6"
  }
 },
 "nbformat": 4,
 "nbformat_minor": 2
}
