{
 "cells": [
  {
   "cell_type": "markdown",
   "metadata": {},
   "source": [
    "# Packages"
   ]
  },
  {
   "cell_type": "code",
   "execution_count": null,
   "metadata": {},
   "outputs": [],
   "source": [
    "import numpy             as np\n",
    "import pandas            as pd\n",
    "import matplotlib.pyplot as plt\n",
    "import seaborn           as sns\n",
    "import astropy.io.fits   as pf   # Pyfits is depracated\n",
    "import astropy.constants as ct\n",
    "import ppxf.miles_util   as lib  # MILES library embedded in ppxf\n",
    "import ppxf.ppxf_util    as util\n",
    "import ppxf              as ppxf_module\n",
    "import os\n",
    "import scipy.interpolate as sci\n",
    "from ppxf.ppxf           import ppxf\n",
    "from ppxf.ppxf_util      import log_rebin"
   ]
  },
  {
   "cell_type": "markdown",
   "metadata": {},
   "source": [
    "# Config. inputs"
   ]
  },
  {
   "cell_type": "code",
   "execution_count": null,
   "metadata": {},
   "outputs": [],
   "source": [
    "seds_list    = np.loadtxt('../../../GAMAII_SPEC/WHAN_NA_UVUP/gal_list.txt', dtype=str)\n",
    "seds_path    = '../../../GAMAII_SPEC/WHAN_NA_UVUP/'\n",
    "results_path = './Results/'\n",
    "ppxf_dir     = os.path.dirname(os.path.realpath(ppxf_module.__file__))\n",
    "miles_lib    = ppxf_dir+'/miles_models/Mun1.30*.fits'\n",
    "light_speed  = float(str(ct.c.to('km/s')).split(' ')[0])               # selecting the numerical values (must be in km/s)"
   ]
  },
  {
   "cell_type": "markdown",
   "metadata": {},
   "source": [
    "# Plot parameters (because I'm lazy)"
   ]
  },
  {
   "cell_type": "code",
   "execution_count": null,
   "metadata": {},
   "outputs": [],
   "source": [
    "palette      = ['#ef8a62','#f7f7f7','#67a9cf']\n",
    "transparency = 0.8\n",
    "lw           = 2."
   ]
  },
  {
   "cell_type": "markdown",
   "metadata": {},
   "source": [
    "# pPXF \"fixed\" parameters"
   ]
  },
  {
   "cell_type": "code",
   "execution_count": null,
   "metadata": {},
   "outputs": [],
   "source": [
    "moments   = 2\n",
    "degree    = -1\n",
    "mdegree   = 10\n",
    "regul_err = 0.013"
   ]
  },
  {
   "cell_type": "markdown",
   "metadata": {},
   "source": [
    "# pPXF loop"
   ]
  },
  {
   "cell_type": "code",
   "execution_count": null,
   "metadata": {},
   "outputs": [],
   "source": [
    "mean_age   = ['<logAge>']\n",
    "mean_metal = ['<[M/H]>']\n",
    "mass2light = ['MASS2LIGHT_R']\n",
    "ids        = ['CATAID']\n",
    "redshifts  = ['Z']"
   ]
  },
  {
   "cell_type": "code",
   "execution_count": null,
   "metadata": {
    "scrolled": true
   },
   "outputs": [],
   "source": [
    "for each_sed in range(seds_list.size):\n",
    "    # flux -----------------------------------------------------------------------------------------------------------\n",
    "    sed_file  = os.path.join(seds_path, seds_list[each_sed])          # link between path and files\n",
    "    sed_flux  = pf.getdata(sed_file)[0]                               # opening each spectra\n",
    "    sed_err   = pf.getdata(sed_file)[1]                               # opening each spectra error\n",
    "    \n",
    "    # wavelength -----------------------------------------------------------------------------------------------------\n",
    "    sed_header = pf.open(sed_file)[0].header\n",
    "    sed_wl_ini = sed_header['WMIN'] \n",
    "    sed_wl_stp = sed_header['CD1_1']\n",
    "    sed_wl     = np.arange(sed_flux.size)*(sed_wl_stp)+sed_wl_ini\n",
    "    \n",
    "    # cleaning flux and wavelength trash -----------------------------------------------------------------------------\n",
    "    idx_clean       = np.where((np.logical_not(np.isnan(sed_flux)))*(sed_err>0))    # indices where NAN is present\n",
    "    flux_temp       = sed_flux[idx_clean]                                           # removing NAN values from spectra\n",
    "    flux_temp_err   = sed_err[idx_clean]\n",
    "    wavelength_temp = sed_wl[idx_clean]\n",
    "    \n",
    "    # limiting the spectrum regarding the wavelength range of the library --------------------------------------------\n",
    "    wl_lib_idx = (wavelength_temp>3540) & (wavelength_temp<7409)       # MILES wavelength range\n",
    "    flux       = flux_temp[wl_lib_idx]\n",
    "    flux_err   = flux_temp_err[wl_lib_idx]\n",
    "    wavelength = wavelength_temp[wl_lib_idx]\n",
    "    \n",
    "    # other important parameters -------------------------------------------------------------------------------------\n",
    "    redshift  = sed_header['Z']\n",
    "    cataid    = sed_header['CATAID']\n",
    "    fwhm_gama = 4.5 \n",
    "    \n",
    "    # ppxf -----------------------------------------------------------------------------------------------------------\n",
    "    ### parameters ---------------------------------------------------------------------------------------------------\n",
    "    vel_scale          = light_speed*np.log(wavelength[1]/wavelength[0])        # velocity scale - Eq.8 Capellari 2017\n",
    "#     fwhm_gama          = 2.                                       # MUST BE CHECKED! This is just a temporary value!\n",
    "    miles              = lib.miles(miles_lib, vel_scale, fwhm_gama)\n",
    "    stellar_templates  = miles.templates.reshape(miles.templates.shape[0], -1)\n",
    "    reg_dim            = miles.templates.shape[1:]\n",
    "    dv                 = light_speed*(miles.log_lam_temp[0] - np.log(wavelength[0]))  # eq.(8) of Cappellari (2017)\n",
    "    vel                = light_speed*np.log(1 + redshift)                             # eq.(8) of Cappellari (2017)\n",
    "    start              = [vel, 180.]\n",
    "    \n",
    "    ### rebinning the spectrum so it is at the same size as the templates (or smaller) -------------------------------\n",
    "    new_shape          = stellar_templates[:,0].shape\n",
    "    rebinning_function = sci.interp1d(wavelength, flux)   # for the flux\n",
    "    wavelength_rebin   = np.linspace(start=wavelength.min(), stop=wavelength.max(), num=int(new_shape[0]))\n",
    "    flux_rebin         = rebinning_function(wavelength_rebin)\n",
    "    \n",
    "    ### rebinning the error ------------------------------------------------------------------------------------------\n",
    "    rebin_func_error   = sci.interp1d(wavelength, flux_err)\n",
    "    wl_rebin_error     = np.linspace(start=wavelength.min(), stop=wavelength.max(), num=int(new_shape[0]))\n",
    "    flux_err_rebin     = rebin_func_error(wl_rebin_error)\n",
    "    \n",
    "    ### final galaxy spectrum and its error to be analysed -----------------------------------------------------------\n",
    "    galaxy             = flux_rebin/np.median(flux_rebin)               # Normalize spectrum to avoid numerical issues\n",
    "    noise              = flux_err_rebin/np.median(flux_err_rebin)       # idem"
   ]
  },
  {
   "cell_type": "code",
   "execution_count": null,
   "metadata": {},
   "outputs": [],
   "source": [
    "    ### Saving outputs as dataframe ----------------------------------------------------------------------------------\n",
    "    ids        = np.array(ids)\n",
    "    redshifts  = np.array(redshifts)\n",
    "    mean_age   = np.array(mean_age)\n",
    "    mean_metal = np.array(mean_metal)\n",
    "    mass2light = np.array(mass2light)\n",
    "    outputs    = np.column_stack((ids, redshifts, mean_age, mean_metal, mass2light))\n",
    "    columns    = outputs[0,:]\n",
    "    outputs_dataframe = pd.DataFrame(outputs[1:,:])\n",
    "    outputs_dataframe.columns = columns\n",
    "    outputs_dataframe.to_csv('./Results/ouputs_ppxf.csv', index=False)"
   ]
  },
  {
   "cell_type": "code",
   "execution_count": null,
   "metadata": {},
   "outputs": [],
   "source": [
    "    outputs_dataframe"
   ]
  },
  {
   "cell_type": "code",
   "execution_count": null,
   "metadata": {},
   "outputs": [],
   "source": []
  }
 ],
 "metadata": {
  "kernelspec": {
   "display_name": "Python 3",
   "language": "python",
   "name": "python3"
  },
  "language_info": {
   "codemirror_mode": {
    "name": "ipython",
    "version": 3
   },
   "file_extension": ".py",
   "mimetype": "text/x-python",
   "name": "python",
   "nbconvert_exporter": "python",
   "pygments_lexer": "ipython3",
   "version": "3.6.6"
  }
 },
 "nbformat": 4,
 "nbformat_minor": 2
}
