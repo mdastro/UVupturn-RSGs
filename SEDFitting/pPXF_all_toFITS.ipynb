{
 "cells": [
  {
   "cell_type": "markdown",
   "metadata": {},
   "source": [
    "# Libraries"
   ]
  },
  {
   "cell_type": "code",
   "execution_count": 12,
   "metadata": {},
   "outputs": [],
   "source": [
    "# usual libraries ----------------------------------------------------------------------------------------------------\n",
    "import numpy             as np\n",
    "import pandas            as pd\n",
    "import matplotlib.pyplot as plt\n",
    "import seaborn           as sns\n",
    "import astropy.io.fits   as pf\n",
    "import astropy.constants as ct\n",
    "import ipywidgets        as widgets\n",
    "import IPython.display   as d\n",
    "import os\n",
    "import time\n",
    "import scipy.interpolate as sci"
   ]
  },
  {
   "cell_type": "code",
   "execution_count": 2,
   "metadata": {},
   "outputs": [],
   "source": [
    "# ppxf separately ----------------------------------------------------------------------------------------------------\n",
    "import ppxf.miles_util   as lib  # MILES library embedded in ppxf\n",
    "import ppxf.ppxf_util    as util\n",
    "import ppxf              as ppxf_module\n",
    "from ppxf.ppxf           import ppxf\n",
    "from ppxf.ppxf_util      import log_rebin"
   ]
  },
  {
   "cell_type": "markdown",
   "metadata": {},
   "source": [
    "# Dataset, data path, results path, etc."
   ]
  },
  {
   "cell_type": "code",
   "execution_count": 25,
   "metadata": {},
   "outputs": [
    {
     "data": {
      "application/vnd.jupyter.widget-view+json": {
       "model_id": "e57ccab316c04197adce72163214aac7",
       "version_major": 2,
       "version_minor": 0
      },
      "text/plain": [
       "FloatProgress(value=10.0, description='Loading:')"
      ]
     },
     "metadata": {},
     "output_type": "display_data"
    }
   ],
   "source": [
    "dataset_path = './../../Catalogue/Match08_smallemlines_inputcattype.csv'\n",
    "my_data      = pd.read_csv(dataset_path)\n",
    "widgets.FloatProgress(value=10, min=0, max=100, step=10, description='Loading:', bar_style='', \n",
    "                      orientation='horizontal')"
   ]
  },
  {
   "cell_type": "code",
   "execution_count": 26,
   "metadata": {},
   "outputs": [
    {
     "data": {
      "application/vnd.jupyter.widget-view+json": {
       "model_id": "cc2e56ddd28b41e48a7f1a90f26d45eb",
       "version_major": 2,
       "version_minor": 0
      },
      "text/plain": [
       "FloatProgress(value=100.0, bar_style='success', description='Loading:')"
      ]
     },
     "metadata": {},
     "output_type": "display_data"
    }
   ],
   "source": [
    "widgets.FloatProgress(value=100, min=0, max=100, step=10, description='Loading:', bar_style='success', \n",
    "                      orientation='horizontal')"
   ]
  }
 ],
 "metadata": {
  "kernelspec": {
   "display_name": "Python 3",
   "language": "python",
   "name": "python3"
  },
  "language_info": {
   "codemirror_mode": {
    "name": "ipython",
    "version": 3
   },
   "file_extension": ".py",
   "mimetype": "text/x-python",
   "name": "python",
   "nbconvert_exporter": "python",
   "pygments_lexer": "ipython3",
   "version": "3.6.6"
  }
 },
 "nbformat": 4,
 "nbformat_minor": 2
}
