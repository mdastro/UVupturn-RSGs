{
 "cells": [
  {
   "cell_type": "markdown",
   "metadata": {},
   "source": [
    "# Libraries"
   ]
  },
  {
   "cell_type": "code",
   "execution_count": 1,
   "metadata": {},
   "outputs": [],
   "source": [
    "import numpy as np\n",
    "import pandas as pd\n",
    "import matplotlib.pyplot as plt\n",
    "import seaborn as sns"
   ]
  },
  {
   "cell_type": "markdown",
   "metadata": {},
   "source": [
    "# Loading Dataset"
   ]
  },
  {
   "cell_type": "code",
   "execution_count": 2,
   "metadata": {},
   "outputs": [],
   "source": [
    "my_data = np.loadtxt('../../Catalogue/Match07_smalldoubleclean_emlines.csv', delimiter=',', dtype=str)"
   ]
  },
  {
   "cell_type": "code",
   "execution_count": 3,
   "metadata": {},
   "outputs": [],
   "source": [
    "my_dictionary = {}\n",
    "for i in range(len(my_data[0, :])):                                         # Converting numpy array into dictionary\n",
    "    my_dictionary[my_data[0, i]] = np.array(my_data[0 + 1:, i], dtype=str)"
   ]
  },
  {
   "cell_type": "code",
   "execution_count": 4,
   "metadata": {
    "scrolled": true
   },
   "outputs": [
    {
     "name": "stdout",
     "output_type": "stream",
     "text": [
      "(14332, 164)\n",
      "2350448\n",
      "['CATAID' 'OBJID_SDSSDR7' 'ALPHA_J2000' 'DELTA_J2000' 'KRON_RADIUS'\n",
      " 'PETRO_RADIUS' 'MAG_PETRO_u' 'MAGERR_PETRO_u' 'FLAGS_u' 'MAG_PETRO_g'\n",
      " 'MAGERR_PETRO_g' 'FLAGS_g' 'MAG_PETRO_r' 'MAGERR_PETRO_r' 'FLAGS_r'\n",
      " 'MAG_PETRO_i' 'MAGERR_PETRO_i' 'FLAGS_i' 'MAG_PETRO_z' 'MAGERR_PETRO_z'\n",
      " 'FLAGS_z' 'MAG_PETRO_X' 'MAGERR_PETRO_X' 'FLAGS_X' 'MAG_PETRO_Y'\n",
      " 'MAGERR_PETRO_Y' 'FLAGS_Y' 'MAG_PETRO_J' 'MAGERR_PETRO_J' 'FLAGS_J'\n",
      " 'MAG_PETRO_H' 'MAGERR_PETRO_H' 'FLAGS_H' 'MAG_PETRO_K' 'MAGERR_PETRO_K'\n",
      " 'FLAGS_K' 'FLAGS' 'PSFMAG_R' 'FIBERMAG_R' 'FLAGS_R_SDSS' 'PETRORAD_R'\n",
      " 'PETROR90_R' 'PETROR50_R' 'PETROMAG_R' 'MODELMAG_U' 'MODELMAG_G'\n",
      " 'MODELMAG_R' 'MODELMAG_I' 'MODELMAG_Z' 'STATUS' 'BEST_MAG_NUV'\n",
      " 'BEST_MAGERR_NUV' 'BEST_MAG_FUV' 'BEST_MAGERR_FUV' 'BEST_METHOD'\n",
      " 'NMATCHUV' 'NMATCHOPT' 'NUVFLAG' 'FUVFLAG' 'NN_DIST' 'NN_NMATCH4'\n",
      " 'NN_MANY2ONE' 'NN_SFLAGS_NUV' 'NN_SFLAGS_FUV' 'KCORR_FUV' 'KCORR_NUV'\n",
      " 'KCORR_U' 'KCORR_G' 'KCORR_R' 'KCORR_I' 'KCORR_Z' 'KCORR_Y' 'KCORR_J'\n",
      " 'KCORR_H' 'KCORR_K' 'CHI2' 'MASS' 'INTSFH' 'METS' 'B300' 'B1000'\n",
      " 'SURVEY_CODE' 'SURVEY_CLASS' 'nbands' 'S2N' 'PPP' 'logmstar'\n",
      " 'dellogmstar' 'logmoverl_i' 'dellogmoverl_i' 'logage' 'dellogage'\n",
      " 'logtau' 'dellogtau' 'logmintsfh' 'dellogmintsfh' 'logmremnants'\n",
      " 'dellogmremnants' 'metal' 'delmetal' 'extBV' 'delextBV' 'logLWage'\n",
      " 'dellogLWage' 'gminusi' 'delgminusi' 'uminusr' 'deluminusr'\n",
      " 'gminusi_stars' 'uminusr_stars' 'C_logM_ur' 'C_logM_gi' 'C_logM_eBV'\n",
      " 'SPECID' 'SURVEY_CODE_EMLINES' 'SN' 'D4000N' 'D4000N_ERR' 'SURVEY' 'Z'\n",
      " 'NQ' 'PROB' 'HB_FLUX_COMP' 'HB_FLUX_ERR_COMP' 'HB_EW_COMP'\n",
      " 'HB_EW_ERR_COMP' 'OIIIR_FLUX_COMP' 'OIIIR_FLUX_ERR_COMP' 'OIIIR_EW_COMP'\n",
      " 'OIIIR_EW_ERR_COMP' 'HA_FLUX_COMP' 'HA_FLUX_ERR_COMP' 'HA_EW_COMP'\n",
      " 'HA_EW_ERR_COMP' 'NIIR_FLUX_COMP' 'NIIR_FLUX_ERR_COMP' 'NIIR_EW_COMP'\n",
      " 'NIIR_EW_ERR_COMP' 'MAG_AB_FUV' 'MAG_AB_NUV' 'MAG_AB_U' 'MAG_AB_G'\n",
      " 'MAG_AB_R' 'MAG_AB_I' 'MAG_AB_Z' 'MAG_AB_Y' 'MAG_AB_J' 'MAG_AB_H'\n",
      " 'MAG_AB_K' 'MAG_ABSOLUTE_FUV' 'MAG_ABSOLUTE_NUV' 'MAG_ABSOLUTE_U'\n",
      " 'MAG_ABSOLUTE_G' 'MAG_ABSOLUTE_R' 'MAG_ABSOLUTE_I' 'MAG_ABSOLUTE_Z'\n",
      " 'MAG_ABSOLUTE_Y' 'MAG_ABSOLUTE_J' 'MAG_ABSOLUTE_H' 'MAG_ABSOLUTE_K'\n",
      " 'UV_CLASS_YI2011' 'TYPE' 'BPT_CLASS' 'WHAN_CLASS']\n"
     ]
    }
   ],
   "source": [
    "print my_data.shape\n",
    "print my_data.size\n",
    "print my_data[0,:]"
   ]
  },
  {
   "cell_type": "code",
   "execution_count": 5,
   "metadata": {},
   "outputs": [],
   "source": [
    "redshift     = my_dictionary['Z'].astype(float)\n",
    "cataid       = my_dictionary['CATAID'].astype(str)\n",
    "z_prob       = my_dictionary['PROB'].astype(float)\n",
    "z_quality    = my_dictionary['NQ'].astype(int)\n",
    "fuv_band     = my_dictionary['MAG_AB_FUV'].astype(float)   \n",
    "nuv_band     = my_dictionary['MAG_AB_NUV'].astype(float)\n",
    "u_band       = my_dictionary['MAG_AB_U'].astype(float)\n",
    "g_band       = my_dictionary['MAG_AB_G'].astype(float)\n",
    "r_band       = my_dictionary['MAG_AB_R'].astype(float)\n",
    "mag_abs_r    = my_dictionary['MAG_ABSOLUTE_R'].astype(float)\n",
    "stellar_mass = my_dictionary['logmstar'].astype(float)   # stellar mass from sed fitting - log scale\n",
    "stellar_age  = my_dictionary['logage'].astype(float)     # stellar age - log scale\n",
    "stellar_met  = my_dictionary['metal'].astype(float)      # stellar metallicity\n",
    "dn4000       = my_dictionary['D4000N'].astype(float)     \n",
    "h_alpha_flux = my_dictionary['HA_FLUX_COMP'].astype(float)    \n",
    "h_alpha_ew   = my_dictionary['HA_EW_COMP'].astype(float)      \n",
    "h_beta_flux  = my_dictionary['HB_FLUX_COMP'].astype(float)    \n",
    "h_beta_ew    = my_dictionary['HB_EW_COMP'].astype(float)      \n",
    "nii_flux     = my_dictionary['NIIR_FLUX_COMP'].astype(float)  # R for red or 6583A -- see http://www.gama-survey.org/dr3/schema/dmu.php?id=8\n",
    "oiii_flux    = my_dictionary['OIIIR_EW_COMP'].astype(float)   # R for red or 5007A -- see http://www.gama-survey.org/dr3/schema/dmu.php?id=8\n",
    "uv_class     = my_dictionary['UV_CLASS_YI2011'].astype(str)\n",
    "whan_class   = my_dictionary['WHAN_CLASS'].astype(str)"
   ]
  },
  {
   "cell_type": "code",
   "execution_count": 6,
   "metadata": {},
   "outputs": [
    {
     "name": "stdout",
     "output_type": "stream",
     "text": [
      "['RSF' 'UV_UPTURN' 'UV_WEAK']\n",
      "['NA' 'Retired/Passive' 'SF' 'sAGN' 'wAGN']\n"
     ]
    }
   ],
   "source": [
    "print np.unique(uv_class)\n",
    "print np.unique(whan_class)"
   ]
  },
  {
   "cell_type": "code",
   "execution_count": 7,
   "metadata": {},
   "outputs": [
    {
     "name": "stdout",
     "output_type": "stream",
     "text": [
      "(14332,)\n"
     ]
    }
   ],
   "source": [
    "print my_data[:,0].shape"
   ]
  },
  {
   "cell_type": "code",
   "execution_count": 8,
   "metadata": {},
   "outputs": [],
   "source": [
    "idx_uvup   = np.where(uv_class=='UV_UPTURN')\n",
    "idx_uvwk   = np.where(uv_class=='UV_WEAK')\n",
    "idx_redseq = list(idx_uvup[0]) + list(idx_uvwk[0])"
   ]
  },
  {
   "cell_type": "code",
   "execution_count": 9,
   "metadata": {},
   "outputs": [],
   "source": [
    "bins = np.arange(0, (redshift[idx_uvup]).max(), 0.05)\n",
    "average_redshift = []\n",
    "z_uvup_all = []\n",
    "z_sf = []\n",
    "z_sa = []\n",
    "z_wa = []\n",
    "z_rp = []\n",
    "z_na = []\n",
    "ratio_sf = []\n",
    "ratio_wa = []\n",
    "ratio_sa = []\n",
    "ratio_rp = []\n",
    "ratio_na = []\n",
    "z_uvup = redshift[idx_uvup]\n",
    "z_sf   = z_uvup[np.where(whan_class[idx_uvup]=='SF')]\n",
    "z_sa   = z_uvup[np.where(whan_class[idx_uvup]=='sAGN')]\n",
    "z_wa   = z_uvup[np.where(whan_class[idx_uvup]=='wAGN')]\n",
    "z_rp   = z_uvup[np.where(whan_class[idx_uvup]=='Retired/Passive')]\n",
    "z_na   = z_uvup[np.where(whan_class[idx_uvup]=='NA')]"
   ]
  },
  {
   "cell_type": "code",
   "execution_count": 10,
   "metadata": {},
   "outputs": [
    {
     "data": {
      "text/plain": [
       "array([0.  , 0.05, 0.1 , 0.15, 0.2 , 0.25, 0.3 ])"
      ]
     },
     "execution_count": 10,
     "metadata": {},
     "output_type": "execute_result"
    }
   ],
   "source": [
    "bins"
   ]
  },
  {
   "cell_type": "code",
   "execution_count": 11,
   "metadata": {},
   "outputs": [
    {
     "name": "stdout",
     "output_type": "stream",
     "text": [
      "There are no UV Upturn galaxies in this range of redshift: 0.00 and 0.05\n"
     ]
    }
   ],
   "source": [
    "for i in range(bins.size):\n",
    "    if i==0:\n",
    "        continue\n",
    "    else:\n",
    "        index_uvup_i = np.where((bins[i-1]<=z_uvup)*(z_uvup<=bins[i])) \n",
    "        index_sf_i   = np.where((bins[i-1]<=z_sf)*(z_sf<=bins[i]))\n",
    "        index_sa_i   = np.where((bins[i-1]<=z_sa)*(z_sa<=bins[i]))\n",
    "        index_wa_i   = np.where((bins[i-1]<=z_wa)*(z_wa<=bins[i]))\n",
    "        index_rp_i   = np.where((bins[i-1]<=z_rp)*(z_rp<=bins[i]))\n",
    "        index_na_i   = np.where((bins[i-1]<=z_na)*(z_na<=bins[i]))\n",
    "        z_bin_uvup   = z_uvup[index_uvup_i]\n",
    "        z_bin_sf     = z_sf[index_sf_i]\n",
    "        z_bin_sa     = z_sa[index_sa_i]\n",
    "        z_bin_wa     = z_wa[index_wa_i]\n",
    "        z_bin_rp     = z_rp[index_rp_i]\n",
    "        z_bin_na     = z_na[index_na_i]\n",
    "        \n",
    "        if (z_bin_uvup.size==0):\n",
    "            ratio_sf_i = 0\n",
    "            ratio_sa_i = 0\n",
    "            ratio_wa_i = 0\n",
    "            ratio_rp_i = 0\n",
    "            ratio_na_i = 0\n",
    "            print \"There are no UV Upturn galaxies in this range of redshift: %.2f and %.2f\" % (bins[i-1], bins[i])\n",
    "        else:\n",
    "            ratio_sf_i = (np.float(z_bin_sf.size)/np.float(z_bin_uvup.size))*100\n",
    "            ratio_sa_i = (np.float(z_bin_sa.size)/np.float(z_bin_uvup.size))*100\n",
    "            ratio_wa_i = (np.float(z_bin_wa.size)/np.float(z_bin_uvup.size))*100\n",
    "            ratio_rp_i = (np.float(z_bin_rp.size)/np.float(z_bin_uvup.size))*100\n",
    "            ratio_na_i = (np.float(z_bin_na.size)/np.float(z_bin_uvup.size))*100 \n",
    "        ratio_sf.append(ratio_sf_i)\n",
    "        ratio_sa.append(ratio_sa_i)\n",
    "        ratio_wa.append(ratio_wa_i)\n",
    "        ratio_rp.append(ratio_rp_i)\n",
    "        ratio_na.append(ratio_na_i)\n",
    "ratio_sf = np.array(ratio_sf)\n",
    "ratio_sa = np.array(ratio_sa)\n",
    "ratio_wa = np.array(ratio_wa)\n",
    "ratio_rp = np.array(ratio_rp)\n",
    "ratio_na = np.array(ratio_na)"
   ]
  },
  {
   "cell_type": "code",
   "execution_count": 12,
   "metadata": {},
   "outputs": [],
   "source": [
    "plotpars5 = {'axes.linewidth': 1.,\n",
    "             'axes.labelsize': 18,\n",
    "             'xtick.labelsize': 18,\n",
    "             'ytick.labelsize': 18,\n",
    "             'legend.frameon': True,\n",
    "             'legend.framealpha': 0.85,\n",
    "             'legend.edgecolor': 'black',\n",
    "             'legend.loc': 'upper right',\n",
    "             'legend.fontsize': 12,\n",
    "             'font.size':12,\n",
    "             'figure.figsize': (15, 4)\n",
    "             }"
   ]
  },
  {
   "cell_type": "code",
   "execution_count": 13,
   "metadata": {},
   "outputs": [],
   "source": [
    "palette = ['#8c510a','#bf812d','#80cdc1','#35978f','#01665e']\n",
    "fit_palette = ['#e0ecf4','#9ebcda','#8856a7']\n",
    "alphas  = float(0.85)"
   ]
  },
  {
   "cell_type": "code",
   "execution_count": 14,
   "metadata": {},
   "outputs": [
    {
     "data": {
      "image/png": "[encoded data removed]",
      "text/plain": [
       "<Figure size 1080x288 with 5 Axes>"
      ]
     },
     "metadata": {
      "needs_background": "light"
     },
     "output_type": "display_data"
    }
   ],
   "source": [
    "n_groups = bins.size\n",
    "index    = np.arange(1, n_groups, 1)\n",
    "\n",
    "plt_idxs  = [2, 4, 6, 8]\n",
    "plt_ticks = [0.1, 0.2, 0.3, 0.4]\n",
    "ylims = [0.0, 60.]\n",
    "xlims = [0.05, 0.4]\n",
    "yticks = list(np.arange(ylims[0], ylims[1], 10))\n",
    "ft=18\n",
    "\n",
    "plt.rcParams.update(plotpars5)\n",
    "\n",
    "ax1=plt.subplot(1,5,5)\n",
    "plt.bar(index, ratio_sf, width=1., alpha=alphas, color=palette[0], edgecolor=palette[0], linewidth=2., label='SF')\n",
    "plt.title('SF', fontsize=ft)\n",
    "ax1.yaxis.set_visible(False)\n",
    "plt.ylim(ylims)\n",
    "plt.xlim(xlims)\n",
    "plt.xticks(plt_idxs, plt_ticks)\n",
    "plt.yticks(yticks)\n",
    "plt.tick_params('both')\n",
    "\n",
    "ax2=plt.subplot(1,5,4)\n",
    "plt.bar(index, ratio_sa, width=1., alpha=alphas, color=palette[0], edgecolor=palette[0], linewidth=2., label='sAGN')\n",
    "plt.title('sAGN', fontsize=ft)\n",
    "ax2.yaxis.set_visible(False)\n",
    "plt.ylim(ylims)\n",
    "plt.xlim(xlims)\n",
    "plt.xticks(plt_idxs, plt_ticks)\n",
    "plt.tick_params('both')\n",
    "\n",
    "ax3=plt.subplot(1,5,3)\n",
    "plt.bar(index, ratio_wa, width=1., alpha=alphas, color=palette[0], edgecolor=palette[0], linewidth=2., label='wAGN')\n",
    "plt.title('wAGN', fontsize=ft)\n",
    "ax3.yaxis.set_visible(False)\n",
    "plt.ylim(ylims)\n",
    "plt.xlim(xlims)\n",
    "plt.xticks(plt_idxs, plt_ticks)\n",
    "plt.tick_params('both')\n",
    "plt.xlabel(\"Redshift\")\n",
    "\n",
    "ax4=plt.subplot(1,5,2)\n",
    "plt.bar(index, ratio_rp, width=1., alpha=alphas, color=palette[0], edgecolor=palette[0], linewidth=2., \n",
    "        label='Retired/Passive')\n",
    "plt.title('Retired/Passive', fontsize=ft)\n",
    "ax4.yaxis.set_visible(False)\n",
    "plt.ylim(ylims)\n",
    "plt.xlim(xlims)\n",
    "plt.xticks(plt_idxs, plt_ticks)\n",
    "plt.tick_params('both')\n",
    "\n",
    "ax5=plt.subplot(1,5,1)\n",
    "plt.bar(index, ratio_na, width=1., alpha=alphas, color=palette[0], edgecolor=palette[0], linewidth=2., \n",
    "        label='Unclassified')\n",
    "plt.ylabel(\"Percentage\")\n",
    "plt.title('Unclassified', fontsize=ft)\n",
    "plt.ylim(ylims)\n",
    "plt.xlim(xlims)\n",
    "plt.xticks(plt_idxs, plt_ticks)\n",
    "plt.tick_params('both')\n",
    "\n",
    "plt.tight_layout(w_pad=0.)\n",
    "plt.savefig('../../Figs/g2_barplot_propuv.png')\n",
    "plt.savefig('../../Figs/g2_barplot_propuv.pdf')\n",
    "plt.show()"
   ]
  },
  {
   "cell_type": "code",
   "execution_count": null,
   "metadata": {},
   "outputs": [],
   "source": []
  }
 ],
 "metadata": {
  "kernelspec": {
   "display_name": "Python 2",
   "language": "python",
   "name": "python2"
  },
  "language_info": {
   "codemirror_mode": {
    "name": "ipython",
    "version": 2
   },
   "file_extension": ".py",
   "mimetype": "text/x-python",
   "name": "python",
   "nbconvert_exporter": "python",
   "pygments_lexer": "ipython2",
   "version": "2.7.15"
  }
 },
 "nbformat": 4,
 "nbformat_minor": 2
}
