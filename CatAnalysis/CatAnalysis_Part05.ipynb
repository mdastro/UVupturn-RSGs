{
 "cells": [
  {
   "cell_type": "markdown",
   "metadata": {},
   "source": [
    "# Packages"
   ]
  },
  {
   "cell_type": "code",
   "execution_count": 1,
   "metadata": {},
   "outputs": [],
   "source": [
    "import numpy              as np\n",
    "import pandas             as pd\n",
    "import matplotlib.pyplot  as plt\n",
    "import seaborn            as sns\n",
    "from matplotlib.gridspec  import GridSpec\n",
    "from mpl_toolkits.mplot3d import Axes3D\n",
    "from astropy.cosmology    import FlatLambdaCDM"
   ]
  },
  {
   "cell_type": "markdown",
   "metadata": {},
   "source": [
    "# Constants"
   ]
  },
  {
   "cell_type": "code",
   "execution_count": 15,
   "metadata": {},
   "outputs": [],
   "source": [
    "mpc_to_cm  = 3.086E24\n",
    "h_alpha_wl = 6.563E-5   # in cm = 6563A"
   ]
  },
  {
   "cell_type": "markdown",
   "metadata": {},
   "source": [
    "# Dataset"
   ]
  },
  {
   "cell_type": "code",
   "execution_count": 3,
   "metadata": {},
   "outputs": [],
   "source": [
    "data = pd.read_csv('../../Catalogue/Match07_smalldoubleclean_emlines.csv')"
   ]
  },
  {
   "cell_type": "code",
   "execution_count": 4,
   "metadata": {},
   "outputs": [],
   "source": [
    "data = data.fillna('SuperPassive')"
   ]
  },
  {
   "cell_type": "markdown",
   "metadata": {},
   "source": [
    "#### UV upturn objects"
   ]
  },
  {
   "cell_type": "code",
   "execution_count": 5,
   "metadata": {},
   "outputs": [],
   "source": [
    "uvup_data = data.loc[data['UV_CLASS_YI2011']=='UV_UPTURN']"
   ]
  },
  {
   "cell_type": "code",
   "execution_count": 6,
   "metadata": {},
   "outputs": [],
   "source": [
    "data_gby = uvup_data.groupby('WHAN_CLASS')"
   ]
  },
  {
   "cell_type": "code",
   "execution_count": 7,
   "metadata": {},
   "outputs": [],
   "source": [
    "data_count = data_gby.count()"
   ]
  },
  {
   "cell_type": "code",
   "execution_count": 8,
   "metadata": {},
   "outputs": [],
   "source": [
    "order = [2,0,4,3,1]"
   ]
  },
  {
   "cell_type": "code",
   "execution_count": 10,
   "metadata": {},
   "outputs": [
    {
     "data": {
      "image/png": "[encoded data removed]",
      "text/plain": [
       "<Figure size 432x288 with 1 Axes>"
      ]
     },
     "metadata": {
      "needs_background": "light"
     },
     "output_type": "display_data"
    }
   ],
   "source": [
    "plt.bar(x=data_count.index.values[order], height=data_count['CATAID'].values[order])\n",
    "plt.tight_layout()\n",
    "plt.show()"
   ]
  },
  {
   "cell_type": "markdown",
   "metadata": {},
   "source": [
    "# Cosmology"
   ]
  },
  {
   "cell_type": "code",
   "execution_count": 11,
   "metadata": {},
   "outputs": [],
   "source": [
    "adopted_cosmology   = FlatLambdaCDM(H0=70, Om0=0.3)\n",
    "luminosity_distance = adopted_cosmology.luminosity_distance(uvup_data['Z']).value"
   ]
  },
  {
   "cell_type": "markdown",
   "metadata": {},
   "source": [
    "### Removing spurious H$\\alpha$ measurements"
   ]
  },
  {
   "cell_type": "code",
   "execution_count": 12,
   "metadata": {},
   "outputs": [],
   "source": [
    "rm_spur_halpha = np.where(uvup_data['HA_FLUX_COMP'].values!=-99999.)"
   ]
  },
  {
   "cell_type": "code",
   "execution_count": 19,
   "metadata": {},
   "outputs": [],
   "source": [
    "luminosity = 4*np.pi*((luminosity_distance[rm_spur_halpha]/h_alpha_wl)**2)*(uvup_data['HA_EW_COMP'].\n",
    "                                                                               iloc[rm_spur_halpha].values)\n",
    "luminosity_cm = luminosity * mpc_to_cm"
   ]
  },
  {
   "cell_type": "markdown",
   "metadata": {},
   "source": [
    "### SFR"
   ]
  },
  {
   "cell_type": "code",
   "execution_count": 21,
   "metadata": {},
   "outputs": [],
   "source": [
    "sfr = (7.9E-42) * luminosity_cm # the wl correction "
   ]
  },
  {
   "cell_type": "code",
   "execution_count": 62,
   "metadata": {},
   "outputs": [],
   "source": [
    "bins = np.arange(start=0, stop=6, step=0.5)\n",
    "alpha = 0.7"
   ]
  },
  {
   "cell_type": "code",
   "execution_count": 64,
   "metadata": {},
   "outputs": [
    {
     "data": {
      "image/png": "[encoded data removed]",
      "text/plain": [
       "<Figure size 432x288 with 1 Axes>"
      ]
     },
     "metadata": {
      "needs_background": "light"
     },
     "output_type": "display_data"
    }
   ],
   "source": [
    "plt.hist(sfr[np.where(uvup_data['WHAN_CLASS'].iloc[rm_spur_halpha].values=='SF')], bins=bins, log=True, alpha=alpha, \n",
    "         label='SF')\n",
    "plt.hist(sfr[np.where(uvup_data['WHAN_CLASS'].iloc[rm_spur_halpha].values=='wAGN')], bins=bins, log=True, alpha=alpha, \n",
    "         label='wAGN')\n",
    "plt.hist(sfr[np.where(uvup_data['WHAN_CLASS'].iloc[rm_spur_halpha].values=='sAGN')], bins=bins, log=True, alpha=alpha, \n",
    "         label='sAGN')\n",
    "plt.hist(sfr[np.where(uvup_data['WHAN_CLASS'].iloc[rm_spur_halpha].values=='SuperPassive')], bins=bins, log=True, \n",
    "         alpha=alpha, label='SuperPassive')\n",
    "plt.hist(sfr[np.where(uvup_data['WHAN_CLASS'].iloc[rm_spur_halpha].values=='Retired/Passive')], bins=bins, log=True, \n",
    "         alpha=alpha, label='Retired/Passive')\n",
    "plt.legend(loc='best')\n",
    "plt.ylabel(r\"Frequency\")\n",
    "plt.xlabel(r\"SFR\")\n",
    "plt.show()"
   ]
  },
  {
   "cell_type": "code",
   "execution_count": null,
   "metadata": {},
   "outputs": [],
   "source": []
  }
 ],
 "metadata": {
  "kernelspec": {
   "display_name": "Python 3",
   "language": "python",
   "name": "python3"
  },
  "language_info": {
   "codemirror_mode": {
    "name": "ipython",
    "version": 3
   },
   "file_extension": ".py",
   "mimetype": "text/x-python",
   "name": "python",
   "nbconvert_exporter": "python",
   "pygments_lexer": "ipython3",
   "version": "3.6.6"
  }
 },
 "nbformat": 4,
 "nbformat_minor": 2
}
